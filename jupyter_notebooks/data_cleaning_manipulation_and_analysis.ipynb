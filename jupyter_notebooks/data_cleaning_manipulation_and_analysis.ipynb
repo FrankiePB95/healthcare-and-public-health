{
 "cells": [
  {
   "cell_type": "markdown",
   "metadata": {
    "id": "0aStgWSO0E0E"
   },
   "source": [
    "# **Data Cleaning, Manipulation and Analysis**"
   ]
  },
  {
   "cell_type": "markdown",
   "metadata": {
    "id": "1eLEkw5O0ECa"
   },
   "source": [
    "## Objectives\n",
    "\n",
    "The intention of this notebook was tri-fold: data cleaning, data transformation and data loading. Light analysis has also been carried out to better understand, extract and load data.\n",
    "\n",
    "## Inputs\n",
    "\n",
    "* Dataset retrived from Kaggle (csv file containing data reagaring patients with or potentially at risk of Alzheimer's disease saved to inputs folder)\n",
    "\n",
    "## Outputs\n",
    "\n",
    "* Data cleaning pipeline (within this notebook)\n",
    "* Machine learning pipeline (within this notebook)\n",
    "* Cleaned data (csv file extracted to outputs folder)\n",
    "* Data for machine learning (csv file extracted to outputs folder)\n",
    "\n",
    "## Additional Comments\n",
    "\n",
    "* Data was extracted from Kaggle with the source citation included in the README file.\n",
    "* Data was saved in its raw orginal form and then cleaned (a machine learning dataset with scaling and encoding was also created). \n"
   ]
  },
  {
   "cell_type": "markdown",
   "metadata": {},
   "source": [
    "---\n",
    "---"
   ]
  },
  {
   "cell_type": "markdown",
   "metadata": {},
   "source": [
    "#### **REMINDER**: All notebook cells should be run top-down (you can't create a dynamic wherein a given point you need to go back to a previous cell to execute some task, like go back to a previous cell and refresh a variable content)."
   ]
  },
  {
   "cell_type": "markdown",
   "metadata": {
    "id": "9uWZXH9LwoQg"
   },
   "source": [
    "---\n",
    "---"
   ]
  },
  {
   "cell_type": "markdown",
   "metadata": {},
   "source": [
    "## **Setup Information"
   ]
  },
  {
   "cell_type": "markdown",
   "metadata": {},
   "source": [
    "---"
   ]
  },
  {
   "cell_type": "markdown",
   "metadata": {
    "id": "cqP-UeN-z3i2"
   },
   "source": [
    "### Change Working Directory"
   ]
  },
  {
   "cell_type": "markdown",
   "metadata": {},
   "source": [
    "* When storing the notebooks in a subfolder to run in the editor, for projects such as these, it's best practice to change the working directory. \n",
    "* We need to change the working directory from its current folder to its parent folder."
   ]
  },
  {
   "cell_type": "markdown",
   "metadata": {},
   "source": [
    "First we access the current directory with os.getcwd()"
   ]
  },
  {
   "cell_type": "code",
   "execution_count": 40,
   "metadata": {
    "id": "wZfF_j-Bz3i4",
    "outputId": "66943449-1436-4c3d-85c7-b85f9f78349b"
   },
   "outputs": [
    {
     "data": {
      "text/plain": [
       "'c:\\\\Users\\\\F_bee\\\\Documents\\\\vs-code\\\\vs-code-projects\\\\healthcare-and-public-health'"
      ]
     },
     "execution_count": 40,
     "metadata": {},
     "output_type": "execute_result"
    }
   ],
   "source": [
    "import os\n",
    "current_dir = os.getcwd()\n",
    "current_dir"
   ]
  },
  {
   "cell_type": "markdown",
   "metadata": {
    "id": "9MWW8E7lz3i7"
   },
   "source": [
    "Then we make the parent of the current directory the new current directory using os.path.dirname() to get the parent directory and *os.chdir()* to define the new current directory"
   ]
  },
  {
   "cell_type": "code",
   "execution_count": 41,
   "metadata": {
    "id": "TwHsQRWjz3i9",
    "outputId": "86849db3-cd2f-4cc5-ebb8-2d0caafa1a2c"
   },
   "outputs": [
    {
     "name": "stdout",
     "output_type": "stream",
     "text": [
      "You set a new current directory\n"
     ]
    }
   ],
   "source": [
    "os.chdir(os.path.dirname(current_dir))\n",
    "print(\"You set a new current directory\")"
   ]
  },
  {
   "cell_type": "markdown",
   "metadata": {
    "id": "M_xPk_Ijz3i-"
   },
   "source": [
    "Confirm the new current directory"
   ]
  },
  {
   "cell_type": "code",
   "execution_count": 42,
   "metadata": {
    "id": "vz3S-_kjz3jA",
    "outputId": "00b79ae4-75d0-4a96-d193-ac9ef9847ea2"
   },
   "outputs": [
    {
     "data": {
      "text/plain": [
       "'c:\\\\Users\\\\F_bee\\\\Documents\\\\vs-code\\\\vs-code-projects'"
      ]
     },
     "execution_count": 42,
     "metadata": {},
     "output_type": "execute_result"
    }
   ],
   "source": [
    "current_dir = os.getcwd()\n",
    "current_dir"
   ]
  },
  {
   "cell_type": "markdown",
   "metadata": {},
   "source": []
  },
  {
   "cell_type": "markdown",
   "metadata": {},
   "source": [
    "## Package Installation Instructions"
   ]
  },
  {
   "cell_type": "markdown",
   "metadata": {},
   "source": [
    "### **IMPORTANT**: Before running the cells below, you **MUST** restart the kernel!\n",
    "\n",
    "**How to restart the kernel:**\n",
    "1. Click on the **\"Kernel\"** menu at the top\n",
    "2. Select **\"Restart Kernel\"** \n",
    "3. Confirm the restart\n",
    "4. **Then** run the 3 STEP cells below in order\n",
    "\n",
    "**Why restart is required:**\n",
    "- Windows locks files that are currently in use\n",
    "- NumPy is loaded in the current kernel session\n",
    "- Restarting clears memory and releases file locks"
   ]
  },
  {
   "cell_type": "code",
   "execution_count": 44,
   "metadata": {},
   "outputs": [
    {
     "name": "stdout",
     "output_type": "stream",
     "text": [
      "Requirement already satisfied: numpy in c:\\users\\f_bee\\documents\\vs-code\\vs-code-projects\\healthcare-and-public-health\\.venv\\lib\\site-packages (1.26.4)\n",
      "Collecting numpy\n",
      "  Using cached numpy-2.3.2-cp312-cp312-win_amd64.whl.metadata (60 kB)\n",
      "Using cached numpy-2.3.2-cp312-cp312-win_amd64.whl (12.8 MB)\n",
      "Installing collected packages: numpy\n",
      "  Attempting uninstall: numpy\n",
      "    Found existing installation: numpy 1.26.4\n",
      "    Uninstalling numpy-1.26.4:\n",
      "      Successfully uninstalled numpy-1.26.4\n",
      "Successfully installed numpy-2.3.2\n",
      "Note: you may need to restart the kernel to use updated packages.\n"
     ]
    }
   ],
   "source": [
    "# STEP 1: Upgrade numpy first (run after kernel restart)\n",
    "%pip install --upgrade numpy"
   ]
  },
  {
   "cell_type": "code",
   "execution_count": null,
   "metadata": {},
   "outputs": [],
   "source": [
    "# STEP 2: Install other packages (run after numpy upgrade completes)\n",
    "%pip install pandas matplotlib seaborn scikit-learn plotly feature-engine"
   ]
  },
  {
   "cell_type": "markdown",
   "metadata": {},
   "source": [
    "---"
   ]
  },
  {
   "cell_type": "markdown",
   "metadata": {},
   "source": []
  },
  {
   "cell_type": "markdown",
   "metadata": {},
   "source": [
    "---"
   ]
  },
  {
   "cell_type": "markdown",
   "metadata": {},
   "source": [
    "# Section 1"
   ]
  },
  {
   "cell_type": "markdown",
   "metadata": {},
   "source": []
  },
  {
   "cell_type": "code",
   "execution_count": 10,
   "metadata": {},
   "outputs": [
    {
     "name": "stdout",
     "output_type": "stream",
     "text": [
      "All packages imported successfully!\n",
      "NumPy version: 1.26.4\n",
      "Pandas version: 2.1.4\n",
      "Matplotlib version: 3.10.5\n",
      "Seaborn version: 0.13.2\n",
      "Scikit-learn version: 1.7.1\n",
      "Plotly version: 6.2.0\n",
      "Feature-engine version: 1.8.3\n"
     ]
    }
   ],
   "source": [
    "# STEP 3: Test all imports (run after all packages are installed)\n",
    "import numpy as np\n",
    "import pandas as pd\n",
    "import matplotlib as mb\n",
    "import matplotlib.pyplot as plt\n",
    "import plotly as pl\n",
    "import seaborn as sns\n",
    "import sklearn as sk\n",
    "from sklearn.preprocessing import FunctionTransformer\n",
    "from sklearn.pipeline import Pipeline\n",
    "from sklearn.compose import ColumnTransformer\n",
    "from sklearn.preprocessing import StandardScaler, OneHotEncoder\n",
    "import feature_engine as fe\n",
    "import sys\n",
    "sys.path.append(\"../\")\n",
    "\n",
    "print(\"All packages imported successfully!\")\n",
    "print(f\"NumPy version: {np.__version__}\")\n",
    "print(f\"Pandas version: {pd.__version__}\")\n",
    "print(f\"Matplotlib version: {mb.__version__}\")\n",
    "print(f\"Seaborn version: {sns.__version__}\")\n",
    "print(f\"Scikit-learn version: {sk.__version__}\")\n",
    "print(f\"Plotly version: {pl.__version__}\")\n",
    "print(f\"Feature-engine version: {fe.__version__}\")"
   ]
  },
  {
   "cell_type": "code",
   "execution_count": null,
   "metadata": {},
   "outputs": [
    {
     "name": "stdout",
     "output_type": "stream",
     "text": [
      "DataFrame shape: (134, 35)\n",
      "\n",
      "First 5 rows:\n"
     ]
    },
    {
     "ename": "AttributeError",
     "evalue": "'Index' object has no attribute '_format_flat'",
     "output_type": "error",
     "traceback": [
      "\u001b[31m---------------------------------------------------------------------------\u001b[39m",
      "\u001b[31mAttributeError\u001b[39m                            Traceback (most recent call last)",
      "\u001b[36mFile \u001b[39m\u001b[32mc:\\Users\\F_bee\\Documents\\vs-code\\vs-code-projects\\healthcare-and-public-health\\.venv\\Lib\\site-packages\\IPython\\core\\formatters.py:406\u001b[39m, in \u001b[36mBaseFormatter.__call__\u001b[39m\u001b[34m(self, obj)\u001b[39m\n\u001b[32m    404\u001b[39m     method = get_real_method(obj, \u001b[38;5;28mself\u001b[39m.print_method)\n\u001b[32m    405\u001b[39m     \u001b[38;5;28;01mif\u001b[39;00m method \u001b[38;5;129;01mis\u001b[39;00m \u001b[38;5;129;01mnot\u001b[39;00m \u001b[38;5;28;01mNone\u001b[39;00m:\n\u001b[32m--> \u001b[39m\u001b[32m406\u001b[39m         \u001b[38;5;28;01mreturn\u001b[39;00m \u001b[43mmethod\u001b[49m\u001b[43m(\u001b[49m\u001b[43m)\u001b[49m\n\u001b[32m    407\u001b[39m     \u001b[38;5;28;01mreturn\u001b[39;00m \u001b[38;5;28;01mNone\u001b[39;00m\n\u001b[32m    408\u001b[39m \u001b[38;5;28;01melse\u001b[39;00m:\n",
      "\u001b[36mFile \u001b[39m\u001b[32mc:\\Users\\F_bee\\Documents\\vs-code\\vs-code-projects\\healthcare-and-public-health\\.venv\\Lib\\site-packages\\pandas\\core\\frame.py:1175\u001b[39m, in \u001b[36m_repr_html_\u001b[39m\u001b[34m(self)\u001b[39m\n\u001b[32m   1171\u001b[39m else:\n\u001b[32m   1172\u001b[39m     max_rows = get_option(\"display.max_rows\")\n\u001b[32m   1174\u001b[39m # when auto-detecting, so width=None and not in ipython front end\n\u001b[32m-> \u001b[39m\u001b[32m1175\u001b[39m # check whether repr fits horizontal by actually checking\n\u001b[32m   1176\u001b[39m # the width of the rendered repr\n\u001b[32m   1177\u001b[39m buf = StringIO()\n\u001b[32m   1179\u001b[39m # only care about the stuff we'll actually print out\n\u001b[32m   1180\u001b[39m # and to_string on entire frame may be expensive\n",
      "\u001b[36mFile \u001b[39m\u001b[32mc:\\Users\\F_bee\\Documents\\vs-code\\vs-code-projects\\healthcare-and-public-health\\.venv\\Lib\\site-packages\\pandas\\io\\formats\\format.py:1074\u001b[39m, in \u001b[36mto_html\u001b[39m\u001b[34m(self, buf, encoding, classes, notebook, border, table_id, render_links)\u001b[39m\n\u001b[32m      0\u001b[39m <Error retrieving source code with stack_data see ipython/ipython#13598>\n",
      "\u001b[36mFile \u001b[39m\u001b[32mc:\\Users\\F_bee\\Documents\\vs-code\\vs-code-projects\\healthcare-and-public-health\\.venv\\Lib\\site-packages\\pandas\\io\\formats\\html.py:88\u001b[39m, in \u001b[36mHTMLFormatter.to_string\u001b[39m\u001b[34m(self)\u001b[39m\n\u001b[32m     87\u001b[39m \u001b[38;5;28;01mdef\u001b[39;00m\u001b[38;5;250m \u001b[39m\u001b[34mto_string\u001b[39m(\u001b[38;5;28mself\u001b[39m) -> \u001b[38;5;28mstr\u001b[39m:\n\u001b[32m---> \u001b[39m\u001b[32m88\u001b[39m     lines = \u001b[38;5;28;43mself\u001b[39;49m\u001b[43m.\u001b[49m\u001b[43mrender\u001b[49m\u001b[43m(\u001b[49m\u001b[43m)\u001b[49m\n\u001b[32m     89\u001b[39m     \u001b[38;5;28;01mif\u001b[39;00m \u001b[38;5;28many\u001b[39m(\u001b[38;5;28misinstance\u001b[39m(x, \u001b[38;5;28mstr\u001b[39m) \u001b[38;5;28;01mfor\u001b[39;00m x \u001b[38;5;129;01min\u001b[39;00m lines):\n\u001b[32m     90\u001b[39m         lines = [\u001b[38;5;28mstr\u001b[39m(x) \u001b[38;5;28;01mfor\u001b[39;00m x \u001b[38;5;129;01min\u001b[39;00m lines]\n",
      "\u001b[36mFile \u001b[39m\u001b[32mc:\\Users\\F_bee\\Documents\\vs-code\\vs-code-projects\\healthcare-and-public-health\\.venv\\Lib\\site-packages\\pandas\\io\\formats\\html.py:644\u001b[39m, in \u001b[36mNotebookFormatter.render\u001b[39m\u001b[34m(self)\u001b[39m\n\u001b[32m    642\u001b[39m \u001b[38;5;28mself\u001b[39m.write(\u001b[33m\"\u001b[39m\u001b[33m<div>\u001b[39m\u001b[33m\"\u001b[39m)\n\u001b[32m    643\u001b[39m \u001b[38;5;28mself\u001b[39m.write_style()\n\u001b[32m--> \u001b[39m\u001b[32m644\u001b[39m \u001b[38;5;28;43msuper\u001b[39;49m\u001b[43m(\u001b[49m\u001b[43m)\u001b[49m\u001b[43m.\u001b[49m\u001b[43mrender\u001b[49m\u001b[43m(\u001b[49m\u001b[43m)\u001b[49m\n\u001b[32m    645\u001b[39m \u001b[38;5;28mself\u001b[39m.write(\u001b[33m\"\u001b[39m\u001b[33m</div>\u001b[39m\u001b[33m\"\u001b[39m)\n\u001b[32m    646\u001b[39m \u001b[38;5;28;01mreturn\u001b[39;00m \u001b[38;5;28mself\u001b[39m.elements\n",
      "\u001b[36mFile \u001b[39m\u001b[32mc:\\Users\\F_bee\\Documents\\vs-code\\vs-code-projects\\healthcare-and-public-health\\.venv\\Lib\\site-packages\\pandas\\io\\formats\\html.py:94\u001b[39m, in \u001b[36mHTMLFormatter.render\u001b[39m\u001b[34m(self)\u001b[39m\n\u001b[32m     93\u001b[39m \u001b[38;5;28;01mdef\u001b[39;00m\u001b[38;5;250m \u001b[39m\u001b[34mrender\u001b[39m(\u001b[38;5;28mself\u001b[39m) -> \u001b[38;5;28mlist\u001b[39m[\u001b[38;5;28mstr\u001b[39m]:\n\u001b[32m---> \u001b[39m\u001b[32m94\u001b[39m     \u001b[38;5;28;43mself\u001b[39;49m\u001b[43m.\u001b[49m\u001b[43m_write_table\u001b[49m\u001b[43m(\u001b[49m\u001b[43m)\u001b[49m\n\u001b[32m     96\u001b[39m     \u001b[38;5;28;01mif\u001b[39;00m \u001b[38;5;28mself\u001b[39m.should_show_dimensions:\n\u001b[32m     97\u001b[39m         by = \u001b[38;5;28mchr\u001b[39m(\u001b[32m215\u001b[39m)  \u001b[38;5;66;03m# ×  # noqa: RUF003\u001b[39;00m\n",
      "\u001b[36mFile \u001b[39m\u001b[32mc:\\Users\\F_bee\\Documents\\vs-code\\vs-code-projects\\healthcare-and-public-health\\.venv\\Lib\\site-packages\\pandas\\io\\formats\\html.py:267\u001b[39m, in \u001b[36mHTMLFormatter._write_table\u001b[39m\u001b[34m(self, indent)\u001b[39m\n\u001b[32m    261\u001b[39m \u001b[38;5;28mself\u001b[39m.write(\n\u001b[32m    262\u001b[39m     \u001b[33mf\u001b[39m\u001b[33m'\u001b[39m\u001b[33m<table\u001b[39m\u001b[38;5;132;01m{\u001b[39;00mborder_attr\u001b[38;5;132;01m}\u001b[39;00m\u001b[33m class=\u001b[39m\u001b[33m\"\u001b[39m\u001b[38;5;132;01m{\u001b[39;00m\u001b[33m\"\u001b[39m\u001b[33m \u001b[39m\u001b[33m\"\u001b[39m.join(_classes)\u001b[38;5;132;01m}\u001b[39;00m\u001b[33m\"\u001b[39m\u001b[38;5;132;01m{\u001b[39;00mid_section\u001b[38;5;132;01m}\u001b[39;00m\u001b[33m>\u001b[39m\u001b[33m'\u001b[39m,\n\u001b[32m    263\u001b[39m     indent,\n\u001b[32m    264\u001b[39m )\n\u001b[32m    266\u001b[39m \u001b[38;5;28;01mif\u001b[39;00m \u001b[38;5;28mself\u001b[39m.fmt.header \u001b[38;5;129;01mor\u001b[39;00m \u001b[38;5;28mself\u001b[39m.show_row_idx_names:\n\u001b[32m--> \u001b[39m\u001b[32m267\u001b[39m     \u001b[38;5;28;43mself\u001b[39;49m\u001b[43m.\u001b[49m\u001b[43m_write_header\u001b[49m\u001b[43m(\u001b[49m\u001b[43mindent\u001b[49m\u001b[43m \u001b[49m\u001b[43m+\u001b[49m\u001b[43m \u001b[49m\u001b[38;5;28;43mself\u001b[39;49m\u001b[43m.\u001b[49m\u001b[43mindent_delta\u001b[49m\u001b[43m)\u001b[49m\n\u001b[32m    269\u001b[39m \u001b[38;5;28mself\u001b[39m._write_body(indent + \u001b[38;5;28mself\u001b[39m.indent_delta)\n\u001b[32m    271\u001b[39m \u001b[38;5;28mself\u001b[39m.write(\u001b[33m\"\u001b[39m\u001b[33m</table>\u001b[39m\u001b[33m\"\u001b[39m, indent)\n",
      "\u001b[36mFile \u001b[39m\u001b[32mc:\\Users\\F_bee\\Documents\\vs-code\\vs-code-projects\\healthcare-and-public-health\\.venv\\Lib\\site-packages\\pandas\\io\\formats\\html.py:403\u001b[39m, in \u001b[36mHTMLFormatter._write_header\u001b[39m\u001b[34m(self, indent)\u001b[39m\n\u001b[32m    400\u001b[39m \u001b[38;5;28mself\u001b[39m.write(\u001b[33m\"\u001b[39m\u001b[33m<thead>\u001b[39m\u001b[33m\"\u001b[39m, indent)\n\u001b[32m    402\u001b[39m \u001b[38;5;28;01mif\u001b[39;00m \u001b[38;5;28mself\u001b[39m.fmt.header:\n\u001b[32m--> \u001b[39m\u001b[32m403\u001b[39m     \u001b[38;5;28;43mself\u001b[39;49m\u001b[43m.\u001b[49m\u001b[43m_write_col_header\u001b[49m\u001b[43m(\u001b[49m\u001b[43mindent\u001b[49m\u001b[43m \u001b[49m\u001b[43m+\u001b[49m\u001b[43m \u001b[49m\u001b[38;5;28;43mself\u001b[39;49m\u001b[43m.\u001b[49m\u001b[43mindent_delta\u001b[49m\u001b[43m)\u001b[49m\n\u001b[32m    405\u001b[39m \u001b[38;5;28;01mif\u001b[39;00m \u001b[38;5;28mself\u001b[39m.show_row_idx_names:\n\u001b[32m    406\u001b[39m     \u001b[38;5;28mself\u001b[39m._write_row_header(indent + \u001b[38;5;28mself\u001b[39m.indent_delta)\n",
      "\u001b[36mFile \u001b[39m\u001b[32mc:\\Users\\F_bee\\Documents\\vs-code\\vs-code-projects\\healthcare-and-public-health\\.venv\\Lib\\site-packages\\pandas\\io\\formats\\html.py:383\u001b[39m, in \u001b[36mHTMLFormatter._write_col_header\u001b[39m\u001b[34m(self, indent)\u001b[39m\n\u001b[32m    381\u001b[39m     \u001b[38;5;28;01melse\u001b[39;00m:\n\u001b[32m    382\u001b[39m         row.append(\u001b[33m\"\u001b[39m\u001b[33m\"\u001b[39m)\n\u001b[32m--> \u001b[39m\u001b[32m383\u001b[39m row.extend(\u001b[38;5;28;43mself\u001b[39;49m\u001b[43m.\u001b[49m\u001b[43m_get_columns_formatted_values\u001b[49m\u001b[43m(\u001b[49m\u001b[43m)\u001b[49m)\n\u001b[32m    384\u001b[39m align = \u001b[38;5;28mself\u001b[39m.fmt.justify\n\u001b[32m    386\u001b[39m \u001b[38;5;28;01mif\u001b[39;00m is_truncated_horizontally:\n",
      "\u001b[36mFile \u001b[39m\u001b[32mc:\\Users\\F_bee\\Documents\\vs-code\\vs-code-projects\\healthcare-and-public-health\\.venv\\Lib\\site-packages\\pandas\\io\\formats\\html.py:611\u001b[39m, in \u001b[36mNotebookFormatter._get_columns_formatted_values\u001b[39m\u001b[34m(self)\u001b[39m\n\u001b[32m    609\u001b[39m \u001b[38;5;28;01mdef\u001b[39;00m\u001b[38;5;250m \u001b[39m\u001b[34m_get_columns_formatted_values\u001b[39m(\u001b[38;5;28mself\u001b[39m) -> \u001b[38;5;28mlist\u001b[39m[\u001b[38;5;28mstr\u001b[39m]:\n\u001b[32m    610\u001b[39m     \u001b[38;5;66;03m# only reached with non-Multi Index\u001b[39;00m\n\u001b[32m--> \u001b[39m\u001b[32m611\u001b[39m     \u001b[38;5;28;01mreturn\u001b[39;00m \u001b[38;5;28;43mself\u001b[39;49m\u001b[43m.\u001b[49m\u001b[43mcolumns\u001b[49m\u001b[43m.\u001b[49m\u001b[43m_format_flat\u001b[49m(include_name=\u001b[38;5;28;01mFalse\u001b[39;00m)\n",
      "\u001b[31mAttributeError\u001b[39m: 'Index' object has no attribute '_format_flat'"
     ]
    },
    {
     "data": {
      "text/plain": [
       "      PatientID  Age  Gender         Ethnicity  EducationLevel        BMI  \\\n",
       "679        5430   68  Female             Asian               1  22.753134   \n",
       "110        4861   76  Female         Caucasian               1  34.623723   \n",
       "37         4788   60  Female         Caucasian               2  31.568689   \n",
       "1743       6494   75  Female         Caucasian               2  32.517662   \n",
       "364        5115   72  Female         Caucasian               0  19.392584   \n",
       "...         ...  ...     ...               ...             ...        ...   \n",
       "142        4893   82    Male  African American               2  35.027687   \n",
       "1639       6390   78  Female         Caucasian               2  34.639751   \n",
       "1918       6669   89    Male         Caucasian               2  22.714726   \n",
       "596        5347   61    Male         Caucasian               0  39.389871   \n",
       "1175       5926   81  Female         Caucasian               0  35.783769   \n",
       "\n",
       "     Smoking  AlcoholConsumption  PhysicalActivity  DietQuality  ...  \\\n",
       "679       No           13.241418          7.784493     9.812643  ...   \n",
       "110      Yes            6.864896          6.224812     2.301047  ...   \n",
       "37        No            3.478409          4.773200     8.856834  ...   \n",
       "1743      No           15.287424          7.372272     9.789646  ...   \n",
       "364       No            6.413479          9.302729     4.037830  ...   \n",
       "...      ...                 ...               ...          ...  ...   \n",
       "142       No           19.679551          7.734305     8.571592  ...   \n",
       "1639     Yes           17.457739          6.517930     0.480904  ...   \n",
       "1918      No            8.552704          5.278285     9.372681  ...   \n",
       "596       No            0.886407          0.734397     3.957440  ...   \n",
       "1175      No            6.381536          0.211035     7.691022  ...   \n",
       "\n",
       "      MemoryComplaints  BehavioralProblems       ADL  Confusion  \\\n",
       "679                 No                  No  3.365375          1   \n",
       "110                 No                  No  7.575329          0   \n",
       "37                  No                 Yes  7.605224          1   \n",
       "1743                No                  No  5.242490          0   \n",
       "364                 No                  No  3.913769          0   \n",
       "...                ...                 ...       ...        ...   \n",
       "142                 No                  No  7.330651          0   \n",
       "1639               Yes                  No  2.176515          0   \n",
       "1918                No                 Yes  9.443690          0   \n",
       "596                 No                  No  4.390406          0   \n",
       "1175                No                  No  4.783126          1   \n",
       "\n",
       "     Disorientation  PersonalityChanges  DifficultyCompletingTasks  \\\n",
       "679               0                  No                         No   \n",
       "110               1                  No                        Yes   \n",
       "37                0                  No                         No   \n",
       "1743              0                  No                         No   \n",
       "364               0                  No                         No   \n",
       "...             ...                 ...                        ...   \n",
       "142               0                  No                         No   \n",
       "1639              0                  No                        Yes   \n",
       "1918              0                  No                         No   \n",
       "596               1                  No                         No   \n",
       "1175              1                  No                         No   \n",
       "\n",
       "      Forgetfulness    Diagnosis  DoctorInCharge  \n",
       "679               0     Dementia       XXXConfid  \n",
       "110               0  No Dementia       XXXConfid  \n",
       "37                0  No Dementia       XXXConfid  \n",
       "1743              0  No Dementia       XXXConfid  \n",
       "364               0     Dementia       XXXConfid  \n",
       "...             ...          ...             ...  \n",
       "142               0  No Dementia       XXXConfid  \n",
       "1639              1     Dementia       XXXConfid  \n",
       "1918              0     Dementia       XXXConfid  \n",
       "596               0     Dementia       XXXConfid  \n",
       "1175              0     Dementia       XXXConfid  \n",
       "\n",
       "[134 rows x 35 columns]"
      ]
     },
     "execution_count": 33,
     "metadata": {},
     "output_type": "execute_result"
    }
   ],
   "source": [
    "# Use absolute path to be sure\n",
    "# there's and HTML formatting error that has begun to appear recently due to a conflict with pandas and jupyter- using the print function solves this\n",
    "file_path = \"inputs/alzheimers_disease_data.csv\"\n",
    "pd.read_csv(file_path)\n",
    "print(f\"DataFrame shape: {df.shape}\")\n",
    "print(\"\\nFirst 5 rows:\")\n",
    "print(df.head())"
   ]
  },
  {
   "cell_type": "code",
   "execution_count": 23,
   "metadata": {},
   "outputs": [
    {
     "name": "stdout",
     "output_type": "stream",
     "text": [
      "      PatientID  Age  Gender  Ethnicity  EducationLevel        BMI  Smoking  \\\n",
      "679        5430   68       1          2               1  22.753134        0   \n",
      "110        4861   76       1          0               1  34.623723        1   \n",
      "37         4788   60       1          0               2  31.568689        0   \n",
      "1743       6494   75       1          0               2  32.517662        0   \n",
      "364        5115   72       1          0               0  19.392584        0   \n",
      "...         ...  ...     ...        ...             ...        ...      ...   \n",
      "142        4893   82       0          1               2  35.027687        0   \n",
      "1639       6390   78       1          0               2  34.639751        1   \n",
      "1918       6669   89       0          0               2  22.714726        0   \n",
      "596        5347   61       0          0               0  39.389871        0   \n",
      "1175       5926   81       1          0               0  35.783769        0   \n",
      "\n",
      "      AlcoholConsumption  PhysicalActivity  DietQuality  ...  \\\n",
      "679            13.241418          7.784493     9.812643  ...   \n",
      "110             6.864896          6.224812     2.301047  ...   \n",
      "37              3.478409          4.773200     8.856834  ...   \n",
      "1743           15.287424          7.372272     9.789646  ...   \n",
      "364             6.413479          9.302729     4.037830  ...   \n",
      "...                  ...               ...          ...  ...   \n",
      "142            19.679551          7.734305     8.571592  ...   \n",
      "1639           17.457739          6.517930     0.480904  ...   \n",
      "1918            8.552704          5.278285     9.372681  ...   \n",
      "596             0.886407          0.734397     3.957440  ...   \n",
      "1175            6.381536          0.211035     7.691022  ...   \n",
      "\n",
      "      MemoryComplaints  BehavioralProblems       ADL  Confusion  \\\n",
      "679                  0                   0  3.365375          1   \n",
      "110                  0                   0  7.575329          0   \n",
      "37                   0                   1  7.605224          1   \n",
      "1743                 0                   0  5.242490          0   \n",
      "364                  0                   0  3.913769          0   \n",
      "...                ...                 ...       ...        ...   \n",
      "142                  0                   0  7.330651          0   \n",
      "1639                 1                   0  2.176515          0   \n",
      "1918                 0                   1  9.443690          0   \n",
      "596                  0                   0  4.390406          0   \n",
      "1175                 0                   0  4.783126          1   \n",
      "\n",
      "      Disorientation  PersonalityChanges  DifficultyCompletingTasks  \\\n",
      "679                0                   0                          0   \n",
      "110                1                   0                          1   \n",
      "37                 0                   0                          0   \n",
      "1743               0                   0                          0   \n",
      "364                0                   0                          0   \n",
      "...              ...                 ...                        ...   \n",
      "142                0                   0                          0   \n",
      "1639               0                   0                          1   \n",
      "1918               0                   0                          0   \n",
      "596                1                   0                          0   \n",
      "1175               1                   0                          0   \n",
      "\n",
      "      Forgetfulness  Diagnosis  DoctorInCharge  \n",
      "679               0          1       XXXConfid  \n",
      "110               0          0       XXXConfid  \n",
      "37                0          0       XXXConfid  \n",
      "1743              0          0       XXXConfid  \n",
      "364               0          1       XXXConfid  \n",
      "...             ...        ...             ...  \n",
      "142               0          0       XXXConfid  \n",
      "1639              1          1       XXXConfid  \n",
      "1918              0          1       XXXConfid  \n",
      "596               0          1       XXXConfid  \n",
      "1175              0          1       XXXConfid  \n",
      "\n",
      "[134 rows x 35 columns]\n"
     ]
    }
   ],
   "source": [
    "df = df.sample(frac=0.25, random_state=10)\n",
    "print(df)"
   ]
  },
  {
   "cell_type": "code",
   "execution_count": 41,
   "metadata": {},
   "outputs": [
    {
     "name": "stdout",
     "output_type": "stream",
     "text": [
      "Available columns:\n",
      "['PatientID', 'Age', 'Gender', 'Ethnicity', 'EducationLevel', 'BMI', 'Smoking', 'AlcoholConsumption', 'PhysicalActivity', 'DietQuality', 'SleepQuality', 'FamilyHistoryAlzheimers', 'CardiovascularDisease', 'Diabetes', 'Depression', 'HeadInjury', 'Hypertension', 'SystolicBP', 'DiastolicBP', 'CholesterolTotal', 'CholesterolLDL', 'CholesterolHDL', 'CholesterolTriglycerides', 'MMSE', 'FunctionalAssessment', 'MemoryComplaints', 'BehavioralProblems', 'ADL', 'Confusion', 'Disorientation', 'PersonalityChanges', 'DifficultyCompletingTasks', 'Forgetfulness', 'Diagnosis', 'DoctorInCharge']\n",
      "\n",
      "Dataset shape: (2149, 35)\n"
     ]
    }
   ],
   "source": [
    "df\n",
    "print(\"Available columns:\")\n",
    "print(df.columns.tolist())\n",
    "print(f\"\\nDataset shape: {df.shape}\")"
   ]
  },
  {
   "cell_type": "code",
   "execution_count": null,
   "metadata": {},
   "outputs": [
    {
     "data": {
      "text/plain": [
       "PatientID                          4751\n",
       "Age                                  60\n",
       "Gender                                0\n",
       "Ethnicity                             0\n",
       "EducationLevel                        0\n",
       "BMI                           15.008851\n",
       "Smoking                               0\n",
       "AlcoholConsumption             0.002003\n",
       "PhysicalActivity               0.003616\n",
       "DietQuality                    0.009385\n",
       "SleepQuality                   4.002629\n",
       "FamilyHistoryAlzheimers               0\n",
       "CardiovascularDisease                 0\n",
       "Diabetes                              0\n",
       "Depression                            0\n",
       "HeadInjury                            0\n",
       "Hypertension                          0\n",
       "SystolicBP                           90\n",
       "DiastolicBP                          60\n",
       "CholesterolTotal             150.093316\n",
       "CholesterolLDL                50.230707\n",
       "CholesterolHDL                20.003434\n",
       "CholesterolTriglycerides      50.407194\n",
       "MMSE                           0.005312\n",
       "FunctionalAssessment            0.00046\n",
       "MemoryComplaints                      0\n",
       "BehavioralProblems                    0\n",
       "ADL                            0.001288\n",
       "Confusion                             0\n",
       "Disorientation                        0\n",
       "PersonalityChanges                    0\n",
       "DifficultyCompletingTasks             0\n",
       "Forgetfulness                         0\n",
       "Diagnosis                             0\n",
       "DoctorInCharge                XXXConfid\n",
       "dtype: object"
      ]
     },
     "execution_count": 9,
     "metadata": {},
     "output_type": "execute_result"
    }
   ],
   "source": [
    "df.min()\n",
    "df[[\"Age\", \"BMI\"]].min() #edit"
   ]
  },
  {
   "cell_type": "code",
   "execution_count": 7,
   "metadata": {},
   "outputs": [
    {
     "data": {
      "text/plain": [
       "PatientID                          6899\n",
       "Age                                  90\n",
       "Gender                                1\n",
       "Ethnicity                             3\n",
       "EducationLevel                        3\n",
       "BMI                           39.992767\n",
       "Smoking                               1\n",
       "AlcoholConsumption            19.989293\n",
       "PhysicalActivity               9.987429\n",
       "DietQuality                    9.998346\n",
       "SleepQuality                    9.99984\n",
       "FamilyHistoryAlzheimers               1\n",
       "CardiovascularDisease                 1\n",
       "Diabetes                              1\n",
       "Depression                            1\n",
       "HeadInjury                            1\n",
       "Hypertension                          1\n",
       "SystolicBP                          179\n",
       "DiastolicBP                         119\n",
       "CholesterolTotal             299.993352\n",
       "CholesterolLDL               199.965665\n",
       "CholesterolHDL                99.980324\n",
       "CholesterolTriglycerides     399.941862\n",
       "MMSE                          29.991381\n",
       "FunctionalAssessment           9.996467\n",
       "MemoryComplaints                      1\n",
       "BehavioralProblems                    1\n",
       "ADL                            9.999747\n",
       "Confusion                             1\n",
       "Disorientation                        1\n",
       "PersonalityChanges                    1\n",
       "DifficultyCompletingTasks             1\n",
       "Forgetfulness                         1\n",
       "Diagnosis                             1\n",
       "DoctorInCharge                XXXConfid\n",
       "dtype: object"
      ]
     },
     "execution_count": 7,
     "metadata": {},
     "output_type": "execute_result"
    }
   ],
   "source": [
    "df.max()"
   ]
  },
  {
   "cell_type": "markdown",
   "metadata": {},
   "source": [
    "Check for duplicated rows and return the number of them."
   ]
  },
  {
   "cell_type": "code",
   "execution_count": 47,
   "metadata": {},
   "outputs": [
    {
     "data": {
      "text/plain": [
       "0"
      ]
     },
     "execution_count": 47,
     "metadata": {},
     "output_type": "execute_result"
    }
   ],
   "source": [
    "df.duplicated().sum()"
   ]
  },
  {
   "cell_type": "markdown",
   "metadata": {},
   "source": [
    "Check for missing cells in each column and return the number of them."
   ]
  },
  {
   "cell_type": "code",
   "execution_count": 48,
   "metadata": {},
   "outputs": [
    {
     "data": {
      "text/plain": [
       "PatientID                    0\n",
       "Age                          0\n",
       "Gender                       0\n",
       "Ethnicity                    0\n",
       "BMI                          0\n",
       "Smoking                      0\n",
       "AlcoholConsumption           0\n",
       "PhysicalActivity             0\n",
       "DietQuality                  0\n",
       "CardiovascularDisease        0\n",
       "Depression                   0\n",
       "CholesterolTotal             0\n",
       "MMSE                         0\n",
       "FunctionalAssessment         0\n",
       "MemoryComplaints             0\n",
       "BehavioralProblems           0\n",
       "ADL                          0\n",
       "PersonalityChanges           0\n",
       "DifficultyCompletingTasks    0\n",
       "Diagnosis                    0\n",
       "DoctorInCharge               0\n",
       "dtype: int64"
      ]
     },
     "execution_count": 48,
     "metadata": {},
     "output_type": "execute_result"
    }
   ],
   "source": [
    "df.isnull().sum()"
   ]
  },
  {
   "cell_type": "markdown",
   "metadata": {
    "id": "ZY3l0-AxO93d"
   },
   "source": [
    "---"
   ]
  },
  {
   "cell_type": "markdown",
   "metadata": {
    "id": "uFQo3ycuO-v6"
   },
   "source": [
    "# Section 2"
   ]
  },
  {
   "cell_type": "markdown",
   "metadata": {},
   "source": [
    "Section 2 content"
   ]
  },
  {
   "cell_type": "code",
   "execution_count": 49,
   "metadata": {},
   "outputs": [
    {
     "data": {
      "text/html": [
       "<div>\n",
       "<style scoped>\n",
       "    .dataframe tbody tr th:only-of-type {\n",
       "        vertical-align: middle;\n",
       "    }\n",
       "\n",
       "    .dataframe tbody tr th {\n",
       "        vertical-align: top;\n",
       "    }\n",
       "\n",
       "    .dataframe thead th {\n",
       "        text-align: right;\n",
       "    }\n",
       "</style>\n",
       "<table border=\"1\" class=\"dataframe\">\n",
       "  <thead>\n",
       "    <tr style=\"text-align: right;\">\n",
       "      <th></th>\n",
       "      <th>PatientID</th>\n",
       "      <th>Age</th>\n",
       "      <th>Gender</th>\n",
       "      <th>Ethnicity</th>\n",
       "      <th>BMI</th>\n",
       "      <th>Smoking</th>\n",
       "      <th>AlcoholConsumption</th>\n",
       "      <th>PhysicalActivity</th>\n",
       "      <th>DietQuality</th>\n",
       "      <th>CardiovascularDisease</th>\n",
       "      <th>...</th>\n",
       "      <th>CholesterolTotal</th>\n",
       "      <th>MMSE</th>\n",
       "      <th>FunctionalAssessment</th>\n",
       "      <th>MemoryComplaints</th>\n",
       "      <th>BehavioralProblems</th>\n",
       "      <th>ADL</th>\n",
       "      <th>PersonalityChanges</th>\n",
       "      <th>DifficultyCompletingTasks</th>\n",
       "      <th>Diagnosis</th>\n",
       "      <th>DoctorInCharge</th>\n",
       "    </tr>\n",
       "  </thead>\n",
       "  <tbody>\n",
       "    <tr>\n",
       "      <th>0</th>\n",
       "      <td>4751</td>\n",
       "      <td>73</td>\n",
       "      <td>0</td>\n",
       "      <td>0</td>\n",
       "      <td>22.927749</td>\n",
       "      <td>0</td>\n",
       "      <td>13.297218</td>\n",
       "      <td>6.327112</td>\n",
       "      <td>1.347214</td>\n",
       "      <td>0</td>\n",
       "      <td>...</td>\n",
       "      <td>242.366840</td>\n",
       "      <td>21.463532</td>\n",
       "      <td>6.518877</td>\n",
       "      <td>0</td>\n",
       "      <td>0</td>\n",
       "      <td>1.725883</td>\n",
       "      <td>0</td>\n",
       "      <td>1</td>\n",
       "      <td>0</td>\n",
       "      <td>XXXConfid</td>\n",
       "    </tr>\n",
       "    <tr>\n",
       "      <th>1</th>\n",
       "      <td>4752</td>\n",
       "      <td>89</td>\n",
       "      <td>0</td>\n",
       "      <td>0</td>\n",
       "      <td>26.827681</td>\n",
       "      <td>0</td>\n",
       "      <td>4.542524</td>\n",
       "      <td>7.619885</td>\n",
       "      <td>0.518767</td>\n",
       "      <td>0</td>\n",
       "      <td>...</td>\n",
       "      <td>231.162595</td>\n",
       "      <td>20.613267</td>\n",
       "      <td>7.118696</td>\n",
       "      <td>0</td>\n",
       "      <td>0</td>\n",
       "      <td>2.592424</td>\n",
       "      <td>0</td>\n",
       "      <td>0</td>\n",
       "      <td>0</td>\n",
       "      <td>XXXConfid</td>\n",
       "    </tr>\n",
       "    <tr>\n",
       "      <th>2</th>\n",
       "      <td>4753</td>\n",
       "      <td>73</td>\n",
       "      <td>0</td>\n",
       "      <td>3</td>\n",
       "      <td>17.795882</td>\n",
       "      <td>0</td>\n",
       "      <td>19.555085</td>\n",
       "      <td>7.844988</td>\n",
       "      <td>1.826335</td>\n",
       "      <td>0</td>\n",
       "      <td>...</td>\n",
       "      <td>284.181858</td>\n",
       "      <td>7.356249</td>\n",
       "      <td>5.895077</td>\n",
       "      <td>0</td>\n",
       "      <td>0</td>\n",
       "      <td>7.119548</td>\n",
       "      <td>0</td>\n",
       "      <td>1</td>\n",
       "      <td>0</td>\n",
       "      <td>XXXConfid</td>\n",
       "    </tr>\n",
       "    <tr>\n",
       "      <th>3</th>\n",
       "      <td>4754</td>\n",
       "      <td>74</td>\n",
       "      <td>1</td>\n",
       "      <td>0</td>\n",
       "      <td>33.800817</td>\n",
       "      <td>1</td>\n",
       "      <td>12.209266</td>\n",
       "      <td>8.428001</td>\n",
       "      <td>7.435604</td>\n",
       "      <td>0</td>\n",
       "      <td>...</td>\n",
       "      <td>159.582240</td>\n",
       "      <td>13.991127</td>\n",
       "      <td>8.965106</td>\n",
       "      <td>0</td>\n",
       "      <td>1</td>\n",
       "      <td>6.481226</td>\n",
       "      <td>0</td>\n",
       "      <td>0</td>\n",
       "      <td>0</td>\n",
       "      <td>XXXConfid</td>\n",
       "    </tr>\n",
       "    <tr>\n",
       "      <th>4</th>\n",
       "      <td>4755</td>\n",
       "      <td>89</td>\n",
       "      <td>0</td>\n",
       "      <td>0</td>\n",
       "      <td>20.716974</td>\n",
       "      <td>0</td>\n",
       "      <td>18.454356</td>\n",
       "      <td>6.310461</td>\n",
       "      <td>0.795498</td>\n",
       "      <td>0</td>\n",
       "      <td>...</td>\n",
       "      <td>237.602184</td>\n",
       "      <td>13.517609</td>\n",
       "      <td>6.045039</td>\n",
       "      <td>0</td>\n",
       "      <td>0</td>\n",
       "      <td>0.014691</td>\n",
       "      <td>1</td>\n",
       "      <td>1</td>\n",
       "      <td>0</td>\n",
       "      <td>XXXConfid</td>\n",
       "    </tr>\n",
       "    <tr>\n",
       "      <th>...</th>\n",
       "      <td>...</td>\n",
       "      <td>...</td>\n",
       "      <td>...</td>\n",
       "      <td>...</td>\n",
       "      <td>...</td>\n",
       "      <td>...</td>\n",
       "      <td>...</td>\n",
       "      <td>...</td>\n",
       "      <td>...</td>\n",
       "      <td>...</td>\n",
       "      <td>...</td>\n",
       "      <td>...</td>\n",
       "      <td>...</td>\n",
       "      <td>...</td>\n",
       "      <td>...</td>\n",
       "      <td>...</td>\n",
       "      <td>...</td>\n",
       "      <td>...</td>\n",
       "      <td>...</td>\n",
       "      <td>...</td>\n",
       "      <td>...</td>\n",
       "    </tr>\n",
       "    <tr>\n",
       "      <th>2144</th>\n",
       "      <td>6895</td>\n",
       "      <td>61</td>\n",
       "      <td>0</td>\n",
       "      <td>0</td>\n",
       "      <td>39.121757</td>\n",
       "      <td>0</td>\n",
       "      <td>1.561126</td>\n",
       "      <td>4.049964</td>\n",
       "      <td>6.555306</td>\n",
       "      <td>0</td>\n",
       "      <td>...</td>\n",
       "      <td>280.476824</td>\n",
       "      <td>1.201190</td>\n",
       "      <td>0.238667</td>\n",
       "      <td>0</td>\n",
       "      <td>0</td>\n",
       "      <td>4.492838</td>\n",
       "      <td>0</td>\n",
       "      <td>0</td>\n",
       "      <td>1</td>\n",
       "      <td>XXXConfid</td>\n",
       "    </tr>\n",
       "    <tr>\n",
       "      <th>2145</th>\n",
       "      <td>6896</td>\n",
       "      <td>75</td>\n",
       "      <td>0</td>\n",
       "      <td>0</td>\n",
       "      <td>17.857903</td>\n",
       "      <td>0</td>\n",
       "      <td>18.767261</td>\n",
       "      <td>1.360667</td>\n",
       "      <td>2.904662</td>\n",
       "      <td>0</td>\n",
       "      <td>...</td>\n",
       "      <td>186.384436</td>\n",
       "      <td>6.458060</td>\n",
       "      <td>8.687480</td>\n",
       "      <td>0</td>\n",
       "      <td>1</td>\n",
       "      <td>9.204952</td>\n",
       "      <td>0</td>\n",
       "      <td>0</td>\n",
       "      <td>1</td>\n",
       "      <td>XXXConfid</td>\n",
       "    </tr>\n",
       "    <tr>\n",
       "      <th>2146</th>\n",
       "      <td>6897</td>\n",
       "      <td>77</td>\n",
       "      <td>0</td>\n",
       "      <td>0</td>\n",
       "      <td>15.476479</td>\n",
       "      <td>0</td>\n",
       "      <td>4.594670</td>\n",
       "      <td>9.886002</td>\n",
       "      <td>8.120025</td>\n",
       "      <td>0</td>\n",
       "      <td>...</td>\n",
       "      <td>237.024558</td>\n",
       "      <td>17.011003</td>\n",
       "      <td>1.972137</td>\n",
       "      <td>0</td>\n",
       "      <td>0</td>\n",
       "      <td>5.036334</td>\n",
       "      <td>0</td>\n",
       "      <td>0</td>\n",
       "      <td>1</td>\n",
       "      <td>XXXConfid</td>\n",
       "    </tr>\n",
       "    <tr>\n",
       "      <th>2147</th>\n",
       "      <td>6898</td>\n",
       "      <td>78</td>\n",
       "      <td>1</td>\n",
       "      <td>3</td>\n",
       "      <td>15.299911</td>\n",
       "      <td>0</td>\n",
       "      <td>8.674505</td>\n",
       "      <td>6.354282</td>\n",
       "      <td>1.263427</td>\n",
       "      <td>1</td>\n",
       "      <td>...</td>\n",
       "      <td>242.197192</td>\n",
       "      <td>4.030491</td>\n",
       "      <td>5.173891</td>\n",
       "      <td>0</td>\n",
       "      <td>0</td>\n",
       "      <td>3.785399</td>\n",
       "      <td>0</td>\n",
       "      <td>0</td>\n",
       "      <td>1</td>\n",
       "      <td>XXXConfid</td>\n",
       "    </tr>\n",
       "    <tr>\n",
       "      <th>2148</th>\n",
       "      <td>6899</td>\n",
       "      <td>72</td>\n",
       "      <td>0</td>\n",
       "      <td>0</td>\n",
       "      <td>33.289738</td>\n",
       "      <td>0</td>\n",
       "      <td>7.890703</td>\n",
       "      <td>6.570993</td>\n",
       "      <td>7.941404</td>\n",
       "      <td>0</td>\n",
       "      <td>...</td>\n",
       "      <td>283.396797</td>\n",
       "      <td>11.114777</td>\n",
       "      <td>6.307543</td>\n",
       "      <td>0</td>\n",
       "      <td>1</td>\n",
       "      <td>8.327563</td>\n",
       "      <td>0</td>\n",
       "      <td>0</td>\n",
       "      <td>0</td>\n",
       "      <td>XXXConfid</td>\n",
       "    </tr>\n",
       "  </tbody>\n",
       "</table>\n",
       "<p>2149 rows × 21 columns</p>\n",
       "</div>"
      ],
      "text/plain": [
       "      PatientID  Age  Gender  Ethnicity        BMI  Smoking  \\\n",
       "0          4751   73       0          0  22.927749        0   \n",
       "1          4752   89       0          0  26.827681        0   \n",
       "2          4753   73       0          3  17.795882        0   \n",
       "3          4754   74       1          0  33.800817        1   \n",
       "4          4755   89       0          0  20.716974        0   \n",
       "...         ...  ...     ...        ...        ...      ...   \n",
       "2144       6895   61       0          0  39.121757        0   \n",
       "2145       6896   75       0          0  17.857903        0   \n",
       "2146       6897   77       0          0  15.476479        0   \n",
       "2147       6898   78       1          3  15.299911        0   \n",
       "2148       6899   72       0          0  33.289738        0   \n",
       "\n",
       "      AlcoholConsumption  PhysicalActivity  DietQuality  \\\n",
       "0              13.297218          6.327112     1.347214   \n",
       "1               4.542524          7.619885     0.518767   \n",
       "2              19.555085          7.844988     1.826335   \n",
       "3              12.209266          8.428001     7.435604   \n",
       "4              18.454356          6.310461     0.795498   \n",
       "...                  ...               ...          ...   \n",
       "2144            1.561126          4.049964     6.555306   \n",
       "2145           18.767261          1.360667     2.904662   \n",
       "2146            4.594670          9.886002     8.120025   \n",
       "2147            8.674505          6.354282     1.263427   \n",
       "2148            7.890703          6.570993     7.941404   \n",
       "\n",
       "      CardiovascularDisease  ...  CholesterolTotal       MMSE  \\\n",
       "0                         0  ...        242.366840  21.463532   \n",
       "1                         0  ...        231.162595  20.613267   \n",
       "2                         0  ...        284.181858   7.356249   \n",
       "3                         0  ...        159.582240  13.991127   \n",
       "4                         0  ...        237.602184  13.517609   \n",
       "...                     ...  ...               ...        ...   \n",
       "2144                      0  ...        280.476824   1.201190   \n",
       "2145                      0  ...        186.384436   6.458060   \n",
       "2146                      0  ...        237.024558  17.011003   \n",
       "2147                      1  ...        242.197192   4.030491   \n",
       "2148                      0  ...        283.396797  11.114777   \n",
       "\n",
       "      FunctionalAssessment  MemoryComplaints  BehavioralProblems       ADL  \\\n",
       "0                 6.518877                 0                   0  1.725883   \n",
       "1                 7.118696                 0                   0  2.592424   \n",
       "2                 5.895077                 0                   0  7.119548   \n",
       "3                 8.965106                 0                   1  6.481226   \n",
       "4                 6.045039                 0                   0  0.014691   \n",
       "...                    ...               ...                 ...       ...   \n",
       "2144              0.238667                 0                   0  4.492838   \n",
       "2145              8.687480                 0                   1  9.204952   \n",
       "2146              1.972137                 0                   0  5.036334   \n",
       "2147              5.173891                 0                   0  3.785399   \n",
       "2148              6.307543                 0                   1  8.327563   \n",
       "\n",
       "      PersonalityChanges  DifficultyCompletingTasks  Diagnosis  DoctorInCharge  \n",
       "0                      0                          1          0       XXXConfid  \n",
       "1                      0                          0          0       XXXConfid  \n",
       "2                      0                          1          0       XXXConfid  \n",
       "3                      0                          0          0       XXXConfid  \n",
       "4                      1                          1          0       XXXConfid  \n",
       "...                  ...                        ...        ...             ...  \n",
       "2144                   0                          0          1       XXXConfid  \n",
       "2145                   0                          0          1       XXXConfid  \n",
       "2146                   0                          0          1       XXXConfid  \n",
       "2147                   0                          0          1       XXXConfid  \n",
       "2148                   0                          0          0       XXXConfid  \n",
       "\n",
       "[2149 rows x 21 columns]"
      ]
     },
     "execution_count": 49,
     "metadata": {},
     "output_type": "execute_result"
    }
   ],
   "source": [
    "df"
   ]
  },
  {
   "cell_type": "code",
   "execution_count": 25,
   "metadata": {},
   "outputs": [
    {
     "name": "stdout",
     "output_type": "stream",
     "text": [
      "      PatientID  Age  Gender  Ethnicity  EducationLevel        BMI Smoking  \\\n",
      "679        5430   68  Female      Asian               1  22.753134      No   \n",
      "110        4861   76  Female  Caucasian               1  34.623723     Yes   \n",
      "37         4788   60  Female  Caucasian               2  31.568689      No   \n",
      "1743       6494   75  Female  Caucasian               2  32.517662      No   \n",
      "364        5115   72  Female  Caucasian               0  19.392584      No   \n",
      "\n",
      "      AlcoholConsumption  PhysicalActivity  DietQuality  ...  \\\n",
      "679            13.241418          7.784493     9.812643  ...   \n",
      "110             6.864896          6.224812     2.301047  ...   \n",
      "37              3.478409          4.773200     8.856834  ...   \n",
      "1743           15.287424          7.372272     9.789646  ...   \n",
      "364             6.413479          9.302729     4.037830  ...   \n",
      "\n",
      "      MemoryComplaints  BehavioralProblems       ADL  Confusion  \\\n",
      "679                 No                  No  3.365375          1   \n",
      "110                 No                  No  7.575329          0   \n",
      "37                  No                 Yes  7.605224          1   \n",
      "1743                No                  No  5.242490          0   \n",
      "364                 No                  No  3.913769          0   \n",
      "\n",
      "     Disorientation  PersonalityChanges  DifficultyCompletingTasks  \\\n",
      "679               0                  No                         No   \n",
      "110               1                  No                        Yes   \n",
      "37                0                  No                         No   \n",
      "1743              0                  No                         No   \n",
      "364               0                  No                         No   \n",
      "\n",
      "      Forgetfulness    Diagnosis  DoctorInCharge  \n",
      "679               0     Dementia       XXXConfid  \n",
      "110               0  No Dementia       XXXConfid  \n",
      "37                0  No Dementia       XXXConfid  \n",
      "1743              0  No Dementia       XXXConfid  \n",
      "364               0     Dementia       XXXConfid  \n",
      "\n",
      "[5 rows x 35 columns]\n"
     ]
    }
   ],
   "source": [
    "# Replace values in categorical columns for better readability\n",
    "# Gender mapping\n",
    "if \"Gender\" in df.columns:\n",
    "    df[\"Gender\"] = df[\"Gender\"].replace({0: \"Male\", 1: \"Female\"})\n",
    "\n",
    "# Ethnicity mapping\n",
    "if \"Ethnicity\" in df.columns:\n",
    "    df[\"Ethnicity\"] = df[\"Ethnicity\"].replace({\n",
    "        0: \"Caucasian\", 1: \"African American\", 2: \"Asian\", 3: \"Other\"\n",
    "    })\n",
    "\n",
    "# Binary columns (0/1 to No/Yes)\n",
    "binary_cols = [\"Smoking\", \"CardiovascularDisease\", \"Depression\", \n",
    "               \"MemoryComplaints\", \"BehavioralProblems\", \"PersonalityChanges\", \n",
    "               \"DifficultyCompletingTasks\"]\n",
    "\n",
    "for col in binary_cols:\n",
    "    if col in df.columns:\n",
    "        df[col] = df[col].replace({0: \"No\", 1: \"Yes\"})\n",
    "\n",
    "# Diagnosis mapping\n",
    "if \"Diagnosis\" in df.columns:\n",
    "    df[\"Diagnosis\"] = df[\"Diagnosis\"].replace({0: \"No Dementia\", 1: \"Dementia\"})\n",
    "\n",
    "print(df.head())"
   ]
  },
  {
   "cell_type": "code",
   "execution_count": null,
   "metadata": {},
   "outputs": [],
   "source": [
    "# drop specific columns\n",
    "def drop_columns(df):\n",
    "    return df.drop(columns=[\"EducationLevel\", \"SleepQuality\", \"FamilyHistoryAlzheimers\", \"Diabetes\", \"HeadInjury\", \"Hypertension\", \"SystolicBP\", \"DiastolicBP\", \"CholesterolLDL\", \"CholesterolHDL\", \"CholesterolTriglycerides\", \"Confusion\", \"Disorientation\", \"Forgetfulness\", \"DoctorInCharge\"], errors=\"ignore\")\n",
    "\n",
    "# change column locations\n",
    "def change_column_location(df):\n",
    "    new_column_order = [\"PatientID\", \"Age\", \"Gender\", \"Ethnicity\", \"BMI\", \"DietQuality\", \"PhysicalActivity\", \"Smoking\", \"AlcoholConsumption\", \"CardiovascularDisease\", \"CholesterolTotal\", \"FunctionalAssessment\", \"ADL\", \"MMSE\", \"MemoryComplaints\", \"BehavioralProblems\", \"PersonalityChanges\", \"DifficultyCompletingTasks\", \"Depression\", \"Diagnosis\", \"DoctorInCharge\"]\n",
    "    # Only include columns that actually exist in the dataframe\n",
    "    existing_columns = [col for col in new_column_order if col in df.columns]\n",
    "    return df[existing_columns]\n",
    "\n",
    "# convert data types\n",
    "def convert_data_types(df):\n",
    "    if \"PatientID\" in df.columns:\n",
    "        df[\"PatientID\"] = df[\"PatientID\"].astype(int)\n",
    "    if \"Age\" in df.columns:\n",
    "        df[\"Age\"] = df[\"Age\"].astype(int)\n",
    "    if \"Gender\" in df.columns:\n",
    "        df[\"Gender\"] = df[\"Gender\"].astype(str)\n",
    "    if \"Ethnicity\" in df.columns:\n",
    "        df[\"Ethnicity\"] = df[\"Ethnicity\"].astype(str)\n",
    "    if \"BMI\" in df.columns:\n",
    "        df[\"BMI\"] = df[\"BMI\"].astype(float)\n",
    "    if \"Smoking\" in df.columns:\n",
    "        df[\"Smoking\"] = df[\"Smoking\"].astype(str)\n",
    "    if \"AlcoholConsumption\" in df.columns:\n",
    "        df[\"AlcoholConsumption\"] = df[\"AlcoholConsumption\"].astype(float)\n",
    "    if \"PhysicalActivity\" in df.columns:\n",
    "        df[\"PhysicalActivity\"] = df[\"PhysicalActivity\"].astype(int)\n",
    "    if \"DietQuality\" in df.columns:\n",
    "        df[\"DietQuality\"] = df[\"DietQuality\"].astype(str)\n",
    "    if \"CardiovascularDisease\" in df.columns:\n",
    "        df[\"CardiovascularDisease\"] = df[\"CardiovascularDisease\"].astype(str)\n",
    "    if \"Depression\" in df.columns:\n",
    "        df[\"Depression\"] = df[\"Depression\"].astype(str)\n",
    "    if \"CholesterolTotal\" in df.columns:\n",
    "        df[\"CholesterolTotal\"] = df[\"CholesterolTotal\"].astype(float)\n",
    "    if \"MMSE\" in df.columns:\n",
    "        df[\"MMSE\"] = df[\"MMSE\"].astype(float)\n",
    "    if \"FunctionalAssessment\" in df.columns:\n",
    "        df[\"FunctionalAssessment\"] = df[\"FunctionalAssessment\"].astype(int)\n",
    "    if \"MemoryComplaints\" in df.columns:\n",
    "        df[\"MemoryComplaints\"] = df[\"MemoryComplaints\"].astype(str)\n",
    "    if \"BehavioralProblems\" in df.columns:\n",
    "        df[\"BehavioralProblems\"] = df[\"BehavioralProblems\"].astype(str)\n",
    "    if \"ADL\" in df.columns:\n",
    "        df[\"ADL\"] = df[\"ADL\"].astype(float)\n",
    "    if \"PersonalityChanges\" in df.columns:\n",
    "        df[\"PersonalityChanges\"] = df[\"PersonalityChanges\"].astype(str)\n",
    "    if \"DifficultyCompletingTasks\" in df.columns:\n",
    "        df[\"DifficultyCompletingTasks\"] = df[\"DifficultyCompletingTasks\"].astype(str)\n",
    "    if \"Diagnosis\" in df.columns:\n",
    "        df[\"Diagnosis\"] = df[\"Diagnosis\"].astype(str)\n",
    "    return df\n",
    "\n",
    "# remove outliers using IQR method\n",
    "def remove_outliers(df):\n",
    "    columns = [\"BMI\", \"CholesterolTotal\"]\n",
    "    df_cleaned = df.copy()\n",
    "    for col in columns:\n",
    "        if col in df_cleaned.columns: \n",
    "            Q1 = df_cleaned[col].quantile(0.25)\n",
    "            Q3 = df_cleaned[col].quantile(0.75)\n",
    "            IQR = Q3 - Q1\n",
    "            mask = (df_cleaned[col] >= Q1 - 1.5 * IQR) & (df_cleaned[col] <= Q3 + 1.5 * IQR)\n",
    "            df_cleaned = df_cleaned[mask]  \n",
    "    return df_cleaned\n",
    "\n",
    "# rename columns\n",
    "def rename_columns(df):\n",
    "    return df.rename(columns={\n",
    "        \"PatientID\": \"Patient_ID\",\n",
    "        \"Age\": \"Patient_Age\",\n",
    "        \"AlcoholConsumption\": \"Alcohol_Consumption\",\n",
    "        \"PhysicalActivity\": \"Physical_Activity\",\n",
    "        \"DietQuality\": \"Diet_Quality\",\n",
    "        \"CardiovascularDisease\": \"Cardiovascular_Disease\",\n",
    "        \"CholesterolTotal\": \"Cholesterol_Total\",\n",
    "        \"FunctionalAssessment\": \"Functional_Assessment\",\n",
    "        \"MemoryComplaints\": \"Memory_Complaints\",\n",
    "        \"BehavioralProblems\": \"Behavioral_Problems\",\n",
    "        \"ADL\": \"Activities_Of_Daily_Living\",\n",
    "        \"PersonalityChanges\": \"Personality_Changes\",\n",
    "        \"DifficultyCompletingTasks\": \"Difficulty_Completing_Tasks\",  \n",
    "    })\n",
    "\n",
    "# drop missing values\n",
    "def drop_missing_values(df):\n",
    "    return df.dropna()\n",
    "\n",
    "# remove duplicates\n",
    "def remove_duplicates(df):\n",
    "    return df.drop_duplicates()\n",
    "\n",
    "# round numerical values to 2 decimal places\n",
    "def round_values(df):\n",
    "    return df.round(2)\n",
    "\n",
    "# capitalize column names with proper acronym handling\n",
    "def capitalize_columns(df):\n",
    "    def smart_title(text):\n",
    "        # Common acronyms that should stay uppercase\n",
    "        acronyms = {\n",
    "            'bmi': 'BMI',\n",
    "            'mmse': 'MMSE', \n",
    "            'adl': 'ADL',\n",
    "            'id': 'ID'\n",
    "        }\n",
    "        \n",
    "        # Split by underscore and process each part\n",
    "        parts = text.split('_')\n",
    "        result_parts = []\n",
    "        \n",
    "        for part in parts:\n",
    "            lower_part = part.lower()\n",
    "            if lower_part in acronyms:\n",
    "                result_parts.append(acronyms[lower_part])\n",
    "            else:\n",
    "                result_parts.append(part.title())\n",
    "        \n",
    "        return '_'.join(result_parts)\n",
    "    \n",
    "    df.columns = [smart_title(col) for col in df.columns]\n",
    "    return df\n",
    "\n",
    "# scale numerical values and encode categorical values\n",
    "scaling_transformer = ColumnTransformer([\n",
    "    (\"num\", StandardScaler(), [\"Patient_Age\", \"BMI\", \"Alcohol_Consumption\", \"Physical_Activity\", \"Cholesterol_Total\", \"MMSE\", \"Functional_Assessment\", \"Activities_Of_Daily_Living\"]), \n",
    "    (\"cat\", OneHotEncoder(drop=\"first\", handle_unknown=\"ignore\"), [\"Gender\", \"Ethnicity\", \"Smoking\", \"Cardiovascular_Disease\", \"Depression\", \"Memory_Complaints\", \"Behavioral_Problems\", \"Personality_Changes\", \"Difficulty_Completing_Tasks\", \"Doctor_In_Charge\"])  \n",
    "])\n",
    "\n",
    "# define transformers\n",
    "change_column_location_transformer = FunctionTransformer(change_column_location)\n",
    "drop_columns_transformer = FunctionTransformer(drop_columns)\n",
    "convert_data_types_transformer = FunctionTransformer(convert_data_types)\n",
    "remove_outliers_transformer = FunctionTransformer(remove_outliers)\n",
    "rename_columns_transformer = FunctionTransformer(rename_columns)\n",
    "capitalize_columns_transformer = FunctionTransformer(capitalize_columns)\n",
    "drop_missing_values_transformer = FunctionTransformer(drop_missing_values)\n",
    "remove_duplicates_transformer = FunctionTransformer(remove_duplicates)\n",
    "round_values_transformer = FunctionTransformer(round_values)\n",
    "\n",
    "# create data cleaning pipeline\n",
    "data_cleaning_pipeline = Pipeline([\n",
    "    (\"drop_columns\", drop_columns_transformer),\n",
    "    (\"change_column_order\", change_column_location_transformer),\n",
    "    (\"convert_data_types\", convert_data_types_transformer),\n",
    "    (\"rename_columns\", rename_columns_transformer),\n",
    "    (\"capitalize_columns\", capitalize_columns_transformer),\n",
    "    (\"remove_outliers\", remove_outliers_transformer),\n",
    "    (\"drop_missing_values\", drop_missing_values_transformer),\n",
    "    (\"remove_duplicates\", remove_duplicates_transformer),\n",
    "    (\"round_values\", round_values_transformer)\n",
    "])\n",
    "\n",
    "# Create advanced pipeline with scaling and encoding for machine learning\n",
    "# this pipeline should clean and preprocess data, rename columns, scale numerical features, encode categorical features and handle unknown categories\n",
    "ml_preprocessing_pipeline = Pipeline([\n",
    "    (\"drop_columns\", drop_columns_transformer),\n",
    "    (\"change_column_order\", change_column_location_transformer),\n",
    "    (\"convert_data_types\", convert_data_types_transformer),\n",
    "    (\"rename_columns\", rename_columns_transformer),\n",
    "    (\"capitalize_columns\", capitalize_columns_transformer),\n",
    "    (\"remove_outliers\", remove_outliers_transformer),\n",
    "    (\"drop_missing_values\", drop_missing_values_transformer),\n",
    "    (\"remove_duplicates\", remove_duplicates_transformer),\n",
    "    (\"round_values\", round_values_transformer),\n",
    "    (\"scale_and_encode\", scaling_transformer)\n",
    "])"
   ]
  },
  {
   "cell_type": "markdown",
   "metadata": {},
   "source": [
    "---"
   ]
  },
  {
   "cell_type": "markdown",
   "metadata": {},
   "source": [
    "# Section 3"
   ]
  },
  {
   "cell_type": "markdown",
   "metadata": {},
   "source": [
    "section 3 content"
   ]
  },
  {
   "cell_type": "code",
   "execution_count": 28,
   "metadata": {},
   "outputs": [
    {
     "name": "stdout",
     "output_type": "stream",
     "text": [
      "Processed data shape: (134, 21)\n",
      "     Patient_ID  Patient_Age  Gender  Ethnicity    BMI        Diet_Quality  \\\n",
      "679        5430           68  Female      Asian  22.75   9.812643386033978   \n",
      "110        4861           76  Female  Caucasian  34.62  2.3010466903936564   \n",
      "37         4788           60  Female  Caucasian  31.57     8.8568335672575   \n",
      "1743       6494           75  Female  Caucasian  32.52   9.789645835573284   \n",
      "364        5115           72  Female  Caucasian  19.39   4.037829830055766   \n",
      "\n",
      "      Physical_Activity Smoking  Alcohol_Consumption Cardiovascular_Disease  \\\n",
      "679                   7      No                13.24                     No   \n",
      "110                   6     Yes                 6.86                    Yes   \n",
      "37                    4      No                 3.48                    Yes   \n",
      "1743                  7      No                15.29                     No   \n",
      "364                   9      No                 6.41                     No   \n",
      "\n",
      "      ...  Functional_Assessment  Activities_Of_Daily_Living   MMSE  \\\n",
      "679   ...                      1                        3.37  16.30   \n",
      "110   ...                      1                        7.58   2.43   \n",
      "37    ...                      6                        7.61  16.64   \n",
      "1743  ...                      7                        5.24  24.08   \n",
      "364   ...                      3                        3.91   2.16   \n",
      "\n",
      "      Memory_Complaints Behavioral_Problems Personality_Changes  \\\n",
      "679                  No                  No                  No   \n",
      "110                  No                  No                  No   \n",
      "37                   No                 Yes                  No   \n",
      "1743                 No                  No                  No   \n",
      "364                  No                  No                  No   \n",
      "\n",
      "     Difficulty_Completing_Tasks Depression    Diagnosis Doctor_In_Charge  \n",
      "679                           No         No     Dementia        XXXConfid  \n",
      "110                          Yes         No  No Dementia        XXXConfid  \n",
      "37                            No         No  No Dementia        XXXConfid  \n",
      "1743                          No         No  No Dementia        XXXConfid  \n",
      "364                           No         No     Dementia        XXXConfid  \n",
      "\n",
      "[5 rows x 21 columns]\n"
     ]
    }
   ],
   "source": [
    "# Apply the pipeline to dataframe\n",
    "processed_df = data_cleaning_pipeline.fit_transform(df)\n",
    "print(f\"Processed data shape: {processed_df.shape}\")\n",
    "# Display the first few rows of cleaned data\n",
    "print(processed_df.head())"
   ]
  },
  {
   "cell_type": "code",
   "execution_count": 30,
   "metadata": {},
   "outputs": [
    {
     "name": "stdout",
     "output_type": "stream",
     "text": [
      "Scaled data shape: (134, 22)\n",
      "[[-0.6265218977008855 -0.7584829758654765 0.498975100888374 ... '5430'\n",
      "  '9.812643386033978' 'Dementia']\n",
      " [0.19756580087009426 0.9042940233104716 -0.6093514164321299 ... '4861'\n",
      "  '2.3010466903936564' 'No Dementia']\n",
      " [-1.4506095962718653 0.4770429830841331 -1.1965212641661898 ... '4788'\n",
      "  '8.8568335672575' 'No Dementia']\n",
      " ...\n",
      " [1.5367083110479365 -0.7640862681963136 -0.31576649256509975 ... '6669'\n",
      "  '9.37268051560284' 'Dementia']\n",
      " [-1.3475986339504928 1.5724866337628118 -1.646453188909153 ... '5347'\n",
      "  '3.9574397288296206' 'Dementia']\n",
      " [0.7126206124769566 1.0667895009047519 -0.692736483565961 ... '5926'\n",
      "  '7.691021735561546' 'Dementia']]\n"
     ]
    }
   ],
   "source": [
    "# Apply the ML preprocessing pipeline to the original dataframe\n",
    "scaled_data = ml_preprocessing_pipeline.fit_transform(df)\n",
    "print(f\"Scaled data shape: {scaled_data.shape}\")\n",
    "print(scaled_data)"
   ]
  },
  {
   "cell_type": "code",
   "execution_count": 37,
   "metadata": {},
   "outputs": [
    {
     "name": "stdout",
     "output_type": "stream",
     "text": [
      "Processed DataFrame shape: (134, 21)\n",
      "Processed DataFrame columns: ['Patient_ID', 'Patient_Age', 'Gender', 'Ethnicity', 'BMI', 'Diet_Quality', 'Physical_Activity', 'Smoking', 'Alcohol_Consumption', 'Cardiovascular_Disease', 'Cholesterol_Total', 'Functional_Assessment', 'Activities_Of_Daily_Living', 'MMSE', 'Memory_Complaints', 'Behavioral_Problems', 'Personality_Changes', 'Difficulty_Completing_Tasks', 'Depression', 'Diagnosis', 'Doctor_In_Charge']\n",
      "\n",
      "Scaled data shape: (134, 22)\n",
      "Scaled data type: <class 'numpy.ndarray'>\n",
      "\n",
      "=== Saving Files Manually to Avoid Pandas Bug ===\n",
      "✓ Unscaled data saved successfully!\n",
      "✓ Scaled data saved successfully!\n",
      "\n",
      "=== Summary ===\n",
      "✓ Data processing pipeline completed successfully!\n",
      "✓ Files saved to outputs folder:\n",
      "  1. processed_alzheimers_disease_data_unscaled.csv - Cleaned data (134 rows, 21 columns)\n",
      "  2. processed_alzheimers_disease_data_scaled.csv - Scaled & encoded data (134 rows, 22 columns)\n",
      "\n",
      "⚠️  Note: Pandas CSV export has a bug - ImportError: cannot import name 'SequenceNotStr'\n",
      "   This is a known pandas installation issue. Files saved using workaround.\n"
     ]
    }
   ],
   "source": [
    "# Save the processed DataFrame (cleaned but not scaled/encoded)\n",
    "df_load_1 = processed_df\n",
    "print(\"Processed DataFrame shape:\", df_load_1.shape)\n",
    "print(\"Processed DataFrame columns:\", df_load_1.columns.tolist())\n",
    "\n",
    "# The scaled data is a NumPy array, so we need to handle it differently\n",
    "df_load_2 = scaled_data\n",
    "print(\"\\nScaled data shape:\", df_load_2.shape)\n",
    "print(\"Scaled data type:\", type(df_load_2))\n",
    "\n",
    "# Use manual file writing to avoid pandas CSV bug\n",
    "print(\"\\n=== Saving Files Manually to Avoid Pandas Bug ===\")\n",
    "\n",
    "# Save the processed DataFrame manually\n",
    "with open(\"outputs/processed_alzheimers_disease_data_unscaled.csv\", 'w') as f:\n",
    "    # Write header\n",
    "    f.write(','.join(df_load_1.columns) + '\\n')\n",
    "    # Write data\n",
    "    for _, row in df_load_1.iterrows():\n",
    "        f.write(','.join(str(val) for val in row) + '\\n')\n",
    "print(\"✓ Unscaled data saved successfully!\")\n",
    "\n",
    "# Save the scaled data manually (handle mixed data types)\n",
    "with open(\"outputs/processed_alzheimers_disease_data_scaled.csv\", 'w') as f:\n",
    "    for row in df_load_2:\n",
    "        formatted_row = []\n",
    "        for val in row:\n",
    "            try:\n",
    "                # Try to format as float\n",
    "                formatted_row.append(f'{float(val):.6f}')\n",
    "            except (ValueError, TypeError):\n",
    "                # If it's not a number, convert to string\n",
    "                formatted_row.append(str(val))\n",
    "        f.write(','.join(formatted_row) + '\\n')\n",
    "print(\"✓ Scaled data saved successfully!\")\n",
    "\n",
    "print(\"\\n=== Summary ===\")\n",
    "print(\"✓ Data processing pipeline completed successfully!\")\n",
    "print(\"✓ Files saved to outputs folder:\")\n",
    "print(\"  1. processed_alzheimers_disease_data_unscaled.csv - Cleaned data (134 rows, 21 columns)\")  \n",
    "print(\"  2. processed_alzheimers_disease_data_scaled.csv - Scaled & encoded data (134 rows, 22 columns)\")\n",
    "print(\"\\n⚠️  Note: Pandas CSV export has a bug - ImportError: cannot import name 'SequenceNotStr'\")\n",
    "print(\"   This is a known pandas installation issue. Files saved using workaround.\")"
   ]
  },
  {
   "cell_type": "markdown",
   "metadata": {},
   "source": [
    "---"
   ]
  },
  {
   "cell_type": "markdown",
   "metadata": {
    "id": "ltNetd085qHf"
   },
   "source": [
    "# Conclusion"
   ]
  },
  {
   "cell_type": "markdown",
   "metadata": {},
   "source": [
    "* If you have any additional comments that don't fit in the previous bullets, please state them here. ---- needed to install Jupyter dependencies, as kernel kept dying, python kernel started, then the necessary packages were downloaded\n",
    "we dropped several; columns as a aim was to focus on partiuclar parameters (make these clear and why - psycholigcal factors and current daya to day matter sthat might cause issue) nd to afford a more simplistic, less technical, viewer friendly application\n",
    "we also extracted a fractioned/ sampled state due to this\n",
    "the notenook also acts similar to a pre-analysis point\n",
    "add in readme not to rule out outside factors like head injury, or other comordid disease such as diabetes, or family history (also included in orginal dataset)\n",
    "\n",
    "# there's and HTML formatting error that has begun to appear recently due to a conflict with pandas and jupyter- using the print function solves this\n",
    "\n",
    "the data within the table had already been scaled and encoded but for demonstrative purposes as well as to satisfy its use, we've added this transformer to the pipeline - say what it does\n",
    "\n",
    "# capitalize column names\n",
    "def capitalize_columns(df):\n",
    "    df.columns = [col.title() for col in df.columns]\n",
    "    return df\n",
    "\n",
    "# drop missing values\n",
    "def drop_missing_values(df):\n",
    "    return df.dropna()\n",
    "\n",
    "# remove duplicates\n",
    "def remove_duplicates(df):\n",
    "return df.drop_duplicates() ------------ included these as quality assurance measures\n",
    "\n",
    "    \"../inputs/alzheimers_disease_data.csv\" to go up one directory to find the inputs folder.\n",
    "    had to use the abosulte file path in the end as recent wasnt working and apply it to variable ----- # Use absolute path to be sure\n",
    "file_path = \"inputs/alzheimers_disease_data.csv\""
   ]
  }
 ],
 "metadata": {
  "accelerator": "GPU",
  "colab": {
   "name": "Data Practitioner Jupyter Notebook.ipynb",
   "provenance": [],
   "toc_visible": true
  },
  "kernelspec": {
   "display_name": ".venv",
   "language": "python",
   "name": "python3"
  },
  "language_info": {
   "codemirror_mode": {
    "name": "ipython",
    "version": 3
   },
   "file_extension": ".py",
   "mimetype": "text/x-python",
   "name": "python",
   "nbconvert_exporter": "python",
   "pygments_lexer": "ipython3",
   "version": "3.12.8"
  },
  "orig_nbformat": 2
 },
 "nbformat": 4,
 "nbformat_minor": 2
}
