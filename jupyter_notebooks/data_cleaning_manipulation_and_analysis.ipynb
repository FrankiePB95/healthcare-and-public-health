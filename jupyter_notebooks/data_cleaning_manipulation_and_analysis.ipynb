{
 "cells": [
  {
   "cell_type": "markdown",
   "metadata": {
    "id": "0aStgWSO0E0E"
   },
   "source": [
    "# **Data Cleaning, Manipulation and Analysis**"
   ]
  },
  {
   "cell_type": "markdown",
   "metadata": {},
   "source": [
    "---"
   ]
  },
  {
   "cell_type": "markdown",
   "metadata": {},
   "source": [
    "Application of Data Analytics within the healthcare industry"
   ]
  },
  {
   "cell_type": "markdown",
   "metadata": {
    "id": "1eLEkw5O0ECa"
   },
   "source": [
    "## **Objectives**\n",
    "\n",
    "The intention of this notebook was tri-fold: data cleaning, data transformation and data loading. Light analysis has also been carried out to better understand, extract and load data.\n",
    "\n",
    "### **Inputs**\n",
    "\n",
    "* Dataset retrieved from Kaggle (CSV file containing data regarding patients with, or potentially at risk of, Alzheimer's disease saved to inputs folder)\n",
    "\n",
    "### **Outputs**\n",
    "\n",
    "* Data cleaning pipeline (within this notebook)\n",
    "* Machine learning pipeline (within this notebook)\n",
    "* Cleaned data (CSV file extracted to outputs folder)\n",
    "* Data for machine learning (txt file extracted to outputs folder)\n",
    "\n",
    "### **Additional Comments**\n",
    "\n",
    "* Data was extracted from Kaggle with the source citation included in the README file.\n",
    "* Data was saved in its raw orginal form and then cleaned (a machine learning dataset with scaling and encoding was also created)."
   ]
  },
  {
   "cell_type": "markdown",
   "metadata": {},
   "source": [
    "---\n",
    "---"
   ]
  },
  {
   "cell_type": "markdown",
   "metadata": {},
   "source": [
    "##### **REMINDER**: \n",
    "All notebook cells should be run top-down (you can't create a dynamic where at a given point you need to go back to a previous cell to execute a task and then return to the cell you were working on)."
   ]
  },
  {
   "cell_type": "markdown",
   "metadata": {
    "id": "9uWZXH9LwoQg"
   },
   "source": [
    "---\n",
    "---"
   ]
  },
  {
   "cell_type": "markdown",
   "metadata": {},
   "source": [
    "## **Setup Information**"
   ]
  },
  {
   "cell_type": "markdown",
   "metadata": {},
   "source": [
    "---\n",
    "---"
   ]
  },
  {
   "cell_type": "markdown",
   "metadata": {},
   "source": [
    "#### **IMPORTANT**: \n",
    "Before running the cells below, you **MUST** restart the kernel!\n",
    "\n",
    "**This is because:**\n",
    "- Windows locks files that are currently in use.\n",
    "- NumPy is loaded in the current kernel session.\n",
    "- Restarting clears memory and releases file locks.\n",
    "\n",
    "**How to restart the kernel:**\n",
    "1. Click on the restart button above with the circular arrow before it\n",
    "2. Confirm the restart\n",
    "3. **Then** run the cells below in order"
   ]
  },
  {
   "cell_type": "markdown",
   "metadata": {},
   "source": [
    "---\n",
    "---"
   ]
  },
  {
   "cell_type": "markdown",
   "metadata": {
    "id": "cqP-UeN-z3i2"
   },
   "source": [
    "### **Change Working Directory**"
   ]
  },
  {
   "cell_type": "markdown",
   "metadata": {},
   "source": [
    "* When storing the notebooks in a subfolder to run in the editor, for projects such as these, it's best practice to change the working directory. \n",
    "* We need to change the working directory from its current folder to its parent folder."
   ]
  },
  {
   "cell_type": "code",
   "execution_count": 1,
   "metadata": {
    "id": "wZfF_j-Bz3i4",
    "outputId": "66943449-1436-4c3d-85c7-b85f9f78349b"
   },
   "outputs": [
    {
     "data": {
      "text/plain": [
       "'c:\\\\Users\\\\F_bee\\\\Documents\\\\vs-code\\\\vs-code-projects\\\\healthcare-and-public-health\\\\jupyter_notebooks'"
      ]
     },
     "execution_count": 1,
     "metadata": {},
     "output_type": "execute_result"
    }
   ],
   "source": [
    "# Access the current directory with os.getcwd()\n",
    "import os\n",
    "current_dir = os.getcwd()\n",
    "current_dir"
   ]
  },
  {
   "cell_type": "code",
   "execution_count": 2,
   "metadata": {
    "id": "TwHsQRWjz3i9",
    "outputId": "86849db3-cd2f-4cc5-ebb8-2d0caafa1a2c"
   },
   "outputs": [
    {
     "name": "stdout",
     "output_type": "stream",
     "text": [
      "You set a new current directory\n"
     ]
    }
   ],
   "source": [
    "# Make parent of current directory the new current directory\n",
    "# Use os.path.dirname() to get parent directory\n",
    "# Use os.chdir() to define new current directory\n",
    "os.chdir(os.path.dirname(current_dir))\n",
    "print(\"You set a new current directory\")"
   ]
  },
  {
   "cell_type": "code",
   "execution_count": 3,
   "metadata": {
    "id": "vz3S-_kjz3jA",
    "outputId": "00b79ae4-75d0-4a96-d193-ac9ef9847ea2"
   },
   "outputs": [
    {
     "data": {
      "text/plain": [
       "'c:\\\\Users\\\\F_bee\\\\Documents\\\\vs-code\\\\vs-code-projects\\\\healthcare-and-public-health'"
      ]
     },
     "execution_count": 3,
     "metadata": {},
     "output_type": "execute_result"
    }
   ],
   "source": [
    "# Confirm new current directory\n",
    "current_dir = os.getcwd()\n",
    "current_dir"
   ]
  },
  {
   "cell_type": "markdown",
   "metadata": {},
   "source": [
    "---"
   ]
  },
  {
   "cell_type": "markdown",
   "metadata": {},
   "source": [
    "### **Install Packages**"
   ]
  },
  {
   "cell_type": "markdown",
   "metadata": {},
   "source": [
    "---"
   ]
  },
  {
   "cell_type": "code",
   "execution_count": 4,
   "metadata": {},
   "outputs": [
    {
     "name": "stdout",
     "output_type": "stream",
     "text": [
      "Requirement already satisfied: numpy in c:\\users\\f_bee\\documents\\vs-code\\vs-code-projects\\healthcare-and-public-health\\.venv\\lib\\site-packages (2.3.2)\n",
      "Note: you may need to restart the kernel to use updated packages.\n"
     ]
    }
   ],
   "source": [
    "# Upgrade numpy (run after kernel restart)\n",
    "%pip install --upgrade numpy"
   ]
  },
  {
   "cell_type": "code",
   "execution_count": 5,
   "metadata": {},
   "outputs": [
    {
     "name": "stdout",
     "output_type": "stream",
     "text": [
      "Requirement already satisfied: pandas in c:\\users\\f_bee\\documents\\vs-code\\vs-code-projects\\healthcare-and-public-health\\.venv\\lib\\site-packages (2.3.1)\n",
      "Requirement already satisfied: matplotlib in c:\\users\\f_bee\\documents\\vs-code\\vs-code-projects\\healthcare-and-public-health\\.venv\\lib\\site-packages (3.10.5)\n",
      "Requirement already satisfied: seaborn in c:\\users\\f_bee\\documents\\vs-code\\vs-code-projects\\healthcare-and-public-health\\.venv\\lib\\site-packages (0.13.2)\n",
      "Requirement already satisfied: scikit-learn in c:\\users\\f_bee\\documents\\vs-code\\vs-code-projects\\healthcare-and-public-health\\.venv\\lib\\site-packages (1.7.1)\n",
      "Requirement already satisfied: plotly in c:\\users\\f_bee\\documents\\vs-code\\vs-code-projects\\healthcare-and-public-health\\.venv\\lib\\site-packages (6.2.0)\n",
      "Requirement already satisfied: feature-engine in c:\\users\\f_bee\\documents\\vs-code\\vs-code-projects\\healthcare-and-public-health\\.venv\\lib\\site-packages (1.8.3)\n",
      "Requirement already satisfied: numpy>=1.26.0 in c:\\users\\f_bee\\documents\\vs-code\\vs-code-projects\\healthcare-and-public-health\\.venv\\lib\\site-packages (from pandas) (2.3.2)\n",
      "Requirement already satisfied: python-dateutil>=2.8.2 in c:\\users\\f_bee\\documents\\vs-code\\vs-code-projects\\healthcare-and-public-health\\.venv\\lib\\site-packages (from pandas) (2.9.0.post0)\n",
      "Requirement already satisfied: pytz>=2020.1 in c:\\users\\f_bee\\documents\\vs-code\\vs-code-projects\\healthcare-and-public-health\\.venv\\lib\\site-packages (from pandas) (2025.2)\n",
      "Requirement already satisfied: tzdata>=2022.7 in c:\\users\\f_bee\\documents\\vs-code\\vs-code-projects\\healthcare-and-public-health\\.venv\\lib\\site-packages (from pandas) (2025.2)\n",
      "Requirement already satisfied: contourpy>=1.0.1 in c:\\users\\f_bee\\documents\\vs-code\\vs-code-projects\\healthcare-and-public-health\\.venv\\lib\\site-packages (from matplotlib) (1.3.3)\n",
      "Requirement already satisfied: cycler>=0.10 in c:\\users\\f_bee\\documents\\vs-code\\vs-code-projects\\healthcare-and-public-health\\.venv\\lib\\site-packages (from matplotlib) (0.12.1)\n",
      "Requirement already satisfied: fonttools>=4.22.0 in c:\\users\\f_bee\\documents\\vs-code\\vs-code-projects\\healthcare-and-public-health\\.venv\\lib\\site-packages (from matplotlib) (4.59.0)\n",
      "Requirement already satisfied: kiwisolver>=1.3.1 in c:\\users\\f_bee\\documents\\vs-code\\vs-code-projects\\healthcare-and-public-health\\.venv\\lib\\site-packages (from matplotlib) (1.4.8)\n",
      "Requirement already satisfied: packaging>=20.0 in c:\\users\\f_bee\\documents\\vs-code\\vs-code-projects\\healthcare-and-public-health\\.venv\\lib\\site-packages (from matplotlib) (25.0)\n",
      "Requirement already satisfied: pillow>=8 in c:\\users\\f_bee\\documents\\vs-code\\vs-code-projects\\healthcare-and-public-health\\.venv\\lib\\site-packages (from matplotlib) (11.3.0)\n",
      "Requirement already satisfied: pyparsing>=2.3.1 in c:\\users\\f_bee\\documents\\vs-code\\vs-code-projects\\healthcare-and-public-health\\.venv\\lib\\site-packages (from matplotlib) (3.2.3)\n",
      "Requirement already satisfied: scipy>=1.8.0 in c:\\users\\f_bee\\documents\\vs-code\\vs-code-projects\\healthcare-and-public-health\\.venv\\lib\\site-packages (from scikit-learn) (1.16.1)\n",
      "Requirement already satisfied: joblib>=1.2.0 in c:\\users\\f_bee\\documents\\vs-code\\vs-code-projects\\healthcare-and-public-health\\.venv\\lib\\site-packages (from scikit-learn) (1.5.1)\n",
      "Requirement already satisfied: threadpoolctl>=3.1.0 in c:\\users\\f_bee\\documents\\vs-code\\vs-code-projects\\healthcare-and-public-health\\.venv\\lib\\site-packages (from scikit-learn) (3.6.0)\n",
      "Requirement already satisfied: narwhals>=1.15.1 in c:\\users\\f_bee\\documents\\vs-code\\vs-code-projects\\healthcare-and-public-health\\.venv\\lib\\site-packages (from plotly) (2.0.1)\n",
      "Requirement already satisfied: statsmodels>=0.11.1 in c:\\users\\f_bee\\documents\\vs-code\\vs-code-projects\\healthcare-and-public-health\\.venv\\lib\\site-packages (from feature-engine) (0.14.5)\n",
      "Requirement already satisfied: six>=1.5 in c:\\users\\f_bee\\documents\\vs-code\\vs-code-projects\\healthcare-and-public-health\\.venv\\lib\\site-packages (from python-dateutil>=2.8.2->pandas) (1.17.0)\n",
      "Requirement already satisfied: patsy>=0.5.6 in c:\\users\\f_bee\\documents\\vs-code\\vs-code-projects\\healthcare-and-public-health\\.venv\\lib\\site-packages (from statsmodels>=0.11.1->feature-engine) (1.0.1)\n",
      "Note: you may need to restart the kernel to use updated packages.\n"
     ]
    }
   ],
   "source": [
    "# Install other packages (run after numpy upgrade)\n",
    "%pip install pandas matplotlib seaborn scikit-learn plotly feature-engine"
   ]
  },
  {
   "cell_type": "code",
   "execution_count": 6,
   "metadata": {},
   "outputs": [
    {
     "name": "stdout",
     "output_type": "stream",
     "text": [
      "All packages imported successfully!\n",
      "NumPy version: 2.3.2\n",
      "Pandas version: 2.3.1\n",
      "Matplotlib version: 3.10.5\n",
      "Seaborn version: 0.13.2\n",
      "Scikit-learn version: 1.7.1\n",
      "Plotly version: 6.2.0\n",
      "Feature-engine version: 1.8.3\n"
     ]
    }
   ],
   "source": [
    "# Test all imports (run after all packages installed)\n",
    "import numpy as np\n",
    "import pandas as pd\n",
    "import matplotlib as mb\n",
    "import matplotlib.pyplot as plt\n",
    "import plotly as pl\n",
    "import seaborn as sns\n",
    "import sklearn as sk\n",
    "from sklearn.preprocessing import FunctionTransformer\n",
    "from sklearn.pipeline import Pipeline\n",
    "from sklearn.compose import ColumnTransformer\n",
    "from sklearn.preprocessing import StandardScaler, OneHotEncoder\n",
    "import feature_engine as fe\n",
    "\n",
    "print(\"All packages imported successfully!\")\n",
    "print(f\"NumPy version: {np.__version__}\")\n",
    "print(f\"Pandas version: {pd.__version__}\")\n",
    "print(f\"Matplotlib version: {mb.__version__}\")\n",
    "print(f\"Seaborn version: {sns.__version__}\")\n",
    "print(f\"Scikit-learn version: {sk.__version__}\")\n",
    "print(f\"Plotly version: {pl.__version__}\")\n",
    "print(f\"Feature-engine version: {fe.__version__}\")"
   ]
  },
  {
   "cell_type": "markdown",
   "metadata": {},
   "source": [
    "---"
   ]
  },
  {
   "cell_type": "markdown",
   "metadata": {},
   "source": [
    "## **Section 1**"
   ]
  },
  {
   "cell_type": "markdown",
   "metadata": {},
   "source": [
    "### **Data Extraction**\n",
    "This section contains code for the loading of data."
   ]
  },
  {
   "cell_type": "markdown",
   "metadata": {},
   "source": [
    "---"
   ]
  },
  {
   "cell_type": "markdown",
   "metadata": {},
   "source": [
    "Extract the dataset from the inputs folder and load it to notebook as a DataFrame."
   ]
  },
  {
   "cell_type": "code",
   "execution_count": 7,
   "metadata": {},
   "outputs": [
    {
     "name": "stdout",
     "output_type": "stream",
     "text": [
      "Data loaded successfully!\n",
      "DataFrame shape: (2149, 35)\n"
     ]
    },
    {
     "data": {
      "text/html": [
       "<div>\n",
       "<style scoped>\n",
       "    .dataframe tbody tr th:only-of-type {\n",
       "        vertical-align: middle;\n",
       "    }\n",
       "\n",
       "    .dataframe tbody tr th {\n",
       "        vertical-align: top;\n",
       "    }\n",
       "\n",
       "    .dataframe thead th {\n",
       "        text-align: right;\n",
       "    }\n",
       "</style>\n",
       "<table border=\"1\" class=\"dataframe\">\n",
       "  <thead>\n",
       "    <tr style=\"text-align: right;\">\n",
       "      <th></th>\n",
       "      <th>PatientID</th>\n",
       "      <th>Age</th>\n",
       "      <th>Gender</th>\n",
       "      <th>Ethnicity</th>\n",
       "      <th>EducationLevel</th>\n",
       "      <th>BMI</th>\n",
       "      <th>Smoking</th>\n",
       "      <th>AlcoholConsumption</th>\n",
       "      <th>PhysicalActivity</th>\n",
       "      <th>DietQuality</th>\n",
       "      <th>...</th>\n",
       "      <th>MemoryComplaints</th>\n",
       "      <th>BehavioralProblems</th>\n",
       "      <th>ADL</th>\n",
       "      <th>Confusion</th>\n",
       "      <th>Disorientation</th>\n",
       "      <th>PersonalityChanges</th>\n",
       "      <th>DifficultyCompletingTasks</th>\n",
       "      <th>Forgetfulness</th>\n",
       "      <th>Diagnosis</th>\n",
       "      <th>DoctorInCharge</th>\n",
       "    </tr>\n",
       "  </thead>\n",
       "  <tbody>\n",
       "    <tr>\n",
       "      <th>0</th>\n",
       "      <td>4751</td>\n",
       "      <td>73</td>\n",
       "      <td>0</td>\n",
       "      <td>0</td>\n",
       "      <td>2</td>\n",
       "      <td>22.927749</td>\n",
       "      <td>0</td>\n",
       "      <td>13.297218</td>\n",
       "      <td>6.327112</td>\n",
       "      <td>1.347214</td>\n",
       "      <td>...</td>\n",
       "      <td>0</td>\n",
       "      <td>0</td>\n",
       "      <td>1.725883</td>\n",
       "      <td>0</td>\n",
       "      <td>0</td>\n",
       "      <td>0</td>\n",
       "      <td>1</td>\n",
       "      <td>0</td>\n",
       "      <td>0</td>\n",
       "      <td>XXXConfid</td>\n",
       "    </tr>\n",
       "    <tr>\n",
       "      <th>1</th>\n",
       "      <td>4752</td>\n",
       "      <td>89</td>\n",
       "      <td>0</td>\n",
       "      <td>0</td>\n",
       "      <td>0</td>\n",
       "      <td>26.827681</td>\n",
       "      <td>0</td>\n",
       "      <td>4.542524</td>\n",
       "      <td>7.619885</td>\n",
       "      <td>0.518767</td>\n",
       "      <td>...</td>\n",
       "      <td>0</td>\n",
       "      <td>0</td>\n",
       "      <td>2.592424</td>\n",
       "      <td>0</td>\n",
       "      <td>0</td>\n",
       "      <td>0</td>\n",
       "      <td>0</td>\n",
       "      <td>1</td>\n",
       "      <td>0</td>\n",
       "      <td>XXXConfid</td>\n",
       "    </tr>\n",
       "    <tr>\n",
       "      <th>2</th>\n",
       "      <td>4753</td>\n",
       "      <td>73</td>\n",
       "      <td>0</td>\n",
       "      <td>3</td>\n",
       "      <td>1</td>\n",
       "      <td>17.795882</td>\n",
       "      <td>0</td>\n",
       "      <td>19.555085</td>\n",
       "      <td>7.844988</td>\n",
       "      <td>1.826335</td>\n",
       "      <td>...</td>\n",
       "      <td>0</td>\n",
       "      <td>0</td>\n",
       "      <td>7.119548</td>\n",
       "      <td>0</td>\n",
       "      <td>1</td>\n",
       "      <td>0</td>\n",
       "      <td>1</td>\n",
       "      <td>0</td>\n",
       "      <td>0</td>\n",
       "      <td>XXXConfid</td>\n",
       "    </tr>\n",
       "    <tr>\n",
       "      <th>3</th>\n",
       "      <td>4754</td>\n",
       "      <td>74</td>\n",
       "      <td>1</td>\n",
       "      <td>0</td>\n",
       "      <td>1</td>\n",
       "      <td>33.800817</td>\n",
       "      <td>1</td>\n",
       "      <td>12.209266</td>\n",
       "      <td>8.428001</td>\n",
       "      <td>7.435604</td>\n",
       "      <td>...</td>\n",
       "      <td>0</td>\n",
       "      <td>1</td>\n",
       "      <td>6.481226</td>\n",
       "      <td>0</td>\n",
       "      <td>0</td>\n",
       "      <td>0</td>\n",
       "      <td>0</td>\n",
       "      <td>0</td>\n",
       "      <td>0</td>\n",
       "      <td>XXXConfid</td>\n",
       "    </tr>\n",
       "    <tr>\n",
       "      <th>4</th>\n",
       "      <td>4755</td>\n",
       "      <td>89</td>\n",
       "      <td>0</td>\n",
       "      <td>0</td>\n",
       "      <td>0</td>\n",
       "      <td>20.716974</td>\n",
       "      <td>0</td>\n",
       "      <td>18.454356</td>\n",
       "      <td>6.310461</td>\n",
       "      <td>0.795498</td>\n",
       "      <td>...</td>\n",
       "      <td>0</td>\n",
       "      <td>0</td>\n",
       "      <td>0.014691</td>\n",
       "      <td>0</td>\n",
       "      <td>0</td>\n",
       "      <td>1</td>\n",
       "      <td>1</td>\n",
       "      <td>0</td>\n",
       "      <td>0</td>\n",
       "      <td>XXXConfid</td>\n",
       "    </tr>\n",
       "    <tr>\n",
       "      <th>...</th>\n",
       "      <td>...</td>\n",
       "      <td>...</td>\n",
       "      <td>...</td>\n",
       "      <td>...</td>\n",
       "      <td>...</td>\n",
       "      <td>...</td>\n",
       "      <td>...</td>\n",
       "      <td>...</td>\n",
       "      <td>...</td>\n",
       "      <td>...</td>\n",
       "      <td>...</td>\n",
       "      <td>...</td>\n",
       "      <td>...</td>\n",
       "      <td>...</td>\n",
       "      <td>...</td>\n",
       "      <td>...</td>\n",
       "      <td>...</td>\n",
       "      <td>...</td>\n",
       "      <td>...</td>\n",
       "      <td>...</td>\n",
       "      <td>...</td>\n",
       "    </tr>\n",
       "    <tr>\n",
       "      <th>2144</th>\n",
       "      <td>6895</td>\n",
       "      <td>61</td>\n",
       "      <td>0</td>\n",
       "      <td>0</td>\n",
       "      <td>1</td>\n",
       "      <td>39.121757</td>\n",
       "      <td>0</td>\n",
       "      <td>1.561126</td>\n",
       "      <td>4.049964</td>\n",
       "      <td>6.555306</td>\n",
       "      <td>...</td>\n",
       "      <td>0</td>\n",
       "      <td>0</td>\n",
       "      <td>4.492838</td>\n",
       "      <td>1</td>\n",
       "      <td>0</td>\n",
       "      <td>0</td>\n",
       "      <td>0</td>\n",
       "      <td>0</td>\n",
       "      <td>1</td>\n",
       "      <td>XXXConfid</td>\n",
       "    </tr>\n",
       "    <tr>\n",
       "      <th>2145</th>\n",
       "      <td>6896</td>\n",
       "      <td>75</td>\n",
       "      <td>0</td>\n",
       "      <td>0</td>\n",
       "      <td>2</td>\n",
       "      <td>17.857903</td>\n",
       "      <td>0</td>\n",
       "      <td>18.767261</td>\n",
       "      <td>1.360667</td>\n",
       "      <td>2.904662</td>\n",
       "      <td>...</td>\n",
       "      <td>0</td>\n",
       "      <td>1</td>\n",
       "      <td>9.204952</td>\n",
       "      <td>0</td>\n",
       "      <td>0</td>\n",
       "      <td>0</td>\n",
       "      <td>0</td>\n",
       "      <td>0</td>\n",
       "      <td>1</td>\n",
       "      <td>XXXConfid</td>\n",
       "    </tr>\n",
       "    <tr>\n",
       "      <th>2146</th>\n",
       "      <td>6897</td>\n",
       "      <td>77</td>\n",
       "      <td>0</td>\n",
       "      <td>0</td>\n",
       "      <td>1</td>\n",
       "      <td>15.476479</td>\n",
       "      <td>0</td>\n",
       "      <td>4.594670</td>\n",
       "      <td>9.886002</td>\n",
       "      <td>8.120025</td>\n",
       "      <td>...</td>\n",
       "      <td>0</td>\n",
       "      <td>0</td>\n",
       "      <td>5.036334</td>\n",
       "      <td>0</td>\n",
       "      <td>0</td>\n",
       "      <td>0</td>\n",
       "      <td>0</td>\n",
       "      <td>0</td>\n",
       "      <td>1</td>\n",
       "      <td>XXXConfid</td>\n",
       "    </tr>\n",
       "    <tr>\n",
       "      <th>2147</th>\n",
       "      <td>6898</td>\n",
       "      <td>78</td>\n",
       "      <td>1</td>\n",
       "      <td>3</td>\n",
       "      <td>1</td>\n",
       "      <td>15.299911</td>\n",
       "      <td>0</td>\n",
       "      <td>8.674505</td>\n",
       "      <td>6.354282</td>\n",
       "      <td>1.263427</td>\n",
       "      <td>...</td>\n",
       "      <td>0</td>\n",
       "      <td>0</td>\n",
       "      <td>3.785399</td>\n",
       "      <td>0</td>\n",
       "      <td>0</td>\n",
       "      <td>0</td>\n",
       "      <td>0</td>\n",
       "      <td>1</td>\n",
       "      <td>1</td>\n",
       "      <td>XXXConfid</td>\n",
       "    </tr>\n",
       "    <tr>\n",
       "      <th>2148</th>\n",
       "      <td>6899</td>\n",
       "      <td>72</td>\n",
       "      <td>0</td>\n",
       "      <td>0</td>\n",
       "      <td>2</td>\n",
       "      <td>33.289738</td>\n",
       "      <td>0</td>\n",
       "      <td>7.890703</td>\n",
       "      <td>6.570993</td>\n",
       "      <td>7.941404</td>\n",
       "      <td>...</td>\n",
       "      <td>0</td>\n",
       "      <td>1</td>\n",
       "      <td>8.327563</td>\n",
       "      <td>0</td>\n",
       "      <td>1</td>\n",
       "      <td>0</td>\n",
       "      <td>0</td>\n",
       "      <td>1</td>\n",
       "      <td>0</td>\n",
       "      <td>XXXConfid</td>\n",
       "    </tr>\n",
       "  </tbody>\n",
       "</table>\n",
       "<p>2149 rows × 35 columns</p>\n",
       "</div>"
      ],
      "text/plain": [
       "      PatientID  Age  Gender  Ethnicity  EducationLevel        BMI  Smoking  \\\n",
       "0          4751   73       0          0               2  22.927749        0   \n",
       "1          4752   89       0          0               0  26.827681        0   \n",
       "2          4753   73       0          3               1  17.795882        0   \n",
       "3          4754   74       1          0               1  33.800817        1   \n",
       "4          4755   89       0          0               0  20.716974        0   \n",
       "...         ...  ...     ...        ...             ...        ...      ...   \n",
       "2144       6895   61       0          0               1  39.121757        0   \n",
       "2145       6896   75       0          0               2  17.857903        0   \n",
       "2146       6897   77       0          0               1  15.476479        0   \n",
       "2147       6898   78       1          3               1  15.299911        0   \n",
       "2148       6899   72       0          0               2  33.289738        0   \n",
       "\n",
       "      AlcoholConsumption  PhysicalActivity  DietQuality  ...  \\\n",
       "0              13.297218          6.327112     1.347214  ...   \n",
       "1               4.542524          7.619885     0.518767  ...   \n",
       "2              19.555085          7.844988     1.826335  ...   \n",
       "3              12.209266          8.428001     7.435604  ...   \n",
       "4              18.454356          6.310461     0.795498  ...   \n",
       "...                  ...               ...          ...  ...   \n",
       "2144            1.561126          4.049964     6.555306  ...   \n",
       "2145           18.767261          1.360667     2.904662  ...   \n",
       "2146            4.594670          9.886002     8.120025  ...   \n",
       "2147            8.674505          6.354282     1.263427  ...   \n",
       "2148            7.890703          6.570993     7.941404  ...   \n",
       "\n",
       "      MemoryComplaints  BehavioralProblems       ADL  Confusion  \\\n",
       "0                    0                   0  1.725883          0   \n",
       "1                    0                   0  2.592424          0   \n",
       "2                    0                   0  7.119548          0   \n",
       "3                    0                   1  6.481226          0   \n",
       "4                    0                   0  0.014691          0   \n",
       "...                ...                 ...       ...        ...   \n",
       "2144                 0                   0  4.492838          1   \n",
       "2145                 0                   1  9.204952          0   \n",
       "2146                 0                   0  5.036334          0   \n",
       "2147                 0                   0  3.785399          0   \n",
       "2148                 0                   1  8.327563          0   \n",
       "\n",
       "      Disorientation  PersonalityChanges  DifficultyCompletingTasks  \\\n",
       "0                  0                   0                          1   \n",
       "1                  0                   0                          0   \n",
       "2                  1                   0                          1   \n",
       "3                  0                   0                          0   \n",
       "4                  0                   1                          1   \n",
       "...              ...                 ...                        ...   \n",
       "2144               0                   0                          0   \n",
       "2145               0                   0                          0   \n",
       "2146               0                   0                          0   \n",
       "2147               0                   0                          0   \n",
       "2148               1                   0                          0   \n",
       "\n",
       "      Forgetfulness  Diagnosis  DoctorInCharge  \n",
       "0                 0          0       XXXConfid  \n",
       "1                 1          0       XXXConfid  \n",
       "2                 0          0       XXXConfid  \n",
       "3                 0          0       XXXConfid  \n",
       "4                 0          0       XXXConfid  \n",
       "...             ...        ...             ...  \n",
       "2144              0          1       XXXConfid  \n",
       "2145              0          1       XXXConfid  \n",
       "2146              0          1       XXXConfid  \n",
       "2147              1          1       XXXConfid  \n",
       "2148              1          0       XXXConfid  \n",
       "\n",
       "[2149 rows x 35 columns]"
      ]
     },
     "execution_count": 7,
     "metadata": {},
     "output_type": "execute_result"
    }
   ],
   "source": [
    "df = pd.read_csv(\"inputs/alzheimers_disease_data.csv\")\n",
    "print(\"Data loaded successfully!\")\n",
    "print(f\"DataFrame shape: {df.shape}\")\n",
    "df"
   ]
  },
  {
   "cell_type": "markdown",
   "metadata": {},
   "source": [
    "Create a random sample of the data. Consider the first 5 rows (head) throughout for better notebook observability."
   ]
  },
  {
   "cell_type": "code",
   "execution_count": 8,
   "metadata": {},
   "outputs": [
    {
     "name": "stdout",
     "output_type": "stream",
     "text": [
      "Data loaded successfully!\n",
      "DataFrame shape: (537, 35)\n",
      "\n",
      "First 5 rows:\n"
     ]
    },
    {
     "data": {
      "text/html": [
       "<div>\n",
       "<style scoped>\n",
       "    .dataframe tbody tr th:only-of-type {\n",
       "        vertical-align: middle;\n",
       "    }\n",
       "\n",
       "    .dataframe tbody tr th {\n",
       "        vertical-align: top;\n",
       "    }\n",
       "\n",
       "    .dataframe thead th {\n",
       "        text-align: right;\n",
       "    }\n",
       "</style>\n",
       "<table border=\"1\" class=\"dataframe\">\n",
       "  <thead>\n",
       "    <tr style=\"text-align: right;\">\n",
       "      <th></th>\n",
       "      <th>PatientID</th>\n",
       "      <th>Age</th>\n",
       "      <th>Gender</th>\n",
       "      <th>Ethnicity</th>\n",
       "      <th>EducationLevel</th>\n",
       "      <th>BMI</th>\n",
       "      <th>Smoking</th>\n",
       "      <th>AlcoholConsumption</th>\n",
       "      <th>PhysicalActivity</th>\n",
       "      <th>DietQuality</th>\n",
       "      <th>...</th>\n",
       "      <th>MemoryComplaints</th>\n",
       "      <th>BehavioralProblems</th>\n",
       "      <th>ADL</th>\n",
       "      <th>Confusion</th>\n",
       "      <th>Disorientation</th>\n",
       "      <th>PersonalityChanges</th>\n",
       "      <th>DifficultyCompletingTasks</th>\n",
       "      <th>Forgetfulness</th>\n",
       "      <th>Diagnosis</th>\n",
       "      <th>DoctorInCharge</th>\n",
       "    </tr>\n",
       "  </thead>\n",
       "  <tbody>\n",
       "    <tr>\n",
       "      <th>613</th>\n",
       "      <td>5364</td>\n",
       "      <td>61</td>\n",
       "      <td>1</td>\n",
       "      <td>1</td>\n",
       "      <td>0</td>\n",
       "      <td>29.270540</td>\n",
       "      <td>0</td>\n",
       "      <td>14.782028</td>\n",
       "      <td>7.315484</td>\n",
       "      <td>2.976619</td>\n",
       "      <td>...</td>\n",
       "      <td>1</td>\n",
       "      <td>0</td>\n",
       "      <td>0.775005</td>\n",
       "      <td>0</td>\n",
       "      <td>1</td>\n",
       "      <td>0</td>\n",
       "      <td>0</td>\n",
       "      <td>0</td>\n",
       "      <td>1</td>\n",
       "      <td>XXXConfid</td>\n",
       "    </tr>\n",
       "    <tr>\n",
       "      <th>1018</th>\n",
       "      <td>5769</td>\n",
       "      <td>81</td>\n",
       "      <td>1</td>\n",
       "      <td>0</td>\n",
       "      <td>0</td>\n",
       "      <td>34.641073</td>\n",
       "      <td>0</td>\n",
       "      <td>7.383103</td>\n",
       "      <td>2.473479</td>\n",
       "      <td>5.280584</td>\n",
       "      <td>...</td>\n",
       "      <td>0</td>\n",
       "      <td>0</td>\n",
       "      <td>3.389056</td>\n",
       "      <td>0</td>\n",
       "      <td>0</td>\n",
       "      <td>0</td>\n",
       "      <td>0</td>\n",
       "      <td>0</td>\n",
       "      <td>0</td>\n",
       "      <td>XXXConfid</td>\n",
       "    </tr>\n",
       "    <tr>\n",
       "      <th>264</th>\n",
       "      <td>5015</td>\n",
       "      <td>81</td>\n",
       "      <td>0</td>\n",
       "      <td>1</td>\n",
       "      <td>0</td>\n",
       "      <td>22.923111</td>\n",
       "      <td>0</td>\n",
       "      <td>9.314832</td>\n",
       "      <td>8.917378</td>\n",
       "      <td>3.807813</td>\n",
       "      <td>...</td>\n",
       "      <td>0</td>\n",
       "      <td>1</td>\n",
       "      <td>8.681801</td>\n",
       "      <td>0</td>\n",
       "      <td>0</td>\n",
       "      <td>0</td>\n",
       "      <td>0</td>\n",
       "      <td>0</td>\n",
       "      <td>1</td>\n",
       "      <td>XXXConfid</td>\n",
       "    </tr>\n",
       "    <tr>\n",
       "      <th>1758</th>\n",
       "      <td>6509</td>\n",
       "      <td>62</td>\n",
       "      <td>0</td>\n",
       "      <td>0</td>\n",
       "      <td>2</td>\n",
       "      <td>23.587924</td>\n",
       "      <td>0</td>\n",
       "      <td>1.236318</td>\n",
       "      <td>0.666426</td>\n",
       "      <td>3.360432</td>\n",
       "      <td>...</td>\n",
       "      <td>0</td>\n",
       "      <td>0</td>\n",
       "      <td>3.983733</td>\n",
       "      <td>1</td>\n",
       "      <td>0</td>\n",
       "      <td>0</td>\n",
       "      <td>0</td>\n",
       "      <td>0</td>\n",
       "      <td>0</td>\n",
       "      <td>XXXConfid</td>\n",
       "    </tr>\n",
       "    <tr>\n",
       "      <th>1441</th>\n",
       "      <td>6192</td>\n",
       "      <td>80</td>\n",
       "      <td>1</td>\n",
       "      <td>3</td>\n",
       "      <td>2</td>\n",
       "      <td>23.715891</td>\n",
       "      <td>1</td>\n",
       "      <td>12.339372</td>\n",
       "      <td>5.970801</td>\n",
       "      <td>1.625098</td>\n",
       "      <td>...</td>\n",
       "      <td>0</td>\n",
       "      <td>0</td>\n",
       "      <td>2.744058</td>\n",
       "      <td>0</td>\n",
       "      <td>0</td>\n",
       "      <td>0</td>\n",
       "      <td>0</td>\n",
       "      <td>1</td>\n",
       "      <td>0</td>\n",
       "      <td>XXXConfid</td>\n",
       "    </tr>\n",
       "  </tbody>\n",
       "</table>\n",
       "<p>5 rows × 35 columns</p>\n",
       "</div>"
      ],
      "text/plain": [
       "      PatientID  Age  Gender  Ethnicity  EducationLevel        BMI  Smoking  \\\n",
       "613        5364   61       1          1               0  29.270540        0   \n",
       "1018       5769   81       1          0               0  34.641073        0   \n",
       "264        5015   81       0          1               0  22.923111        0   \n",
       "1758       6509   62       0          0               2  23.587924        0   \n",
       "1441       6192   80       1          3               2  23.715891        1   \n",
       "\n",
       "      AlcoholConsumption  PhysicalActivity  DietQuality  ...  \\\n",
       "613            14.782028          7.315484     2.976619  ...   \n",
       "1018            7.383103          2.473479     5.280584  ...   \n",
       "264             9.314832          8.917378     3.807813  ...   \n",
       "1758            1.236318          0.666426     3.360432  ...   \n",
       "1441           12.339372          5.970801     1.625098  ...   \n",
       "\n",
       "      MemoryComplaints  BehavioralProblems       ADL  Confusion  \\\n",
       "613                  1                   0  0.775005          0   \n",
       "1018                 0                   0  3.389056          0   \n",
       "264                  0                   1  8.681801          0   \n",
       "1758                 0                   0  3.983733          1   \n",
       "1441                 0                   0  2.744058          0   \n",
       "\n",
       "      Disorientation  PersonalityChanges  DifficultyCompletingTasks  \\\n",
       "613                1                   0                          0   \n",
       "1018               0                   0                          0   \n",
       "264                0                   0                          0   \n",
       "1758               0                   0                          0   \n",
       "1441               0                   0                          0   \n",
       "\n",
       "      Forgetfulness  Diagnosis  DoctorInCharge  \n",
       "613               0          1       XXXConfid  \n",
       "1018              0          0       XXXConfid  \n",
       "264               0          1       XXXConfid  \n",
       "1758              0          0       XXXConfid  \n",
       "1441              1          0       XXXConfid  \n",
       "\n",
       "[5 rows x 35 columns]"
      ]
     },
     "execution_count": 8,
     "metadata": {},
     "output_type": "execute_result"
    }
   ],
   "source": [
    "df = df.sample(frac=0.25, random_state=10)\n",
    "print(\"Data loaded successfully!\")\n",
    "print(f\"DataFrame shape: {df.shape}\")\n",
    "print(\"\\nFirst 5 rows:\")\n",
    "df.head()"
   ]
  },
  {
   "cell_type": "markdown",
   "metadata": {
    "id": "ZY3l0-AxO93d"
   },
   "source": [
    "---"
   ]
  },
  {
   "cell_type": "markdown",
   "metadata": {
    "id": "uFQo3ycuO-v6"
   },
   "source": [
    "## **Section 2**"
   ]
  },
  {
   "cell_type": "markdown",
   "metadata": {},
   "source": [
    "### **Data Transformation**\n",
    "This section contains functions for transformer creation, pipeline code and light analysis."
   ]
  },
  {
   "cell_type": "markdown",
   "metadata": {},
   "source": [
    "---"
   ]
  },
  {
   "cell_type": "markdown",
   "metadata": {},
   "source": [
    "Check the current columns."
   ]
  },
  {
   "cell_type": "code",
   "execution_count": 9,
   "metadata": {},
   "outputs": [
    {
     "name": "stdout",
     "output_type": "stream",
     "text": [
      "Data loaded successfully!\n",
      "Available columns:\n",
      "['PatientID', 'Age', 'Gender', 'Ethnicity', 'EducationLevel', 'BMI', 'Smoking', 'AlcoholConsumption', 'PhysicalActivity', 'DietQuality', 'SleepQuality', 'FamilyHistoryAlzheimers', 'CardiovascularDisease', 'Diabetes', 'Depression', 'HeadInjury', 'Hypertension', 'SystolicBP', 'DiastolicBP', 'CholesterolTotal', 'CholesterolLDL', 'CholesterolHDL', 'CholesterolTriglycerides', 'MMSE', 'FunctionalAssessment', 'MemoryComplaints', 'BehavioralProblems', 'ADL', 'Confusion', 'Disorientation', 'PersonalityChanges', 'DifficultyCompletingTasks', 'Forgetfulness', 'Diagnosis', 'DoctorInCharge']\n"
     ]
    }
   ],
   "source": [
    "print(\"Data loaded successfully!\")\n",
    "print(\"Available columns:\")\n",
    "print(df.columns.tolist())"
   ]
  },
  {
   "cell_type": "markdown",
   "metadata": {},
   "source": [
    "Check the minimum values for numerical columns."
   ]
  },
  {
   "cell_type": "code",
   "execution_count": 10,
   "metadata": {},
   "outputs": [
    {
     "name": "stdout",
     "output_type": "stream",
     "text": [
      "Data loaded successfully!\n",
      "Minimum values for numerical columns:\n"
     ]
    },
    {
     "data": {
      "text/plain": [
       "Age                          60.000000\n",
       "Gender                        0.000000\n",
       "Ethnicity                     0.000000\n",
       "EducationLevel                0.000000\n",
       "BMI                          15.012071\n",
       "AlcoholConsumption            0.010504\n",
       "PhysicalActivity              0.007483\n",
       "DietQuality                   0.014332\n",
       "SleepQuality                  4.002629\n",
       "SystolicBP                   90.000000\n",
       "DiastolicBP                  60.000000\n",
       "CholesterolTotal            150.192183\n",
       "CholesterolLDL               50.400003\n",
       "CholesterolHDL               20.366771\n",
       "CholesterolTriglycerides     51.064227\n",
       "MMSE                          0.018022\n",
       "FunctionalAssessment          0.013211\n",
       "dtype: float64"
      ]
     },
     "execution_count": 10,
     "metadata": {},
     "output_type": "execute_result"
    }
   ],
   "source": [
    "print(\"Data loaded successfully!\")\n",
    "numerical_columns = [\"Age\", \"Gender\", \"Ethnicity\", \"EducationLevel\", \"BMI\", \"AlcoholConsumption\", \"PhysicalActivity\", \"DietQuality\", \"SleepQuality\", \"SystolicBP\", \"DiastolicBP\", \"CholesterolTotal\", \"CholesterolLDL\", \"CholesterolHDL\", \"CholesterolTriglycerides\", \"MMSE\", \"FunctionalAssessment\"]\n",
    "print(\"Minimum values for numerical columns:\")\n",
    "df[numerical_columns].min()"
   ]
  },
  {
   "cell_type": "markdown",
   "metadata": {},
   "source": [
    "Check the maximum values for numerical columns."
   ]
  },
  {
   "cell_type": "code",
   "execution_count": 11,
   "metadata": {},
   "outputs": [
    {
     "name": "stdout",
     "output_type": "stream",
     "text": [
      "Data loaded successfully!\n",
      "Maximum values for numerical columns:\n"
     ]
    },
    {
     "data": {
      "text/plain": [
       "Age                          90.000000\n",
       "Gender                        1.000000\n",
       "Ethnicity                     3.000000\n",
       "EducationLevel                3.000000\n",
       "BMI                          39.988513\n",
       "AlcoholConsumption           19.960888\n",
       "PhysicalActivity              9.987429\n",
       "DietQuality                   9.980281\n",
       "SleepQuality                  9.993039\n",
       "SystolicBP                  179.000000\n",
       "DiastolicBP                 119.000000\n",
       "CholesterolTotal            299.890133\n",
       "CholesterolLDL              199.965665\n",
       "CholesterolHDL               99.768955\n",
       "CholesterolTriglycerides    399.239711\n",
       "MMSE                         29.991381\n",
       "FunctionalAssessment          9.992610\n",
       "dtype: float64"
      ]
     },
     "execution_count": 11,
     "metadata": {},
     "output_type": "execute_result"
    }
   ],
   "source": [
    "print(\"Data loaded successfully!\")\n",
    "numerical_columns = [\"Age\", \"Gender\", \"Ethnicity\", \"EducationLevel\", \"BMI\", \"AlcoholConsumption\", \"PhysicalActivity\", \"DietQuality\", \"SleepQuality\", \"SystolicBP\", \"DiastolicBP\", \"CholesterolTotal\", \"CholesterolLDL\", \"CholesterolHDL\", \"CholesterolTriglycerides\", \"MMSE\", \"FunctionalAssessment\"]\n",
    "print(\"Maximum values for numerical columns:\")\n",
    "df[numerical_columns].max()"
   ]
  },
  {
   "cell_type": "markdown",
   "metadata": {},
   "source": [
    "Check for duplicates and retrieve their sum."
   ]
  },
  {
   "cell_type": "code",
   "execution_count": 12,
   "metadata": {},
   "outputs": [
    {
     "name": "stdout",
     "output_type": "stream",
     "text": [
      "Data loaded successfully!\n"
     ]
    },
    {
     "data": {
      "text/plain": [
       "np.int64(0)"
      ]
     },
     "execution_count": 12,
     "metadata": {},
     "output_type": "execute_result"
    }
   ],
   "source": [
    "print(\"Data loaded successfully!\")\n",
    "df.duplicated().sum()"
   ]
  },
  {
   "cell_type": "markdown",
   "metadata": {},
   "source": [
    "Check for null values and retrieve their sum."
   ]
  },
  {
   "cell_type": "code",
   "execution_count": 13,
   "metadata": {},
   "outputs": [
    {
     "name": "stdout",
     "output_type": "stream",
     "text": [
      "Data loaded successfully!\n"
     ]
    },
    {
     "data": {
      "text/plain": [
       "PatientID                    0\n",
       "Age                          0\n",
       "Gender                       0\n",
       "Ethnicity                    0\n",
       "EducationLevel               0\n",
       "BMI                          0\n",
       "Smoking                      0\n",
       "AlcoholConsumption           0\n",
       "PhysicalActivity             0\n",
       "DietQuality                  0\n",
       "SleepQuality                 0\n",
       "FamilyHistoryAlzheimers      0\n",
       "CardiovascularDisease        0\n",
       "Diabetes                     0\n",
       "Depression                   0\n",
       "HeadInjury                   0\n",
       "Hypertension                 0\n",
       "SystolicBP                   0\n",
       "DiastolicBP                  0\n",
       "CholesterolTotal             0\n",
       "CholesterolLDL               0\n",
       "CholesterolHDL               0\n",
       "CholesterolTriglycerides     0\n",
       "MMSE                         0\n",
       "FunctionalAssessment         0\n",
       "MemoryComplaints             0\n",
       "BehavioralProblems           0\n",
       "ADL                          0\n",
       "Confusion                    0\n",
       "Disorientation               0\n",
       "PersonalityChanges           0\n",
       "DifficultyCompletingTasks    0\n",
       "Forgetfulness                0\n",
       "Diagnosis                    0\n",
       "DoctorInCharge               0\n",
       "dtype: int64"
      ]
     },
     "execution_count": 13,
     "metadata": {},
     "output_type": "execute_result"
    }
   ],
   "source": [
    "print(\"Data loaded successfully!\")\n",
    "df.isnull().sum()"
   ]
  },
  {
   "cell_type": "markdown",
   "metadata": {},
   "source": [
    "Create code to populate categorical columns with integer values with their string counterparts."
   ]
  },
  {
   "cell_type": "code",
   "execution_count": 14,
   "metadata": {},
   "outputs": [
    {
     "name": "stdout",
     "output_type": "stream",
     "text": [
      "Data loaded successfully!\n",
      "DataFrame shape: (537, 35)\n"
     ]
    },
    {
     "data": {
      "text/html": [
       "<div>\n",
       "<style scoped>\n",
       "    .dataframe tbody tr th:only-of-type {\n",
       "        vertical-align: middle;\n",
       "    }\n",
       "\n",
       "    .dataframe tbody tr th {\n",
       "        vertical-align: top;\n",
       "    }\n",
       "\n",
       "    .dataframe thead th {\n",
       "        text-align: right;\n",
       "    }\n",
       "</style>\n",
       "<table border=\"1\" class=\"dataframe\">\n",
       "  <thead>\n",
       "    <tr style=\"text-align: right;\">\n",
       "      <th></th>\n",
       "      <th>PatientID</th>\n",
       "      <th>Age</th>\n",
       "      <th>Gender</th>\n",
       "      <th>Ethnicity</th>\n",
       "      <th>EducationLevel</th>\n",
       "      <th>BMI</th>\n",
       "      <th>Smoking</th>\n",
       "      <th>AlcoholConsumption</th>\n",
       "      <th>PhysicalActivity</th>\n",
       "      <th>DietQuality</th>\n",
       "      <th>...</th>\n",
       "      <th>MemoryComplaints</th>\n",
       "      <th>BehavioralProblems</th>\n",
       "      <th>ADL</th>\n",
       "      <th>Confusion</th>\n",
       "      <th>Disorientation</th>\n",
       "      <th>PersonalityChanges</th>\n",
       "      <th>DifficultyCompletingTasks</th>\n",
       "      <th>Forgetfulness</th>\n",
       "      <th>Diagnosis</th>\n",
       "      <th>DoctorInCharge</th>\n",
       "    </tr>\n",
       "  </thead>\n",
       "  <tbody>\n",
       "    <tr>\n",
       "      <th>613</th>\n",
       "      <td>5364</td>\n",
       "      <td>61</td>\n",
       "      <td>Female</td>\n",
       "      <td>African American</td>\n",
       "      <td>0</td>\n",
       "      <td>29.270540</td>\n",
       "      <td>No</td>\n",
       "      <td>14.782028</td>\n",
       "      <td>7.315484</td>\n",
       "      <td>2.976619</td>\n",
       "      <td>...</td>\n",
       "      <td>Yes</td>\n",
       "      <td>No</td>\n",
       "      <td>0.775005</td>\n",
       "      <td>0</td>\n",
       "      <td>1</td>\n",
       "      <td>No</td>\n",
       "      <td>No</td>\n",
       "      <td>0</td>\n",
       "      <td>Dementia</td>\n",
       "      <td>XXXConfid</td>\n",
       "    </tr>\n",
       "    <tr>\n",
       "      <th>1018</th>\n",
       "      <td>5769</td>\n",
       "      <td>81</td>\n",
       "      <td>Female</td>\n",
       "      <td>Caucasian</td>\n",
       "      <td>0</td>\n",
       "      <td>34.641073</td>\n",
       "      <td>No</td>\n",
       "      <td>7.383103</td>\n",
       "      <td>2.473479</td>\n",
       "      <td>5.280584</td>\n",
       "      <td>...</td>\n",
       "      <td>No</td>\n",
       "      <td>No</td>\n",
       "      <td>3.389056</td>\n",
       "      <td>0</td>\n",
       "      <td>0</td>\n",
       "      <td>No</td>\n",
       "      <td>No</td>\n",
       "      <td>0</td>\n",
       "      <td>No Dementia</td>\n",
       "      <td>XXXConfid</td>\n",
       "    </tr>\n",
       "    <tr>\n",
       "      <th>264</th>\n",
       "      <td>5015</td>\n",
       "      <td>81</td>\n",
       "      <td>Male</td>\n",
       "      <td>African American</td>\n",
       "      <td>0</td>\n",
       "      <td>22.923111</td>\n",
       "      <td>No</td>\n",
       "      <td>9.314832</td>\n",
       "      <td>8.917378</td>\n",
       "      <td>3.807813</td>\n",
       "      <td>...</td>\n",
       "      <td>No</td>\n",
       "      <td>Yes</td>\n",
       "      <td>8.681801</td>\n",
       "      <td>0</td>\n",
       "      <td>0</td>\n",
       "      <td>No</td>\n",
       "      <td>No</td>\n",
       "      <td>0</td>\n",
       "      <td>Dementia</td>\n",
       "      <td>XXXConfid</td>\n",
       "    </tr>\n",
       "    <tr>\n",
       "      <th>1758</th>\n",
       "      <td>6509</td>\n",
       "      <td>62</td>\n",
       "      <td>Male</td>\n",
       "      <td>Caucasian</td>\n",
       "      <td>2</td>\n",
       "      <td>23.587924</td>\n",
       "      <td>No</td>\n",
       "      <td>1.236318</td>\n",
       "      <td>0.666426</td>\n",
       "      <td>3.360432</td>\n",
       "      <td>...</td>\n",
       "      <td>No</td>\n",
       "      <td>No</td>\n",
       "      <td>3.983733</td>\n",
       "      <td>1</td>\n",
       "      <td>0</td>\n",
       "      <td>No</td>\n",
       "      <td>No</td>\n",
       "      <td>0</td>\n",
       "      <td>No Dementia</td>\n",
       "      <td>XXXConfid</td>\n",
       "    </tr>\n",
       "    <tr>\n",
       "      <th>1441</th>\n",
       "      <td>6192</td>\n",
       "      <td>80</td>\n",
       "      <td>Female</td>\n",
       "      <td>Other</td>\n",
       "      <td>2</td>\n",
       "      <td>23.715891</td>\n",
       "      <td>Yes</td>\n",
       "      <td>12.339372</td>\n",
       "      <td>5.970801</td>\n",
       "      <td>1.625098</td>\n",
       "      <td>...</td>\n",
       "      <td>No</td>\n",
       "      <td>No</td>\n",
       "      <td>2.744058</td>\n",
       "      <td>0</td>\n",
       "      <td>0</td>\n",
       "      <td>No</td>\n",
       "      <td>No</td>\n",
       "      <td>1</td>\n",
       "      <td>No Dementia</td>\n",
       "      <td>XXXConfid</td>\n",
       "    </tr>\n",
       "  </tbody>\n",
       "</table>\n",
       "<p>5 rows × 35 columns</p>\n",
       "</div>"
      ],
      "text/plain": [
       "      PatientID  Age  Gender         Ethnicity  EducationLevel        BMI  \\\n",
       "613        5364   61  Female  African American               0  29.270540   \n",
       "1018       5769   81  Female         Caucasian               0  34.641073   \n",
       "264        5015   81    Male  African American               0  22.923111   \n",
       "1758       6509   62    Male         Caucasian               2  23.587924   \n",
       "1441       6192   80  Female             Other               2  23.715891   \n",
       "\n",
       "     Smoking  AlcoholConsumption  PhysicalActivity  DietQuality  ...  \\\n",
       "613       No           14.782028          7.315484     2.976619  ...   \n",
       "1018      No            7.383103          2.473479     5.280584  ...   \n",
       "264       No            9.314832          8.917378     3.807813  ...   \n",
       "1758      No            1.236318          0.666426     3.360432  ...   \n",
       "1441     Yes           12.339372          5.970801     1.625098  ...   \n",
       "\n",
       "      MemoryComplaints  BehavioralProblems       ADL  Confusion  \\\n",
       "613                Yes                  No  0.775005          0   \n",
       "1018                No                  No  3.389056          0   \n",
       "264                 No                 Yes  8.681801          0   \n",
       "1758                No                  No  3.983733          1   \n",
       "1441                No                  No  2.744058          0   \n",
       "\n",
       "     Disorientation  PersonalityChanges  DifficultyCompletingTasks  \\\n",
       "613               1                  No                         No   \n",
       "1018              0                  No                         No   \n",
       "264               0                  No                         No   \n",
       "1758              0                  No                         No   \n",
       "1441              0                  No                         No   \n",
       "\n",
       "      Forgetfulness    Diagnosis  DoctorInCharge  \n",
       "613               0     Dementia       XXXConfid  \n",
       "1018              0  No Dementia       XXXConfid  \n",
       "264               0     Dementia       XXXConfid  \n",
       "1758              0  No Dementia       XXXConfid  \n",
       "1441              1  No Dementia       XXXConfid  \n",
       "\n",
       "[5 rows x 35 columns]"
      ]
     },
     "execution_count": 14,
     "metadata": {},
     "output_type": "execute_result"
    }
   ],
   "source": [
    "print(\"Data loaded successfully!\")\n",
    "# Replace values in categorical columns for better readability\n",
    "# Gender mapping\n",
    "if \"Gender\" in df.columns:\n",
    "    df[\"Gender\"] = df[\"Gender\"].replace({0: \"Male\", 1: \"Female\"})\n",
    "\n",
    "# Ethnicity mapping\n",
    "if \"Ethnicity\" in df.columns:\n",
    "    df[\"Ethnicity\"] = df[\"Ethnicity\"].replace({\n",
    "        0: \"Caucasian\", 1: \"African American\", 2: \"Asian\", 3: \"Other\"\n",
    "    })\n",
    "\n",
    "# Binary columns (0/1 to No/Yes)\n",
    "binary_cols = [\"Smoking\", \"CardiovascularDisease\", \"Depression\", \n",
    "               \"MemoryComplaints\", \"BehavioralProblems\", \"PersonalityChanges\", \n",
    "               \"DifficultyCompletingTasks\"]\n",
    "\n",
    "for col in binary_cols:\n",
    "    if col in df.columns:\n",
    "        df[col] = df[col].replace({0: \"No\", 1: \"Yes\"})\n",
    "\n",
    "# Diagnosis mapping\n",
    "if \"Diagnosis\" in df.columns:\n",
    "    df[\"Diagnosis\"] = df[\"Diagnosis\"].replace({0: \"No Dementia\", 1: \"Dementia\"})\n",
    "print(f\"DataFrame shape: {df.shape}\")\n",
    "df.head()"
   ]
  },
  {
   "cell_type": "markdown",
   "metadata": {},
   "source": [
    "Create functions to load into transformers."
   ]
  },
  {
   "cell_type": "code",
   "execution_count": 15,
   "metadata": {},
   "outputs": [],
   "source": [
    "# Drop specific columns\n",
    "def drop_columns(df):\n",
    "    return df.drop(columns=[\"EducationLevel\", \"SleepQuality\", \"FamilyHistoryAlzheimers\", \"Diabetes\", \"HeadInjury\", \"Hypertension\", \"SystolicBP\", \"DiastolicBP\", \"CholesterolLDL\", \"CholesterolHDL\", \"CholesterolTriglycerides\", \"Confusion\", \"Disorientation\", \"Forgetfulness\", \"DoctorInCharge\"], errors=\"ignore\")\n",
    "\n",
    "# Change column locations\n",
    "def change_column_location(df):\n",
    "    new_column_order = [\"PatientID\", \"Age\", \"Gender\", \"Ethnicity\", \"BMI\", \"DietQuality\", \"PhysicalActivity\", \"Smoking\", \"AlcoholConsumption\", \"CardiovascularDisease\", \"CholesterolTotal\", \"FunctionalAssessment\", \"ADL\", \"MMSE\", \"MemoryComplaints\", \"BehavioralProblems\", \"PersonalityChanges\", \"DifficultyCompletingTasks\", \"Depression\", \"Diagnosis\"]\n",
    "    # Only include columns that actually exist in the dataframe\n",
    "    existing_columns = [col for col in new_column_order if col in df.columns]\n",
    "    return df[existing_columns]\n",
    "\n",
    "# Convert data types\n",
    "def convert_data_types(df):\n",
    "    if \"PatientID\" in df.columns:\n",
    "        df[\"PatientID\"] = df[\"PatientID\"].astype(int)\n",
    "    if \"Age\" in df.columns:\n",
    "        df[\"Age\"] = df[\"Age\"].astype(int)\n",
    "    if \"Gender\" in df.columns:\n",
    "        df[\"Gender\"] = df[\"Gender\"].astype(str)\n",
    "    if \"Ethnicity\" in df.columns:\n",
    "        df[\"Ethnicity\"] = df[\"Ethnicity\"].astype(str)\n",
    "    if \"BMI\" in df.columns:\n",
    "        df[\"BMI\"] = df[\"BMI\"].astype(float)\n",
    "    if \"Smoking\" in df.columns:\n",
    "        df[\"Smoking\"] = df[\"Smoking\"].astype(str)\n",
    "    if \"AlcoholConsumption\" in df.columns:\n",
    "        df[\"AlcoholConsumption\"] = df[\"AlcoholConsumption\"].astype(float)\n",
    "    if \"PhysicalActivity\" in df.columns:\n",
    "        df[\"PhysicalActivity\"] = df[\"PhysicalActivity\"].astype(int)\n",
    "    if \"DietQuality\" in df.columns:\n",
    "        df[\"DietQuality\"] = df[\"DietQuality\"].astype(str)\n",
    "    if \"CardiovascularDisease\" in df.columns:\n",
    "        df[\"CardiovascularDisease\"] = df[\"CardiovascularDisease\"].astype(str)\n",
    "    if \"Depression\" in df.columns:\n",
    "        df[\"Depression\"] = df[\"Depression\"].astype(str)\n",
    "    if \"CholesterolTotal\" in df.columns:\n",
    "        df[\"CholesterolTotal\"] = df[\"CholesterolTotal\"].astype(float)\n",
    "    if \"MMSE\" in df.columns:\n",
    "        df[\"MMSE\"] = df[\"MMSE\"].astype(float)\n",
    "    if \"FunctionalAssessment\" in df.columns:\n",
    "        df[\"FunctionalAssessment\"] = df[\"FunctionalAssessment\"].astype(int)\n",
    "    if \"MemoryComplaints\" in df.columns:\n",
    "        df[\"MemoryComplaints\"] = df[\"MemoryComplaints\"].astype(str)\n",
    "    if \"BehavioralProblems\" in df.columns:\n",
    "        df[\"BehavioralProblems\"] = df[\"BehavioralProblems\"].astype(str)\n",
    "    if \"ADL\" in df.columns:\n",
    "        df[\"ADL\"] = df[\"ADL\"].astype(float)\n",
    "    if \"PersonalityChanges\" in df.columns:\n",
    "        df[\"PersonalityChanges\"] = df[\"PersonalityChanges\"].astype(str)\n",
    "    if \"DifficultyCompletingTasks\" in df.columns:\n",
    "        df[\"DifficultyCompletingTasks\"] = df[\"DifficultyCompletingTasks\"].astype(str)\n",
    "    if \"Diagnosis\" in df.columns:\n",
    "        df[\"Diagnosis\"] = df[\"Diagnosis\"].astype(str)\n",
    "    return df\n",
    "\n",
    "# Remove outliers using IQR method\n",
    "def remove_outliers(df):\n",
    "    columns = [\"BMI\", \"CholesterolTotal\"]\n",
    "    df_cleaned = df.copy()\n",
    "    for col in columns:\n",
    "        if col in df_cleaned.columns: \n",
    "            Q1 = df_cleaned[col].quantile(0.25)\n",
    "            Q3 = df_cleaned[col].quantile(0.75)\n",
    "            IQR = Q3 - Q1\n",
    "            mask = (df_cleaned[col] >= Q1 - 1.5 * IQR) & (df_cleaned[col] <= Q3 + 1.5 * IQR)\n",
    "            df_cleaned = df_cleaned[mask]  \n",
    "    return df_cleaned\n",
    "\n",
    "# Scale numerical values and encode categorical values\n",
    "scaling_transformer = ColumnTransformer([\n",
    "    (\"num\", StandardScaler(), [\"Patient_Age\", \"BMI\", \"Alcohol_Consumption\", \"Physical_Activity\", \"Cholesterol_Total\", \"MMSE\", \"Functional_Assessment\", \"Activities_Of_Daily_Living\"]), \n",
    "    (\"cat\", OneHotEncoder(drop=\"first\", handle_unknown=\"ignore\"), [\"Gender\", \"Ethnicity\", \"Smoking\", \"Cardiovascular_Disease\", \"Depression\", \"Memory_Complaints\", \"Behavioral_Problems\", \"Personality_Changes\", \"Difficulty_Completing_Tasks\"])  \n",
    "])\n",
    "\n",
    "# Rename columns\n",
    "def rename_columns(df):\n",
    "    return df.rename(columns={\n",
    "        \"PatientID\": \"Patient_ID\",\n",
    "        \"Age\": \"Patient_Age\",\n",
    "        \"AlcoholConsumption\": \"Alcohol_Consumption\",\n",
    "        \"PhysicalActivity\": \"Physical_Activity\",\n",
    "        \"DietQuality\": \"Diet_Quality\",\n",
    "        \"CardiovascularDisease\": \"Cardiovascular_Disease\",\n",
    "        \"CholesterolTotal\": \"Cholesterol_Total\",\n",
    "        \"FunctionalAssessment\": \"Functional_Assessment\",\n",
    "        \"MemoryComplaints\": \"Memory_Complaints\",\n",
    "        \"BehavioralProblems\": \"Behavioral_Problems\",\n",
    "        \"ADL\": \"Activities_Of_Daily_Living\",\n",
    "        \"PersonalityChanges\": \"Personality_Changes\",\n",
    "        \"DifficultyCompletingTasks\": \"Difficulty_Completing_Tasks\",  \n",
    "    })\n",
    "\n",
    "# Drop missing values\n",
    "def drop_missing_values(df):\n",
    "    return df.dropna()\n",
    "\n",
    "# Remove duplicates\n",
    "def remove_duplicates(df):\n",
    "    return df.drop_duplicates()\n",
    "\n",
    "# Round numerical values to 2 decimal places\n",
    "def round_values(df):\n",
    "    return df.round(2)\n",
    "\n",
    "# Capitalize column names with proper acronym handling\n",
    "def capitalize_columns(df):\n",
    "    def smart_title(text):\n",
    "        # Common acronyms that should stay uppercase\n",
    "        acronyms = {\n",
    "            \"bmi\": \"BMI\",\n",
    "            \"mmse\": \"MMSE\", \n",
    "            \"adl\": \"ADL\",\n",
    "            \"id\": \"ID\"\n",
    "        }\n",
    "        \n",
    "        # Split by underscore and process each part\n",
    "        parts = text.split(\"_\")\n",
    "        result_parts = []\n",
    "        \n",
    "        for part in parts:\n",
    "            lower_part = part.lower()\n",
    "            if lower_part in acronyms:\n",
    "                result_parts.append(acronyms[lower_part])\n",
    "            else:\n",
    "                result_parts.append(part.title())\n",
    "        \n",
    "        return \"_\".join(result_parts)\n",
    "    \n",
    "    df.columns = [smart_title(col) for col in df.columns]\n",
    "    return df"
   ]
  },
  {
   "cell_type": "markdown",
   "metadata": {},
   "source": [
    "Create the transformers."
   ]
  },
  {
   "cell_type": "code",
   "execution_count": 16,
   "metadata": {},
   "outputs": [],
   "source": [
    "# Define transformers\n",
    "change_column_location_transformer = FunctionTransformer(change_column_location)\n",
    "drop_columns_transformer = FunctionTransformer(drop_columns)\n",
    "convert_data_types_transformer = FunctionTransformer(convert_data_types)\n",
    "remove_outliers_transformer = FunctionTransformer(remove_outliers)\n",
    "rename_columns_transformer = FunctionTransformer(rename_columns)\n",
    "capitalize_columns_transformer = FunctionTransformer(capitalize_columns)\n",
    "drop_missing_values_transformer = FunctionTransformer(drop_missing_values)\n",
    "remove_duplicates_transformer = FunctionTransformer(remove_duplicates)\n",
    "round_values_transformer = FunctionTransformer(round_values)"
   ]
  },
  {
   "cell_type": "markdown",
   "metadata": {},
   "source": [
    "Create the pipeline."
   ]
  },
  {
   "cell_type": "code",
   "execution_count": 17,
   "metadata": {},
   "outputs": [],
   "source": [
    "# Create data cleaning pipeline\n",
    "data_cleaning_pipeline = Pipeline([\n",
    "    (\"drop_columns\", drop_columns_transformer),\n",
    "    (\"change_column_order\", change_column_location_transformer),\n",
    "    (\"convert_data_types\", convert_data_types_transformer),\n",
    "    (\"rename_columns\", rename_columns_transformer),\n",
    "    (\"capitalize_columns\", capitalize_columns_transformer),\n",
    "    (\"remove_outliers\", remove_outliers_transformer),\n",
    "    (\"drop_missing_values\", drop_missing_values_transformer),\n",
    "    (\"remove_duplicates\", remove_duplicates_transformer),\n",
    "    (\"round_values\", round_values_transformer)\n",
    "])"
   ]
  },
  {
   "cell_type": "markdown",
   "metadata": {},
   "source": [
    "Create advanced machine learning pipeline."
   ]
  },
  {
   "cell_type": "code",
   "execution_count": 18,
   "metadata": {},
   "outputs": [],
   "source": [
    "# Create advanced pipeline with scaling and encoding for machine learning\n",
    "# This pipeline should clean and preprocess data, rename columns, scale numerical features, encode categorical features and handle unknown categories\n",
    "data_cleaning_with_ml_pipeline = Pipeline([\n",
    "    (\"drop_columns\", drop_columns_transformer),\n",
    "    (\"change_column_order\", change_column_location_transformer),\n",
    "    (\"convert_data_types\", convert_data_types_transformer),\n",
    "    (\"rename_columns\", rename_columns_transformer),\n",
    "    (\"capitalize_columns\", capitalize_columns_transformer),\n",
    "    (\"remove_outliers\", remove_outliers_transformer),\n",
    "    (\"drop_missing_values\", drop_missing_values_transformer),\n",
    "    (\"remove_duplicates\", remove_duplicates_transformer),\n",
    "    (\"round_values\", round_values_transformer),  \n",
    "    (\"scale_and_encode\", scaling_transformer)\n",
    "])"
   ]
  },
  {
   "cell_type": "markdown",
   "metadata": {},
   "source": [
    "---"
   ]
  },
  {
   "cell_type": "markdown",
   "metadata": {},
   "source": [
    "## **Section 3**"
   ]
  },
  {
   "cell_type": "markdown",
   "metadata": {},
   "source": [
    "### **Data Loading** \n",
    "In this section, we fit both pipelines to two separate instances of the same dataframe, allowing for the transformation process to take place, and the creation of new datasets due for loading as new, cleaned CSV and txt documents."
   ]
  },
  {
   "cell_type": "markdown",
   "metadata": {},
   "source": [
    "---"
   ]
  },
  {
   "cell_type": "markdown",
   "metadata": {},
   "source": [
    "Fit the pipeline to the DataFrame."
   ]
  },
  {
   "cell_type": "code",
   "execution_count": 19,
   "metadata": {},
   "outputs": [
    {
     "name": "stdout",
     "output_type": "stream",
     "text": [
      "Data loaded successfully!\n",
      "Processed data shape: (537, 20)\n",
      "      Patient_ID  Patient_Age  Gender         Ethnicity    BMI  \\\n",
      "613         5364           61  Female  African American  29.27   \n",
      "1018        5769           81  Female         Caucasian  34.64   \n",
      "264         5015           81    Male  African American  22.92   \n",
      "1758        6509           62    Male         Caucasian  23.59   \n",
      "1441        6192           80  Female             Other  23.72   \n",
      "\n",
      "            Diet_Quality  Physical_Activity Smoking  Alcohol_Consumption  \\\n",
      "613    2.976618872327678                  7      No                14.78   \n",
      "1018   5.280583737322621                  2      No                 7.38   \n",
      "264    3.807813179139379                  8      No                 9.31   \n",
      "1758   3.360431588390945                  0      No                 1.24   \n",
      "1441  1.6250982585740548                  5     Yes                12.34   \n",
      "\n",
      "     Cardiovascular_Disease  Cholesterol_Total  Functional_Assessment  \\\n",
      "613                     Yes             172.68                      8   \n",
      "1018                     No             264.95                      7   \n",
      "264                      No             283.13                      4   \n",
      "1758                    Yes             202.64                      5   \n",
      "1441                     No             264.40                      7   \n",
      "\n",
      "      Activities_Of_Daily_Living   MMSE Memory_Complaints Behavioral_Problems  \\\n",
      "613                         0.78   4.88               Yes                  No   \n",
      "1018                        3.39   9.99                No                  No   \n",
      "264                         8.68   1.11                No                 Yes   \n",
      "1758                        3.98  18.39                No                  No   \n",
      "1441                        2.74  24.10                No                  No   \n",
      "\n",
      "     Personality_Changes Difficulty_Completing_Tasks Depression    Diagnosis  \n",
      "613                   No                          No         No     Dementia  \n",
      "1018                  No                          No         No  No Dementia  \n",
      "264                   No                          No         No     Dementia  \n",
      "1758                  No                          No         No  No Dementia  \n",
      "1441                  No                          No        Yes  No Dementia  \n"
     ]
    }
   ],
   "source": [
    "# Apply the pipeline to original dataframe\n",
    "processed_df = data_cleaning_pipeline.fit_transform(df)\n",
    "print(\"Data loaded successfully!\")\n",
    "print(f\"Processed data shape: {processed_df.shape}\")\n",
    "print(processed_df.head())"
   ]
  },
  {
   "cell_type": "markdown",
   "metadata": {},
   "source": [
    "Check the current column list after fitting pipeline."
   ]
  },
  {
   "cell_type": "code",
   "execution_count": 20,
   "metadata": {},
   "outputs": [
    {
     "name": "stdout",
     "output_type": "stream",
     "text": [
      "Data loaded successfully!\n",
      "Processed DataFrame columns: ['Patient_ID', 'Patient_Age', 'Gender', 'Ethnicity', 'BMI', 'Diet_Quality', 'Physical_Activity', 'Smoking', 'Alcohol_Consumption', 'Cardiovascular_Disease', 'Cholesterol_Total', 'Functional_Assessment', 'Activities_Of_Daily_Living', 'MMSE', 'Memory_Complaints', 'Behavioral_Problems', 'Personality_Changes', 'Difficulty_Completing_Tasks', 'Depression', 'Diagnosis']\n"
     ]
    }
   ],
   "source": [
    "print(\"Data loaded successfully!\")\n",
    "print(\"Processed DataFrame columns:\", processed_df.columns.tolist())"
   ]
  },
  {
   "cell_type": "markdown",
   "metadata": {},
   "source": [
    "fit the machine learning pipeline."
   ]
  },
  {
   "cell_type": "code",
   "execution_count": 21,
   "metadata": {},
   "outputs": [
    {
     "name": "stdout",
     "output_type": "stream",
     "text": [
      "Data loaded successfully!\n",
      "Scaled data shape: (537, 19)\n",
      "[[-1.48929421  0.22219164  0.81923202 ...  0.          0.\n",
      "   0.        ]\n",
      " [ 0.6818772   0.9683131  -0.47266499 ...  0.          0.\n",
      "   0.        ]\n",
      " [ 0.6818772  -0.66009352 -0.13572428 ...  1.          0.\n",
      "   0.        ]\n",
      " ...\n",
      " [ 1.65890434  0.46534109 -0.21428559 ...  0.          1.\n",
      "   0.        ]\n",
      " [-0.51226707  0.46256224 -1.54459034 ...  0.          0.\n",
      "   0.        ]\n",
      " [-1.05505993 -0.51420385  1.25568371 ...  0.          0.\n",
      "   0.        ]]\n"
     ]
    }
   ],
   "source": [
    "# Apply the ML pipeline to original dataframe\n",
    "scaled_encoded_df = data_cleaning_with_ml_pipeline.fit_transform(df)\n",
    "print(\"Data loaded successfully!\")\n",
    "print(f\"Scaled data shape: {scaled_encoded_df.shape}\")\n",
    "print(scaled_encoded_df)"
   ]
  },
  {
   "cell_type": "markdown",
   "metadata": {},
   "source": [
    "Load both previously created dataframes to separate CSV files."
   ]
  },
  {
   "cell_type": "code",
   "execution_count": null,
   "metadata": {},
   "outputs": [],
   "source": [
    "# Save the processed datasets\n",
    "processed_df.to_csv(\"outputs/processed_alzheimers_disease_data_unscaled_and_unencoded.csv\", index=False)\n",
    "np.savetxt(\"outputs/processed_alzheimers_disease_data_scaled_and_encoded.csv\", \n",
    "           scaled_encoded_df, delimiter=\",\", fmt=\"%.6f\")\n",
    "print(\"Files saved to outputs folder!\")"
   ]
  },
  {
   "cell_type": "markdown",
   "metadata": {},
   "source": [
    "---"
   ]
  },
  {
   "cell_type": "markdown",
   "metadata": {},
   "source": [
    "## **Section 4**"
   ]
  },
  {
   "cell_type": "code",
   "execution_count": null,
   "metadata": {},
   "outputs": [],
   "source": [
    "section 4\n",
    "notes"
   ]
  },
  {
   "cell_type": "markdown",
   "metadata": {},
   "source": [
    "---"
   ]
  },
  {
   "cell_type": "markdown",
   "metadata": {},
   "source": [
    "Data Analysis Core Concepts\n",
    "Mean\n",
    "The mean, which may also be considered as the average, is a measure in statistics that notes data centricity and as such relays the most commonly occuring value within a given set of figures. When considering a set of numbers, its defintion relates to the most \"typical\" value within that set. With calculating the mean, we add all figures together, and divide this by the total count of these numeric figures. The mean is important in data anlysis as it allows for the summarization of the typical value or tendency of a dataset. It can allow for understanding of central tendency.\n",
    "Median \n",
    "The basic definition of the mean in statistics is the central value that lies between two extremes. The median is calculated simply by choosing the middle number with an odd set, and by finding the mean of two of the central numbers with an even set. It splits data in two, with either pool lying on the side, towards, or away from either extreme, depending on direction to or from the median. The mean is important to data analysis as it allows for the central deduction of a dataset, lying less prone to extremes, in comparison to the mean. It may be better able to deduce central tendency in some instances, where compared to the mean.\n",
    "Standard Deviation\n",
    "The standard deviation is a statistic that measures the variation values about the mean of a variable (on either side). Low or small standard deviation indicates that values fluctuate more closely to the mean, whereas high or large standard deviation notes that values lie more dispered from the mean. To find it, we subtract the mean from the data points and then square these differences and find the mean of this. This is the variance. We then find the square root of this. Standard deviation is important in data analysis as it helps us better understand the spread of data about a mean, allowing for findings of consistency or variability.\n",
    "Hypothesis Testing\n",
    "Hypothesis testing in statistics is where we employ inference to support or reject a particular hypothesis. When carrying these out, we may draw up hypotheses, null (default asumption) and alternative (contradictory to null hypothesis), and use the following method: deduce a value of rejection towards the null hypothesis (sginificance level) and calculate the value of a chosen test statistic (z-test, t-test etc.). Where the attained value lies within a \"critical\" region, we may reject the null hypothesis.\n",
    "Basic Probability\n",
    "Basic porbability defines a measure of change, where 0 (0%) is of no likelihood of occurence and 1 (100%) is of definite likelihood. We find the probability by dividing all favourable outcomes by all possible outcomes. In data analytics, probability can allow for the quantification of uncertainty and as such aid in assessing risks and help make predictions."
   ]
  },
  {
   "cell_type": "markdown",
   "metadata": {},
   "source": [
    "Call the processed DataFrame."
   ]
  },
  {
   "cell_type": "code",
   "execution_count": 64,
   "metadata": {},
   "outputs": [
    {
     "data": {
      "text/html": [
       "<div>\n",
       "<style scoped>\n",
       "    .dataframe tbody tr th:only-of-type {\n",
       "        vertical-align: middle;\n",
       "    }\n",
       "\n",
       "    .dataframe tbody tr th {\n",
       "        vertical-align: top;\n",
       "    }\n",
       "\n",
       "    .dataframe thead th {\n",
       "        text-align: right;\n",
       "    }\n",
       "</style>\n",
       "<table border=\"1\" class=\"dataframe\">\n",
       "  <thead>\n",
       "    <tr style=\"text-align: right;\">\n",
       "      <th></th>\n",
       "      <th>Patient_Age</th>\n",
       "      <th>Gender</th>\n",
       "      <th>Ethnicity</th>\n",
       "      <th>BMI</th>\n",
       "      <th>Diet_Quality</th>\n",
       "      <th>Physical_Activity</th>\n",
       "      <th>Smoking</th>\n",
       "      <th>Alcohol_Consumption</th>\n",
       "      <th>Cardiovascular_Disease</th>\n",
       "      <th>Cholesterol_Total</th>\n",
       "      <th>Functional_Assessment</th>\n",
       "      <th>Activities_Of_Daily_Living</th>\n",
       "      <th>MMSE</th>\n",
       "      <th>Memory_Complaints</th>\n",
       "      <th>Behavioral_Problems</th>\n",
       "      <th>Personality_Changes</th>\n",
       "      <th>Difficulty_Completing_Tasks</th>\n",
       "      <th>Depression</th>\n",
       "      <th>Diagnosis</th>\n",
       "    </tr>\n",
       "  </thead>\n",
       "  <tbody>\n",
       "    <tr>\n",
       "      <th>613</th>\n",
       "      <td>61</td>\n",
       "      <td>Female</td>\n",
       "      <td>African American</td>\n",
       "      <td>29.27</td>\n",
       "      <td>2.976618872327678</td>\n",
       "      <td>7</td>\n",
       "      <td>No</td>\n",
       "      <td>14.78</td>\n",
       "      <td>Yes</td>\n",
       "      <td>172.68</td>\n",
       "      <td>8</td>\n",
       "      <td>0.78</td>\n",
       "      <td>4.88</td>\n",
       "      <td>Yes</td>\n",
       "      <td>No</td>\n",
       "      <td>No</td>\n",
       "      <td>No</td>\n",
       "      <td>No</td>\n",
       "      <td>Dementia</td>\n",
       "    </tr>\n",
       "    <tr>\n",
       "      <th>1018</th>\n",
       "      <td>81</td>\n",
       "      <td>Female</td>\n",
       "      <td>Caucasian</td>\n",
       "      <td>34.64</td>\n",
       "      <td>5.280583737322621</td>\n",
       "      <td>2</td>\n",
       "      <td>No</td>\n",
       "      <td>7.38</td>\n",
       "      <td>No</td>\n",
       "      <td>264.95</td>\n",
       "      <td>7</td>\n",
       "      <td>3.39</td>\n",
       "      <td>9.99</td>\n",
       "      <td>No</td>\n",
       "      <td>No</td>\n",
       "      <td>No</td>\n",
       "      <td>No</td>\n",
       "      <td>No</td>\n",
       "      <td>No Dementia</td>\n",
       "    </tr>\n",
       "    <tr>\n",
       "      <th>264</th>\n",
       "      <td>81</td>\n",
       "      <td>Male</td>\n",
       "      <td>African American</td>\n",
       "      <td>22.92</td>\n",
       "      <td>3.807813179139379</td>\n",
       "      <td>8</td>\n",
       "      <td>No</td>\n",
       "      <td>9.31</td>\n",
       "      <td>No</td>\n",
       "      <td>283.13</td>\n",
       "      <td>4</td>\n",
       "      <td>8.68</td>\n",
       "      <td>1.11</td>\n",
       "      <td>No</td>\n",
       "      <td>Yes</td>\n",
       "      <td>No</td>\n",
       "      <td>No</td>\n",
       "      <td>No</td>\n",
       "      <td>Dementia</td>\n",
       "    </tr>\n",
       "    <tr>\n",
       "      <th>1758</th>\n",
       "      <td>62</td>\n",
       "      <td>Male</td>\n",
       "      <td>Caucasian</td>\n",
       "      <td>23.59</td>\n",
       "      <td>3.360431588390945</td>\n",
       "      <td>0</td>\n",
       "      <td>No</td>\n",
       "      <td>1.24</td>\n",
       "      <td>Yes</td>\n",
       "      <td>202.64</td>\n",
       "      <td>5</td>\n",
       "      <td>3.98</td>\n",
       "      <td>18.39</td>\n",
       "      <td>No</td>\n",
       "      <td>No</td>\n",
       "      <td>No</td>\n",
       "      <td>No</td>\n",
       "      <td>No</td>\n",
       "      <td>No Dementia</td>\n",
       "    </tr>\n",
       "    <tr>\n",
       "      <th>1441</th>\n",
       "      <td>80</td>\n",
       "      <td>Female</td>\n",
       "      <td>Other</td>\n",
       "      <td>23.72</td>\n",
       "      <td>1.6250982585740548</td>\n",
       "      <td>5</td>\n",
       "      <td>Yes</td>\n",
       "      <td>12.34</td>\n",
       "      <td>No</td>\n",
       "      <td>264.40</td>\n",
       "      <td>7</td>\n",
       "      <td>2.74</td>\n",
       "      <td>24.10</td>\n",
       "      <td>No</td>\n",
       "      <td>No</td>\n",
       "      <td>No</td>\n",
       "      <td>No</td>\n",
       "      <td>Yes</td>\n",
       "      <td>No Dementia</td>\n",
       "    </tr>\n",
       "  </tbody>\n",
       "</table>\n",
       "</div>"
      ],
      "text/plain": [
       "      Patient_Age  Gender         Ethnicity    BMI        Diet_Quality  \\\n",
       "613            61  Female  African American  29.27   2.976618872327678   \n",
       "1018           81  Female         Caucasian  34.64   5.280583737322621   \n",
       "264            81    Male  African American  22.92   3.807813179139379   \n",
       "1758           62    Male         Caucasian  23.59   3.360431588390945   \n",
       "1441           80  Female             Other  23.72  1.6250982585740548   \n",
       "\n",
       "      Physical_Activity Smoking  Alcohol_Consumption Cardiovascular_Disease  \\\n",
       "613                   7      No                14.78                    Yes   \n",
       "1018                  2      No                 7.38                     No   \n",
       "264                   8      No                 9.31                     No   \n",
       "1758                  0      No                 1.24                    Yes   \n",
       "1441                  5     Yes                12.34                     No   \n",
       "\n",
       "      Cholesterol_Total  Functional_Assessment  Activities_Of_Daily_Living  \\\n",
       "613              172.68                      8                        0.78   \n",
       "1018             264.95                      7                        3.39   \n",
       "264              283.13                      4                        8.68   \n",
       "1758             202.64                      5                        3.98   \n",
       "1441             264.40                      7                        2.74   \n",
       "\n",
       "       MMSE Memory_Complaints Behavioral_Problems Personality_Changes  \\\n",
       "613    4.88               Yes                  No                  No   \n",
       "1018   9.99                No                  No                  No   \n",
       "264    1.11                No                 Yes                  No   \n",
       "1758  18.39                No                  No                  No   \n",
       "1441  24.10                No                  No                  No   \n",
       "\n",
       "     Difficulty_Completing_Tasks Depression    Diagnosis  \n",
       "613                           No         No     Dementia  \n",
       "1018                          No         No  No Dementia  \n",
       "264                           No         No     Dementia  \n",
       "1758                          No         No  No Dementia  \n",
       "1441                          No        Yes  No Dementia  "
      ]
     },
     "execution_count": 64,
     "metadata": {},
     "output_type": "execute_result"
    }
   ],
   "source": [
    "processed_df.head()"
   ]
  },
  {
   "cell_type": "markdown",
   "metadata": {},
   "source": [
    "Calculate key statistical measures for numerical variables to understand data distribution and central tendencies."
   ]
  },
  {
   "cell_type": "code",
   "execution_count": 63,
   "metadata": {},
   "outputs": [
    {
     "name": "stdout",
     "output_type": "stream",
     "text": [
      "From this summary, there are a few insights we can infer, such as a relatively high BMI\n",
      "\n",
      "======================================================================\n",
      "COMPREHENSIVE STATISTICAL SUMMARY\n",
      "======================================================================\n",
      "\n",
      "Statistical Summary for Numerical Variables:\n",
      "----------------------------------------------------------------------\n",
      "                                Mean   Median    Variance  Std_Deviation  \\\n",
      "Activities_Of_Daily_Living     5.038     5.08       8.971          2.995   \n",
      "Alcohol_Consumption           10.087    10.14      32.871          5.733   \n",
      "BMI                           27.671    27.38      51.897          7.204   \n",
      "Cholesterol_Total            224.557   224.53    1861.925         43.150   \n",
      "Functional_Assessment          4.618     5.00       8.296          2.880   \n",
      "MMSE                          14.724    14.39      76.333          8.737   \n",
      "Patient_Age                   74.719    75.00      85.012          9.220   \n",
      "Patient_ID                  5830.492  5812.00  410116.303        640.403   \n",
      "Physical_Activity              4.575     5.00       8.260          2.874   \n",
      "\n",
      "                               Min     Max   Range  \n",
      "Activities_Of_Daily_Living    0.01    9.96    9.95  \n",
      "Alcohol_Consumption           0.01   19.96   19.95  \n",
      "BMI                          15.01   39.99   24.98  \n",
      "Cholesterol_Total           150.19  299.89  149.70  \n",
      "Functional_Assessment         0.00    9.00    9.00  \n",
      "MMSE                          0.02   29.99   29.97  \n",
      "Patient_Age                  60.00   90.00   30.00  \n",
      "Patient_ID                     NaN     NaN     NaN  \n",
      "Physical_Activity             0.00    9.00    9.00  \n"
     ]
    }
   ],
   "source": [
    "print(\"From this summary, there are a few insights we can infer, such as a relatively high BMI\")\n",
    "\n",
    "cols_list = [\"Patient_Age\", \"BMI\", \"Physical_Activity\", \"Alcohol_Consumption\", \"Cholesterol_Total\", \"Functional_Assessment\", \"Activities_Of_Daily_Living\", \"MMSE\"]\n",
    "\n",
    "# Print a title and a border\n",
    "print(\"\\n\" + \"=\" * 70)\n",
    "print(\"COMPREHENSIVE STATISTICAL SUMMARY\")\n",
    "print(\"=\" * 70)\n",
    "\n",
    "# Create a summary dataframe for better visualisation\n",
    "stats_summary = pd.DataFrame({\n",
    "    'Mean': means,\n",
    "    'Median': medians,\n",
    "    'Variance': variances,\n",
    "    'Std_Deviation': std_devs,\n",
    "    'Min': processed_df[cols_list].min(),\n",
    "    'Max': processed_df[cols_list].max(),\n",
    "    'Range': processed_df[cols_list].max() - processed_df[cols_list].min()\n",
    "}).round(3)\n",
    "\n",
    "print(\"\\nStatistical Summary for Numerical Variables:\")\n",
    "print(\"-\" * 70)\n",
    "print(stats_summary)"
   ]
  },
  {
   "cell_type": "code",
   "execution_count": 47,
   "metadata": {},
   "outputs": [
    {
     "name": "stdout",
     "output_type": "stream",
     "text": [
      "['Patient_Age', 'BMI', 'Physical_Activity', 'Alcohol_Consumption', 'Cholesterol_Total', 'Functional_Assessment', 'Activities_Of_Daily_Living', 'MMSE']\n"
     ]
    }
   ],
   "source": [
    "cols_list = [\"Patient_Age\", \"BMI\", \"Physical_Activity\", \"Alcohol_Consumption\", \"Cholesterol_Total\", \"Functional_Assessment\", \"Activities_Of_Daily_Living\", \"MMSE\"]\n",
    "cols = [col for col in cols_list if col in processed_df.columns]\n",
    "print(cols)"
   ]
  },
  {
   "cell_type": "markdown",
   "metadata": {},
   "source": [
    "---"
   ]
  },
  {
   "cell_type": "markdown",
   "metadata": {},
   "source": [
    "Section 5\n",
    "visualisations and why I choose these"
   ]
  },
  {
   "cell_type": "markdown",
   "metadata": {},
   "source": [
    "Call the processed DataFrame."
   ]
  },
  {
   "cell_type": "code",
   "execution_count": 23,
   "metadata": {},
   "outputs": [
    {
     "data": {
      "text/html": [
       "<div>\n",
       "<style scoped>\n",
       "    .dataframe tbody tr th:only-of-type {\n",
       "        vertical-align: middle;\n",
       "    }\n",
       "\n",
       "    .dataframe tbody tr th {\n",
       "        vertical-align: top;\n",
       "    }\n",
       "\n",
       "    .dataframe thead th {\n",
       "        text-align: right;\n",
       "    }\n",
       "</style>\n",
       "<table border=\"1\" class=\"dataframe\">\n",
       "  <thead>\n",
       "    <tr style=\"text-align: right;\">\n",
       "      <th></th>\n",
       "      <th>Patient_ID</th>\n",
       "      <th>Patient_Age</th>\n",
       "      <th>Gender</th>\n",
       "      <th>Ethnicity</th>\n",
       "      <th>BMI</th>\n",
       "      <th>Diet_Quality</th>\n",
       "      <th>Physical_Activity</th>\n",
       "      <th>Smoking</th>\n",
       "      <th>Alcohol_Consumption</th>\n",
       "      <th>Cardiovascular_Disease</th>\n",
       "      <th>Cholesterol_Total</th>\n",
       "      <th>Functional_Assessment</th>\n",
       "      <th>Activities_Of_Daily_Living</th>\n",
       "      <th>MMSE</th>\n",
       "      <th>Memory_Complaints</th>\n",
       "      <th>Behavioral_Problems</th>\n",
       "      <th>Personality_Changes</th>\n",
       "      <th>Difficulty_Completing_Tasks</th>\n",
       "      <th>Depression</th>\n",
       "      <th>Diagnosis</th>\n",
       "    </tr>\n",
       "  </thead>\n",
       "  <tbody>\n",
       "    <tr>\n",
       "      <th>613</th>\n",
       "      <td>5364</td>\n",
       "      <td>61</td>\n",
       "      <td>Female</td>\n",
       "      <td>African American</td>\n",
       "      <td>29.27</td>\n",
       "      <td>2.976618872327678</td>\n",
       "      <td>7</td>\n",
       "      <td>No</td>\n",
       "      <td>14.78</td>\n",
       "      <td>Yes</td>\n",
       "      <td>172.68</td>\n",
       "      <td>8</td>\n",
       "      <td>0.78</td>\n",
       "      <td>4.88</td>\n",
       "      <td>Yes</td>\n",
       "      <td>No</td>\n",
       "      <td>No</td>\n",
       "      <td>No</td>\n",
       "      <td>No</td>\n",
       "      <td>Dementia</td>\n",
       "    </tr>\n",
       "    <tr>\n",
       "      <th>1018</th>\n",
       "      <td>5769</td>\n",
       "      <td>81</td>\n",
       "      <td>Female</td>\n",
       "      <td>Caucasian</td>\n",
       "      <td>34.64</td>\n",
       "      <td>5.280583737322621</td>\n",
       "      <td>2</td>\n",
       "      <td>No</td>\n",
       "      <td>7.38</td>\n",
       "      <td>No</td>\n",
       "      <td>264.95</td>\n",
       "      <td>7</td>\n",
       "      <td>3.39</td>\n",
       "      <td>9.99</td>\n",
       "      <td>No</td>\n",
       "      <td>No</td>\n",
       "      <td>No</td>\n",
       "      <td>No</td>\n",
       "      <td>No</td>\n",
       "      <td>No Dementia</td>\n",
       "    </tr>\n",
       "    <tr>\n",
       "      <th>264</th>\n",
       "      <td>5015</td>\n",
       "      <td>81</td>\n",
       "      <td>Male</td>\n",
       "      <td>African American</td>\n",
       "      <td>22.92</td>\n",
       "      <td>3.807813179139379</td>\n",
       "      <td>8</td>\n",
       "      <td>No</td>\n",
       "      <td>9.31</td>\n",
       "      <td>No</td>\n",
       "      <td>283.13</td>\n",
       "      <td>4</td>\n",
       "      <td>8.68</td>\n",
       "      <td>1.11</td>\n",
       "      <td>No</td>\n",
       "      <td>Yes</td>\n",
       "      <td>No</td>\n",
       "      <td>No</td>\n",
       "      <td>No</td>\n",
       "      <td>Dementia</td>\n",
       "    </tr>\n",
       "    <tr>\n",
       "      <th>1758</th>\n",
       "      <td>6509</td>\n",
       "      <td>62</td>\n",
       "      <td>Male</td>\n",
       "      <td>Caucasian</td>\n",
       "      <td>23.59</td>\n",
       "      <td>3.360431588390945</td>\n",
       "      <td>0</td>\n",
       "      <td>No</td>\n",
       "      <td>1.24</td>\n",
       "      <td>Yes</td>\n",
       "      <td>202.64</td>\n",
       "      <td>5</td>\n",
       "      <td>3.98</td>\n",
       "      <td>18.39</td>\n",
       "      <td>No</td>\n",
       "      <td>No</td>\n",
       "      <td>No</td>\n",
       "      <td>No</td>\n",
       "      <td>No</td>\n",
       "      <td>No Dementia</td>\n",
       "    </tr>\n",
       "    <tr>\n",
       "      <th>1441</th>\n",
       "      <td>6192</td>\n",
       "      <td>80</td>\n",
       "      <td>Female</td>\n",
       "      <td>Other</td>\n",
       "      <td>23.72</td>\n",
       "      <td>1.6250982585740548</td>\n",
       "      <td>5</td>\n",
       "      <td>Yes</td>\n",
       "      <td>12.34</td>\n",
       "      <td>No</td>\n",
       "      <td>264.40</td>\n",
       "      <td>7</td>\n",
       "      <td>2.74</td>\n",
       "      <td>24.10</td>\n",
       "      <td>No</td>\n",
       "      <td>No</td>\n",
       "      <td>No</td>\n",
       "      <td>No</td>\n",
       "      <td>Yes</td>\n",
       "      <td>No Dementia</td>\n",
       "    </tr>\n",
       "  </tbody>\n",
       "</table>\n",
       "</div>"
      ],
      "text/plain": [
       "      Patient_ID  Patient_Age  Gender         Ethnicity    BMI  \\\n",
       "613         5364           61  Female  African American  29.27   \n",
       "1018        5769           81  Female         Caucasian  34.64   \n",
       "264         5015           81    Male  African American  22.92   \n",
       "1758        6509           62    Male         Caucasian  23.59   \n",
       "1441        6192           80  Female             Other  23.72   \n",
       "\n",
       "            Diet_Quality  Physical_Activity Smoking  Alcohol_Consumption  \\\n",
       "613    2.976618872327678                  7      No                14.78   \n",
       "1018   5.280583737322621                  2      No                 7.38   \n",
       "264    3.807813179139379                  8      No                 9.31   \n",
       "1758   3.360431588390945                  0      No                 1.24   \n",
       "1441  1.6250982585740548                  5     Yes                12.34   \n",
       "\n",
       "     Cardiovascular_Disease  Cholesterol_Total  Functional_Assessment  \\\n",
       "613                     Yes             172.68                      8   \n",
       "1018                     No             264.95                      7   \n",
       "264                      No             283.13                      4   \n",
       "1758                    Yes             202.64                      5   \n",
       "1441                     No             264.40                      7   \n",
       "\n",
       "      Activities_Of_Daily_Living   MMSE Memory_Complaints Behavioral_Problems  \\\n",
       "613                         0.78   4.88               Yes                  No   \n",
       "1018                        3.39   9.99                No                  No   \n",
       "264                         8.68   1.11                No                 Yes   \n",
       "1758                        3.98  18.39                No                  No   \n",
       "1441                        2.74  24.10                No                  No   \n",
       "\n",
       "     Personality_Changes Difficulty_Completing_Tasks Depression    Diagnosis  \n",
       "613                   No                          No         No     Dementia  \n",
       "1018                  No                          No         No  No Dementia  \n",
       "264                   No                          No         No     Dementia  \n",
       "1758                  No                          No         No  No Dementia  \n",
       "1441                  No                          No        Yes  No Dementia  "
      ]
     },
     "execution_count": 23,
     "metadata": {},
     "output_type": "execute_result"
    }
   ],
   "source": [
    "processed_df.head()"
   ]
  },
  {
   "cell_type": "markdown",
   "metadata": {},
   "source": []
  },
  {
   "cell_type": "code",
   "execution_count": null,
   "metadata": {},
   "outputs": [
    {
     "name": "stdout",
     "output_type": "stream",
     "text": [
      "\n",
      "======================================================================\n",
      "COMPREHENSIVE STATISTICAL SUMMARY\n",
      "======================================================================\n",
      "\n",
      "Statistical Summary for All Numerical Variables:\n",
      "----------------------------------------------------------------------\n",
      "                                Mean   Median    Variance  Std_Deviation  \\\n",
      "Patient_ID                  5830.492  5812.00  410116.303        640.403   \n",
      "Patient_Age                   74.719    75.00      85.012          9.220   \n",
      "BMI                           27.671    27.38      51.897          7.204   \n",
      "Physical_Activity              4.575     5.00       8.260          2.874   \n",
      "Alcohol_Consumption           10.087    10.14      32.871          5.733   \n",
      "Cholesterol_Total            224.557   224.53    1861.925         43.150   \n",
      "Functional_Assessment          4.618     5.00       8.296          2.880   \n",
      "Activities_Of_Daily_Living     5.038     5.08       8.971          2.995   \n",
      "MMSE                          14.724    14.39      76.333          8.737   \n",
      "\n",
      "                                Min      Max    Range  \n",
      "Patient_ID                  4752.00  6897.00  2145.00  \n",
      "Patient_Age                   60.00    90.00    30.00  \n",
      "BMI                           15.01    39.99    24.98  \n",
      "Physical_Activity              0.00     9.00     9.00  \n",
      "Alcohol_Consumption            0.01    19.96    19.95  \n",
      "Cholesterol_Total            150.19   299.89   149.70  \n",
      "Functional_Assessment          0.00     9.00     9.00  \n",
      "Activities_Of_Daily_Living     0.01     9.96     9.95  \n",
      "MMSE                           0.02    29.99    29.97  \n",
      "\n",
      "✅ Statistical summary saved to: ../outputs/statistical_summary.csv\n",
      "\n",
      "Dataset contains 9 numerical variables with 537 observations each.\n"
     ]
    }
   ],
   "source": []
  },
  {
   "cell_type": "markdown",
   "metadata": {},
   "source": [
    "---"
   ]
  },
  {
   "cell_type": "markdown",
   "metadata": {},
   "source": [
    "Matplotlib"
   ]
  },
  {
   "cell_type": "code",
   "execution_count": null,
   "metadata": {},
   "outputs": [],
   "source": []
  },
  {
   "cell_type": "markdown",
   "metadata": {},
   "source": [
    "Seaborn"
   ]
  },
  {
   "cell_type": "code",
   "execution_count": null,
   "metadata": {},
   "outputs": [],
   "source": []
  },
  {
   "cell_type": "markdown",
   "metadata": {},
   "source": [
    "Plotly"
   ]
  },
  {
   "cell_type": "markdown",
   "metadata": {},
   "source": [
    "methodology\n",
    "data collection, analysis and interpretation --- why specific research methodologies ---- experimental and observational for instance \n",
    "and certain data analysis techniques were chosen for project goals"
   ]
  },
  {
   "cell_type": "markdown",
   "metadata": {},
   "source": [
    "xgboost, altair and imbalancelearn - check requirements folder"
   ]
  },
  {
   "cell_type": "markdown",
   "metadata": {
    "id": "ltNetd085qHf"
   },
   "source": [
    "## **Conclusion**"
   ]
  },
  {
   "cell_type": "markdown",
   "metadata": {},
   "source": [
    "---"
   ]
  },
  {
   "cell_type": "markdown",
   "metadata": {},
   "source": [
    "ai -- document some eamples where Ai helped\n",
    "its use in addressing domain specific challengs  --- how has ai helped with ideation, assitance with streamlit integrations"
   ]
  },
  {
   "cell_type": "markdown",
   "metadata": {},
   "source": [
    "### **Notes** \n",
    "**Method Decisions**\n",
    "- Created the mapping and binary columns as the original data was populated with numerical values for all columns.\n",
    "- Dropped several columns as aim was to focus on particular parameters (health and lifestyle) and to afford a more simplistic, less technical, viewer/user friendly application.\n",
    "- Also extracted a fractioned/sampled DataFrame from the original at a random state for analysis purposes.\n",
    "\n",
    "**Challenges Faced**\n",
    "- Following package conflicts with packages like NumPy and Pandas the installation block was added as a precautionary measure.\n",
    "- Needed to install Jupyter dependencies within the notebook, as kernel kept dying; Python kernel was restarted, then the necessary packages were downloaded.\n",
    "- Pandas faced issues such as import errors and HTML errors; this was resolved via a Pandas update as well as using the print function. \n",
    "- can consder more datasets ---eidt\n",
    "- different techniques such as braoder range of visualisations\n",
    "-dataset size issue\n",
    "\n",
    "**Further Considerations**\n",
    "- Consider not to rule out further factors, such head injury, other potential comordid diseases such as diabetes, or family history (these were included in the orginal dataset).\n",
    "- Capitalize, drop missing values and remove duplicates were added for quality assurance purposes.\n",
    "\n"
   ]
  },
  {
   "cell_type": "code",
   "execution_count": null,
   "metadata": {},
   "outputs": [],
   "source": [
    "Reflection\n",
    "ethical considerations - data privacy, bias and fairness\n",
    "legal and social implications of data handling and findings -- ie gdpr"
   ]
  },
  {
   "cell_type": "markdown",
   "metadata": {},
   "source": []
  }
 ],
 "metadata": {
  "accelerator": "GPU",
  "colab": {
   "name": "Data Practitioner Jupyter Notebook.ipynb",
   "provenance": [],
   "toc_visible": true
  },
  "kernelspec": {
   "display_name": ".venv",
   "language": "python",
   "name": "python3"
  },
  "language_info": {
   "codemirror_mode": {
    "name": "ipython",
    "version": 3
   },
   "file_extension": ".py",
   "mimetype": "text/x-python",
   "name": "python",
   "nbconvert_exporter": "python",
   "pygments_lexer": "ipython3",
   "version": "3.12.8"
  },
  "orig_nbformat": 2
 },
 "nbformat": 4,
 "nbformat_minor": 2
}
