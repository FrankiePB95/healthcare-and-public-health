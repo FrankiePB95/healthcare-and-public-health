{
 "cells": [
  {
   "cell_type": "markdown",
   "metadata": {
    "id": "0aStgWSO0E0E"
   },
   "source": [
    "# **Data Cleaning, Manipulation and Analysis**"
   ]
  },
  {
   "cell_type": "markdown",
   "metadata": {},
   "source": [
    "---"
   ]
  },
  {
   "cell_type": "markdown",
   "metadata": {},
   "source": [
    "## Application of Data Analytics Within the Healthcare Industry"
   ]
  },
  {
   "cell_type": "markdown",
   "metadata": {},
   "source": [
    "Data Analytics serves a wide a a wide variety of uses within the healthcare field, from patient diagnosis to technology maintenance. Today the field of bioinfomatics is in full bloom and there looks to be an increase in analytical roles within the industry in the upcoming future. Professionals from doctors to healthcare assistants employ data analysis tools and more and more individuals are growing to realise just how vital its applications are."
   ]
  },
  {
   "cell_type": "markdown",
   "metadata": {
    "id": "1eLEkw5O0ECa"
   },
   "source": [
    "## **Objectives**\n",
    "\n",
    "The intention of this notebook was tri-fold: data cleaning, data transformation and data loading. Light analysis has also been carried out to better understand, extract and load data.\n",
    "\n",
    "### **Inputs**\n",
    "\n",
    "* Dataset retrieved from Kaggle (CSV file containing data regarding patients with, or potentially at risk of, Alzheimer's disease saved to inputs folder)\n",
    "\n",
    "### **Outputs**\n",
    "\n",
    "* Data cleaning pipeline (within this notebook)\n",
    "* Machine learning pipeline (within this notebook)\n",
    "* Cleaned data (CSV file extracted to outputs folder)\n",
    "* Data for machine learning (txt file extracted to outputs folder)\n",
    "\n",
    "### **Additional Comments**\n",
    "\n",
    "* Data was extracted from Kaggle with the source citation included in the README file.\n",
    "* Data was saved in its raw orginal form and then cleaned (a machine learning dataset with scaling and encoding was also created)."
   ]
  },
  {
   "cell_type": "markdown",
   "metadata": {},
   "source": [
    "---\n",
    "---"
   ]
  },
  {
   "cell_type": "markdown",
   "metadata": {},
   "source": [
    "##### **REMINDER**: \n",
    "All notebook cells should be run top-down (you can't create a dynamic where at a given point you need to go back to a previous cell to execute a task and then return to the cell you were working on)."
   ]
  },
  {
   "cell_type": "markdown",
   "metadata": {
    "id": "9uWZXH9LwoQg"
   },
   "source": [
    "---\n",
    "---"
   ]
  },
  {
   "cell_type": "markdown",
   "metadata": {},
   "source": [
    "## **Setup Information**"
   ]
  },
  {
   "cell_type": "markdown",
   "metadata": {},
   "source": [
    "---\n",
    "---"
   ]
  },
  {
   "cell_type": "markdown",
   "metadata": {},
   "source": [
    "#### **IMPORTANT**: \n",
    "Before running the cells below, you **MUST** restart the kernel!\n",
    "\n",
    "**This is because:**\n",
    "- Windows locks files that are currently in use.\n",
    "- NumPy is loaded in the current kernel session.\n",
    "- Restarting clears memory and releases file locks.\n",
    "\n",
    "**How to restart the kernel:**\n",
    "1. Click on the restart button above with the circular arrow before it\n",
    "2. Confirm the restart\n",
    "3. **Then** run the cells below in order"
   ]
  },
  {
   "cell_type": "markdown",
   "metadata": {},
   "source": [
    "---\n",
    "---"
   ]
  },
  {
   "cell_type": "markdown",
   "metadata": {
    "id": "cqP-UeN-z3i2"
   },
   "source": [
    "### **Change Working Directory**"
   ]
  },
  {
   "cell_type": "markdown",
   "metadata": {},
   "source": [
    "* When storing the notebooks in a subfolder to run in the editor, for projects such as these, it's best practice to change the working directory. \n",
    "* We need to change the working directory from its current folder to its parent folder."
   ]
  },
  {
   "cell_type": "code",
   "execution_count": 3,
   "metadata": {
    "id": "wZfF_j-Bz3i4",
    "outputId": "66943449-1436-4c3d-85c7-b85f9f78349b"
   },
   "outputs": [
    {
     "data": {
      "text/plain": [
       "'c:\\\\Users\\\\F_bee\\\\Documents\\\\vs-code\\\\vs-code-projects\\\\healthcare-and-public-health\\\\jupyter_notebooks'"
      ]
     },
     "execution_count": 3,
     "metadata": {},
     "output_type": "execute_result"
    }
   ],
   "source": [
    "# Access the current directory with os.getcwd()\n",
    "import os\n",
    "current_dir = os.getcwd()\n",
    "current_dir"
   ]
  },
  {
   "cell_type": "code",
   "execution_count": 4,
   "metadata": {
    "id": "TwHsQRWjz3i9",
    "outputId": "86849db3-cd2f-4cc5-ebb8-2d0caafa1a2c"
   },
   "outputs": [
    {
     "name": "stdout",
     "output_type": "stream",
     "text": [
      "You set a new current directory\n"
     ]
    }
   ],
   "source": [
    "# Make parent of current directory the new current directory\n",
    "# Use os.path.dirname() to get parent directory\n",
    "# Use os.chdir() to define new current directory\n",
    "os.chdir(os.path.dirname(current_dir))\n",
    "print(\"You set a new current directory\")"
   ]
  },
  {
   "cell_type": "code",
   "execution_count": 5,
   "metadata": {
    "id": "vz3S-_kjz3jA",
    "outputId": "00b79ae4-75d0-4a96-d193-ac9ef9847ea2"
   },
   "outputs": [
    {
     "data": {
      "text/plain": [
       "'c:\\\\Users\\\\F_bee\\\\Documents\\\\vs-code\\\\vs-code-projects\\\\healthcare-and-public-health'"
      ]
     },
     "execution_count": 5,
     "metadata": {},
     "output_type": "execute_result"
    }
   ],
   "source": [
    "# Confirm new current directory\n",
    "current_dir = os.getcwd()\n",
    "current_dir"
   ]
  },
  {
   "cell_type": "markdown",
   "metadata": {},
   "source": [
    "---"
   ]
  },
  {
   "cell_type": "markdown",
   "metadata": {},
   "source": [
    "### **Install Packages**"
   ]
  },
  {
   "cell_type": "markdown",
   "metadata": {},
   "source": [
    "---"
   ]
  },
  {
   "cell_type": "code",
   "execution_count": 6,
   "metadata": {},
   "outputs": [
    {
     "name": "stdout",
     "output_type": "stream",
     "text": [
      "Requirement already satisfied: numpy in c:\\users\\f_bee\\documents\\vs-code\\vs-code-projects\\healthcare-and-public-health\\.venv\\lib\\site-packages (2.3.2)\n",
      "Note: you may need to restart the kernel to use updated packages.\n"
     ]
    }
   ],
   "source": [
    "# Upgrade numpy (run after kernel restart)\n",
    "%pip install --upgrade numpy"
   ]
  },
  {
   "cell_type": "code",
   "execution_count": 7,
   "metadata": {},
   "outputs": [
    {
     "name": "stdout",
     "output_type": "stream",
     "text": [
      "Requirement already satisfied: pandas in c:\\users\\f_bee\\documents\\vs-code\\vs-code-projects\\healthcare-and-public-health\\.venv\\lib\\site-packages (2.3.1)\n",
      "Requirement already satisfied: matplotlib in c:\\users\\f_bee\\documents\\vs-code\\vs-code-projects\\healthcare-and-public-health\\.venv\\lib\\site-packages (3.10.5)\n",
      "Requirement already satisfied: seaborn in c:\\users\\f_bee\\documents\\vs-code\\vs-code-projects\\healthcare-and-public-health\\.venv\\lib\\site-packages (0.13.2)\n",
      "Requirement already satisfied: scikit-learn in c:\\users\\f_bee\\documents\\vs-code\\vs-code-projects\\healthcare-and-public-health\\.venv\\lib\\site-packages (1.7.1)\n",
      "Requirement already satisfied: plotly in c:\\users\\f_bee\\documents\\vs-code\\vs-code-projects\\healthcare-and-public-health\\.venv\\lib\\site-packages (6.2.0)\n",
      "Requirement already satisfied: feature-engine in c:\\users\\f_bee\\documents\\vs-code\\vs-code-projects\\healthcare-and-public-health\\.venv\\lib\\site-packages (1.8.3)\n",
      "Requirement already satisfied: numpy>=1.26.0 in c:\\users\\f_bee\\documents\\vs-code\\vs-code-projects\\healthcare-and-public-health\\.venv\\lib\\site-packages (from pandas) (2.3.2)\n",
      "Requirement already satisfied: python-dateutil>=2.8.2 in c:\\users\\f_bee\\documents\\vs-code\\vs-code-projects\\healthcare-and-public-health\\.venv\\lib\\site-packages (from pandas) (2.9.0.post0)\n",
      "Requirement already satisfied: pytz>=2020.1 in c:\\users\\f_bee\\documents\\vs-code\\vs-code-projects\\healthcare-and-public-health\\.venv\\lib\\site-packages (from pandas) (2025.2)\n",
      "Requirement already satisfied: tzdata>=2022.7 in c:\\users\\f_bee\\documents\\vs-code\\vs-code-projects\\healthcare-and-public-health\\.venv\\lib\\site-packages (from pandas) (2025.2)\n",
      "Requirement already satisfied: contourpy>=1.0.1 in c:\\users\\f_bee\\documents\\vs-code\\vs-code-projects\\healthcare-and-public-health\\.venv\\lib\\site-packages (from matplotlib) (1.3.3)\n",
      "Requirement already satisfied: cycler>=0.10 in c:\\users\\f_bee\\documents\\vs-code\\vs-code-projects\\healthcare-and-public-health\\.venv\\lib\\site-packages (from matplotlib) (0.12.1)\n",
      "Requirement already satisfied: fonttools>=4.22.0 in c:\\users\\f_bee\\documents\\vs-code\\vs-code-projects\\healthcare-and-public-health\\.venv\\lib\\site-packages (from matplotlib) (4.59.0)\n",
      "Requirement already satisfied: kiwisolver>=1.3.1 in c:\\users\\f_bee\\documents\\vs-code\\vs-code-projects\\healthcare-and-public-health\\.venv\\lib\\site-packages (from matplotlib) (1.4.8)\n",
      "Requirement already satisfied: packaging>=20.0 in c:\\users\\f_bee\\documents\\vs-code\\vs-code-projects\\healthcare-and-public-health\\.venv\\lib\\site-packages (from matplotlib) (25.0)\n",
      "Requirement already satisfied: pillow>=8 in c:\\users\\f_bee\\documents\\vs-code\\vs-code-projects\\healthcare-and-public-health\\.venv\\lib\\site-packages (from matplotlib) (11.3.0)\n",
      "Requirement already satisfied: pyparsing>=2.3.1 in c:\\users\\f_bee\\documents\\vs-code\\vs-code-projects\\healthcare-and-public-health\\.venv\\lib\\site-packages (from matplotlib) (3.2.3)\n",
      "Requirement already satisfied: scipy>=1.8.0 in c:\\users\\f_bee\\documents\\vs-code\\vs-code-projects\\healthcare-and-public-health\\.venv\\lib\\site-packages (from scikit-learn) (1.16.1)\n",
      "Requirement already satisfied: joblib>=1.2.0 in c:\\users\\f_bee\\documents\\vs-code\\vs-code-projects\\healthcare-and-public-health\\.venv\\lib\\site-packages (from scikit-learn) (1.5.1)\n",
      "Requirement already satisfied: threadpoolctl>=3.1.0 in c:\\users\\f_bee\\documents\\vs-code\\vs-code-projects\\healthcare-and-public-health\\.venv\\lib\\site-packages (from scikit-learn) (3.6.0)\n",
      "Requirement already satisfied: narwhals>=1.15.1 in c:\\users\\f_bee\\documents\\vs-code\\vs-code-projects\\healthcare-and-public-health\\.venv\\lib\\site-packages (from plotly) (2.0.1)\n",
      "Requirement already satisfied: statsmodels>=0.11.1 in c:\\users\\f_bee\\documents\\vs-code\\vs-code-projects\\healthcare-and-public-health\\.venv\\lib\\site-packages (from feature-engine) (0.14.5)\n",
      "Requirement already satisfied: six>=1.5 in c:\\users\\f_bee\\documents\\vs-code\\vs-code-projects\\healthcare-and-public-health\\.venv\\lib\\site-packages (from python-dateutil>=2.8.2->pandas) (1.17.0)\n",
      "Requirement already satisfied: patsy>=0.5.6 in c:\\users\\f_bee\\documents\\vs-code\\vs-code-projects\\healthcare-and-public-health\\.venv\\lib\\site-packages (from statsmodels>=0.11.1->feature-engine) (1.0.1)\n",
      "Note: you may need to restart the kernel to use updated packages.\n"
     ]
    }
   ],
   "source": [
    "# Install other packages (run after numpy upgrade)\n",
    "%pip install pandas matplotlib seaborn scikit-learn plotly feature-engine"
   ]
  },
  {
   "cell_type": "code",
   "execution_count": 8,
   "metadata": {},
   "outputs": [
    {
     "name": "stdout",
     "output_type": "stream",
     "text": [
      "All packages imported successfully!\n",
      "NumPy version: 2.3.2\n",
      "Pandas version: 2.3.1\n",
      "Matplotlib version: 3.10.5\n",
      "Seaborn version: 0.13.2\n",
      "Scikit-learn version: 1.7.1\n",
      "Plotly version: 6.2.0\n",
      "Feature-engine version: 1.8.3\n"
     ]
    }
   ],
   "source": [
    "# Test all imports (run after all packages installed)\n",
    "import numpy as np\n",
    "import pandas as pd\n",
    "import matplotlib as mb\n",
    "import matplotlib.pyplot as plt\n",
    "import plotly as pl\n",
    "import seaborn as sns\n",
    "import sklearn as sk\n",
    "from sklearn.preprocessing import FunctionTransformer\n",
    "from sklearn.pipeline import Pipeline\n",
    "from sklearn.compose import ColumnTransformer\n",
    "from sklearn.preprocessing import StandardScaler, OneHotEncoder\n",
    "import feature_engine as fe\n",
    "\n",
    "print(\"All packages imported successfully!\")\n",
    "print(f\"NumPy version: {np.__version__}\")\n",
    "print(f\"Pandas version: {pd.__version__}\")\n",
    "print(f\"Matplotlib version: {mb.__version__}\")\n",
    "print(f\"Seaborn version: {sns.__version__}\")\n",
    "print(f\"Scikit-learn version: {sk.__version__}\")\n",
    "print(f\"Plotly version: {pl.__version__}\")\n",
    "print(f\"Feature-engine version: {fe.__version__}\")"
   ]
  },
  {
   "cell_type": "markdown",
   "metadata": {},
   "source": [
    "---"
   ]
  },
  {
   "cell_type": "markdown",
   "metadata": {},
   "source": [
    "## **Section 1**"
   ]
  },
  {
   "cell_type": "markdown",
   "metadata": {},
   "source": [
    "### **Data Extraction**\n",
    "This section contains code for the loading of data."
   ]
  },
  {
   "cell_type": "markdown",
   "metadata": {},
   "source": [
    "---"
   ]
  },
  {
   "cell_type": "markdown",
   "metadata": {},
   "source": [
    "Extract the dataset from the inputs folder and load it to notebook as a DataFrame."
   ]
  },
  {
   "cell_type": "code",
   "execution_count": 9,
   "metadata": {},
   "outputs": [
    {
     "name": "stdout",
     "output_type": "stream",
     "text": [
      "Data loaded successfully!\n",
      "DataFrame shape: (2149, 35)\n"
     ]
    },
    {
     "data": {
      "text/html": [
       "<div>\n",
       "<style scoped>\n",
       "    .dataframe tbody tr th:only-of-type {\n",
       "        vertical-align: middle;\n",
       "    }\n",
       "\n",
       "    .dataframe tbody tr th {\n",
       "        vertical-align: top;\n",
       "    }\n",
       "\n",
       "    .dataframe thead th {\n",
       "        text-align: right;\n",
       "    }\n",
       "</style>\n",
       "<table border=\"1\" class=\"dataframe\">\n",
       "  <thead>\n",
       "    <tr style=\"text-align: right;\">\n",
       "      <th></th>\n",
       "      <th>PatientID</th>\n",
       "      <th>Age</th>\n",
       "      <th>Gender</th>\n",
       "      <th>Ethnicity</th>\n",
       "      <th>EducationLevel</th>\n",
       "      <th>BMI</th>\n",
       "      <th>Smoking</th>\n",
       "      <th>AlcoholConsumption</th>\n",
       "      <th>PhysicalActivity</th>\n",
       "      <th>DietQuality</th>\n",
       "      <th>...</th>\n",
       "      <th>MemoryComplaints</th>\n",
       "      <th>BehavioralProblems</th>\n",
       "      <th>ADL</th>\n",
       "      <th>Confusion</th>\n",
       "      <th>Disorientation</th>\n",
       "      <th>PersonalityChanges</th>\n",
       "      <th>DifficultyCompletingTasks</th>\n",
       "      <th>Forgetfulness</th>\n",
       "      <th>Diagnosis</th>\n",
       "      <th>DoctorInCharge</th>\n",
       "    </tr>\n",
       "  </thead>\n",
       "  <tbody>\n",
       "    <tr>\n",
       "      <th>0</th>\n",
       "      <td>4751</td>\n",
       "      <td>73</td>\n",
       "      <td>0</td>\n",
       "      <td>0</td>\n",
       "      <td>2</td>\n",
       "      <td>22.927749</td>\n",
       "      <td>0</td>\n",
       "      <td>13.297218</td>\n",
       "      <td>6.327112</td>\n",
       "      <td>1.347214</td>\n",
       "      <td>...</td>\n",
       "      <td>0</td>\n",
       "      <td>0</td>\n",
       "      <td>1.725883</td>\n",
       "      <td>0</td>\n",
       "      <td>0</td>\n",
       "      <td>0</td>\n",
       "      <td>1</td>\n",
       "      <td>0</td>\n",
       "      <td>0</td>\n",
       "      <td>XXXConfid</td>\n",
       "    </tr>\n",
       "    <tr>\n",
       "      <th>1</th>\n",
       "      <td>4752</td>\n",
       "      <td>89</td>\n",
       "      <td>0</td>\n",
       "      <td>0</td>\n",
       "      <td>0</td>\n",
       "      <td>26.827681</td>\n",
       "      <td>0</td>\n",
       "      <td>4.542524</td>\n",
       "      <td>7.619885</td>\n",
       "      <td>0.518767</td>\n",
       "      <td>...</td>\n",
       "      <td>0</td>\n",
       "      <td>0</td>\n",
       "      <td>2.592424</td>\n",
       "      <td>0</td>\n",
       "      <td>0</td>\n",
       "      <td>0</td>\n",
       "      <td>0</td>\n",
       "      <td>1</td>\n",
       "      <td>0</td>\n",
       "      <td>XXXConfid</td>\n",
       "    </tr>\n",
       "    <tr>\n",
       "      <th>2</th>\n",
       "      <td>4753</td>\n",
       "      <td>73</td>\n",
       "      <td>0</td>\n",
       "      <td>3</td>\n",
       "      <td>1</td>\n",
       "      <td>17.795882</td>\n",
       "      <td>0</td>\n",
       "      <td>19.555085</td>\n",
       "      <td>7.844988</td>\n",
       "      <td>1.826335</td>\n",
       "      <td>...</td>\n",
       "      <td>0</td>\n",
       "      <td>0</td>\n",
       "      <td>7.119548</td>\n",
       "      <td>0</td>\n",
       "      <td>1</td>\n",
       "      <td>0</td>\n",
       "      <td>1</td>\n",
       "      <td>0</td>\n",
       "      <td>0</td>\n",
       "      <td>XXXConfid</td>\n",
       "    </tr>\n",
       "    <tr>\n",
       "      <th>3</th>\n",
       "      <td>4754</td>\n",
       "      <td>74</td>\n",
       "      <td>1</td>\n",
       "      <td>0</td>\n",
       "      <td>1</td>\n",
       "      <td>33.800817</td>\n",
       "      <td>1</td>\n",
       "      <td>12.209266</td>\n",
       "      <td>8.428001</td>\n",
       "      <td>7.435604</td>\n",
       "      <td>...</td>\n",
       "      <td>0</td>\n",
       "      <td>1</td>\n",
       "      <td>6.481226</td>\n",
       "      <td>0</td>\n",
       "      <td>0</td>\n",
       "      <td>0</td>\n",
       "      <td>0</td>\n",
       "      <td>0</td>\n",
       "      <td>0</td>\n",
       "      <td>XXXConfid</td>\n",
       "    </tr>\n",
       "    <tr>\n",
       "      <th>4</th>\n",
       "      <td>4755</td>\n",
       "      <td>89</td>\n",
       "      <td>0</td>\n",
       "      <td>0</td>\n",
       "      <td>0</td>\n",
       "      <td>20.716974</td>\n",
       "      <td>0</td>\n",
       "      <td>18.454356</td>\n",
       "      <td>6.310461</td>\n",
       "      <td>0.795498</td>\n",
       "      <td>...</td>\n",
       "      <td>0</td>\n",
       "      <td>0</td>\n",
       "      <td>0.014691</td>\n",
       "      <td>0</td>\n",
       "      <td>0</td>\n",
       "      <td>1</td>\n",
       "      <td>1</td>\n",
       "      <td>0</td>\n",
       "      <td>0</td>\n",
       "      <td>XXXConfid</td>\n",
       "    </tr>\n",
       "    <tr>\n",
       "      <th>...</th>\n",
       "      <td>...</td>\n",
       "      <td>...</td>\n",
       "      <td>...</td>\n",
       "      <td>...</td>\n",
       "      <td>...</td>\n",
       "      <td>...</td>\n",
       "      <td>...</td>\n",
       "      <td>...</td>\n",
       "      <td>...</td>\n",
       "      <td>...</td>\n",
       "      <td>...</td>\n",
       "      <td>...</td>\n",
       "      <td>...</td>\n",
       "      <td>...</td>\n",
       "      <td>...</td>\n",
       "      <td>...</td>\n",
       "      <td>...</td>\n",
       "      <td>...</td>\n",
       "      <td>...</td>\n",
       "      <td>...</td>\n",
       "      <td>...</td>\n",
       "    </tr>\n",
       "    <tr>\n",
       "      <th>2144</th>\n",
       "      <td>6895</td>\n",
       "      <td>61</td>\n",
       "      <td>0</td>\n",
       "      <td>0</td>\n",
       "      <td>1</td>\n",
       "      <td>39.121757</td>\n",
       "      <td>0</td>\n",
       "      <td>1.561126</td>\n",
       "      <td>4.049964</td>\n",
       "      <td>6.555306</td>\n",
       "      <td>...</td>\n",
       "      <td>0</td>\n",
       "      <td>0</td>\n",
       "      <td>4.492838</td>\n",
       "      <td>1</td>\n",
       "      <td>0</td>\n",
       "      <td>0</td>\n",
       "      <td>0</td>\n",
       "      <td>0</td>\n",
       "      <td>1</td>\n",
       "      <td>XXXConfid</td>\n",
       "    </tr>\n",
       "    <tr>\n",
       "      <th>2145</th>\n",
       "      <td>6896</td>\n",
       "      <td>75</td>\n",
       "      <td>0</td>\n",
       "      <td>0</td>\n",
       "      <td>2</td>\n",
       "      <td>17.857903</td>\n",
       "      <td>0</td>\n",
       "      <td>18.767261</td>\n",
       "      <td>1.360667</td>\n",
       "      <td>2.904662</td>\n",
       "      <td>...</td>\n",
       "      <td>0</td>\n",
       "      <td>1</td>\n",
       "      <td>9.204952</td>\n",
       "      <td>0</td>\n",
       "      <td>0</td>\n",
       "      <td>0</td>\n",
       "      <td>0</td>\n",
       "      <td>0</td>\n",
       "      <td>1</td>\n",
       "      <td>XXXConfid</td>\n",
       "    </tr>\n",
       "    <tr>\n",
       "      <th>2146</th>\n",
       "      <td>6897</td>\n",
       "      <td>77</td>\n",
       "      <td>0</td>\n",
       "      <td>0</td>\n",
       "      <td>1</td>\n",
       "      <td>15.476479</td>\n",
       "      <td>0</td>\n",
       "      <td>4.594670</td>\n",
       "      <td>9.886002</td>\n",
       "      <td>8.120025</td>\n",
       "      <td>...</td>\n",
       "      <td>0</td>\n",
       "      <td>0</td>\n",
       "      <td>5.036334</td>\n",
       "      <td>0</td>\n",
       "      <td>0</td>\n",
       "      <td>0</td>\n",
       "      <td>0</td>\n",
       "      <td>0</td>\n",
       "      <td>1</td>\n",
       "      <td>XXXConfid</td>\n",
       "    </tr>\n",
       "    <tr>\n",
       "      <th>2147</th>\n",
       "      <td>6898</td>\n",
       "      <td>78</td>\n",
       "      <td>1</td>\n",
       "      <td>3</td>\n",
       "      <td>1</td>\n",
       "      <td>15.299911</td>\n",
       "      <td>0</td>\n",
       "      <td>8.674505</td>\n",
       "      <td>6.354282</td>\n",
       "      <td>1.263427</td>\n",
       "      <td>...</td>\n",
       "      <td>0</td>\n",
       "      <td>0</td>\n",
       "      <td>3.785399</td>\n",
       "      <td>0</td>\n",
       "      <td>0</td>\n",
       "      <td>0</td>\n",
       "      <td>0</td>\n",
       "      <td>1</td>\n",
       "      <td>1</td>\n",
       "      <td>XXXConfid</td>\n",
       "    </tr>\n",
       "    <tr>\n",
       "      <th>2148</th>\n",
       "      <td>6899</td>\n",
       "      <td>72</td>\n",
       "      <td>0</td>\n",
       "      <td>0</td>\n",
       "      <td>2</td>\n",
       "      <td>33.289738</td>\n",
       "      <td>0</td>\n",
       "      <td>7.890703</td>\n",
       "      <td>6.570993</td>\n",
       "      <td>7.941404</td>\n",
       "      <td>...</td>\n",
       "      <td>0</td>\n",
       "      <td>1</td>\n",
       "      <td>8.327563</td>\n",
       "      <td>0</td>\n",
       "      <td>1</td>\n",
       "      <td>0</td>\n",
       "      <td>0</td>\n",
       "      <td>1</td>\n",
       "      <td>0</td>\n",
       "      <td>XXXConfid</td>\n",
       "    </tr>\n",
       "  </tbody>\n",
       "</table>\n",
       "<p>2149 rows × 35 columns</p>\n",
       "</div>"
      ],
      "text/plain": [
       "      PatientID  Age  Gender  Ethnicity  EducationLevel        BMI  Smoking  \\\n",
       "0          4751   73       0          0               2  22.927749        0   \n",
       "1          4752   89       0          0               0  26.827681        0   \n",
       "2          4753   73       0          3               1  17.795882        0   \n",
       "3          4754   74       1          0               1  33.800817        1   \n",
       "4          4755   89       0          0               0  20.716974        0   \n",
       "...         ...  ...     ...        ...             ...        ...      ...   \n",
       "2144       6895   61       0          0               1  39.121757        0   \n",
       "2145       6896   75       0          0               2  17.857903        0   \n",
       "2146       6897   77       0          0               1  15.476479        0   \n",
       "2147       6898   78       1          3               1  15.299911        0   \n",
       "2148       6899   72       0          0               2  33.289738        0   \n",
       "\n",
       "      AlcoholConsumption  PhysicalActivity  DietQuality  ...  \\\n",
       "0              13.297218          6.327112     1.347214  ...   \n",
       "1               4.542524          7.619885     0.518767  ...   \n",
       "2              19.555085          7.844988     1.826335  ...   \n",
       "3              12.209266          8.428001     7.435604  ...   \n",
       "4              18.454356          6.310461     0.795498  ...   \n",
       "...                  ...               ...          ...  ...   \n",
       "2144            1.561126          4.049964     6.555306  ...   \n",
       "2145           18.767261          1.360667     2.904662  ...   \n",
       "2146            4.594670          9.886002     8.120025  ...   \n",
       "2147            8.674505          6.354282     1.263427  ...   \n",
       "2148            7.890703          6.570993     7.941404  ...   \n",
       "\n",
       "      MemoryComplaints  BehavioralProblems       ADL  Confusion  \\\n",
       "0                    0                   0  1.725883          0   \n",
       "1                    0                   0  2.592424          0   \n",
       "2                    0                   0  7.119548          0   \n",
       "3                    0                   1  6.481226          0   \n",
       "4                    0                   0  0.014691          0   \n",
       "...                ...                 ...       ...        ...   \n",
       "2144                 0                   0  4.492838          1   \n",
       "2145                 0                   1  9.204952          0   \n",
       "2146                 0                   0  5.036334          0   \n",
       "2147                 0                   0  3.785399          0   \n",
       "2148                 0                   1  8.327563          0   \n",
       "\n",
       "      Disorientation  PersonalityChanges  DifficultyCompletingTasks  \\\n",
       "0                  0                   0                          1   \n",
       "1                  0                   0                          0   \n",
       "2                  1                   0                          1   \n",
       "3                  0                   0                          0   \n",
       "4                  0                   1                          1   \n",
       "...              ...                 ...                        ...   \n",
       "2144               0                   0                          0   \n",
       "2145               0                   0                          0   \n",
       "2146               0                   0                          0   \n",
       "2147               0                   0                          0   \n",
       "2148               1                   0                          0   \n",
       "\n",
       "      Forgetfulness  Diagnosis  DoctorInCharge  \n",
       "0                 0          0       XXXConfid  \n",
       "1                 1          0       XXXConfid  \n",
       "2                 0          0       XXXConfid  \n",
       "3                 0          0       XXXConfid  \n",
       "4                 0          0       XXXConfid  \n",
       "...             ...        ...             ...  \n",
       "2144              0          1       XXXConfid  \n",
       "2145              0          1       XXXConfid  \n",
       "2146              0          1       XXXConfid  \n",
       "2147              1          1       XXXConfid  \n",
       "2148              1          0       XXXConfid  \n",
       "\n",
       "[2149 rows x 35 columns]"
      ]
     },
     "execution_count": 9,
     "metadata": {},
     "output_type": "execute_result"
    }
   ],
   "source": [
    "df = pd.read_csv(\"inputs/alzheimers_disease_data.csv\")\n",
    "print(\"Data loaded successfully!\")\n",
    "print(f\"DataFrame shape: {df.shape}\")\n",
    "df"
   ]
  },
  {
   "cell_type": "markdown",
   "metadata": {},
   "source": [
    "Create a random sample of the data. Consider the first 5 rows (head) throughout for better notebook observability."
   ]
  },
  {
   "cell_type": "code",
   "execution_count": 10,
   "metadata": {},
   "outputs": [
    {
     "name": "stdout",
     "output_type": "stream",
     "text": [
      "Data loaded successfully!\n",
      "DataFrame shape: (537, 35)\n",
      "\n",
      "First 5 rows:\n"
     ]
    },
    {
     "data": {
      "text/html": [
       "<div>\n",
       "<style scoped>\n",
       "    .dataframe tbody tr th:only-of-type {\n",
       "        vertical-align: middle;\n",
       "    }\n",
       "\n",
       "    .dataframe tbody tr th {\n",
       "        vertical-align: top;\n",
       "    }\n",
       "\n",
       "    .dataframe thead th {\n",
       "        text-align: right;\n",
       "    }\n",
       "</style>\n",
       "<table border=\"1\" class=\"dataframe\">\n",
       "  <thead>\n",
       "    <tr style=\"text-align: right;\">\n",
       "      <th></th>\n",
       "      <th>PatientID</th>\n",
       "      <th>Age</th>\n",
       "      <th>Gender</th>\n",
       "      <th>Ethnicity</th>\n",
       "      <th>EducationLevel</th>\n",
       "      <th>BMI</th>\n",
       "      <th>Smoking</th>\n",
       "      <th>AlcoholConsumption</th>\n",
       "      <th>PhysicalActivity</th>\n",
       "      <th>DietQuality</th>\n",
       "      <th>...</th>\n",
       "      <th>MemoryComplaints</th>\n",
       "      <th>BehavioralProblems</th>\n",
       "      <th>ADL</th>\n",
       "      <th>Confusion</th>\n",
       "      <th>Disorientation</th>\n",
       "      <th>PersonalityChanges</th>\n",
       "      <th>DifficultyCompletingTasks</th>\n",
       "      <th>Forgetfulness</th>\n",
       "      <th>Diagnosis</th>\n",
       "      <th>DoctorInCharge</th>\n",
       "    </tr>\n",
       "  </thead>\n",
       "  <tbody>\n",
       "    <tr>\n",
       "      <th>613</th>\n",
       "      <td>5364</td>\n",
       "      <td>61</td>\n",
       "      <td>1</td>\n",
       "      <td>1</td>\n",
       "      <td>0</td>\n",
       "      <td>29.270540</td>\n",
       "      <td>0</td>\n",
       "      <td>14.782028</td>\n",
       "      <td>7.315484</td>\n",
       "      <td>2.976619</td>\n",
       "      <td>...</td>\n",
       "      <td>1</td>\n",
       "      <td>0</td>\n",
       "      <td>0.775005</td>\n",
       "      <td>0</td>\n",
       "      <td>1</td>\n",
       "      <td>0</td>\n",
       "      <td>0</td>\n",
       "      <td>0</td>\n",
       "      <td>1</td>\n",
       "      <td>XXXConfid</td>\n",
       "    </tr>\n",
       "    <tr>\n",
       "      <th>1018</th>\n",
       "      <td>5769</td>\n",
       "      <td>81</td>\n",
       "      <td>1</td>\n",
       "      <td>0</td>\n",
       "      <td>0</td>\n",
       "      <td>34.641073</td>\n",
       "      <td>0</td>\n",
       "      <td>7.383103</td>\n",
       "      <td>2.473479</td>\n",
       "      <td>5.280584</td>\n",
       "      <td>...</td>\n",
       "      <td>0</td>\n",
       "      <td>0</td>\n",
       "      <td>3.389056</td>\n",
       "      <td>0</td>\n",
       "      <td>0</td>\n",
       "      <td>0</td>\n",
       "      <td>0</td>\n",
       "      <td>0</td>\n",
       "      <td>0</td>\n",
       "      <td>XXXConfid</td>\n",
       "    </tr>\n",
       "    <tr>\n",
       "      <th>264</th>\n",
       "      <td>5015</td>\n",
       "      <td>81</td>\n",
       "      <td>0</td>\n",
       "      <td>1</td>\n",
       "      <td>0</td>\n",
       "      <td>22.923111</td>\n",
       "      <td>0</td>\n",
       "      <td>9.314832</td>\n",
       "      <td>8.917378</td>\n",
       "      <td>3.807813</td>\n",
       "      <td>...</td>\n",
       "      <td>0</td>\n",
       "      <td>1</td>\n",
       "      <td>8.681801</td>\n",
       "      <td>0</td>\n",
       "      <td>0</td>\n",
       "      <td>0</td>\n",
       "      <td>0</td>\n",
       "      <td>0</td>\n",
       "      <td>1</td>\n",
       "      <td>XXXConfid</td>\n",
       "    </tr>\n",
       "    <tr>\n",
       "      <th>1758</th>\n",
       "      <td>6509</td>\n",
       "      <td>62</td>\n",
       "      <td>0</td>\n",
       "      <td>0</td>\n",
       "      <td>2</td>\n",
       "      <td>23.587924</td>\n",
       "      <td>0</td>\n",
       "      <td>1.236318</td>\n",
       "      <td>0.666426</td>\n",
       "      <td>3.360432</td>\n",
       "      <td>...</td>\n",
       "      <td>0</td>\n",
       "      <td>0</td>\n",
       "      <td>3.983733</td>\n",
       "      <td>1</td>\n",
       "      <td>0</td>\n",
       "      <td>0</td>\n",
       "      <td>0</td>\n",
       "      <td>0</td>\n",
       "      <td>0</td>\n",
       "      <td>XXXConfid</td>\n",
       "    </tr>\n",
       "    <tr>\n",
       "      <th>1441</th>\n",
       "      <td>6192</td>\n",
       "      <td>80</td>\n",
       "      <td>1</td>\n",
       "      <td>3</td>\n",
       "      <td>2</td>\n",
       "      <td>23.715891</td>\n",
       "      <td>1</td>\n",
       "      <td>12.339372</td>\n",
       "      <td>5.970801</td>\n",
       "      <td>1.625098</td>\n",
       "      <td>...</td>\n",
       "      <td>0</td>\n",
       "      <td>0</td>\n",
       "      <td>2.744058</td>\n",
       "      <td>0</td>\n",
       "      <td>0</td>\n",
       "      <td>0</td>\n",
       "      <td>0</td>\n",
       "      <td>1</td>\n",
       "      <td>0</td>\n",
       "      <td>XXXConfid</td>\n",
       "    </tr>\n",
       "  </tbody>\n",
       "</table>\n",
       "<p>5 rows × 35 columns</p>\n",
       "</div>"
      ],
      "text/plain": [
       "      PatientID  Age  Gender  Ethnicity  EducationLevel        BMI  Smoking  \\\n",
       "613        5364   61       1          1               0  29.270540        0   \n",
       "1018       5769   81       1          0               0  34.641073        0   \n",
       "264        5015   81       0          1               0  22.923111        0   \n",
       "1758       6509   62       0          0               2  23.587924        0   \n",
       "1441       6192   80       1          3               2  23.715891        1   \n",
       "\n",
       "      AlcoholConsumption  PhysicalActivity  DietQuality  ...  \\\n",
       "613            14.782028          7.315484     2.976619  ...   \n",
       "1018            7.383103          2.473479     5.280584  ...   \n",
       "264             9.314832          8.917378     3.807813  ...   \n",
       "1758            1.236318          0.666426     3.360432  ...   \n",
       "1441           12.339372          5.970801     1.625098  ...   \n",
       "\n",
       "      MemoryComplaints  BehavioralProblems       ADL  Confusion  \\\n",
       "613                  1                   0  0.775005          0   \n",
       "1018                 0                   0  3.389056          0   \n",
       "264                  0                   1  8.681801          0   \n",
       "1758                 0                   0  3.983733          1   \n",
       "1441                 0                   0  2.744058          0   \n",
       "\n",
       "      Disorientation  PersonalityChanges  DifficultyCompletingTasks  \\\n",
       "613                1                   0                          0   \n",
       "1018               0                   0                          0   \n",
       "264                0                   0                          0   \n",
       "1758               0                   0                          0   \n",
       "1441               0                   0                          0   \n",
       "\n",
       "      Forgetfulness  Diagnosis  DoctorInCharge  \n",
       "613               0          1       XXXConfid  \n",
       "1018              0          0       XXXConfid  \n",
       "264               0          1       XXXConfid  \n",
       "1758              0          0       XXXConfid  \n",
       "1441              1          0       XXXConfid  \n",
       "\n",
       "[5 rows x 35 columns]"
      ]
     },
     "execution_count": 10,
     "metadata": {},
     "output_type": "execute_result"
    }
   ],
   "source": [
    "df = df.sample(frac=0.25, random_state=10)\n",
    "print(\"Data loaded successfully!\")\n",
    "print(f\"DataFrame shape: {df.shape}\")\n",
    "print(\"\\nFirst 5 rows:\")\n",
    "df.head()"
   ]
  },
  {
   "cell_type": "markdown",
   "metadata": {
    "id": "ZY3l0-AxO93d"
   },
   "source": [
    "---"
   ]
  },
  {
   "cell_type": "markdown",
   "metadata": {
    "id": "uFQo3ycuO-v6"
   },
   "source": [
    "## **Section 2**"
   ]
  },
  {
   "cell_type": "markdown",
   "metadata": {},
   "source": [
    "### **Data Transformation**\n",
    "This section contains functions for transformer creation, pipeline code and light analysis."
   ]
  },
  {
   "cell_type": "markdown",
   "metadata": {},
   "source": [
    "---"
   ]
  },
  {
   "cell_type": "markdown",
   "metadata": {},
   "source": [
    "Check the current columns."
   ]
  },
  {
   "cell_type": "code",
   "execution_count": 11,
   "metadata": {},
   "outputs": [
    {
     "name": "stdout",
     "output_type": "stream",
     "text": [
      "Data loaded successfully!\n",
      "Available columns:\n",
      "['PatientID', 'Age', 'Gender', 'Ethnicity', 'EducationLevel', 'BMI', 'Smoking', 'AlcoholConsumption', 'PhysicalActivity', 'DietQuality', 'SleepQuality', 'FamilyHistoryAlzheimers', 'CardiovascularDisease', 'Diabetes', 'Depression', 'HeadInjury', 'Hypertension', 'SystolicBP', 'DiastolicBP', 'CholesterolTotal', 'CholesterolLDL', 'CholesterolHDL', 'CholesterolTriglycerides', 'MMSE', 'FunctionalAssessment', 'MemoryComplaints', 'BehavioralProblems', 'ADL', 'Confusion', 'Disorientation', 'PersonalityChanges', 'DifficultyCompletingTasks', 'Forgetfulness', 'Diagnosis', 'DoctorInCharge']\n"
     ]
    }
   ],
   "source": [
    "print(\"Data loaded successfully!\")\n",
    "print(\"Available columns:\")\n",
    "print(df.columns.tolist())"
   ]
  },
  {
   "cell_type": "markdown",
   "metadata": {},
   "source": [
    "Check the minimum values for numerical columns."
   ]
  },
  {
   "cell_type": "code",
   "execution_count": 12,
   "metadata": {},
   "outputs": [
    {
     "name": "stdout",
     "output_type": "stream",
     "text": [
      "Data loaded successfully!\n",
      "Minimum values for numerical columns:\n"
     ]
    },
    {
     "data": {
      "text/plain": [
       "Age                          60.000000\n",
       "Gender                        0.000000\n",
       "Ethnicity                     0.000000\n",
       "EducationLevel                0.000000\n",
       "BMI                          15.012071\n",
       "AlcoholConsumption            0.010504\n",
       "PhysicalActivity              0.007483\n",
       "DietQuality                   0.014332\n",
       "SleepQuality                  4.002629\n",
       "SystolicBP                   90.000000\n",
       "DiastolicBP                  60.000000\n",
       "CholesterolTotal            150.192183\n",
       "CholesterolLDL               50.400003\n",
       "CholesterolHDL               20.366771\n",
       "CholesterolTriglycerides     51.064227\n",
       "MMSE                          0.018022\n",
       "FunctionalAssessment          0.013211\n",
       "dtype: float64"
      ]
     },
     "execution_count": 12,
     "metadata": {},
     "output_type": "execute_result"
    }
   ],
   "source": [
    "print(\"Data loaded successfully!\")\n",
    "numerical_columns = [\"Age\", \"Gender\", \"Ethnicity\", \"EducationLevel\", \"BMI\", \"AlcoholConsumption\", \"PhysicalActivity\", \"DietQuality\", \"SleepQuality\", \"SystolicBP\", \"DiastolicBP\", \"CholesterolTotal\", \"CholesterolLDL\", \"CholesterolHDL\", \"CholesterolTriglycerides\", \"MMSE\", \"FunctionalAssessment\"]\n",
    "print(\"Minimum values for numerical columns:\")\n",
    "df[numerical_columns].min()"
   ]
  },
  {
   "cell_type": "markdown",
   "metadata": {},
   "source": [
    "Check the maximum values for numerical columns."
   ]
  },
  {
   "cell_type": "code",
   "execution_count": 13,
   "metadata": {},
   "outputs": [
    {
     "name": "stdout",
     "output_type": "stream",
     "text": [
      "Data loaded successfully!\n",
      "Maximum values for numerical columns:\n"
     ]
    },
    {
     "data": {
      "text/plain": [
       "Age                          90.000000\n",
       "Gender                        1.000000\n",
       "Ethnicity                     3.000000\n",
       "EducationLevel                3.000000\n",
       "BMI                          39.988513\n",
       "AlcoholConsumption           19.960888\n",
       "PhysicalActivity              9.987429\n",
       "DietQuality                   9.980281\n",
       "SleepQuality                  9.993039\n",
       "SystolicBP                  179.000000\n",
       "DiastolicBP                 119.000000\n",
       "CholesterolTotal            299.890133\n",
       "CholesterolLDL              199.965665\n",
       "CholesterolHDL               99.768955\n",
       "CholesterolTriglycerides    399.239711\n",
       "MMSE                         29.991381\n",
       "FunctionalAssessment          9.992610\n",
       "dtype: float64"
      ]
     },
     "execution_count": 13,
     "metadata": {},
     "output_type": "execute_result"
    }
   ],
   "source": [
    "print(\"Data loaded successfully!\")\n",
    "numerical_columns = [\"Age\", \"Gender\", \"Ethnicity\", \"EducationLevel\", \"BMI\", \"AlcoholConsumption\", \"PhysicalActivity\", \"DietQuality\", \"SleepQuality\", \"SystolicBP\", \"DiastolicBP\", \"CholesterolTotal\", \"CholesterolLDL\", \"CholesterolHDL\", \"CholesterolTriglycerides\", \"MMSE\", \"FunctionalAssessment\"]\n",
    "print(\"Maximum values for numerical columns:\")\n",
    "df[numerical_columns].max()"
   ]
  },
  {
   "cell_type": "markdown",
   "metadata": {},
   "source": [
    "Check for duplicates and retrieve their sum."
   ]
  },
  {
   "cell_type": "code",
   "execution_count": 14,
   "metadata": {},
   "outputs": [
    {
     "name": "stdout",
     "output_type": "stream",
     "text": [
      "Data loaded successfully!\n"
     ]
    },
    {
     "data": {
      "text/plain": [
       "np.int64(0)"
      ]
     },
     "execution_count": 14,
     "metadata": {},
     "output_type": "execute_result"
    }
   ],
   "source": [
    "print(\"Data loaded successfully!\")\n",
    "df.duplicated().sum()"
   ]
  },
  {
   "cell_type": "markdown",
   "metadata": {},
   "source": [
    "Check for null values and retrieve their sum."
   ]
  },
  {
   "cell_type": "code",
   "execution_count": 15,
   "metadata": {},
   "outputs": [
    {
     "name": "stdout",
     "output_type": "stream",
     "text": [
      "Data loaded successfully!\n"
     ]
    },
    {
     "data": {
      "text/plain": [
       "PatientID                    0\n",
       "Age                          0\n",
       "Gender                       0\n",
       "Ethnicity                    0\n",
       "EducationLevel               0\n",
       "BMI                          0\n",
       "Smoking                      0\n",
       "AlcoholConsumption           0\n",
       "PhysicalActivity             0\n",
       "DietQuality                  0\n",
       "SleepQuality                 0\n",
       "FamilyHistoryAlzheimers      0\n",
       "CardiovascularDisease        0\n",
       "Diabetes                     0\n",
       "Depression                   0\n",
       "HeadInjury                   0\n",
       "Hypertension                 0\n",
       "SystolicBP                   0\n",
       "DiastolicBP                  0\n",
       "CholesterolTotal             0\n",
       "CholesterolLDL               0\n",
       "CholesterolHDL               0\n",
       "CholesterolTriglycerides     0\n",
       "MMSE                         0\n",
       "FunctionalAssessment         0\n",
       "MemoryComplaints             0\n",
       "BehavioralProblems           0\n",
       "ADL                          0\n",
       "Confusion                    0\n",
       "Disorientation               0\n",
       "PersonalityChanges           0\n",
       "DifficultyCompletingTasks    0\n",
       "Forgetfulness                0\n",
       "Diagnosis                    0\n",
       "DoctorInCharge               0\n",
       "dtype: int64"
      ]
     },
     "execution_count": 15,
     "metadata": {},
     "output_type": "execute_result"
    }
   ],
   "source": [
    "print(\"Data loaded successfully!\")\n",
    "df.isnull().sum()"
   ]
  },
  {
   "cell_type": "markdown",
   "metadata": {},
   "source": [
    "Create code to populate categorical columns with integer values with their string counterparts."
   ]
  },
  {
   "cell_type": "code",
   "execution_count": 16,
   "metadata": {},
   "outputs": [
    {
     "name": "stdout",
     "output_type": "stream",
     "text": [
      "Data loaded successfully!\n",
      "DataFrame shape: (537, 35)\n"
     ]
    },
    {
     "data": {
      "text/html": [
       "<div>\n",
       "<style scoped>\n",
       "    .dataframe tbody tr th:only-of-type {\n",
       "        vertical-align: middle;\n",
       "    }\n",
       "\n",
       "    .dataframe tbody tr th {\n",
       "        vertical-align: top;\n",
       "    }\n",
       "\n",
       "    .dataframe thead th {\n",
       "        text-align: right;\n",
       "    }\n",
       "</style>\n",
       "<table border=\"1\" class=\"dataframe\">\n",
       "  <thead>\n",
       "    <tr style=\"text-align: right;\">\n",
       "      <th></th>\n",
       "      <th>PatientID</th>\n",
       "      <th>Age</th>\n",
       "      <th>Gender</th>\n",
       "      <th>Ethnicity</th>\n",
       "      <th>EducationLevel</th>\n",
       "      <th>BMI</th>\n",
       "      <th>Smoking</th>\n",
       "      <th>AlcoholConsumption</th>\n",
       "      <th>PhysicalActivity</th>\n",
       "      <th>DietQuality</th>\n",
       "      <th>...</th>\n",
       "      <th>MemoryComplaints</th>\n",
       "      <th>BehavioralProblems</th>\n",
       "      <th>ADL</th>\n",
       "      <th>Confusion</th>\n",
       "      <th>Disorientation</th>\n",
       "      <th>PersonalityChanges</th>\n",
       "      <th>DifficultyCompletingTasks</th>\n",
       "      <th>Forgetfulness</th>\n",
       "      <th>Diagnosis</th>\n",
       "      <th>DoctorInCharge</th>\n",
       "    </tr>\n",
       "  </thead>\n",
       "  <tbody>\n",
       "    <tr>\n",
       "      <th>613</th>\n",
       "      <td>5364</td>\n",
       "      <td>61</td>\n",
       "      <td>Female</td>\n",
       "      <td>African American</td>\n",
       "      <td>0</td>\n",
       "      <td>29.270540</td>\n",
       "      <td>No</td>\n",
       "      <td>14.782028</td>\n",
       "      <td>7.315484</td>\n",
       "      <td>2.976619</td>\n",
       "      <td>...</td>\n",
       "      <td>Yes</td>\n",
       "      <td>No</td>\n",
       "      <td>0.775005</td>\n",
       "      <td>0</td>\n",
       "      <td>1</td>\n",
       "      <td>No</td>\n",
       "      <td>No</td>\n",
       "      <td>0</td>\n",
       "      <td>Dementia</td>\n",
       "      <td>XXXConfid</td>\n",
       "    </tr>\n",
       "    <tr>\n",
       "      <th>1018</th>\n",
       "      <td>5769</td>\n",
       "      <td>81</td>\n",
       "      <td>Female</td>\n",
       "      <td>Caucasian</td>\n",
       "      <td>0</td>\n",
       "      <td>34.641073</td>\n",
       "      <td>No</td>\n",
       "      <td>7.383103</td>\n",
       "      <td>2.473479</td>\n",
       "      <td>5.280584</td>\n",
       "      <td>...</td>\n",
       "      <td>No</td>\n",
       "      <td>No</td>\n",
       "      <td>3.389056</td>\n",
       "      <td>0</td>\n",
       "      <td>0</td>\n",
       "      <td>No</td>\n",
       "      <td>No</td>\n",
       "      <td>0</td>\n",
       "      <td>No Dementia</td>\n",
       "      <td>XXXConfid</td>\n",
       "    </tr>\n",
       "    <tr>\n",
       "      <th>264</th>\n",
       "      <td>5015</td>\n",
       "      <td>81</td>\n",
       "      <td>Male</td>\n",
       "      <td>African American</td>\n",
       "      <td>0</td>\n",
       "      <td>22.923111</td>\n",
       "      <td>No</td>\n",
       "      <td>9.314832</td>\n",
       "      <td>8.917378</td>\n",
       "      <td>3.807813</td>\n",
       "      <td>...</td>\n",
       "      <td>No</td>\n",
       "      <td>Yes</td>\n",
       "      <td>8.681801</td>\n",
       "      <td>0</td>\n",
       "      <td>0</td>\n",
       "      <td>No</td>\n",
       "      <td>No</td>\n",
       "      <td>0</td>\n",
       "      <td>Dementia</td>\n",
       "      <td>XXXConfid</td>\n",
       "    </tr>\n",
       "    <tr>\n",
       "      <th>1758</th>\n",
       "      <td>6509</td>\n",
       "      <td>62</td>\n",
       "      <td>Male</td>\n",
       "      <td>Caucasian</td>\n",
       "      <td>2</td>\n",
       "      <td>23.587924</td>\n",
       "      <td>No</td>\n",
       "      <td>1.236318</td>\n",
       "      <td>0.666426</td>\n",
       "      <td>3.360432</td>\n",
       "      <td>...</td>\n",
       "      <td>No</td>\n",
       "      <td>No</td>\n",
       "      <td>3.983733</td>\n",
       "      <td>1</td>\n",
       "      <td>0</td>\n",
       "      <td>No</td>\n",
       "      <td>No</td>\n",
       "      <td>0</td>\n",
       "      <td>No Dementia</td>\n",
       "      <td>XXXConfid</td>\n",
       "    </tr>\n",
       "    <tr>\n",
       "      <th>1441</th>\n",
       "      <td>6192</td>\n",
       "      <td>80</td>\n",
       "      <td>Female</td>\n",
       "      <td>Other</td>\n",
       "      <td>2</td>\n",
       "      <td>23.715891</td>\n",
       "      <td>Yes</td>\n",
       "      <td>12.339372</td>\n",
       "      <td>5.970801</td>\n",
       "      <td>1.625098</td>\n",
       "      <td>...</td>\n",
       "      <td>No</td>\n",
       "      <td>No</td>\n",
       "      <td>2.744058</td>\n",
       "      <td>0</td>\n",
       "      <td>0</td>\n",
       "      <td>No</td>\n",
       "      <td>No</td>\n",
       "      <td>1</td>\n",
       "      <td>No Dementia</td>\n",
       "      <td>XXXConfid</td>\n",
       "    </tr>\n",
       "  </tbody>\n",
       "</table>\n",
       "<p>5 rows × 35 columns</p>\n",
       "</div>"
      ],
      "text/plain": [
       "      PatientID  Age  Gender         Ethnicity  EducationLevel        BMI  \\\n",
       "613        5364   61  Female  African American               0  29.270540   \n",
       "1018       5769   81  Female         Caucasian               0  34.641073   \n",
       "264        5015   81    Male  African American               0  22.923111   \n",
       "1758       6509   62    Male         Caucasian               2  23.587924   \n",
       "1441       6192   80  Female             Other               2  23.715891   \n",
       "\n",
       "     Smoking  AlcoholConsumption  PhysicalActivity  DietQuality  ...  \\\n",
       "613       No           14.782028          7.315484     2.976619  ...   \n",
       "1018      No            7.383103          2.473479     5.280584  ...   \n",
       "264       No            9.314832          8.917378     3.807813  ...   \n",
       "1758      No            1.236318          0.666426     3.360432  ...   \n",
       "1441     Yes           12.339372          5.970801     1.625098  ...   \n",
       "\n",
       "      MemoryComplaints  BehavioralProblems       ADL  Confusion  \\\n",
       "613                Yes                  No  0.775005          0   \n",
       "1018                No                  No  3.389056          0   \n",
       "264                 No                 Yes  8.681801          0   \n",
       "1758                No                  No  3.983733          1   \n",
       "1441                No                  No  2.744058          0   \n",
       "\n",
       "     Disorientation  PersonalityChanges  DifficultyCompletingTasks  \\\n",
       "613               1                  No                         No   \n",
       "1018              0                  No                         No   \n",
       "264               0                  No                         No   \n",
       "1758              0                  No                         No   \n",
       "1441              0                  No                         No   \n",
       "\n",
       "      Forgetfulness    Diagnosis  DoctorInCharge  \n",
       "613               0     Dementia       XXXConfid  \n",
       "1018              0  No Dementia       XXXConfid  \n",
       "264               0     Dementia       XXXConfid  \n",
       "1758              0  No Dementia       XXXConfid  \n",
       "1441              1  No Dementia       XXXConfid  \n",
       "\n",
       "[5 rows x 35 columns]"
      ]
     },
     "execution_count": 16,
     "metadata": {},
     "output_type": "execute_result"
    }
   ],
   "source": [
    "print(\"Data loaded successfully!\")\n",
    "# Replace values in categorical columns for better readability\n",
    "# Gender mapping\n",
    "if \"Gender\" in df.columns:\n",
    "    df[\"Gender\"] = df[\"Gender\"].replace({0: \"Male\", 1: \"Female\"})\n",
    "\n",
    "# Ethnicity mapping\n",
    "if \"Ethnicity\" in df.columns:\n",
    "    df[\"Ethnicity\"] = df[\"Ethnicity\"].replace({\n",
    "        0: \"Caucasian\", 1: \"African American\", 2: \"Asian\", 3: \"Other\"\n",
    "    })\n",
    "\n",
    "# Binary columns (0/1 to No/Yes)\n",
    "binary_cols = [\"Smoking\", \"CardiovascularDisease\", \"Depression\", \n",
    "               \"MemoryComplaints\", \"BehavioralProblems\", \"PersonalityChanges\", \n",
    "               \"DifficultyCompletingTasks\"]\n",
    "\n",
    "for col in binary_cols:\n",
    "    if col in df.columns:\n",
    "        df[col] = df[col].replace({0: \"No\", 1: \"Yes\"})\n",
    "\n",
    "# Diagnosis mapping\n",
    "if \"Diagnosis\" in df.columns:\n",
    "    df[\"Diagnosis\"] = df[\"Diagnosis\"].replace({0: \"No Dementia\", 1: \"Dementia\"})\n",
    "print(f\"DataFrame shape: {df.shape}\")\n",
    "df.head()"
   ]
  },
  {
   "cell_type": "markdown",
   "metadata": {},
   "source": [
    "Create functions to load into transformers."
   ]
  },
  {
   "cell_type": "code",
   "execution_count": 17,
   "metadata": {},
   "outputs": [],
   "source": [
    "# Drop specific columns\n",
    "def drop_columns(df):\n",
    "    return df.drop(columns=[\"EducationLevel\", \"SleepQuality\", \"FamilyHistoryAlzheimers\", \"Diabetes\", \"HeadInjury\", \"Hypertension\", \"SystolicBP\", \"DiastolicBP\", \"CholesterolLDL\", \"CholesterolHDL\", \"CholesterolTriglycerides\", \"Confusion\", \"Disorientation\", \"Forgetfulness\", \"DoctorInCharge\"], errors=\"ignore\")\n",
    "\n",
    "# Change column locations\n",
    "def change_column_location(df):\n",
    "    new_column_order = [\"PatientID\", \"Age\", \"Gender\", \"Ethnicity\", \"BMI\", \"DietQuality\", \"PhysicalActivity\", \"Smoking\", \"AlcoholConsumption\", \"CardiovascularDisease\", \"CholesterolTotal\", \"FunctionalAssessment\", \"ADL\", \"MMSE\", \"MemoryComplaints\", \"BehavioralProblems\", \"PersonalityChanges\", \"DifficultyCompletingTasks\", \"Depression\", \"Diagnosis\"]\n",
    "    # Only include columns that actually exist in the dataframe\n",
    "    existing_columns = [col for col in new_column_order if col in df.columns]\n",
    "    return df[existing_columns]\n",
    "\n",
    "# Convert data types\n",
    "def convert_data_types(df):\n",
    "    if \"PatientID\" in df.columns:\n",
    "        df[\"PatientID\"] = df[\"PatientID\"].astype(int)\n",
    "    if \"Age\" in df.columns:\n",
    "        df[\"Age\"] = df[\"Age\"].astype(int)\n",
    "    if \"Gender\" in df.columns:\n",
    "        df[\"Gender\"] = df[\"Gender\"].astype(str)\n",
    "    if \"Ethnicity\" in df.columns:\n",
    "        df[\"Ethnicity\"] = df[\"Ethnicity\"].astype(str)\n",
    "    if \"BMI\" in df.columns:\n",
    "        df[\"BMI\"] = df[\"BMI\"].astype(float)\n",
    "    if \"Smoking\" in df.columns:\n",
    "        df[\"Smoking\"] = df[\"Smoking\"].astype(str)\n",
    "    if \"AlcoholConsumption\" in df.columns:\n",
    "        df[\"AlcoholConsumption\"] = df[\"AlcoholConsumption\"].astype(float)\n",
    "    if \"PhysicalActivity\" in df.columns:\n",
    "        df[\"PhysicalActivity\"] = df[\"PhysicalActivity\"].astype(int)\n",
    "    if \"DietQuality\" in df.columns:\n",
    "        df[\"DietQuality\"] = df[\"DietQuality\"].astype(str)\n",
    "    if \"CardiovascularDisease\" in df.columns:\n",
    "        df[\"CardiovascularDisease\"] = df[\"CardiovascularDisease\"].astype(str)\n",
    "    if \"Depression\" in df.columns:\n",
    "        df[\"Depression\"] = df[\"Depression\"].astype(str)\n",
    "    if \"CholesterolTotal\" in df.columns:\n",
    "        df[\"CholesterolTotal\"] = df[\"CholesterolTotal\"].astype(float)\n",
    "    if \"MMSE\" in df.columns:\n",
    "        df[\"MMSE\"] = df[\"MMSE\"].astype(float)\n",
    "    if \"FunctionalAssessment\" in df.columns:\n",
    "        df[\"FunctionalAssessment\"] = df[\"FunctionalAssessment\"].astype(int)\n",
    "    if \"MemoryComplaints\" in df.columns:\n",
    "        df[\"MemoryComplaints\"] = df[\"MemoryComplaints\"].astype(str)\n",
    "    if \"BehavioralProblems\" in df.columns:\n",
    "        df[\"BehavioralProblems\"] = df[\"BehavioralProblems\"].astype(str)\n",
    "    if \"ADL\" in df.columns:\n",
    "        df[\"ADL\"] = df[\"ADL\"].astype(float)\n",
    "    if \"PersonalityChanges\" in df.columns:\n",
    "        df[\"PersonalityChanges\"] = df[\"PersonalityChanges\"].astype(str)\n",
    "    if \"DifficultyCompletingTasks\" in df.columns:\n",
    "        df[\"DifficultyCompletingTasks\"] = df[\"DifficultyCompletingTasks\"].astype(str)\n",
    "    if \"Diagnosis\" in df.columns:\n",
    "        df[\"Diagnosis\"] = df[\"Diagnosis\"].astype(str)\n",
    "    return df\n",
    "\n",
    "# Remove outliers using IQR method\n",
    "def remove_outliers(df):\n",
    "    columns = [\"BMI\", \"CholesterolTotal\"]\n",
    "    df_cleaned = df.copy()\n",
    "    for col in columns:\n",
    "        if col in df_cleaned.columns: \n",
    "            Q1 = df_cleaned[col].quantile(0.25)\n",
    "            Q3 = df_cleaned[col].quantile(0.75)\n",
    "            IQR = Q3 - Q1\n",
    "            mask = (df_cleaned[col] >= Q1 - 1.5 * IQR) & (df_cleaned[col] <= Q3 + 1.5 * IQR)\n",
    "            df_cleaned = df_cleaned[mask]  \n",
    "    return df_cleaned\n",
    "\n",
    "# Scale numerical values and encode categorical values\n",
    "scaling_transformer = ColumnTransformer([\n",
    "    (\"num\", StandardScaler(), [\"Patient_Age\", \"BMI\", \"Alcohol_Consumption\", \"Physical_Activity\", \"Cholesterol_Total\", \"MMSE\", \"Functional_Assessment\", \"Activities_Of_Daily_Living\"]), \n",
    "    (\"cat\", OneHotEncoder(drop=\"first\", handle_unknown=\"ignore\"), [\"Gender\", \"Ethnicity\", \"Smoking\", \"Cardiovascular_Disease\", \"Depression\", \"Memory_Complaints\", \"Behavioral_Problems\", \"Personality_Changes\", \"Difficulty_Completing_Tasks\"])  \n",
    "])\n",
    "\n",
    "# Rename columns\n",
    "def rename_columns(df):\n",
    "    return df.rename(columns={\n",
    "        \"PatientID\": \"Patient_ID\",\n",
    "        \"Age\": \"Patient_Age\",\n",
    "        \"AlcoholConsumption\": \"Alcohol_Consumption\",\n",
    "        \"PhysicalActivity\": \"Physical_Activity\",\n",
    "        \"DietQuality\": \"Diet_Quality\",\n",
    "        \"CardiovascularDisease\": \"Cardiovascular_Disease\",\n",
    "        \"CholesterolTotal\": \"Cholesterol_Total\",\n",
    "        \"FunctionalAssessment\": \"Functional_Assessment\",\n",
    "        \"MemoryComplaints\": \"Memory_Complaints\",\n",
    "        \"BehavioralProblems\": \"Behavioral_Problems\",\n",
    "        \"ADL\": \"Activities_Of_Daily_Living\",\n",
    "        \"PersonalityChanges\": \"Personality_Changes\",\n",
    "        \"DifficultyCompletingTasks\": \"Difficulty_Completing_Tasks\",  \n",
    "    })\n",
    "\n",
    "# Drop missing values\n",
    "def drop_missing_values(df):\n",
    "    return df.dropna()\n",
    "\n",
    "# Remove duplicates\n",
    "def remove_duplicates(df):\n",
    "    return df.drop_duplicates()\n",
    "\n",
    "# Round numerical values to 2 decimal places\n",
    "def round_values(df):\n",
    "    return df.round(2)\n",
    "\n",
    "# Capitalize column names with proper acronym handling\n",
    "def capitalize_columns(df):\n",
    "    def smart_title(text):\n",
    "        # Common acronyms that should stay uppercase\n",
    "        acronyms = {\n",
    "            \"bmi\": \"BMI\",\n",
    "            \"mmse\": \"MMSE\", \n",
    "            \"adl\": \"ADL\",\n",
    "            \"id\": \"ID\"\n",
    "        }\n",
    "        \n",
    "        # Split by underscore and process each part\n",
    "        parts = text.split(\"_\")\n",
    "        result_parts = []\n",
    "        \n",
    "        for part in parts:\n",
    "            lower_part = part.lower()\n",
    "            if lower_part in acronyms:\n",
    "                result_parts.append(acronyms[lower_part])\n",
    "            else:\n",
    "                result_parts.append(part.title())\n",
    "        \n",
    "        return \"_\".join(result_parts)\n",
    "    \n",
    "    df.columns = [smart_title(col) for col in df.columns]\n",
    "    return df"
   ]
  },
  {
   "cell_type": "markdown",
   "metadata": {},
   "source": [
    "Create the transformers."
   ]
  },
  {
   "cell_type": "code",
   "execution_count": 18,
   "metadata": {},
   "outputs": [],
   "source": [
    "# Define transformers\n",
    "change_column_location_transformer = FunctionTransformer(change_column_location)\n",
    "drop_columns_transformer = FunctionTransformer(drop_columns)\n",
    "convert_data_types_transformer = FunctionTransformer(convert_data_types)\n",
    "remove_outliers_transformer = FunctionTransformer(remove_outliers)\n",
    "rename_columns_transformer = FunctionTransformer(rename_columns)\n",
    "capitalize_columns_transformer = FunctionTransformer(capitalize_columns)\n",
    "drop_missing_values_transformer = FunctionTransformer(drop_missing_values)\n",
    "remove_duplicates_transformer = FunctionTransformer(remove_duplicates)\n",
    "round_values_transformer = FunctionTransformer(round_values)"
   ]
  },
  {
   "cell_type": "markdown",
   "metadata": {},
   "source": [
    "Create the pipeline."
   ]
  },
  {
   "cell_type": "code",
   "execution_count": 19,
   "metadata": {},
   "outputs": [],
   "source": [
    "# Create data cleaning pipeline\n",
    "data_cleaning_pipeline = Pipeline([\n",
    "    (\"drop_columns\", drop_columns_transformer),\n",
    "    (\"change_column_order\", change_column_location_transformer),\n",
    "    (\"convert_data_types\", convert_data_types_transformer),\n",
    "    (\"rename_columns\", rename_columns_transformer),\n",
    "    (\"capitalize_columns\", capitalize_columns_transformer),\n",
    "    (\"remove_outliers\", remove_outliers_transformer),\n",
    "    (\"drop_missing_values\", drop_missing_values_transformer),\n",
    "    (\"remove_duplicates\", remove_duplicates_transformer),\n",
    "    (\"round_values\", round_values_transformer)\n",
    "])"
   ]
  },
  {
   "cell_type": "markdown",
   "metadata": {},
   "source": [
    "Create advanced machine learning pipeline."
   ]
  },
  {
   "cell_type": "code",
   "execution_count": 20,
   "metadata": {},
   "outputs": [],
   "source": [
    "# Create advanced pipeline with scaling and encoding for machine learning\n",
    "# This pipeline should clean and preprocess data, rename columns, scale numerical features, encode categorical features and handle unknown categories\n",
    "data_cleaning_with_ml_pipeline = Pipeline([\n",
    "    (\"drop_columns\", drop_columns_transformer),\n",
    "    (\"change_column_order\", change_column_location_transformer),\n",
    "    (\"convert_data_types\", convert_data_types_transformer),\n",
    "    (\"rename_columns\", rename_columns_transformer),\n",
    "    (\"capitalize_columns\", capitalize_columns_transformer),\n",
    "    (\"remove_outliers\", remove_outliers_transformer),\n",
    "    (\"drop_missing_values\", drop_missing_values_transformer),\n",
    "    (\"remove_duplicates\", remove_duplicates_transformer),\n",
    "    (\"round_values\", round_values_transformer),  \n",
    "    (\"scale_and_encode\", scaling_transformer)\n",
    "])"
   ]
  },
  {
   "cell_type": "markdown",
   "metadata": {},
   "source": [
    "---"
   ]
  },
  {
   "cell_type": "markdown",
   "metadata": {},
   "source": [
    "## **Section 3**"
   ]
  },
  {
   "cell_type": "markdown",
   "metadata": {},
   "source": [
    "### **Data Loading** \n",
    "In this section, we fit both pipelines to two separate instances of the same dataframe, allowing for the transformation process to take place, and the creation of new datasets due for loading as new, cleaned CSV and txt documents."
   ]
  },
  {
   "cell_type": "markdown",
   "metadata": {},
   "source": [
    "---"
   ]
  },
  {
   "cell_type": "markdown",
   "metadata": {},
   "source": [
    "Fit the pipeline to the DataFrame."
   ]
  },
  {
   "cell_type": "code",
   "execution_count": 21,
   "metadata": {},
   "outputs": [
    {
     "name": "stdout",
     "output_type": "stream",
     "text": [
      "Data loaded successfully!\n",
      "Processed data shape: (537, 20)\n",
      "      Patient_ID  Patient_Age  Gender         Ethnicity    BMI  \\\n",
      "613         5364           61  Female  African American  29.27   \n",
      "1018        5769           81  Female         Caucasian  34.64   \n",
      "264         5015           81    Male  African American  22.92   \n",
      "1758        6509           62    Male         Caucasian  23.59   \n",
      "1441        6192           80  Female             Other  23.72   \n",
      "\n",
      "            Diet_Quality  Physical_Activity Smoking  Alcohol_Consumption  \\\n",
      "613    2.976618872327678                  7      No                14.78   \n",
      "1018   5.280583737322621                  2      No                 7.38   \n",
      "264    3.807813179139379                  8      No                 9.31   \n",
      "1758   3.360431588390945                  0      No                 1.24   \n",
      "1441  1.6250982585740548                  5     Yes                12.34   \n",
      "\n",
      "     Cardiovascular_Disease  Cholesterol_Total  Functional_Assessment  \\\n",
      "613                     Yes             172.68                      8   \n",
      "1018                     No             264.95                      7   \n",
      "264                      No             283.13                      4   \n",
      "1758                    Yes             202.64                      5   \n",
      "1441                     No             264.40                      7   \n",
      "\n",
      "      Activities_Of_Daily_Living   MMSE Memory_Complaints Behavioral_Problems  \\\n",
      "613                         0.78   4.88               Yes                  No   \n",
      "1018                        3.39   9.99                No                  No   \n",
      "264                         8.68   1.11                No                 Yes   \n",
      "1758                        3.98  18.39                No                  No   \n",
      "1441                        2.74  24.10                No                  No   \n",
      "\n",
      "     Personality_Changes Difficulty_Completing_Tasks Depression    Diagnosis  \n",
      "613                   No                          No         No     Dementia  \n",
      "1018                  No                          No         No  No Dementia  \n",
      "264                   No                          No         No     Dementia  \n",
      "1758                  No                          No         No  No Dementia  \n",
      "1441                  No                          No        Yes  No Dementia  \n"
     ]
    }
   ],
   "source": [
    "# Apply the pipeline to original dataframe\n",
    "processed_df = data_cleaning_pipeline.fit_transform(df)\n",
    "print(\"Data loaded successfully!\")\n",
    "print(f\"Processed data shape: {processed_df.shape}\")\n",
    "print(processed_df.head())"
   ]
  },
  {
   "cell_type": "markdown",
   "metadata": {},
   "source": [
    "Check the current column list after fitting pipeline."
   ]
  },
  {
   "cell_type": "code",
   "execution_count": 22,
   "metadata": {},
   "outputs": [
    {
     "name": "stdout",
     "output_type": "stream",
     "text": [
      "Data loaded successfully!\n",
      "Processed DataFrame columns: ['Patient_ID', 'Patient_Age', 'Gender', 'Ethnicity', 'BMI', 'Diet_Quality', 'Physical_Activity', 'Smoking', 'Alcohol_Consumption', 'Cardiovascular_Disease', 'Cholesterol_Total', 'Functional_Assessment', 'Activities_Of_Daily_Living', 'MMSE', 'Memory_Complaints', 'Behavioral_Problems', 'Personality_Changes', 'Difficulty_Completing_Tasks', 'Depression', 'Diagnosis']\n"
     ]
    }
   ],
   "source": [
    "print(\"Data loaded successfully!\")\n",
    "print(\"Processed DataFrame columns:\", processed_df.columns.tolist())"
   ]
  },
  {
   "cell_type": "markdown",
   "metadata": {},
   "source": [
    "fit the machine learning pipeline."
   ]
  },
  {
   "cell_type": "code",
   "execution_count": 23,
   "metadata": {},
   "outputs": [
    {
     "name": "stdout",
     "output_type": "stream",
     "text": [
      "Data loaded successfully!\n",
      "Scaled data shape: (537, 19)\n",
      "[[-1.48929421  0.22219164  0.81923202 ...  0.          0.\n",
      "   0.        ]\n",
      " [ 0.6818772   0.9683131  -0.47266499 ...  0.          0.\n",
      "   0.        ]\n",
      " [ 0.6818772  -0.66009352 -0.13572428 ...  1.          0.\n",
      "   0.        ]\n",
      " ...\n",
      " [ 1.65890434  0.46534109 -0.21428559 ...  0.          1.\n",
      "   0.        ]\n",
      " [-0.51226707  0.46256224 -1.54459034 ...  0.          0.\n",
      "   0.        ]\n",
      " [-1.05505993 -0.51420385  1.25568371 ...  0.          0.\n",
      "   0.        ]]\n"
     ]
    }
   ],
   "source": [
    "# Apply the ML pipeline to original dataframe\n",
    "scaled_encoded_df = data_cleaning_with_ml_pipeline.fit_transform(df)\n",
    "print(\"Data loaded successfully!\")\n",
    "print(f\"Scaled data shape: {scaled_encoded_df.shape}\")\n",
    "print(scaled_encoded_df)"
   ]
  },
  {
   "cell_type": "markdown",
   "metadata": {},
   "source": [
    "Load both previously created dataframes to separate CSV files."
   ]
  },
  {
   "cell_type": "code",
   "execution_count": 24,
   "metadata": {},
   "outputs": [
    {
     "name": "stdout",
     "output_type": "stream",
     "text": [
      "Files saved to outputs folder!\n"
     ]
    }
   ],
   "source": [
    "# Save the processed datasets\n",
    "processed_df.to_csv(\"outputs/processed_alzheimers_disease_data_unscaled_and_unencoded.csv\", index=False)\n",
    "np.savetxt(\"outputs/processed_alzheimers_disease_data_scaled_and_encoded.csv\", \n",
    "           scaled_encoded_df, delimiter=\",\", fmt=\"%.6f\")\n",
    "print(\"Files saved to outputs folder!\")"
   ]
  },
  {
   "cell_type": "markdown",
   "metadata": {},
   "source": [
    "---"
   ]
  },
  {
   "cell_type": "markdown",
   "metadata": {},
   "source": [
    "## **Section 4**"
   ]
  },
  {
   "cell_type": "markdown",
   "metadata": {},
   "source": [
    "### Data Analysis Core Concepts\n",
    "Below we consider some of the core concepts of data analysis and their importance in analytics."
   ]
  },
  {
   "cell_type": "markdown",
   "metadata": {},
   "source": [
    "---"
   ]
  },
  {
   "cell_type": "markdown",
   "metadata": {},
   "source": [
    "**Mean**\n",
    "The mean, which may also be considered as the average, is a measure in statistics that notes data centricity and as such relays the most commonly occuring value within a given set of figures. When considering a set of numbers, its defintion relates to the most \"typical\" value within that set. With calculating the mean, we add all figures together, and divide this by the total count of these numeric figures. The mean is important in data anlysis as it allows for the summarization of the typical value or tendency of a dataset. It can allow for understanding of central tendency.\n",
    "\n",
    "**Median**\n",
    "The basic definition of the mean in statistics is the central value that lies between two extremes. The median is calculated simply by choosing the middle number with an odd set, and by finding the mean of two of the central numbers with an even set. It splits data in two, with either pool lying on the side, towards, or away from either extreme, depending on direction to or from the median. The mean is important to data analysis as it allows for the central deduction of a dataset, lying less prone to extremes, in comparison to the mean. It may be better able to deduce central tendency in some instances, where compared to the mean.\n",
    "\n",
    "**Standard Deviation**\n",
    "The standard deviation is a statistic that measures the variation values about the mean of a variable (on either side). Low or small standard deviation indicates that values fluctuate more closely to the mean, whereas high or large standard deviation notes that values lie more dispered from the mean. To find it, we subtract the mean from the data points and then square these differences and find the mean of this. This is the variance. We then find the square root of this. Standard deviation is important in data analysis as it helps us better understand the spread of data about a mean, allowing for findings of consistency or variability.\n",
    "\n",
    "**Hypothesis Testing**\n",
    "Hypothesis testing in statistics is where we employ inference to support or reject a particular hypothesis. When carrying these out, we may draw up hypotheses, null (default asumption) and alternative (contradictory to null hypothesis), and use the following method: deduce a value of rejection towards the null hypothesis (sginificance level) and calculate the value of a chosen test statistic (z-test, t-test etc.). Where the attained value lies within a \"critical\" region, we may reject the null hypothesis.\n",
    "Basic Probability\n",
    "Basic porbability defines a measure of change, where 0 (0%) is of no likelihood of occurence and 1 (100%) is of definite likelihood. We find the probability by dividing all favourable outcomes by all possible outcomes. In data analytics, probability can allow for the quantification of uncertainty and as such aid in assessing risks and help make predictions."
   ]
  },
  {
   "cell_type": "markdown",
   "metadata": {},
   "source": [
    "Consider the table below where we calculate key statistical measures for numerical variables to understand data distribution and central tendencies."
   ]
  },
  {
   "cell_type": "code",
   "execution_count": 25,
   "metadata": {},
   "outputs": [
    {
     "ename": "SyntaxError",
     "evalue": "unterminated string literal (detected at line 16) (3117408724.py, line 16)",
     "output_type": "error",
     "traceback": [
      "  \u001b[36mCell\u001b[39m\u001b[36m \u001b[39m\u001b[32mIn[25]\u001b[39m\u001b[32m, line 16\u001b[39m\n\u001b[31m    \u001b[39m\u001b[31m\"Mean': means,\u001b[39m\n    ^\n\u001b[31mSyntaxError\u001b[39m\u001b[31m:\u001b[39m unterminated string literal (detected at line 16)\n"
     ]
    }
   ],
   "source": [
    "cols_list = [\"Patient_Age\", \"BMI\", \"Physical_Activity\", \"Alcohol_Consumption\", \"Cholesterol_Total\", \"Functional_Assessment\", \"Activities_Of_Daily_Living\", \"MMSE\"]\n",
    "\n",
    "# Calculate statistics only for meaningful numerical columns (excluding Patient_ID)\n",
    "means = processed_df[cols_list].mean()\n",
    "medians = processed_df[cols_list].median()\n",
    "variances = processed_df[cols_list].var()\n",
    "std_devs = processed_df[cols_list].std()\n",
    "\n",
    "# Print a title and a border\n",
    "print(\"\\n\" + \"=\" * 70)\n",
    "print(\"COMPREHENSIVE STATISTICAL SUMMARY\")\n",
    "print(\"=\" * 70)\n",
    "\n",
    "# Create a summary dataframe for better visualisation\n",
    "stats_summary = pd.DataFrame({\n",
    "    \"Mean': means,\n",
    "    'Median': medians,\n",
    "    'Variance': variances,\n",
    "    'Std_Deviation': std_devs,\n",
    "    'Min': processed_df[cols_list].min(),\n",
    "    'Max': processed_df[cols_list].max(),\n",
    "    'Range': processed_df[cols_list].max() - processed_df[cols_list].min()\n",
    "}).round(3)\n",
    "\n",
    "print(\"\\nStatistical Summary for Numerical Variables:\")\n",
    "print(\"-\" * 70)\n",
    "print(stats_summary)"
   ]
  },
  {
   "cell_type": "markdown",
   "metadata": {},
   "source": [
    "---"
   ]
  },
  {
   "cell_type": "markdown",
   "metadata": {},
   "source": [
    "##  **Section 5**"
   ]
  },
  {
   "cell_type": "markdown",
   "metadata": {},
   "source": [
    "### Visualisations"
   ]
  },
  {
   "cell_type": "markdown",
   "metadata": {},
   "source": [
    "---"
   ]
  },
  {
   "cell_type": "markdown",
   "metadata": {},
   "source": [
    "Call the processed DataFrame."
   ]
  },
  {
   "cell_type": "code",
   "execution_count": null,
   "metadata": {},
   "outputs": [
    {
     "data": {
      "text/html": [
       "<div>\n",
       "<style scoped>\n",
       "    .dataframe tbody tr th:only-of-type {\n",
       "        vertical-align: middle;\n",
       "    }\n",
       "\n",
       "    .dataframe tbody tr th {\n",
       "        vertical-align: top;\n",
       "    }\n",
       "\n",
       "    .dataframe thead th {\n",
       "        text-align: right;\n",
       "    }\n",
       "</style>\n",
       "<table border=\"1\" class=\"dataframe\">\n",
       "  <thead>\n",
       "    <tr style=\"text-align: right;\">\n",
       "      <th></th>\n",
       "      <th>Patient_ID</th>\n",
       "      <th>Patient_Age</th>\n",
       "      <th>Gender</th>\n",
       "      <th>Ethnicity</th>\n",
       "      <th>BMI</th>\n",
       "      <th>Diet_Quality</th>\n",
       "      <th>Physical_Activity</th>\n",
       "      <th>Smoking</th>\n",
       "      <th>Alcohol_Consumption</th>\n",
       "      <th>Cardiovascular_Disease</th>\n",
       "      <th>Cholesterol_Total</th>\n",
       "      <th>Functional_Assessment</th>\n",
       "      <th>Activities_Of_Daily_Living</th>\n",
       "      <th>MMSE</th>\n",
       "      <th>Memory_Complaints</th>\n",
       "      <th>Behavioral_Problems</th>\n",
       "      <th>Personality_Changes</th>\n",
       "      <th>Difficulty_Completing_Tasks</th>\n",
       "      <th>Depression</th>\n",
       "      <th>Diagnosis</th>\n",
       "    </tr>\n",
       "  </thead>\n",
       "  <tbody>\n",
       "    <tr>\n",
       "      <th>613</th>\n",
       "      <td>5364</td>\n",
       "      <td>61</td>\n",
       "      <td>Female</td>\n",
       "      <td>African American</td>\n",
       "      <td>29.27</td>\n",
       "      <td>2.976618872327678</td>\n",
       "      <td>7</td>\n",
       "      <td>No</td>\n",
       "      <td>14.78</td>\n",
       "      <td>Yes</td>\n",
       "      <td>172.68</td>\n",
       "      <td>8</td>\n",
       "      <td>0.78</td>\n",
       "      <td>4.88</td>\n",
       "      <td>Yes</td>\n",
       "      <td>No</td>\n",
       "      <td>No</td>\n",
       "      <td>No</td>\n",
       "      <td>No</td>\n",
       "      <td>Dementia</td>\n",
       "    </tr>\n",
       "    <tr>\n",
       "      <th>1018</th>\n",
       "      <td>5769</td>\n",
       "      <td>81</td>\n",
       "      <td>Female</td>\n",
       "      <td>Caucasian</td>\n",
       "      <td>34.64</td>\n",
       "      <td>5.280583737322621</td>\n",
       "      <td>2</td>\n",
       "      <td>No</td>\n",
       "      <td>7.38</td>\n",
       "      <td>No</td>\n",
       "      <td>264.95</td>\n",
       "      <td>7</td>\n",
       "      <td>3.39</td>\n",
       "      <td>9.99</td>\n",
       "      <td>No</td>\n",
       "      <td>No</td>\n",
       "      <td>No</td>\n",
       "      <td>No</td>\n",
       "      <td>No</td>\n",
       "      <td>No Dementia</td>\n",
       "    </tr>\n",
       "    <tr>\n",
       "      <th>264</th>\n",
       "      <td>5015</td>\n",
       "      <td>81</td>\n",
       "      <td>Male</td>\n",
       "      <td>African American</td>\n",
       "      <td>22.92</td>\n",
       "      <td>3.807813179139379</td>\n",
       "      <td>8</td>\n",
       "      <td>No</td>\n",
       "      <td>9.31</td>\n",
       "      <td>No</td>\n",
       "      <td>283.13</td>\n",
       "      <td>4</td>\n",
       "      <td>8.68</td>\n",
       "      <td>1.11</td>\n",
       "      <td>No</td>\n",
       "      <td>Yes</td>\n",
       "      <td>No</td>\n",
       "      <td>No</td>\n",
       "      <td>No</td>\n",
       "      <td>Dementia</td>\n",
       "    </tr>\n",
       "    <tr>\n",
       "      <th>1758</th>\n",
       "      <td>6509</td>\n",
       "      <td>62</td>\n",
       "      <td>Male</td>\n",
       "      <td>Caucasian</td>\n",
       "      <td>23.59</td>\n",
       "      <td>3.360431588390945</td>\n",
       "      <td>0</td>\n",
       "      <td>No</td>\n",
       "      <td>1.24</td>\n",
       "      <td>Yes</td>\n",
       "      <td>202.64</td>\n",
       "      <td>5</td>\n",
       "      <td>3.98</td>\n",
       "      <td>18.39</td>\n",
       "      <td>No</td>\n",
       "      <td>No</td>\n",
       "      <td>No</td>\n",
       "      <td>No</td>\n",
       "      <td>No</td>\n",
       "      <td>No Dementia</td>\n",
       "    </tr>\n",
       "    <tr>\n",
       "      <th>1441</th>\n",
       "      <td>6192</td>\n",
       "      <td>80</td>\n",
       "      <td>Female</td>\n",
       "      <td>Other</td>\n",
       "      <td>23.72</td>\n",
       "      <td>1.6250982585740548</td>\n",
       "      <td>5</td>\n",
       "      <td>Yes</td>\n",
       "      <td>12.34</td>\n",
       "      <td>No</td>\n",
       "      <td>264.40</td>\n",
       "      <td>7</td>\n",
       "      <td>2.74</td>\n",
       "      <td>24.10</td>\n",
       "      <td>No</td>\n",
       "      <td>No</td>\n",
       "      <td>No</td>\n",
       "      <td>No</td>\n",
       "      <td>Yes</td>\n",
       "      <td>No Dementia</td>\n",
       "    </tr>\n",
       "  </tbody>\n",
       "</table>\n",
       "</div>"
      ],
      "text/plain": [
       "      Patient_ID  Patient_Age  Gender         Ethnicity    BMI  \\\n",
       "613         5364           61  Female  African American  29.27   \n",
       "1018        5769           81  Female         Caucasian  34.64   \n",
       "264         5015           81    Male  African American  22.92   \n",
       "1758        6509           62    Male         Caucasian  23.59   \n",
       "1441        6192           80  Female             Other  23.72   \n",
       "\n",
       "            Diet_Quality  Physical_Activity Smoking  Alcohol_Consumption  \\\n",
       "613    2.976618872327678                  7      No                14.78   \n",
       "1018   5.280583737322621                  2      No                 7.38   \n",
       "264    3.807813179139379                  8      No                 9.31   \n",
       "1758   3.360431588390945                  0      No                 1.24   \n",
       "1441  1.6250982585740548                  5     Yes                12.34   \n",
       "\n",
       "     Cardiovascular_Disease  Cholesterol_Total  Functional_Assessment  \\\n",
       "613                     Yes             172.68                      8   \n",
       "1018                     No             264.95                      7   \n",
       "264                      No             283.13                      4   \n",
       "1758                    Yes             202.64                      5   \n",
       "1441                     No             264.40                      7   \n",
       "\n",
       "      Activities_Of_Daily_Living   MMSE Memory_Complaints Behavioral_Problems  \\\n",
       "613                         0.78   4.88               Yes                  No   \n",
       "1018                        3.39   9.99                No                  No   \n",
       "264                         8.68   1.11                No                 Yes   \n",
       "1758                        3.98  18.39                No                  No   \n",
       "1441                        2.74  24.10                No                  No   \n",
       "\n",
       "     Personality_Changes Difficulty_Completing_Tasks Depression    Diagnosis  \n",
       "613                   No                          No         No     Dementia  \n",
       "1018                  No                          No         No  No Dementia  \n",
       "264                   No                          No         No     Dementia  \n",
       "1758                  No                          No         No  No Dementia  \n",
       "1441                  No                          No        Yes  No Dementia  "
      ]
     },
     "execution_count": 23,
     "metadata": {},
     "output_type": "execute_result"
    }
   ],
   "source": [
    "processed_df.head()"
   ]
  },
  {
   "cell_type": "markdown",
   "metadata": {},
   "source": [
    "---"
   ]
  },
  {
   "cell_type": "markdown",
   "metadata": {},
   "source": [
    "Matplotlib"
   ]
  },
  {
   "cell_type": "code",
   "execution_count": 26,
   "metadata": {},
   "outputs": [
    {
     "name": "stdout",
     "output_type": "stream",
     "text": [
      "MATPLOTLIB RISK ASSESSMENT VISUALIZATIONS\n",
      "==================================================\n"
     ]
    },
    {
     "ename": "KeyError",
     "evalue": "'Risk_Category'",
     "output_type": "error",
     "traceback": [
      "\u001b[31m---------------------------------------------------------------------------\u001b[39m",
      "\u001b[31mKeyError\u001b[39m                                  Traceback (most recent call last)",
      "\u001b[36mFile \u001b[39m\u001b[32mc:\\Users\\F_bee\\Documents\\vs-code\\vs-code-projects\\healthcare-and-public-health\\.venv\\Lib\\site-packages\\pandas\\core\\indexes\\base.py:3812\u001b[39m, in \u001b[36mIndex.get_loc\u001b[39m\u001b[34m(self, key)\u001b[39m\n\u001b[32m   3811\u001b[39m \u001b[38;5;28;01mtry\u001b[39;00m:\n\u001b[32m-> \u001b[39m\u001b[32m3812\u001b[39m     \u001b[38;5;28;01mreturn\u001b[39;00m \u001b[38;5;28;43mself\u001b[39;49m\u001b[43m.\u001b[49m\u001b[43m_engine\u001b[49m\u001b[43m.\u001b[49m\u001b[43mget_loc\u001b[49m\u001b[43m(\u001b[49m\u001b[43mcasted_key\u001b[49m\u001b[43m)\u001b[49m\n\u001b[32m   3813\u001b[39m \u001b[38;5;28;01mexcept\u001b[39;00m \u001b[38;5;167;01mKeyError\u001b[39;00m \u001b[38;5;28;01mas\u001b[39;00m err:\n",
      "\u001b[36mFile \u001b[39m\u001b[32mpandas/_libs/index.pyx:167\u001b[39m, in \u001b[36mpandas._libs.index.IndexEngine.get_loc\u001b[39m\u001b[34m()\u001b[39m\n",
      "\u001b[36mFile \u001b[39m\u001b[32mpandas/_libs/index.pyx:196\u001b[39m, in \u001b[36mpandas._libs.index.IndexEngine.get_loc\u001b[39m\u001b[34m()\u001b[39m\n",
      "\u001b[36mFile \u001b[39m\u001b[32mpandas/_libs/hashtable_class_helper.pxi:7088\u001b[39m, in \u001b[36mpandas._libs.hashtable.PyObjectHashTable.get_item\u001b[39m\u001b[34m()\u001b[39m\n",
      "\u001b[36mFile \u001b[39m\u001b[32mpandas/_libs/hashtable_class_helper.pxi:7096\u001b[39m, in \u001b[36mpandas._libs.hashtable.PyObjectHashTable.get_item\u001b[39m\u001b[34m()\u001b[39m\n",
      "\u001b[31mKeyError\u001b[39m: 'Risk_Category'",
      "\nThe above exception was the direct cause of the following exception:\n",
      "\u001b[31mKeyError\u001b[39m                                  Traceback (most recent call last)",
      "\u001b[36mCell\u001b[39m\u001b[36m \u001b[39m\u001b[32mIn[26]\u001b[39m\u001b[32m, line 13\u001b[39m\n\u001b[32m     10\u001b[39m ax1 = plt.subplot(\u001b[32m1\u001b[39m, \u001b[32m2\u001b[39m, \u001b[32m1\u001b[39m)\n\u001b[32m     12\u001b[39m \u001b[38;5;66;03m# Create a comprehensive risk matrix showing multiple risk factors\u001b[39;00m\n\u001b[32m---> \u001b[39m\u001b[32m13\u001b[39m risk_high = processed_df[\u001b[43mprocessed_df\u001b[49m\u001b[43m[\u001b[49m\u001b[33;43m'\u001b[39;49m\u001b[33;43mRisk_Category\u001b[39;49m\u001b[33;43m'\u001b[39;49m\u001b[43m]\u001b[49m == \u001b[33m'\u001b[39m\u001b[33mHigh Risk\u001b[39m\u001b[33m'\u001b[39m]\n\u001b[32m     14\u001b[39m risk_medium = processed_df[processed_df[\u001b[33m'\u001b[39m\u001b[33mRisk_Category\u001b[39m\u001b[33m'\u001b[39m] == \u001b[33m'\u001b[39m\u001b[33mMedium Risk\u001b[39m\u001b[33m'\u001b[39m] \n\u001b[32m     15\u001b[39m risk_low = processed_df[processed_df[\u001b[33m'\u001b[39m\u001b[33mRisk_Category\u001b[39m\u001b[33m'\u001b[39m] == \u001b[33m'\u001b[39m\u001b[33mLow Risk\u001b[39m\u001b[33m'\u001b[39m]\n",
      "\u001b[36mFile \u001b[39m\u001b[32mc:\\Users\\F_bee\\Documents\\vs-code\\vs-code-projects\\healthcare-and-public-health\\.venv\\Lib\\site-packages\\pandas\\core\\frame.py:4107\u001b[39m, in \u001b[36mDataFrame.__getitem__\u001b[39m\u001b[34m(self, key)\u001b[39m\n\u001b[32m   4105\u001b[39m \u001b[38;5;28;01mif\u001b[39;00m \u001b[38;5;28mself\u001b[39m.columns.nlevels > \u001b[32m1\u001b[39m:\n\u001b[32m   4106\u001b[39m     \u001b[38;5;28;01mreturn\u001b[39;00m \u001b[38;5;28mself\u001b[39m._getitem_multilevel(key)\n\u001b[32m-> \u001b[39m\u001b[32m4107\u001b[39m indexer = \u001b[38;5;28;43mself\u001b[39;49m\u001b[43m.\u001b[49m\u001b[43mcolumns\u001b[49m\u001b[43m.\u001b[49m\u001b[43mget_loc\u001b[49m\u001b[43m(\u001b[49m\u001b[43mkey\u001b[49m\u001b[43m)\u001b[49m\n\u001b[32m   4108\u001b[39m \u001b[38;5;28;01mif\u001b[39;00m is_integer(indexer):\n\u001b[32m   4109\u001b[39m     indexer = [indexer]\n",
      "\u001b[36mFile \u001b[39m\u001b[32mc:\\Users\\F_bee\\Documents\\vs-code\\vs-code-projects\\healthcare-and-public-health\\.venv\\Lib\\site-packages\\pandas\\core\\indexes\\base.py:3819\u001b[39m, in \u001b[36mIndex.get_loc\u001b[39m\u001b[34m(self, key)\u001b[39m\n\u001b[32m   3814\u001b[39m     \u001b[38;5;28;01mif\u001b[39;00m \u001b[38;5;28misinstance\u001b[39m(casted_key, \u001b[38;5;28mslice\u001b[39m) \u001b[38;5;129;01mor\u001b[39;00m (\n\u001b[32m   3815\u001b[39m         \u001b[38;5;28misinstance\u001b[39m(casted_key, abc.Iterable)\n\u001b[32m   3816\u001b[39m         \u001b[38;5;129;01mand\u001b[39;00m \u001b[38;5;28many\u001b[39m(\u001b[38;5;28misinstance\u001b[39m(x, \u001b[38;5;28mslice\u001b[39m) \u001b[38;5;28;01mfor\u001b[39;00m x \u001b[38;5;129;01min\u001b[39;00m casted_key)\n\u001b[32m   3817\u001b[39m     ):\n\u001b[32m   3818\u001b[39m         \u001b[38;5;28;01mraise\u001b[39;00m InvalidIndexError(key)\n\u001b[32m-> \u001b[39m\u001b[32m3819\u001b[39m     \u001b[38;5;28;01mraise\u001b[39;00m \u001b[38;5;167;01mKeyError\u001b[39;00m(key) \u001b[38;5;28;01mfrom\u001b[39;00m\u001b[38;5;250m \u001b[39m\u001b[34;01merr\u001b[39;00m\n\u001b[32m   3820\u001b[39m \u001b[38;5;28;01mexcept\u001b[39;00m \u001b[38;5;167;01mTypeError\u001b[39;00m:\n\u001b[32m   3821\u001b[39m     \u001b[38;5;66;03m# If we have a listlike key, _check_indexing_error will raise\u001b[39;00m\n\u001b[32m   3822\u001b[39m     \u001b[38;5;66;03m#  InvalidIndexError. Otherwise we fall through and re-raise\u001b[39;00m\n\u001b[32m   3823\u001b[39m     \u001b[38;5;66;03m#  the TypeError.\u001b[39;00m\n\u001b[32m   3824\u001b[39m     \u001b[38;5;28mself\u001b[39m._check_indexing_error(key)\n",
      "\u001b[31mKeyError\u001b[39m: 'Risk_Category'"
     ]
    },
    {
     "data": {
      "image/png": "[encoded data removed]",
      "text/plain": [
       "<Figure size 1600x800 with 1 Axes>"
      ]
     },
     "metadata": {},
     "output_type": "display_data"
    }
   ],
   "source": [
    "# MATPLOTLIB VISUALIZATIONS - Risk Assessment Dashboard\n",
    "print(\"MATPLOTLIB RISK ASSESSMENT VISUALIZATIONS\")\n",
    "print(\"=\" * 50)\n",
    "\n",
    "# Set up the matplotlib style\n",
    "plt.style.use('default')\n",
    "fig = plt.figure(figsize=(16, 8))\n",
    "\n",
    "# Visualization 1: Multi-Risk Factor Analysis Dashboard\n",
    "ax1 = plt.subplot(1, 2, 1)\n",
    "\n",
    "# Create a comprehensive risk matrix showing multiple risk factors\n",
    "risk_high = processed_df[processed_df['Risk_Category'] == 'High Risk']\n",
    "risk_medium = processed_df[processed_df['Risk_Category'] == 'Medium Risk'] \n",
    "risk_low = processed_df[processed_df['Risk_Category'] == 'Low Risk']\n",
    "\n",
    "# Scatter plot with risk factors\n",
    "scatter1 = ax1.scatter(risk_high['MMSE'], risk_high['Patient_Age'], \n",
    "                      s=risk_high['BMI']*3, c='red', alpha=0.7, \n",
    "                      label=f'High Risk (n={len(risk_high)})')\n",
    "scatter2 = ax1.scatter(risk_medium['MMSE'], risk_medium['Patient_Age'], \n",
    "                      s=risk_medium['BMI']*3, c='orange', alpha=0.7,\n",
    "                      label=f'Medium Risk (n={len(risk_medium)})')\n",
    "scatter3 = ax1.scatter(risk_low['MMSE'], risk_low['Patient_Age'], \n",
    "                      s=risk_low['BMI']*3, c='green', alpha=0.7,\n",
    "                      label=f'Low Risk (n={len(risk_low)})')\n",
    "\n",
    "# Add risk threshold lines\n",
    "ax1.axvline(x=24, color='black', linestyle='--', alpha=0.5, label='Normal MMSE Threshold')\n",
    "ax1.axvline(x=18, color='red', linestyle='--', alpha=0.7, label='Cognitive Impairment Threshold')\n",
    "ax1.axhline(y=75, color='blue', linestyle='--', alpha=0.5, label='High Age Risk Threshold')\n",
    "\n",
    "ax1.set_xlabel('MMSE Score (Cognitive Function)', fontsize=11, fontweight='bold')\n",
    "ax1.set_ylabel('Patient Age', fontsize=11, fontweight='bold')\n",
    "ax1.set_title('Risk Assessment Matrix\\n(Bubble size = BMI)', fontsize=12, fontweight='bold')\n",
    "ax1.legend(loc='upper right', fontsize=9)\n",
    "ax1.grid(True, alpha=0.3)\n",
    "\n",
    "# Visualization 2: Early Detection Alert Dashboard\n",
    "ax2 = plt.subplot(1, 2, 2)\n",
    "\n",
    "# Create risk score distribution with alert thresholds\n",
    "risk_scores = processed_df['Risk_Score']\n",
    "n_bins = 20\n",
    "\n",
    "# Histogram with color coding\n",
    "counts, bins, patches = ax2.hist(risk_scores, bins=n_bins, alpha=0.8, edgecolor='black')\n",
    "\n",
    "# Color code the histogram bars based on risk levels\n",
    "for i, patch in enumerate(patches):\n",
    "    if bins[i] >= 7:  # High risk\n",
    "        patch.set_facecolor('red')\n",
    "        patch.set_alpha(0.8)\n",
    "    elif bins[i] >= 5:  # Medium risk\n",
    "        patch.set_facecolor('orange')\n",
    "        patch.set_alpha(0.8)\n",
    "    else:  # Low risk\n",
    "        patch.set_facecolor('green')\n",
    "        patch.set_alpha(0.8)\n",
    "\n",
    "# Add vertical lines for risk thresholds\n",
    "ax2.axvline(x=5, color='orange', linestyle='-', linewidth=2, label='Medium Risk Threshold')\n",
    "ax2.axvline(x=7, color='red', linestyle='-', linewidth=2, label='High Risk Threshold')\n",
    "\n",
    "# Add early detection statistics\n",
    "early_detection_count = processed_df['Early_Detection_Flag'].sum()\n",
    "ax2.text(0.02, 0.98, f'Early Detection Alerts: {early_detection_count}', \n",
    "         transform=ax2.transAxes, fontsize=10, fontweight='bold',\n",
    "         bbox=dict(boxstyle=\"round,pad=0.3\", facecolor=\"yellow\", alpha=0.7),\n",
    "         verticalalignment='top')\n",
    "\n",
    "# Add high-risk patient count\n",
    "high_risk_count = len(risk_high)\n",
    "ax2.text(0.02, 0.88, f'High Risk Patients: {high_risk_count}', \n",
    "         transform=ax2.transAxes, fontsize=10, fontweight='bold',\n",
    "         bbox=dict(boxstyle=\"round,pad=0.3\", facecolor=\"red\", alpha=0.7),\n",
    "         verticalalignment='top')\n",
    "\n",
    "ax2.set_xlabel('Risk Score', fontsize=11, fontweight='bold')\n",
    "ax2.set_ylabel('Number of Patients', fontsize=11, fontweight='bold')\n",
    "ax2.set_title('Risk Score Distribution\\n& Early Detection Alerts', fontsize=12, fontweight='bold')\n",
    "ax2.legend(loc='upper right', fontsize=9)\n",
    "ax2.grid(True, alpha=0.3)\n",
    "\n",
    "plt.tight_layout()\n",
    "plt.suptitle('Healthcare Risk Assessment & Early Detection Dashboard - Matplotlib', \n",
    "             fontsize=14, fontweight='bold', y=1.02)\n",
    "plt.show()\n",
    "\n",
    "print(f\"\\nDashboard Insights:\")\n",
    "print(f\"• {high_risk_count} patients require immediate attention\")\n",
    "print(f\"• {early_detection_count} patients flagged for early detection\")\n",
    "print(f\"• Risk scores range from {risk_scores.min():.1f} to {risk_scores.max():.1f}\")\n",
    "print(f\"• Average risk score: {risk_scores.mean():.2f}\")\n",
    "print(\"=\" * 50)"
   ]
  },
  {
   "cell_type": "markdown",
   "metadata": {},
   "source": [
    "Seaborn"
   ]
  },
  {
   "cell_type": "code",
   "execution_count": null,
   "metadata": {},
   "outputs": [
    {
     "name": "stdout",
     "output_type": "stream",
     "text": [
      "SEABORN ADVANCED RISK PATTERN ANALYSIS\n",
      "==================================================\n",
      "Creating comprehensive risk factor correlation heatmap...\n",
      "Creating risk category distribution with clinical insights...\n",
      "Creating risk category distribution with clinical insights...\n"
     ]
    },
    {
     "name": "stderr",
     "output_type": "stream",
     "text": [
      "C:\\Users\\F_bee\\AppData\\Local\\Temp\\ipykernel_17976\\1824241701.py:57: FutureWarning: \n",
      "\n",
      "Passing `palette` without assigning `hue` is deprecated and will be removed in v0.14.0. Assign the `x` variable to `hue` and set `legend=False` for the same effect.\n",
      "\n",
      "  sns.violinplot(data=processed_df, x='Risk_Category', y=metric,\n",
      "C:\\Users\\F_bee\\AppData\\Local\\Temp\\ipykernel_17976\\1824241701.py:61: FutureWarning: \n",
      "\n",
      "Passing `palette` without assigning `hue` is deprecated and will be removed in v0.14.0. Assign the `x` variable to `hue` and set `legend=False` for the same effect.\n",
      "\n",
      "  sns.boxplot(data=processed_df, x='Risk_Category', y=metric,\n",
      "C:\\Users\\F_bee\\AppData\\Local\\Temp\\ipykernel_17976\\1824241701.py:61: FutureWarning: \n",
      "\n",
      "Passing `palette` without assigning `hue` is deprecated and will be removed in v0.14.0. Assign the `x` variable to `hue` and set `legend=False` for the same effect.\n",
      "\n",
      "  sns.boxplot(data=processed_df, x='Risk_Category', y=metric,\n",
      "C:\\Users\\F_bee\\AppData\\Local\\Temp\\ipykernel_17976\\1824241701.py:57: FutureWarning: \n",
      "\n",
      "Passing `palette` without assigning `hue` is deprecated and will be removed in v0.14.0. Assign the `x` variable to `hue` and set `legend=False` for the same effect.\n",
      "\n",
      "  sns.violinplot(data=processed_df, x='Risk_Category', y=metric,\n",
      "C:\\Users\\F_bee\\AppData\\Local\\Temp\\ipykernel_17976\\1824241701.py:57: FutureWarning: \n",
      "\n",
      "Passing `palette` without assigning `hue` is deprecated and will be removed in v0.14.0. Assign the `x` variable to `hue` and set `legend=False` for the same effect.\n",
      "\n",
      "  sns.violinplot(data=processed_df, x='Risk_Category', y=metric,\n",
      "C:\\Users\\F_bee\\AppData\\Local\\Temp\\ipykernel_17976\\1824241701.py:61: FutureWarning: \n",
      "\n",
      "Passing `palette` without assigning `hue` is deprecated and will be removed in v0.14.0. Assign the `x` variable to `hue` and set `legend=False` for the same effect.\n",
      "\n",
      "  sns.boxplot(data=processed_df, x='Risk_Category', y=metric,\n",
      "C:\\Users\\F_bee\\AppData\\Local\\Temp\\ipykernel_17976\\1824241701.py:61: FutureWarning: \n",
      "\n",
      "Passing `palette` without assigning `hue` is deprecated and will be removed in v0.14.0. Assign the `x` variable to `hue` and set `legend=False` for the same effect.\n",
      "\n",
      "  sns.boxplot(data=processed_df, x='Risk_Category', y=metric,\n",
      "C:\\Users\\F_bee\\AppData\\Local\\Temp\\ipykernel_17976\\1824241701.py:57: FutureWarning: \n",
      "\n",
      "Passing `palette` without assigning `hue` is deprecated and will be removed in v0.14.0. Assign the `x` variable to `hue` and set `legend=False` for the same effect.\n",
      "\n",
      "  sns.violinplot(data=processed_df, x='Risk_Category', y=metric,\n",
      "C:\\Users\\F_bee\\AppData\\Local\\Temp\\ipykernel_17976\\1824241701.py:61: FutureWarning: \n",
      "\n",
      "Passing `palette` without assigning `hue` is deprecated and will be removed in v0.14.0. Assign the `x` variable to `hue` and set `legend=False` for the same effect.\n",
      "\n",
      "  sns.boxplot(data=processed_df, x='Risk_Category', y=metric,\n",
      "C:\\Users\\F_bee\\AppData\\Local\\Temp\\ipykernel_17976\\1824241701.py:57: FutureWarning: \n",
      "\n",
      "Passing `palette` without assigning `hue` is deprecated and will be removed in v0.14.0. Assign the `x` variable to `hue` and set `legend=False` for the same effect.\n",
      "\n",
      "  sns.violinplot(data=processed_df, x='Risk_Category', y=metric,\n",
      "C:\\Users\\F_bee\\AppData\\Local\\Temp\\ipykernel_17976\\1824241701.py:61: FutureWarning: \n",
      "\n",
      "Passing `palette` without assigning `hue` is deprecated and will be removed in v0.14.0. Assign the `x` variable to `hue` and set `legend=False` for the same effect.\n",
      "\n",
      "  sns.boxplot(data=processed_df, x='Risk_Category', y=metric,\n",
      "C:\\Users\\F_bee\\AppData\\Local\\Temp\\ipykernel_17976\\1824241701.py:57: FutureWarning: \n",
      "\n",
      "Passing `palette` without assigning `hue` is deprecated and will be removed in v0.14.0. Assign the `x` variable to `hue` and set `legend=False` for the same effect.\n",
      "\n",
      "  sns.violinplot(data=processed_df, x='Risk_Category', y=metric,\n",
      "C:\\Users\\F_bee\\AppData\\Local\\Temp\\ipykernel_17976\\1824241701.py:61: FutureWarning: \n",
      "\n",
      "Passing `palette` without assigning `hue` is deprecated and will be removed in v0.14.0. Assign the `x` variable to `hue` and set `legend=False` for the same effect.\n",
      "\n",
      "  sns.boxplot(data=processed_df, x='Risk_Category', y=metric,\n",
      "C:\\Users\\F_bee\\AppData\\Local\\Temp\\ipykernel_17976\\1824241701.py:57: FutureWarning: \n",
      "\n",
      "Passing `palette` without assigning `hue` is deprecated and will be removed in v0.14.0. Assign the `x` variable to `hue` and set `legend=False` for the same effect.\n",
      "\n",
      "  sns.violinplot(data=processed_df, x='Risk_Category', y=metric,\n",
      "C:\\Users\\F_bee\\AppData\\Local\\Temp\\ipykernel_17976\\1824241701.py:61: FutureWarning: \n",
      "\n",
      "Passing `palette` without assigning `hue` is deprecated and will be removed in v0.14.0. Assign the `x` variable to `hue` and set `legend=False` for the same effect.\n",
      "\n",
      "  sns.boxplot(data=processed_df, x='Risk_Category', y=metric,\n",
      "C:\\Users\\F_bee\\AppData\\Local\\Temp\\ipykernel_17976\\1824241701.py:96: UserWarning: No artists with labels found to put in legend.  Note that artists whose label start with an underscore are ignored when legend() is called with no argument.\n",
      "  axes[i].legend(loc='best', fontsize=8)\n",
      "C:\\Users\\F_bee\\AppData\\Local\\Temp\\ipykernel_17976\\1824241701.py:96: UserWarning: No artists with labels found to put in legend.  Note that artists whose label start with an underscore are ignored when legend() is called with no argument.\n",
      "  axes[i].legend(loc='best', fontsize=8)\n"
     ]
    },
    {
     "data": {
      "image/png": "[encoded data removed]",
      "text/plain": [
       "<Figure size 1800x800 with 3 Axes>"
      ]
     },
     "metadata": {},
     "output_type": "display_data"
    },
    {
     "data": {
      "image/png": "[encoded data removed]",
      "text/plain": [
       "<Figure size 1600x1200 with 4 Axes>"
      ]
     },
     "metadata": {},
     "output_type": "display_data"
    },
    {
     "name": "stdout",
     "output_type": "stream",
     "text": [
      "\n",
      "Clinical Risk Insights:\n",
      "========================================\n",
      "\n",
      "High Risk Patients (n=195):\n",
      "  • Average MMSE: 10.5\n",
      "  • Average Age: 82.4\n",
      "  • Average BMI: 28.4\n",
      "  • Early Detection Flags: 195\n",
      "\n",
      "Medium Risk Patients (n=219):\n",
      "  • Average MMSE: 14.7\n",
      "  • Average Age: 72.8\n",
      "  • Average BMI: 27.5\n",
      "  • Early Detection Flags: 210\n",
      "\n",
      "Low Risk Patients (n=123):\n",
      "  • Average MMSE: 21.4\n",
      "  • Average Age: 66.0\n",
      "  • Average BMI: 26.7\n",
      "  • Early Detection Flags: 64\n",
      "==================================================\n"
     ]
    }
   ],
   "source": [
    "# SEABORN VISUALIZATIONS - Advanced Risk Pattern Analysis\n",
    "print(\"SEABORN ADVANCED RISK PATTERN ANALYSIS\")\n",
    "print(\"=\" * 50)\n",
    "\n",
    "# Set seaborn style for professional healthcare dashboard\n",
    "sns.set_style(\"whitegrid\")\n",
    "sns.set_palette(\"husl\")\n",
    "\n",
    "fig, ((ax1, ax2)) = plt.subplots(1, 2, figsize=(18, 8))\n",
    "\n",
    "# Visualization 1: Multi-dimensional Risk Heatmap\n",
    "print(\"Creating comprehensive risk factor correlation heatmap...\")\n",
    "\n",
    "# Select key risk variables for correlation analysis\n",
    "risk_variables = ['Patient_Age', 'MMSE', 'BMI', 'Cholesterol_Total', \n",
    "                  'Functional_Assessment', 'Physical_Activity', \n",
    "                  'Alcohol_Consumption', 'Risk_Score']\n",
    "\n",
    "# Create correlation matrix\n",
    "risk_correlation = processed_df[risk_variables].corr()\n",
    "\n",
    "# Create annotated heatmap\n",
    "sns.heatmap(risk_correlation, \n",
    "            annot=True, \n",
    "            cmap='RdYlBu_r',\n",
    "            center=0,\n",
    "            square=True,\n",
    "            fmt='.2f',\n",
    "            cbar_kws={\"shrink\": 0.8},\n",
    "            ax=ax1,\n",
    "            linewidths=0.5)\n",
    "\n",
    "ax1.set_title('Risk Factor Correlation Heatmap\\nEarly Detection Insights', \n",
    "              fontsize=12, fontweight='bold', pad=20)\n",
    "ax1.set_xlabel('Health Risk Factors', fontsize=10, fontweight='bold')\n",
    "ax1.set_ylabel('Health Risk Factors', fontsize=10, fontweight='bold')\n",
    "\n",
    "# Rotate labels for better readability\n",
    "ax1.set_xticklabels(ax1.get_xticklabels(), rotation=45, ha='right')\n",
    "ax1.set_yticklabels(ax1.get_yticklabels(), rotation=0)\n",
    "\n",
    "# Visualization 2: Risk Category Distribution with Clinical Metrics\n",
    "print(\"Creating risk category distribution with clinical insights...\")\n",
    "\n",
    "# Prepare data for comprehensive boxplot analysis\n",
    "clinical_metrics = ['MMSE', 'BMI', 'Cholesterol_Total', 'Patient_Age']\n",
    "\n",
    "# Create subplot structure for multiple clinical metrics\n",
    "fig2, axes = plt.subplots(2, 2, figsize=(16, 12))\n",
    "axes = axes.ravel()\n",
    "\n",
    "# Custom color palette for risk categories\n",
    "risk_colors = {'Low Risk': '#2ecc71', 'Medium Risk': '#f39c12', 'High Risk': '#e74c3c'}\n",
    "\n",
    "for i, metric in enumerate(clinical_metrics):\n",
    "    # Create violin plot with box plot overlay\n",
    "    sns.violinplot(data=processed_df, x='Risk_Category', y=metric, \n",
    "                   palette=risk_colors, ax=axes[i], inner=None, alpha=0.7)\n",
    "    \n",
    "    # Add box plot for detailed statistics\n",
    "    sns.boxplot(data=processed_df, x='Risk_Category', y=metric, \n",
    "                palette=risk_colors, ax=axes[i], width=0.3, \n",
    "                boxprops=dict(alpha=0.8))\n",
    "    \n",
    "    # Add swarm plot for individual patient data points\n",
    "    sns.swarmplot(data=processed_df, x='Risk_Category', y=metric, \n",
    "                  color='black', alpha=0.4, size=2, ax=axes[i])\n",
    "    \n",
    "    axes[i].set_title(f'{metric} Distribution by Risk Category', \n",
    "                      fontsize=11, fontweight='bold')\n",
    "    axes[i].set_xlabel('Risk Category', fontsize=10, fontweight='bold')\n",
    "    axes[i].set_ylabel(metric, fontsize=10, fontweight='bold')\n",
    "    axes[i].grid(True, alpha=0.3)\n",
    "    \n",
    "    # Add statistical annotations\n",
    "    high_risk_median = processed_df[processed_df['Risk_Category'] == 'High Risk'][metric].median()\n",
    "    low_risk_median = processed_df[processed_df['Risk_Category'] == 'Low Risk'][metric].median()\n",
    "    \n",
    "    # Add text annotation with clinical significance\n",
    "    if metric == 'MMSE':\n",
    "        axes[i].axhline(y=24, color='red', linestyle='--', alpha=0.7, \n",
    "                       label='Normal Threshold')\n",
    "        axes[i].axhline(y=18, color='darkred', linestyle='--', alpha=0.7, \n",
    "                       label='Impairment Threshold')\n",
    "    elif metric == 'BMI':\n",
    "        axes[i].axhline(y=25, color='orange', linestyle='--', alpha=0.7, \n",
    "                       label='Overweight Threshold')\n",
    "        axes[i].axhline(y=30, color='red', linestyle='--', alpha=0.7, \n",
    "                       label='Obesity Threshold')\n",
    "    elif metric == 'Cholesterol_Total':\n",
    "        axes[i].axhline(y=200, color='yellow', linestyle='--', alpha=0.7, \n",
    "                       label='Recommended Level')\n",
    "        axes[i].axhline(y=240, color='red', linestyle='--', alpha=0.7, \n",
    "                       label='High Risk Level')\n",
    "    \n",
    "    axes[i].legend(loc='best', fontsize=8)\n",
    "\n",
    "plt.tight_layout()\n",
    "plt.suptitle('Clinical Risk Assessment Dashboard - Advanced Pattern Analysis', \n",
    "             fontsize=14, fontweight='bold', y=1.02)\n",
    "plt.show()\n",
    "\n",
    "# Risk category insights\n",
    "print(f\"\\nClinical Risk Insights:\")\n",
    "print(\"=\" * 40)\n",
    "for risk_cat in ['High Risk', 'Medium Risk', 'Low Risk']:\n",
    "    subset = processed_df[processed_df['Risk_Category'] == risk_cat]\n",
    "    print(f\"\\n{risk_cat} Patients (n={len(subset)}):\")\n",
    "    print(f\"  • Average MMSE: {subset['MMSE'].mean():.1f}\")\n",
    "    print(f\"  • Average Age: {subset['Patient_Age'].mean():.1f}\")\n",
    "    print(f\"  • Average BMI: {subset['BMI'].mean():.1f}\")\n",
    "    print(f\"  • Early Detection Flags: {subset['Early_Detection_Flag'].sum()}\")\n",
    "\n",
    "print(\"=\" * 50)"
   ]
  },
  {
   "cell_type": "markdown",
   "metadata": {},
   "source": [
    "Plotly"
   ]
  },
  {
   "cell_type": "code",
   "execution_count": null,
   "metadata": {},
   "outputs": [
    {
     "name": "stdout",
     "output_type": "stream",
     "text": [
      "PLOTLY INTERACTIVE RISK MONITORING DASHBOARD\n",
      "==================================================\n",
      "Creating interactive 3D risk assessment visualization...\n"
     ]
    },
    {
     "data": {
      "application/vnd.plotly.v1+json": {
       "config": {
        "plotlyServerURL": "https://plot.ly"
       },
       "data": [
        {
         "hovertemplate": "<b>%{text}</b><br>Risk Category: Low Risk<extra></extra>",
         "marker": {
          "color": "green",
          "line": {
           "color": "black",
           "width": 2
          },
          "opacity": 0.8,
          "size": {
           "bdata": "MzMzMzMzI0BmZmZmZmYaQGZmZmZmZh5AMzMzMzMzIUCamZmZmZkdQGZmZmZmZhZAAAAAAAAAIEBmZmZmZmYaQJqZmZmZmRlAZmZmZmZmGkAzMzMzMzMhQDMzMzMzMyNAZmZmZmZmIkDNzMzMzMwgQGZmZmZmZhJAmpmZmZmZHUDNzMzMzMwiQDMzMzMzMyFAMzMzMzMzI0AAAAAAAAAYQAAAAAAAABhAMzMzMzMzIUAzMzMzMzMhQGZmZmZmZhJAMzMzMzMzI0DNzMzMzMwcQM3MzMzMzBxAZmZmZmZmIEAzMzMzMzMhQAAAAAAAABxAMzMzMzMzIUBmZmZmZmYWQDMzMzMzMyFAZmZmZmZmGkAzMzMzMzMjQGZmZmZmZh5AMzMzMzMzI0AzMzMzMzMhQGZmZmZmZhpAmpmZmZmZHUAAAAAAAAAgQM3MzMzMzCBAmpmZmZmZHUBmZmZmZmYeQM3MzMzMzBxAAAAAAAAAIEDNzMzMzMwiQGZmZmZmZh5AZmZmZmZmHkAzMzMzMzMhQDMzMzMzMyNAMzMzMzMzIUAzMzMzMzMjQAAAAAAAABhAMzMzMzMzI0CamZmZmZkdQDMzMzMzMyNAZmZmZmZmIkAzMzMzMzMjQDMzMzMzMyNAZmZmZmZmHkAAAAAAAAAgQM3MzMzMzCJAZmZmZmZmIkBmZmZmZmYiQM3MzMzMzBxAMzMzMzMzIUBmZmZmZmYWQDMzMzMzMyFAZmZmZmZmGkAAAAAAAAAiQDMzMzMzMyNAAAAAAAAAIkDNzMzMzMwcQM3MzMzMzCJAAAAAAAAAIEAzMzMzMzMjQGZmZmZmZiJAZmZmZmZmIEBmZmZmZmYiQDMzMzMzMyFAAAAAAAAAGEAAAAAAAAAgQM3MzMzMzBRAZmZmZmZmFkAzMzMzMzMhQM3MzMzMzCBAMzMzMzMzI0BmZmZmZmYWQGZmZmZmZhJAMzMzMzMzIUDNzMzMzMwgQDMzMzMzMyFAMzMzMzMzI0AzMzMzMzMjQDMzMzMzMyFAmpmZmZmZHUAzMzMzMzMhQGZmZmZmZiJAzczMzMzMHEBmZmZmZmYSQDMzMzMzMyNAMzMzMzMzIUBmZmZmZmYiQDMzMzMzMyNAAAAAAAAAGEBmZmZmZmYSQGZmZmZmZhJAAAAAAAAAIkBmZmZmZmYaQDMzMzMzMyNAMzMzMzMzI0DNzMzMzMwiQGZmZmZmZhpAAAAAAAAAIkDNzMzMzMwiQAAAAAAAACBAzczMzMzMIEBmZmZmZmYiQDMzMzMzMyFAZmZmZmZmFkAzMzMzMzMjQGZmZmZmZhpA",
           "dtype": "f8"
          }
         },
         "mode": "markers",
         "name": "Low Risk (n=123)",
         "text": [
          "Patient Age: 61<br>MMSE: 4.88<br>BMI: 29.27<br>Risk Score: 4.8<br>Cholesterol: 172.68",
          "Patient Age: 62<br>MMSE: 18.39<br>BMI: 23.59<br>Risk Score: 3.3<br>Cholesterol: 202.64",
          "Patient Age: 60<br>MMSE: 18.14<br>BMI: 22.71<br>Risk Score: 3.8<br>Cholesterol: 151.72",
          "Patient Age: 66<br>MMSE: 21.59<br>BMI: 37.74<br>Risk Score: 4.3<br>Cholesterol: 188.79",
          "Patient Age: 66<br>MMSE: 19.83<br>BMI: 25.83<br>Risk Score: 3.7<br>Cholesterol: 193.77",
          "Patient Age: 63<br>MMSE: 26.41<br>BMI: 19.41<br>Risk Score: 2.8<br>Cholesterol: 207.02",
          "Patient Age: 72<br>MMSE: 24.2<br>BMI: 26.3<br>Risk Score: 4.0<br>Cholesterol: 229.47",
          "Patient Age: 64<br>MMSE: 19.78<br>BMI: 20.24<br>Risk Score: 3.3<br>Cholesterol: 192.49",
          "Patient Age: 68<br>MMSE: 24.36<br>BMI: 22.3<br>Risk Score: 3.2<br>Cholesterol: 285.62",
          "Patient Age: 66<br>MMSE: 25.88<br>BMI: 29.42<br>Risk Score: 3.3<br>Cholesterol: 270.21",
          "Patient Age: 67<br>MMSE: 17.8<br>BMI: 29.15<br>Risk Score: 4.3<br>Cholesterol: 187.06",
          "Patient Age: 75<br>MMSE: 24.09<br>BMI: 22.81<br>Risk Score: 4.8<br>Cholesterol: 286.7",
          "Patient Age: 67<br>MMSE: 14.68<br>BMI: 27.36<br>Risk Score: 4.6<br>Cholesterol: 247.51",
          "Patient Age: 69<br>MMSE: 22.21<br>BMI: 24.98<br>Risk Score: 4.2<br>Cholesterol: 299.89",
          "Patient Age: 66<br>MMSE: 25.89<br>BMI: 28.73<br>Risk Score: 2.3<br>Cholesterol: 186.98",
          "Patient Age: 63<br>MMSE: 20.38<br>BMI: 20.97<br>Risk Score: 3.7<br>Cholesterol: 209.78",
          "Patient Age: 61<br>MMSE: 23.03<br>BMI: 35.6<br>Risk Score: 4.7<br>Cholesterol: 232.59",
          "Patient Age: 65<br>MMSE: 23.79<br>BMI: 35.14<br>Risk Score: 4.3<br>Cholesterol: 227.27",
          "Patient Age: 74<br>MMSE: 18.97<br>BMI: 26.43<br>Risk Score: 4.8<br>Cholesterol: 158.87",
          "Patient Age: 60<br>MMSE: 24.56<br>BMI: 24.62<br>Risk Score: 3.0<br>Cholesterol: 257.99",
          "Patient Age: 67<br>MMSE: 27.78<br>BMI: 28.17<br>Risk Score: 3.0<br>Cholesterol: 174.42",
          "Patient Age: 67<br>MMSE: 11.76<br>BMI: 22.98<br>Risk Score: 4.3<br>Cholesterol: 201.35",
          "Patient Age: 66<br>MMSE: 25.26<br>BMI: 39.74<br>Risk Score: 4.3<br>Cholesterol: 272.93",
          "Patient Age: 62<br>MMSE: 25.8<br>BMI: 24.04<br>Risk Score: 2.3<br>Cholesterol: 174.64",
          "Patient Age: 64<br>MMSE: 16.04<br>BMI: 22.53<br>Risk Score: 4.8<br>Cholesterol: 293.22",
          "Patient Age: 69<br>MMSE: 22.02<br>BMI: 28.34<br>Risk Score: 3.6<br>Cholesterol: 268.68",
          "Patient Age: 60<br>MMSE: 29.03<br>BMI: 38.18<br>Risk Score: 3.6<br>Cholesterol: 241.42",
          "Patient Age: 71<br>MMSE: 27.2<br>BMI: 18.8<br>Risk Score: 4.1<br>Cholesterol: 267.77",
          "Patient Age: 66<br>MMSE: 18.07<br>BMI: 35.65<br>Risk Score: 4.3<br>Cholesterol: 228.27",
          "Patient Age: 62<br>MMSE: 25.0<br>BMI: 34.15<br>Risk Score: 3.5<br>Cholesterol: 251.58",
          "Patient Age: 62<br>MMSE: 22.36<br>BMI: 17.46<br>Risk Score: 4.3<br>Cholesterol: 167.56",
          "Patient Age: 64<br>MMSE: 24.43<br>BMI: 34.88<br>Risk Score: 2.8<br>Cholesterol: 222.51",
          "Patient Age: 69<br>MMSE: 16.05<br>BMI: 25.06<br>Risk Score: 4.3<br>Cholesterol: 167.4",
          "Patient Age: 62<br>MMSE: 29.96<br>BMI: 16.95<br>Risk Score: 3.3<br>Cholesterol: 215.41",
          "Patient Age: 68<br>MMSE: 5.13<br>BMI: 26.63<br>Risk Score: 4.8<br>Cholesterol: 172.5",
          "Patient Age: 70<br>MMSE: 25.16<br>BMI: 30.17<br>Risk Score: 3.8<br>Cholesterol: 183.83",
          "Patient Age: 72<br>MMSE: 28.46<br>BMI: 16.33<br>Risk Score: 4.8<br>Cholesterol: 286.88",
          "Patient Age: 72<br>MMSE: 24.17<br>BMI: 35.5<br>Risk Score: 4.3<br>Cholesterol: 202.23",
          "Patient Age: 62<br>MMSE: 20.83<br>BMI: 22.44<br>Risk Score: 3.3<br>Cholesterol: 214.44",
          "Patient Age: 67<br>MMSE: 22.86<br>BMI: 29.3<br>Risk Score: 3.7<br>Cholesterol: 214.99",
          "Patient Age: 64<br>MMSE: 21.54<br>BMI: 24.95<br>Risk Score: 4.0<br>Cholesterol: 275.93",
          "Patient Age: 65<br>MMSE: 20.21<br>BMI: 24.88<br>Risk Score: 4.2<br>Cholesterol: 297.73",
          "Patient Age: 64<br>MMSE: 28.35<br>BMI: 39.35<br>Risk Score: 3.7<br>Cholesterol: 214.93",
          "Patient Age: 64<br>MMSE: 19.46<br>BMI: 29.09<br>Risk Score: 3.8<br>Cholesterol: 150.19",
          "Patient Age: 61<br>MMSE: 22.46<br>BMI: 22.12<br>Risk Score: 3.6<br>Cholesterol: 260.63",
          "Patient Age: 67<br>MMSE: 22.78<br>BMI: 27.79<br>Risk Score: 4.0<br>Cholesterol: 175.64",
          "Patient Age: 79<br>MMSE: 25.52<br>BMI: 22.83<br>Risk Score: 4.7<br>Cholesterol: 209.22",
          "Patient Age: 60<br>MMSE: 23.8<br>BMI: 27.56<br>Risk Score: 3.8<br>Cholesterol: 284.83",
          "Patient Age: 74<br>MMSE: 26.34<br>BMI: 33.78<br>Risk Score: 3.8<br>Cholesterol: 235.27",
          "Patient Age: 71<br>MMSE: 28.72<br>BMI: 18.43<br>Risk Score: 4.3<br>Cholesterol: 189.98",
          "Patient Age: 65<br>MMSE: 3.0<br>BMI: 28.76<br>Risk Score: 4.8<br>Cholesterol: 200.67",
          "Patient Age: 70<br>MMSE: 19.6<br>BMI: 22.78<br>Risk Score: 4.3<br>Cholesterol: 166.68",
          "Patient Age: 61<br>MMSE: 23.87<br>BMI: 19.39<br>Risk Score: 4.8<br>Cholesterol: 275.14",
          "Patient Age: 65<br>MMSE: 24.07<br>BMI: 25.04<br>Risk Score: 3.0<br>Cholesterol: 277.64",
          "Patient Age: 60<br>MMSE: 16.64<br>BMI: 31.57<br>Risk Score: 4.8<br>Cholesterol: 195.47",
          "Patient Age: 71<br>MMSE: 25.38<br>BMI: 22.62<br>Risk Score: 3.7<br>Cholesterol: 203.41",
          "Patient Age: 63<br>MMSE: 5.4<br>BMI: 24.11<br>Risk Score: 4.8<br>Cholesterol: 235.09",
          "Patient Age: 62<br>MMSE: 17.91<br>BMI: 23.2<br>Risk Score: 4.6<br>Cholesterol: 267.36",
          "Patient Age: 76<br>MMSE: 26.86<br>BMI: 20.28<br>Risk Score: 4.8<br>Cholesterol: 154.31",
          "Patient Age: 66<br>MMSE: 23.28<br>BMI: 36.16<br>Risk Score: 4.8<br>Cholesterol: 152.72",
          "Patient Age: 72<br>MMSE: 29.99<br>BMI: 26.12<br>Risk Score: 3.8<br>Cholesterol: 152.54",
          "Patient Age: 62<br>MMSE: 25.88<br>BMI: 16.75<br>Risk Score: 4.0<br>Cholesterol: 263.38",
          "Patient Age: 61<br>MMSE: 18.49<br>BMI: 39.67<br>Risk Score: 4.7<br>Cholesterol: 183.24",
          "Patient Age: 62<br>MMSE: 12.78<br>BMI: 20.45<br>Risk Score: 4.6<br>Cholesterol: 266.68",
          "Patient Age: 60<br>MMSE: 14.65<br>BMI: 21.8<br>Risk Score: 4.6<br>Cholesterol: 279.68",
          "Patient Age: 69<br>MMSE: 23.36<br>BMI: 26.09<br>Risk Score: 3.6<br>Cholesterol: 267.56",
          "Patient Age: 63<br>MMSE: 21.72<br>BMI: 17.76<br>Risk Score: 4.3<br>Cholesterol: 231.55",
          "Patient Age: 60<br>MMSE: 27.93<br>BMI: 33.04<br>Risk Score: 2.8<br>Cholesterol: 214.57",
          "Patient Age: 71<br>MMSE: 27.96<br>BMI: 36.8<br>Risk Score: 4.3<br>Cholesterol: 186.43",
          "Patient Age: 68<br>MMSE: 28.81<br>BMI: 36.96<br>Risk Score: 3.3<br>Cholesterol: 238.03",
          "Patient Age: 65<br>MMSE: 20.7<br>BMI: 29.05<br>Risk Score: 4.5<br>Cholesterol: 150.44",
          "Patient Age: 70<br>MMSE: 21.22<br>BMI: 30.44<br>Risk Score: 4.8<br>Cholesterol: 200.07",
          "Patient Age: 62<br>MMSE: 18.5<br>BMI: 34.8<br>Risk Score: 4.5<br>Cholesterol: 271.43",
          "Patient Age: 62<br>MMSE: 19.53<br>BMI: 23.36<br>Risk Score: 3.6<br>Cholesterol: 278.91",
          "Patient Age: 61<br>MMSE: 12.07<br>BMI: 27.33<br>Risk Score: 4.7<br>Cholesterol: 226.95",
          "Patient Age: 69<br>MMSE: 18.49<br>BMI: 24.03<br>Risk Score: 4.0<br>Cholesterol: 237.87",
          "Patient Age: 77<br>MMSE: 26.48<br>BMI: 19.41<br>Risk Score: 4.8<br>Cholesterol: 223.03",
          "Patient Age: 72<br>MMSE: 24.87<br>BMI: 18.25<br>Risk Score: 4.6<br>Cholesterol: 244.63",
          "Patient Age: 68<br>MMSE: 20.17<br>BMI: 34.24<br>Risk Score: 4.1<br>Cholesterol: 261.48",
          "Patient Age: 68<br>MMSE: 11.0<br>BMI: 20.59<br>Risk Score: 4.6<br>Cholesterol: 265.88",
          "Patient Age: 67<br>MMSE: 10.38<br>BMI: 21.61<br>Risk Score: 4.3<br>Cholesterol: 165.66",
          "Patient Age: 67<br>MMSE: 27.46<br>BMI: 26.39<br>Risk Score: 3.0<br>Cholesterol: 176.48",
          "Patient Age: 60<br>MMSE: 20.05<br>BMI: 24.33<br>Risk Score: 4.0<br>Cholesterol: 172.44",
          "Patient Age: 61<br>MMSE: 24.47<br>BMI: 28.06<br>Risk Score: 2.6<br>Cholesterol: 270.94",
          "Patient Age: 67<br>MMSE: 26.25<br>BMI: 29.73<br>Risk Score: 2.8<br>Cholesterol: 152.97",
          "Patient Age: 61<br>MMSE: 18.25<br>BMI: 15.45<br>Risk Score: 4.3<br>Cholesterol: 237.25",
          "Patient Age: 71<br>MMSE: 28.68<br>BMI: 31.02<br>Risk Score: 4.2<br>Cholesterol: 177.94",
          "Patient Age: 62<br>MMSE: 1.29<br>BMI: 23.92<br>Risk Score: 4.8<br>Cholesterol: 219.94",
          "Patient Age: 63<br>MMSE: 25.72<br>BMI: 32.33<br>Risk Score: 2.8<br>Cholesterol: 199.7",
          "Patient Age: 65<br>MMSE: 26.42<br>BMI: 29.03<br>Risk Score: 2.3<br>Cholesterol: 162.7",
          "Patient Age: 72<br>MMSE: 28.38<br>BMI: 26.88<br>Risk Score: 4.3<br>Cholesterol: 279.4",
          "Patient Age: 66<br>MMSE: 20.17<br>BMI: 25.38<br>Risk Score: 4.2<br>Cholesterol: 151.14",
          "Patient Age: 75<br>MMSE: 25.87<br>BMI: 21.35<br>Risk Score: 4.3<br>Cholesterol: 173.81",
          "Patient Age: 62<br>MMSE: 2.13<br>BMI: 26.56<br>Risk Score: 4.8<br>Cholesterol: 226.84",
          "Patient Age: 60<br>MMSE: 3.8<br>BMI: 23.95<br>Risk Score: 4.8<br>Cholesterol: 191.64",
          "Patient Age: 62<br>MMSE: 23.22<br>BMI: 36.5<br>Risk Score: 4.3<br>Cholesterol: 235.71",
          "Patient Age: 62<br>MMSE: 21.1<br>BMI: 22.76<br>Risk Score: 3.7<br>Cholesterol: 211.95",
          "Patient Age: 61<br>MMSE: 14.78<br>BMI: 26.35<br>Risk Score: 4.3<br>Cholesterol: 189.0",
          "Patient Age: 64<br>MMSE: 20.58<br>BMI: 35.69<br>Risk Score: 4.6<br>Cholesterol: 277.0",
          "Patient Age: 69<br>MMSE: 21.56<br>BMI: 21.45<br>Risk Score: 3.6<br>Cholesterol: 257.83",
          "Patient Age: 68<br>MMSE: 26.06<br>BMI: 27.51<br>Risk Score: 2.3<br>Cholesterol: 173.75",
          "Patient Age: 65<br>MMSE: 3.77<br>BMI: 26.31<br>Risk Score: 4.8<br>Cholesterol: 197.73",
          "Patient Age: 63<br>MMSE: 20.94<br>BMI: 30.6<br>Risk Score: 4.3<br>Cholesterol: 281.84",
          "Patient Age: 70<br>MMSE: 21.29<br>BMI: 26.53<br>Risk Score: 4.6<br>Cholesterol: 269.9",
          "Patient Age: 76<br>MMSE: 26.16<br>BMI: 31.37<br>Risk Score: 4.8<br>Cholesterol: 234.35",
          "Patient Age: 60<br>MMSE: 27.64<br>BMI: 29.14<br>Risk Score: 3.0<br>Cholesterol: 168.5",
          "Patient Age: 63<br>MMSE: 27.76<br>BMI: 23.33<br>Risk Score: 2.3<br>Cholesterol: 227.35",
          "Patient Age: 67<br>MMSE: 24.06<br>BMI: 23.91<br>Risk Score: 2.3<br>Cholesterol: 171.98",
          "Patient Age: 61<br>MMSE: 18.38<br>BMI: 18.65<br>Risk Score: 4.5<br>Cholesterol: 248.1",
          "Patient Age: 63<br>MMSE: 28.59<br>BMI: 27.07<br>Risk Score: 3.3<br>Cholesterol: 254.87",
          "Patient Age: 73<br>MMSE: 23.17<br>BMI: 30.01<br>Risk Score: 4.8<br>Cholesterol: 203.18",
          "Patient Age: 66<br>MMSE: 9.92<br>BMI: 29.19<br>Risk Score: 4.8<br>Cholesterol: 236.9",
          "Patient Age: 71<br>MMSE: 26.14<br>BMI: 18.49<br>Risk Score: 4.7<br>Cholesterol: 190.07",
          "Patient Age: 63<br>MMSE: 26.5<br>BMI: 24.69<br>Risk Score: 3.3<br>Cholesterol: 262.64",
          "Patient Age: 63<br>MMSE: 28.85<br>BMI: 39.96<br>Risk Score: 4.5<br>Cholesterol: 157.7",
          "Patient Age: 66<br>MMSE: 10.64<br>BMI: 22.31<br>Risk Score: 4.7<br>Cholesterol: 192.21",
          "Patient Age: 64<br>MMSE: 29.18<br>BMI: 17.94<br>Risk Score: 4.0<br>Cholesterol: 218.69",
          "Patient Age: 74<br>MMSE: 27.41<br>BMI: 21.89<br>Risk Score: 4.2<br>Cholesterol: 291.99",
          "Patient Age: 63<br>MMSE: 22.34<br>BMI: 37.66<br>Risk Score: 4.6<br>Cholesterol: 251.35",
          "Patient Age: 71<br>MMSE: 22.99<br>BMI: 21.91<br>Risk Score: 4.3<br>Cholesterol: 168.98",
          "Patient Age: 63<br>MMSE: 26.86<br>BMI: 32.3<br>Risk Score: 2.8<br>Cholesterol: 196.85",
          "Patient Age: 70<br>MMSE: 23.59<br>BMI: 31.0<br>Risk Score: 4.8<br>Cholesterol: 195.33",
          "Patient Age: 65<br>MMSE: 22.16<br>BMI: 23.97<br>Risk Score: 3.3<br>Cholesterol: 194.89"
         ],
         "type": "scatter3d",
         "x": {
          "bdata": "PT48QkI/SEBEQkNLQ0VCPz1BSjxDQ0I+QEU8R0I+PkBFPkRGSEg+Q0BBQEA9Q088SkdBRj1BPEc/PkxCSD49PjxFPzxHREFGPj49RU1IRERDQzw9Qz1HPj9BSEJLPjw+Pj1ARURBP0ZMPD9DPT9JQkc/P0JASj9HP0ZB",
          "dtype": "i1"
         },
         "y": {
          "bdata": "hetRuB6FE0CkcD0K12MyQKRwPQrXIzJA16NwPQqXNUAUrkfhetQzQClcj8L1aDpAMzMzMzMzOEBI4XoUrsczQFyPwvUoXDhA4XoUrkfhOUDNzMzMzMwxQNejcD0KFzhAXI/C9ShcLUD2KFyPwjU2QKRwPQrX4zlA4XoUrkdhNEBI4XoUrgc3QArXo3A9yjdAuB6F61H4MkCPwvUoXI84QEjhehSuxztAhetRuB6FJ0DD9Shcj0I5QM3MzMzMzDlACtejcD0KMECF61G4HgU2QEjhehSuBz1AMzMzMzMzO0BSuB6F6xEyQAAAAAAAADlAXI/C9ShcNkCuR+F6FG44QM3MzMzMDDBA9ihcj8L1PUCF61G4HoUUQClcj8L1KDlA9ihcj8J1PEDsUbgehSs4QBSuR+F61DRAXI/C9SjcNkAK16NwPYo1QPYoXI/CNTRAmpmZmZlZPED2KFyPwnUzQPYoXI/CdTZASOF6FK7HNkCF61G4HoU5QM3MzMzMzDdA16NwPQpXOkC4HoXrUbg8QAAAAAAAAAhAmpmZmZmZM0AfhetRuN43QFK4HoXrEThApHA9CtejMEDhehSuR2E5QJqZmZmZmRVAKVyPwvXoMUBcj8L1KNw6QEjhehSuRzdAPQrXo3D9PUDhehSuR+E5QD0K16NwfTJAj8L1KFyPKUDNzMzMzEwtQFyPwvUoXDdAuB6F61G4NUCuR+F6FO47QPYoXI/C9TtAj8L1KFzPPEAzMzMzM7M0QLgehetRODVAAAAAAACAMkBI4XoUroczQKRwPQrXIyhAPQrXo3B9MkB7FK5H4Xo6QB+F61G43jhA7FG4HoUrNEAAAAAAAAAmQMP1KFyPwiRA9ihcj8J1O0DNzMzMzAw0QLgehetReDhAAAAAAABAOkAAAAAAAEAyQK5H4XoUrjxApHA9Ctej9D+4HoXrUbg5QOxRuB6FazpA4XoUrkdhPEDsUbgehSs0QB+F61G43jlACtejcD0KAUBmZmZmZmYOQLgehetRODdAmpmZmZkZNUCPwvUoXI8tQBSuR+F6lDRAj8L1KFyPNUCPwvUoXA86QClcj8L1KA5AcT0K16PwNEAK16NwPUo1QClcj8L1KDpApHA9CtejO0DD9Shcj8I7QI/C9ShcDzhA4XoUrkdhMkDXo3A9Cpc8QOxRuB6FKzdA16NwPQrXI0CkcD0K1yM6QAAAAAAAgDpAmpmZmZnZPEBI4XoUrkclQK5H4XoULj1AKVyPwvVoO0DXo3A9Clc2QD0K16Nw/TZAXI/C9SjcOkDXo3A9Cpc3QClcj8L1KDZA",
          "dtype": "f8"
         },
         "z": {
          "bdata": "hetRuB5FPUDXo3A9Cpc3QPYoXI/CtTZAH4XrUbjeQkAUrkfhetQ5QClcj8L1aDNAzczMzMxMOkA9CtejcD00QM3MzMzMTDZA7FG4HoVrPUBmZmZmZiY9QI/C9ShczzZAXI/C9ShcO0B7FK5H4fo4QHsUrkfhujxAuB6F61H4NEDNzMzMzMxBQFK4HoXrkUFArkfhehRuOkAfhetRuJ44QOxRuB6FKzxAexSuR+H6NkAfhetRuN5DQArXo3A9CjhASOF6FK6HNkDXo3A9Clc8QNejcD0KF0NAzczMzMzMMkAzMzMzM9NBQDMzMzMzE0FA9ihcj8J1MUBxPQrXo3BBQI/C9ShcDzlAMzMzMzPzMEDhehSuR6E6QOxRuB6FKz5AFK5H4XpUMEAAAAAAAMBBQHE9CtejcDZAzczMzMxMPUAzMzMzM/M4QOF6FK5H4ThAzczMzMysQ0DXo3A9Chc9QB+F61G4HjZACtejcD3KO0AUrkfhetQ2QI/C9ShcjztApHA9CtfjQECuR+F6FG4yQMP1KFyPwjxASOF6FK7HNkCkcD0K12MzQArXo3A9CjlAUrgeheuRP0AfhetRuJ42QFyPwvUoHDhAMzMzMzMzN0BI4XoUrkc0QBSuR+F6FEJAH4XrUbgeOkAAAAAAAMAwQPYoXI/C1UNAMzMzMzNzNEDNzMzMzMw1QNejcD0KFzpAw/UoXI/CMUCF61G4HoVAQGZmZmZmZkJAexSuR+F6QkDNzMzMzAw9QHE9CtejcD5AZmZmZmZmQUBcj8L1KFw3QBSuR+F6VDtASOF6FK4HOEApXI/C9WgzQAAAAAAAQDJAH4XrUbgeQUDXo3A9Cpc0QFyPwvUonDVApHA9CtdjOkAUrkfhelQ4QI/C9ShcDzxAexSuR+G6PUBmZmZmZuYuQIXrUbgeBT9A7FG4HoXrN0AK16NwPSpAQEjhehSuBz1A4XoUrkfhOkDhehSuR2E5QJqZmZmZWTVAj8L1KFyPOkAzMzMzM/M3QAAAAAAAQEJAw/UoXI/CNkCamZmZmVk6QLgehetR2EFAMzMzMzNzNUDD9Shcj4I7QI/C9ShcTzpAmpmZmZmZPkBI4XoUroc6QB+F61G4Xj9ApHA9CtcjPUAUrkfhelQ3QClcj8L16DdAZmZmZmamMkBSuB6F6xE7QMP1KFyPAj5AcT0K16MwPUA9CtejcH0yQHE9CtejsDhAexSuR+H6Q0CPwvUoXE82QHE9Ctej8DFApHA9CtfjNUAUrkfhetRCQClcj8L16DVAZmZmZmYmQEAAAAAAAAA/QLgehetR+DdA",
          "dtype": "f8"
         }
        },
        {
         "hovertemplate": "<b>%{text}</b><br>Risk Category: High Risk<extra></extra>",
         "marker": {
          "color": "red",
          "line": {
           "color": "black",
           "width": 2
          },
          "opacity": 0.8,
          "size": {
           "bdata": "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",
           "dtype": "f8"
          }
         },
         "mode": "markers",
         "name": "High Risk (n=195)",
         "text": [
          "Patient Age: 81<br>MMSE: 9.99<br>BMI: 34.64<br>Risk Score: 8.6<br>Cholesterol: 264.95",
          "Patient Age: 81<br>MMSE: 1.11<br>BMI: 22.92<br>Risk Score: 8.7<br>Cholesterol: 283.13",
          "Patient Age: 81<br>MMSE: 20.61<br>BMI: 36.87<br>Risk Score: 8.0<br>Cholesterol: 274.94",
          "Patient Age: 70<br>MMSE: 5.17<br>BMI: 37.86<br>Risk Score: 7.3<br>Cholesterol: 154.77",
          "Patient Age: 82<br>MMSE: 19.94<br>BMI: 38.27<br>Risk Score: 8.2<br>Cholesterol: 151.37",
          "Patient Age: 62<br>MMSE: 6.73<br>BMI: 39.92<br>Risk Score: 7.0<br>Cholesterol: 299.51",
          "Patient Age: 81<br>MMSE: 16.03<br>BMI: 24.39<br>Risk Score: 7.7<br>Cholesterol: 220.84",
          "Patient Age: 90<br>MMSE: 22.07<br>BMI: 18.38<br>Risk Score: 7.3<br>Cholesterol: 187.63",
          "Patient Age: 80<br>MMSE: 8.84<br>BMI: 26.87<br>Risk Score: 8.1<br>Cholesterol: 275.14",
          "Patient Age: 90<br>MMSE: 6.05<br>BMI: 22.16<br>Risk Score: 8.3<br>Cholesterol: 156.97",
          "Patient Age: 79<br>MMSE: 3.79<br>BMI: 35.24<br>Risk Score: 8.7<br>Cholesterol: 285.49",
          "Patient Age: 75<br>MMSE: 11.97<br>BMI: 18.76<br>Risk Score: 8.0<br>Cholesterol: 151.7",
          "Patient Age: 84<br>MMSE: 13.36<br>BMI: 35.66<br>Risk Score: 9.2<br>Cholesterol: 155.9",
          "Patient Age: 89<br>MMSE: 13.87<br>BMI: 26.53<br>Risk Score: 8.5<br>Cholesterol: 298.6",
          "Patient Age: 83<br>MMSE: 3.42<br>BMI: 27.59<br>Risk Score: 8.5<br>Cholesterol: 211.28",
          "Patient Age: 79<br>MMSE: 7.26<br>BMI: 20.78<br>Risk Score: 7.5<br>Cholesterol: 220.94",
          "Patient Age: 90<br>MMSE: 8.56<br>BMI: 16.45<br>Risk Score: 9.3<br>Cholesterol: 294.61",
          "Patient Age: 81<br>MMSE: 12.35<br>BMI: 36.72<br>Risk Score: 8.3<br>Cholesterol: 185.63",
          "Patient Age: 79<br>MMSE: 0.4<br>BMI: 34.49<br>Risk Score: 8.0<br>Cholesterol: 238.28",
          "Patient Age: 85<br>MMSE: 3.69<br>BMI: 23.13<br>Risk Score: 7.8<br>Cholesterol: 190.32",
          "Patient Age: 82<br>MMSE: 6.49<br>BMI: 23.23<br>Risk Score: 7.8<br>Cholesterol: 186.36",
          "Patient Age: 85<br>MMSE: 20.48<br>BMI: 35.73<br>Risk Score: 7.7<br>Cholesterol: 221.52",
          "Patient Age: 88<br>MMSE: 7.04<br>BMI: 33.49<br>Risk Score: 8.8<br>Cholesterol: 152.43",
          "Patient Age: 76<br>MMSE: 6.33<br>BMI: 22.44<br>Risk Score: 7.5<br>Cholesterol: 167.82",
          "Patient Age: 81<br>MMSE: 10.55<br>BMI: 39.89<br>Risk Score: 9.5<br>Cholesterol: 151.25",
          "Patient Age: 87<br>MMSE: 2.2<br>BMI: 23.82<br>Risk Score: 8.5<br>Cholesterol: 172.18",
          "Patient Age: 74<br>MMSE: 2.79<br>BMI: 34.81<br>Risk Score: 7.5<br>Cholesterol: 285.12",
          "Patient Age: 80<br>MMSE: 5.28<br>BMI: 24.16<br>Risk Score: 8.8<br>Cholesterol: 274.99",
          "Patient Age: 78<br>MMSE: 9.99<br>BMI: 33.86<br>Risk Score: 7.8<br>Cholesterol: 285.6",
          "Patient Age: 79<br>MMSE: 13.83<br>BMI: 34.78<br>Risk Score: 7.7<br>Cholesterol: 156.71",
          "Patient Age: 85<br>MMSE: 8.71<br>BMI: 31.87<br>Risk Score: 9.0<br>Cholesterol: 211.64",
          "Patient Age: 85<br>MMSE: 11.31<br>BMI: 18.64<br>Risk Score: 7.8<br>Cholesterol: 182.29",
          "Patient Age: 88<br>MMSE: 11.23<br>BMI: 31.78<br>Risk Score: 8.5<br>Cholesterol: 234.5",
          "Patient Age: 74<br>MMSE: 17.53<br>BMI: 17.46<br>Risk Score: 7.2<br>Cholesterol: 283.01",
          "Patient Age: 80<br>MMSE: 0.8<br>BMI: 34.82<br>Risk Score: 9.0<br>Cholesterol: 162.01",
          "Patient Age: 87<br>MMSE: 0.16<br>BMI: 34.82<br>Risk Score: 8.6<br>Cholesterol: 273.35",
          "Patient Age: 82<br>MMSE: 21.82<br>BMI: 37.17<br>Risk Score: 8.3<br>Cholesterol: 257.73",
          "Patient Age: 76<br>MMSE: 2.43<br>BMI: 34.62<br>Risk Score: 8.0<br>Cholesterol: 225.52",
          "Patient Age: 83<br>MMSE: 16.71<br>BMI: 29.66<br>Risk Score: 7.3<br>Cholesterol: 174.97",
          "Patient Age: 80<br>MMSE: 2.86<br>BMI: 16.5<br>Risk Score: 8.8<br>Cholesterol: 204.75",
          "Patient Age: 77<br>MMSE: 14.43<br>BMI: 35.58<br>Risk Score: 8.0<br>Cholesterol: 212.68",
          "Patient Age: 87<br>MMSE: 12.23<br>BMI: 36.98<br>Risk Score: 8.8<br>Cholesterol: 291.84",
          "Patient Age: 77<br>MMSE: 14.03<br>BMI: 30.03<br>Risk Score: 7.3<br>Cholesterol: 298.31",
          "Patient Age: 71<br>MMSE: 3.63<br>BMI: 39.6<br>Risk Score: 7.2<br>Cholesterol: 175.28",
          "Patient Age: 78<br>MMSE: 13.79<br>BMI: 38.98<br>Risk Score: 8.0<br>Cholesterol: 178.06",
          "Patient Age: 81<br>MMSE: 3.0<br>BMI: 17.05<br>Risk Score: 8.8<br>Cholesterol: 172.47",
          "Patient Age: 81<br>MMSE: 14.39<br>BMI: 32.08<br>Risk Score: 9.0<br>Cholesterol: 156.61",
          "Patient Age: 85<br>MMSE: 12.22<br>BMI: 33.97<br>Risk Score: 9.0<br>Cholesterol: 158.22",
          "Patient Age: 82<br>MMSE: 8.98<br>BMI: 36.22<br>Risk Score: 9.1<br>Cholesterol: 271.84",
          "Patient Age: 88<br>MMSE: 28.78<br>BMI: 39.89<br>Risk Score: 7.0<br>Cholesterol: 259.06",
          "Patient Age: 73<br>MMSE: 2.32<br>BMI: 19.81<br>Risk Score: 7.5<br>Cholesterol: 283.27",
          "Patient Age: 68<br>MMSE: 3.46<br>BMI: 36.15<br>Risk Score: 7.0<br>Cholesterol: 281.8",
          "Patient Age: 83<br>MMSE: 22.01<br>BMI: 34.11<br>Risk Score: 7.2<br>Cholesterol: 160.01",
          "Patient Age: 85<br>MMSE: 10.82<br>BMI: 15.69<br>Risk Score: 8.7<br>Cholesterol: 183.97",
          "Patient Age: 70<br>MMSE: 4.52<br>BMI: 37.08<br>Risk Score: 7.5<br>Cholesterol: 275.34",
          "Patient Age: 85<br>MMSE: 14.11<br>BMI: 36.22<br>Risk Score: 9.0<br>Cholesterol: 227.3",
          "Patient Age: 77<br>MMSE: 2.81<br>BMI: 32.76<br>Risk Score: 8.5<br>Cholesterol: 298.37",
          "Patient Age: 87<br>MMSE: 13.97<br>BMI: 16.03<br>Risk Score: 9.2<br>Cholesterol: 291.86",
          "Patient Age: 88<br>MMSE: 3.29<br>BMI: 17.52<br>Risk Score: 9.8<br>Cholesterol: 255.5",
          "Patient Age: 89<br>MMSE: 0.33<br>BMI: 28.17<br>Risk Score: 7.8<br>Cholesterol: 168.68",
          "Patient Age: 81<br>MMSE: 0.85<br>BMI: 21.09<br>Risk Score: 8.1<br>Cholesterol: 268.57",
          "Patient Age: 70<br>MMSE: 6.32<br>BMI: 28.11<br>Risk Score: 7.0<br>Cholesterol: 156.23",
          "Patient Age: 84<br>MMSE: 13.75<br>BMI: 39.59<br>Risk Score: 9.5<br>Cholesterol: 291.35",
          "Patient Age: 84<br>MMSE: 3.3<br>BMI: 33.74<br>Risk Score: 9.0<br>Cholesterol: 180.73",
          "Patient Age: 77<br>MMSE: 1.56<br>BMI: 16.79<br>Risk Score: 7.8<br>Cholesterol: 216.41",
          "Patient Age: 86<br>MMSE: 23.73<br>BMI: 24.16<br>Risk Score: 7.0<br>Cholesterol: 256.52",
          "Patient Age: 86<br>MMSE: 0.75<br>BMI: 24.23<br>Risk Score: 8.2<br>Cholesterol: 239.02",
          "Patient Age: 76<br>MMSE: 1.93<br>BMI: 18.53<br>Risk Score: 7.3<br>Cholesterol: 202.95",
          "Patient Age: 82<br>MMSE: 7.18<br>BMI: 23.46<br>Risk Score: 8.2<br>Cholesterol: 224.78",
          "Patient Age: 89<br>MMSE: 29.56<br>BMI: 15.77<br>Risk Score: 7.0<br>Cholesterol: 238.99",
          "Patient Age: 82<br>MMSE: 23.02<br>BMI: 32.91<br>Risk Score: 7.3<br>Cholesterol: 287.31",
          "Patient Age: 80<br>MMSE: 22.38<br>BMI: 31.51<br>Risk Score: 7.8<br>Cholesterol: 279.03",
          "Patient Age: 84<br>MMSE: 22.7<br>BMI: 15.75<br>Risk Score: 7.7<br>Cholesterol: 190.57",
          "Patient Age: 87<br>MMSE: 5.63<br>BMI: 24.57<br>Risk Score: 8.1<br>Cholesterol: 273.79",
          "Patient Age: 90<br>MMSE: 20.8<br>BMI: 21.64<br>Risk Score: 7.0<br>Cholesterol: 272.43",
          "Patient Age: 81<br>MMSE: 21.12<br>BMI: 18.36<br>Risk Score: 7.3<br>Cholesterol: 171.05",
          "Patient Age: 81<br>MMSE: 9.48<br>BMI: 18.53<br>Risk Score: 9.3<br>Cholesterol: 274.18",
          "Patient Age: 75<br>MMSE: 9.53<br>BMI: 20.62<br>Risk Score: 7.5<br>Cholesterol: 221.68",
          "Patient Age: 84<br>MMSE: 8.68<br>BMI: 32.7<br>Risk Score: 9.5<br>Cholesterol: 292.62",
          "Patient Age: 82<br>MMSE: 23.71<br>BMI: 35.03<br>Risk Score: 8.0<br>Cholesterol: 247.22",
          "Patient Age: 78<br>MMSE: 4.45<br>BMI: 30.54<br>Risk Score: 7.7<br>Cholesterol: 213.88",
          "Patient Age: 78<br>MMSE: 1.98<br>BMI: 34.64<br>Risk Score: 8.5<br>Cholesterol: 150.75",
          "Patient Age: 78<br>MMSE: 9.15<br>BMI: 36.28<br>Risk Score: 8.5<br>Cholesterol: 210.21",
          "Patient Age: 88<br>MMSE: 4.27<br>BMI: 24.86<br>Risk Score: 7.8<br>Cholesterol: 239.46",
          "Patient Age: 84<br>MMSE: 21.65<br>BMI: 38.53<br>Risk Score: 8.0<br>Cholesterol: 241.92",
          "Patient Age: 89<br>MMSE: 5.04<br>BMI: 18.89<br>Risk Score: 8.6<br>Cholesterol: 251.53",
          "Patient Age: 89<br>MMSE: 19.7<br>BMI: 39.46<br>Risk Score: 7.3<br>Cholesterol: 224.53",
          "Patient Age: 76<br>MMSE: 11.77<br>BMI: 35.88<br>Risk Score: 7.7<br>Cholesterol: 235.01",
          "Patient Age: 89<br>MMSE: 21.22<br>BMI: 18.15<br>Risk Score: 8.0<br>Cholesterol: 217.9",
          "Patient Age: 90<br>MMSE: 8.73<br>BMI: 22.19<br>Risk Score: 7.8<br>Cholesterol: 226.87",
          "Patient Age: 70<br>MMSE: 5.38<br>BMI: 35.4<br>Risk Score: 7.5<br>Cholesterol: 170.56",
          "Patient Age: 77<br>MMSE: 22.49<br>BMI: 18.1<br>Risk Score: 7.0<br>Cholesterol: 254.76",
          "Patient Age: 85<br>MMSE: 9.98<br>BMI: 29.79<br>Risk Score: 7.8<br>Cholesterol: 214.76",
          "Patient Age: 90<br>MMSE: 20.07<br>BMI: 19.21<br>Risk Score: 7.5<br>Cholesterol: 172.11",
          "Patient Age: 75<br>MMSE: 6.18<br>BMI: 38.67<br>Risk Score: 8.5<br>Cholesterol: 198.08",
          "Patient Age: 83<br>MMSE: 2.42<br>BMI: 31.33<br>Risk Score: 8.7<br>Cholesterol: 209.45",
          "Patient Age: 76<br>MMSE: 10.52<br>BMI: 26.53<br>Risk Score: 7.0<br>Cholesterol: 256.61",
          "Patient Age: 90<br>MMSE: 14.68<br>BMI: 16.35<br>Risk Score: 8.7<br>Cholesterol: 215.34",
          "Patient Age: 82<br>MMSE: 17.04<br>BMI: 33.63<br>Risk Score: 8.2<br>Cholesterol: 168.03",
          "Patient Age: 81<br>MMSE: 17.48<br>BMI: 35.78<br>Risk Score: 9.0<br>Cholesterol: 183.24",
          "Patient Age: 88<br>MMSE: 3.36<br>BMI: 39.36<br>Risk Score: 9.5<br>Cholesterol: 269.95",
          "Patient Age: 76<br>MMSE: 14.94<br>BMI: 22.95<br>Risk Score: 7.3<br>Cholesterol: 250.68",
          "Patient Age: 87<br>MMSE: 10.42<br>BMI: 15.41<br>Risk Score: 8.6<br>Cholesterol: 244.19",
          "Patient Age: 90<br>MMSE: 9.54<br>BMI: 34.58<br>Risk Score: 9.0<br>Cholesterol: 199.05",
          "Patient Age: 88<br>MMSE: 6.89<br>BMI: 35.35<br>Risk Score: 9.5<br>Cholesterol: 274.52",
          "Patient Age: 77<br>MMSE: 22.1<br>BMI: 15.23<br>Risk Score: 7.0<br>Cholesterol: 171.8",
          "Patient Age: 87<br>MMSE: 13.87<br>BMI: 16.72<br>Risk Score: 8.7<br>Cholesterol: 175.95",
          "Patient Age: 88<br>MMSE: 2.91<br>BMI: 36.84<br>Risk Score: 8.8<br>Cholesterol: 204.78",
          "Patient Age: 88<br>MMSE: 7.93<br>BMI: 38.9<br>Risk Score: 8.8<br>Cholesterol: 238.56",
          "Patient Age: 82<br>MMSE: 11.51<br>BMI: 35.44<br>Risk Score: 9.0<br>Cholesterol: 198.23",
          "Patient Age: 81<br>MMSE: 14.84<br>BMI: 25.85<br>Risk Score: 7.8<br>Cholesterol: 152.37",
          "Patient Age: 76<br>MMSE: 7.27<br>BMI: 31.39<br>Risk Score: 7.6<br>Cholesterol: 254.01",
          "Patient Age: 86<br>MMSE: 9.64<br>BMI: 33.93<br>Risk Score: 9.2<br>Cholesterol: 286.69",
          "Patient Age: 90<br>MMSE: 19.09<br>BMI: 30.68<br>Risk Score: 7.5<br>Cholesterol: 201.26",
          "Patient Age: 87<br>MMSE: 12.06<br>BMI: 27.82<br>Risk Score: 7.3<br>Cholesterol: 191.35",
          "Patient Age: 72<br>MMSE: 11.48<br>BMI: 36.09<br>Risk Score: 7.5<br>Cholesterol: 158.65",
          "Patient Age: 61<br>MMSE: 1.2<br>BMI: 39.12<br>Risk Score: 7.0<br>Cholesterol: 280.48",
          "Patient Age: 89<br>MMSE: 6.44<br>BMI: 15.65<br>Risk Score: 9.5<br>Cholesterol: 203.52",
          "Patient Age: 75<br>MMSE: 10.64<br>BMI: 35.83<br>Risk Score: 7.7<br>Cholesterol: 212.01",
          "Patient Age: 80<br>MMSE: 3.12<br>BMI: 29.09<br>Risk Score: 8.5<br>Cholesterol: 229.07",
          "Patient Age: 90<br>MMSE: 1.03<br>BMI: 15.39<br>Risk Score: 8.8<br>Cholesterol: 195.05",
          "Patient Age: 90<br>MMSE: 4.76<br>BMI: 32.97<br>Risk Score: 8.3<br>Cholesterol: 235.45",
          "Patient Age: 90<br>MMSE: 7.91<br>BMI: 39.66<br>Risk Score: 9.1<br>Cholesterol: 245.06",
          "Patient Age: 72<br>MMSE: 8.71<br>BMI: 32.28<br>Risk Score: 7.0<br>Cholesterol: 274.24",
          "Patient Age: 90<br>MMSE: 3.53<br>BMI: 23.23<br>Risk Score: 8.5<br>Cholesterol: 218.6",
          "Patient Age: 82<br>MMSE: 14.59<br>BMI: 35.35<br>Risk Score: 9.3<br>Cholesterol: 257.47",
          "Patient Age: 83<br>MMSE: 12.77<br>BMI: 29.89<br>Risk Score: 8.2<br>Cholesterol: 288.56",
          "Patient Age: 84<br>MMSE: 11.21<br>BMI: 34.22<br>Risk Score: 7.8<br>Cholesterol: 201.41",
          "Patient Age: 89<br>MMSE: 13.76<br>BMI: 24.89<br>Risk Score: 8.0<br>Cholesterol: 160.35",
          "Patient Age: 82<br>MMSE: 2.04<br>BMI: 37.05<br>Risk Score: 10.0<br>Cholesterol: 299.06",
          "Patient Age: 88<br>MMSE: 6.41<br>BMI: 27.92<br>Risk Score: 8.8<br>Cholesterol: 244.58",
          "Patient Age: 76<br>MMSE: 8.0<br>BMI: 19.1<br>Risk Score: 8.5<br>Cholesterol: 295.48",
          "Patient Age: 82<br>MMSE: 23.91<br>BMI: 38.79<br>Risk Score: 8.3<br>Cholesterol: 265.89",
          "Patient Age: 90<br>MMSE: 8.01<br>BMI: 21.29<br>Risk Score: 8.1<br>Cholesterol: 268.55",
          "Patient Age: 79<br>MMSE: 12.09<br>BMI: 37.98<br>Risk Score: 7.6<br>Cholesterol: 251.2",
          "Patient Age: 72<br>MMSE: 1.6<br>BMI: 18.52<br>Risk Score: 7.0<br>Cholesterol: 202.38",
          "Patient Age: 88<br>MMSE: 22.01<br>BMI: 23.94<br>Risk Score: 7.2<br>Cholesterol: 289.61",
          "Patient Age: 80<br>MMSE: 9.4<br>BMI: 18.33<br>Risk Score: 8.8<br>Cholesterol: 220.44",
          "Patient Age: 84<br>MMSE: 9.12<br>BMI: 23.47<br>Risk Score: 8.2<br>Cholesterol: 232.09",
          "Patient Age: 82<br>MMSE: 11.86<br>BMI: 39.34<br>Risk Score: 8.3<br>Cholesterol: 183.76",
          "Patient Age: 83<br>MMSE: 13.32<br>BMI: 27.72<br>Risk Score: 7.7<br>Cholesterol: 224.39",
          "Patient Age: 87<br>MMSE: 21.46<br>BMI: 31.75<br>Risk Score: 7.5<br>Cholesterol: 236.92",
          "Patient Age: 84<br>MMSE: 5.09<br>BMI: 19.15<br>Risk Score: 9.0<br>Cholesterol: 271.82",
          "Patient Age: 83<br>MMSE: 21.67<br>BMI: 36.57<br>Risk Score: 8.3<br>Cholesterol: 276.23",
          "Patient Age: 81<br>MMSE: 6.98<br>BMI: 39.47<br>Risk Score: 9.3<br>Cholesterol: 280.82",
          "Patient Age: 84<br>MMSE: 6.25<br>BMI: 16.61<br>Risk Score: 9.3<br>Cholesterol: 159.85",
          "Patient Age: 88<br>MMSE: 6.11<br>BMI: 17.62<br>Risk Score: 8.8<br>Cholesterol: 184.54",
          "Patient Age: 79<br>MMSE: 20.37<br>BMI: 18.81<br>Risk Score: 7.0<br>Cholesterol: 151.45",
          "Patient Age: 82<br>MMSE: 10.77<br>BMI: 23.61<br>Risk Score: 7.6<br>Cholesterol: 268.26",
          "Patient Age: 75<br>MMSE: 0.91<br>BMI: 31.82<br>Risk Score: 7.8<br>Cholesterol: 156.7",
          "Patient Age: 79<br>MMSE: 12.59<br>BMI: 16.45<br>Risk Score: 7.6<br>Cholesterol: 255.11",
          "Patient Age: 90<br>MMSE: 6.37<br>BMI: 33.0<br>Risk Score: 8.3<br>Cholesterol: 203.35",
          "Patient Age: 77<br>MMSE: 17.01<br>BMI: 15.48<br>Risk Score: 8.0<br>Cholesterol: 237.02",
          "Patient Age: 86<br>MMSE: 21.01<br>BMI: 26.89<br>Risk Score: 7.2<br>Cholesterol: 295.99",
          "Patient Age: 81<br>MMSE: 5.42<br>BMI: 29.26<br>Risk Score: 8.2<br>Cholesterol: 187.38",
          "Patient Age: 85<br>MMSE: 1.01<br>BMI: 30.52<br>Risk Score: 8.6<br>Cholesterol: 262.03",
          "Patient Age: 84<br>MMSE: 11.18<br>BMI: 15.79<br>Risk Score: 8.3<br>Cholesterol: 220.42",
          "Patient Age: 75<br>MMSE: 13.91<br>BMI: 21.57<br>Risk Score: 7.5<br>Cholesterol: 289.12",
          "Patient Age: 90<br>MMSE: 1.49<br>BMI: 17.36<br>Risk Score: 9.8<br>Cholesterol: 277.97",
          "Patient Age: 83<br>MMSE: 6.09<br>BMI: 29.86<br>Risk Score: 8.8<br>Cholesterol: 251.1",
          "Patient Age: 82<br>MMSE: 16.05<br>BMI: 37.13<br>Risk Score: 8.3<br>Cholesterol: 179.37",
          "Patient Age: 89<br>MMSE: 13.52<br>BMI: 20.72<br>Risk Score: 7.3<br>Cholesterol: 237.6",
          "Patient Age: 62<br>MMSE: 1.51<br>BMI: 38.42<br>Risk Score: 7.0<br>Cholesterol: 295.23",
          "Patient Age: 80<br>MMSE: 4.7<br>BMI: 35.56<br>Risk Score: 9.1<br>Cholesterol: 246.97",
          "Patient Age: 85<br>MMSE: 6.9<br>BMI: 36.7<br>Risk Score: 9.5<br>Cholesterol: 182.4",
          "Patient Age: 83<br>MMSE: 19.69<br>BMI: 17.97<br>Risk Score: 7.6<br>Cholesterol: 247.64",
          "Patient Age: 88<br>MMSE: 6.86<br>BMI: 27.91<br>Risk Score: 8.1<br>Cholesterol: 262.77",
          "Patient Age: 90<br>MMSE: 2.04<br>BMI: 23.09<br>Risk Score: 7.8<br>Cholesterol: 222.35",
          "Patient Age: 88<br>MMSE: 7.62<br>BMI: 28.03<br>Risk Score: 8.2<br>Cholesterol: 178.01",
          "Patient Age: 87<br>MMSE: 17.61<br>BMI: 30.52<br>Risk Score: 8.1<br>Cholesterol: 251.64",
          "Patient Age: 82<br>MMSE: 11.51<br>BMI: 21.34<br>Risk Score: 7.3<br>Cholesterol: 183.88",
          "Patient Age: 89<br>MMSE: 10.58<br>BMI: 22.71<br>Risk Score: 7.7<br>Cholesterol: 186.88",
          "Patient Age: 90<br>MMSE: 26.46<br>BMI: 15.33<br>Risk Score: 7.3<br>Cholesterol: 243.92",
          "Patient Age: 80<br>MMSE: 8.41<br>BMI: 34.96<br>Risk Score: 9.3<br>Cholesterol: 265.62",
          "Patient Age: 84<br>MMSE: 13.32<br>BMI: 37.04<br>Risk Score: 8.7<br>Cholesterol: 199.1",
          "Patient Age: 88<br>MMSE: 19.6<br>BMI: 18.65<br>Risk Score: 7.5<br>Cholesterol: 264.39",
          "Patient Age: 88<br>MMSE: 22.7<br>BMI: 15.62<br>Risk Score: 8.2<br>Cholesterol: 280.78",
          "Patient Age: 81<br>MMSE: 6.18<br>BMI: 29.27<br>Risk Score: 8.7<br>Cholesterol: 294.69",
          "Patient Age: 71<br>MMSE: 8.84<br>BMI: 39.34<br>Risk Score: 7.7<br>Cholesterol: 289.63",
          "Patient Age: 71<br>MMSE: 0.34<br>BMI: 28.33<br>Risk Score: 7.0<br>Cholesterol: 289.91",
          "Patient Age: 85<br>MMSE: 6.5<br>BMI: 28.99<br>Risk Score: 7.8<br>Cholesterol: 198.42",
          "Patient Age: 75<br>MMSE: 17.83<br>BMI: 15.19<br>Risk Score: 7.7<br>Cholesterol: 208.38",
          "Patient Age: 83<br>MMSE: 14.92<br>BMI: 33.72<br>Risk Score: 8.7<br>Cholesterol: 293.05",
          "Patient Age: 89<br>MMSE: 5.83<br>BMI: 38.05<br>Risk Score: 10.0<br>Cholesterol: 152.35",
          "Patient Age: 83<br>MMSE: 1.05<br>BMI: 24.29<br>Risk Score: 7.8<br>Cholesterol: 160.89",
          "Patient Age: 83<br>MMSE: 17.84<br>BMI: 21.92<br>Risk Score: 7.3<br>Cholesterol: 213.76",
          "Patient Age: 90<br>MMSE: 10.5<br>BMI: 24.77<br>Risk Score: 7.3<br>Cholesterol: 199.06",
          "Patient Age: 89<br>MMSE: 8.18<br>BMI: 34.85<br>Risk Score: 9.0<br>Cholesterol: 243.92",
          "Patient Age: 84<br>MMSE: 3.16<br>BMI: 27.95<br>Risk Score: 8.3<br>Cholesterol: 285.88",
          "Patient Age: 78<br>MMSE: 5.93<br>BMI: 33.52<br>Risk Score: 7.7<br>Cholesterol: 234.19",
          "Patient Age: 90<br>MMSE: 21.45<br>BMI: 35.13<br>Risk Score: 8.0<br>Cholesterol: 253.54",
          "Patient Age: 88<br>MMSE: 10.35<br>BMI: 25.26<br>Risk Score: 8.0<br>Cholesterol: 165.61",
          "Patient Age: 82<br>MMSE: 15.19<br>BMI: 39.99<br>Risk Score: 8.3<br>Cholesterol: 180.1",
          "Patient Age: 83<br>MMSE: 0.05<br>BMI: 37.49<br>Risk Score: 8.8<br>Cholesterol: 224.14",
          "Patient Age: 90<br>MMSE: 21.84<br>BMI: 31.02<br>Risk Score: 7.1<br>Cholesterol: 242.95"
         ],
         "type": "scatter3d",
         "x": {
          "bdata": "UVFRRlI+UVpQWk9LVFlTT1pRT1VSVVhMUVdKUE5PVVVYSlBXUkxTUE1XTUdOUVFVUlhJRFNVRlVNV1hZUUZUVE1WVkxSWVJQVFdaUVFLVFJOTk5YVFlZTFlaRk1VWktTTFpSUVhMV1pYTVdYWFJRTFZaV0g9WUtQWlpaSFpSU1RZUlhMUlpPSFhQVFJTV1RTUVRYT1JLT1pNVlFVVEtaU1JZPlBVU1haWFdSWVpQVFhYUUdHVUtTWVNTWllUTlpYUlNa",
          "dtype": "i1"
         },
         "y": {
          "bdata": "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",
          "dtype": "f8"
         },
         "z": {
          "bdata": "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",
          "dtype": "f8"
         }
        },
        {
         "hovertemplate": "<b>%{text}</b><br>Risk Category: Medium Risk<extra></extra>",
         "marker": {
          "color": "orange",
          "line": {
           "color": "black",
           "width": 2
          },
          "opacity": 0.8,
          "size": {
           "bdata": "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",
           "dtype": "f8"
          }
         },
         "mode": "markers",
         "name": "Medium Risk (n=219)",
         "text": [
          "Patient Age: 80<br>MMSE: 24.1<br>BMI: 23.72<br>Risk Score: 5.6<br>Cholesterol: 264.4",
          "Patient Age: 64<br>MMSE: 9.2<br>BMI: 27.16<br>Risk Score: 5.1<br>Cholesterol: 251.03",
          "Patient Age: 82<br>MMSE: 24.46<br>BMI: 35.26<br>Risk Score: 6.3<br>Cholesterol: 186.94",
          "Patient Age: 71<br>MMSE: 2.43<br>BMI: 31.44<br>Risk Score: 6.6<br>Cholesterol: 269.38",
          "Patient Age: 89<br>MMSE: 22.29<br>BMI: 25.12<br>Risk Score: 6.8<br>Cholesterol: 293.21",
          "Patient Age: 73<br>MMSE: 20.38<br>BMI: 18.25<br>Risk Score: 6.5<br>Cholesterol: 150.21",
          "Patient Age: 72<br>MMSE: 7.11<br>BMI: 22.38<br>Risk Score: 6.8<br>Cholesterol: 249.12",
          "Patient Age: 65<br>MMSE: 12.63<br>BMI: 15.01<br>Risk Score: 5.6<br>Cholesterol: 250.45",
          "Patient Age: 74<br>MMSE: 10.29<br>BMI: 16.8<br>Risk Score: 6.3<br>Cholesterol: 193.77",
          "Patient Age: 68<br>MMSE: 16.3<br>BMI: 22.75<br>Risk Score: 5.3<br>Cholesterol: 251.28",
          "Patient Age: 81<br>MMSE: 26.31<br>BMI: 33.3<br>Risk Score: 6.8<br>Cholesterol: 246.11",
          "Patient Age: 75<br>MMSE: 11.97<br>BMI: 25.39<br>Risk Score: 6.7<br>Cholesterol: 226.35",
          "Patient Age: 74<br>MMSE: 23.09<br>BMI: 17.85<br>Risk Score: 5.7<br>Cholesterol: 184.84",
          "Patient Age: 70<br>MMSE: 0.7<br>BMI: 21.05<br>Risk Score: 6.2<br>Cholesterol: 212.59",
          "Patient Age: 69<br>MMSE: 17.62<br>BMI: 31.36<br>Risk Score: 5.5<br>Cholesterol: 228.6",
          "Patient Age: 68<br>MMSE: 5.51<br>BMI: 25.36<br>Risk Score: 5.1<br>Cholesterol: 241.49",
          "Patient Age: 68<br>MMSE: 1.11<br>BMI: 15.48<br>Risk Score: 5.8<br>Cholesterol: 177.33",
          "Patient Age: 62<br>MMSE: 8.6<br>BMI: 22.08<br>Risk Score: 5.8<br>Cholesterol: 243.63",
          "Patient Age: 63<br>MMSE: 1.85<br>BMI: 35.35<br>Risk Score: 6.5<br>Cholesterol: 188.12",
          "Patient Age: 89<br>MMSE: 28.67<br>BMI: 21.89<br>Risk Score: 5.3<br>Cholesterol: 196.79",
          "Patient Age: 74<br>MMSE: 29.63<br>BMI: 36.93<br>Risk Score: 5.0<br>Cholesterol: 214.14",
          "Patient Age: 62<br>MMSE: 0.77<br>BMI: 18.41<br>Risk Score: 6.3<br>Cholesterol: 154.18",
          "Patient Age: 68<br>MMSE: 12.29<br>BMI: 18.23<br>Risk Score: 5.3<br>Cholesterol: 217.6",
          "Patient Age: 65<br>MMSE: 6.63<br>BMI: 29.19<br>Risk Score: 5.3<br>Cholesterol: 292.34",
          "Patient Age: 64<br>MMSE: 3.33<br>BMI: 27.38<br>Risk Score: 5.1<br>Cholesterol: 263.58",
          "Patient Age: 69<br>MMSE: 4.37<br>BMI: 32.17<br>Risk Score: 5.8<br>Cholesterol: 282.18",
          "Patient Age: 68<br>MMSE: 9.77<br>BMI: 15.38<br>Risk Score: 6.5<br>Cholesterol: 198.86",
          "Patient Age: 64<br>MMSE: 11.01<br>BMI: 23.4<br>Risk Score: 5.0<br>Cholesterol: 183.04",
          "Patient Age: 89<br>MMSE: 28.52<br>BMI: 34.05<br>Risk Score: 6.8<br>Cholesterol: 252.17",
          "Patient Age: 69<br>MMSE: 5.73<br>BMI: 29.68<br>Risk Score: 6.0<br>Cholesterol: 296.16",
          "Patient Age: 76<br>MMSE: 13.82<br>BMI: 26.34<br>Risk Score: 6.7<br>Cholesterol: 203.14",
          "Patient Age: 84<br>MMSE: 29.06<br>BMI: 23.56<br>Risk Score: 6.0<br>Cholesterol: 195.05",
          "Patient Age: 77<br>MMSE: 22.51<br>BMI: 26.45<br>Risk Score: 5.3<br>Cholesterol: 237.82",
          "Patient Age: 77<br>MMSE: 24.93<br>BMI: 37.51<br>Risk Score: 5.3<br>Cholesterol: 215.89",
          "Patient Age: 77<br>MMSE: 19.37<br>BMI: 30.46<br>Risk Score: 6.5<br>Cholesterol: 217.05",
          "Patient Age: 90<br>MMSE: 27.82<br>BMI: 21.99<br>Risk Score: 5.3<br>Cholesterol: 215.32",
          "Patient Age: 72<br>MMSE: 11.73<br>BMI: 18.0<br>Risk Score: 6.6<br>Cholesterol: 268.19",
          "Patient Age: 76<br>MMSE: 23.83<br>BMI: 29.37<br>Risk Score: 5.3<br>Cholesterol: 231.3",
          "Patient Age: 63<br>MMSE: 0.72<br>BMI: 32.73<br>Risk Score: 5.3<br>Cholesterol: 191.63",
          "Patient Age: 73<br>MMSE: 17.97<br>BMI: 20.26<br>Risk Score: 5.3<br>Cholesterol: 177.96",
          "Patient Age: 63<br>MMSE: 11.15<br>BMI: 38.99<br>Risk Score: 5.3<br>Cholesterol: 176.27",
          "Patient Age: 76<br>MMSE: 28.08<br>BMI: 19.96<br>Risk Score: 6.0<br>Cholesterol: 156.05",
          "Patient Age: 67<br>MMSE: 12.66<br>BMI: 29.02<br>Risk Score: 5.3<br>Cholesterol: 277.88",
          "Patient Age: 66<br>MMSE: 12.63<br>BMI: 35.24<br>Risk Score: 5.6<br>Cholesterol: 248.98",
          "Patient Age: 90<br>MMSE: 19.49<br>BMI: 26.15<br>Risk Score: 6.3<br>Cholesterol: 185.37",
          "Patient Age: 74<br>MMSE: 8.85<br>BMI: 34.05<br>Risk Score: 6.6<br>Cholesterol: 260.01",
          "Patient Age: 61<br>MMSE: 1.38<br>BMI: 25.53<br>Risk Score: 5.3<br>Cholesterol: 157.72",
          "Patient Age: 64<br>MMSE: 14.39<br>BMI: 18.08<br>Risk Score: 5.3<br>Cholesterol: 238.06",
          "Patient Age: 87<br>MMSE: 19.79<br>BMI: 23.47<br>Risk Score: 6.7<br>Cholesterol: 177.5",
          "Patient Age: 68<br>MMSE: 1.93<br>BMI: 34.14<br>Risk Score: 6.2<br>Cholesterol: 284.4",
          "Patient Age: 77<br>MMSE: 27.02<br>BMI: 28.19<br>Risk Score: 5.3<br>Cholesterol: 277.65",
          "Patient Age: 65<br>MMSE: 17.54<br>BMI: 17.91<br>Risk Score: 5.7<br>Cholesterol: 223.55",
          "Patient Age: 80<br>MMSE: 27.93<br>BMI: 24.52<br>Risk Score: 5.6<br>Cholesterol: 279.83",
          "Patient Age: 65<br>MMSE: 15.84<br>BMI: 38.74<br>Risk Score: 5.3<br>Cholesterol: 189.84",
          "Patient Age: 61<br>MMSE: 8.17<br>BMI: 39.39<br>Risk Score: 6.5<br>Cholesterol: 180.19",
          "Patient Age: 60<br>MMSE: 10.97<br>BMI: 30.98<br>Risk Score: 5.7<br>Cholesterol: 285.68",
          "Patient Age: 61<br>MMSE: 18.03<br>BMI: 37.75<br>Risk Score: 5.0<br>Cholesterol: 216.64",
          "Patient Age: 64<br>MMSE: 12.1<br>BMI: 38.56<br>Risk Score: 6.0<br>Cholesterol: 226.49",
          "Patient Age: 72<br>MMSE: 13.8<br>BMI: 31.35<br>Risk Score: 6.3<br>Cholesterol: 294.74",
          "Patient Age: 86<br>MMSE: 25.66<br>BMI: 21.9<br>Risk Score: 5.3<br>Cholesterol: 198.58",
          "Patient Age: 63<br>MMSE: 2.78<br>BMI: 22.92<br>Risk Score: 5.2<br>Cholesterol: 180.46",
          "Patient Age: 76<br>MMSE: 25.02<br>BMI: 37.24<br>Risk Score: 5.6<br>Cholesterol: 253.39",
          "Patient Age: 72<br>MMSE: 8.28<br>BMI: 23.87<br>Risk Score: 6.5<br>Cholesterol: 183.91",
          "Patient Age: 61<br>MMSE: 14.41<br>BMI: 35.16<br>Risk Score: 5.6<br>Cholesterol: 256.1",
          "Patient Age: 65<br>MMSE: 8.02<br>BMI: 27.64<br>Risk Score: 6.0<br>Cholesterol: 294.86",
          "Patient Age: 61<br>MMSE: 1.02<br>BMI: 30.99<br>Risk Score: 6.0<br>Cholesterol: 245.65",
          "Patient Age: 83<br>MMSE: 23.22<br>BMI: 20.32<br>Risk Score: 6.3<br>Cholesterol: 232.25",
          "Patient Age: 72<br>MMSE: 14.53<br>BMI: 37.63<br>Risk Score: 6.6<br>Cholesterol: 276.31",
          "Patient Age: 77<br>MMSE: 17.98<br>BMI: 27.39<br>Risk Score: 6.3<br>Cholesterol: 219.79",
          "Patient Age: 60<br>MMSE: 7.97<br>BMI: 32.34<br>Risk Score: 6.0<br>Cholesterol: 162.07",
          "Patient Age: 65<br>MMSE: 8.77<br>BMI: 28.47<br>Risk Score: 5.1<br>Cholesterol: 272.07",
          "Patient Age: 90<br>MMSE: 23.08<br>BMI: 22.13<br>Risk Score: 6.7<br>Cholesterol: 226.51",
          "Patient Age: 60<br>MMSE: 7.26<br>BMI: 32.89<br>Risk Score: 5.8<br>Cholesterol: 294.38",
          "Patient Age: 71<br>MMSE: 0.82<br>BMI: 27.94<br>Risk Score: 6.5<br>Cholesterol: 260.35",
          "Patient Age: 83<br>MMSE: 28.66<br>BMI: 30.95<br>Risk Score: 5.8<br>Cholesterol: 186.56",
          "Patient Age: 71<br>MMSE: 11.97<br>BMI: 33.53<br>Risk Score: 5.8<br>Cholesterol: 163.04",
          "Patient Age: 73<br>MMSE: 12.6<br>BMI: 20.05<br>Risk Score: 5.7<br>Cholesterol: 205.15",
          "Patient Age: 83<br>MMSE: 20.92<br>BMI: 23.67<br>Risk Score: 6.3<br>Cholesterol: 234.51",
          "Patient Age: 83<br>MMSE: 25.39<br>BMI: 31.1<br>Risk Score: 5.8<br>Cholesterol: 178.78",
          "Patient Age: 89<br>MMSE: 28.22<br>BMI: 29.64<br>Risk Score: 6.2<br>Cholesterol: 288.64",
          "Patient Age: 62<br>MMSE: 5.9<br>BMI: 16.52<br>Risk Score: 6.5<br>Cholesterol: 208.06",
          "Patient Age: 73<br>MMSE: 13.25<br>BMI: 29.02<br>Risk Score: 5.3<br>Cholesterol: 174.85",
          "Patient Age: 75<br>MMSE: 19.29<br>BMI: 19.84<br>Risk Score: 5.8<br>Cholesterol: 216.4",
          "Patient Age: 77<br>MMSE: 18.5<br>BMI: 19.05<br>Risk Score: 6.5<br>Cholesterol: 279.48",
          "Patient Age: 63<br>MMSE: 3.34<br>BMI: 22.05<br>Risk Score: 5.5<br>Cholesterol: 209.38",
          "Patient Age: 87<br>MMSE: 26.19<br>BMI: 39.69<br>Risk Score: 6.7<br>Cholesterol: 202.35",
          "Patient Age: 60<br>MMSE: 7.88<br>BMI: 38.4<br>Risk Score: 5.8<br>Cholesterol: 223.26",
          "Patient Age: 66<br>MMSE: 9.53<br>BMI: 31.21<br>Risk Score: 5.6<br>Cholesterol: 269.32",
          "Patient Age: 79<br>MMSE: 25.66<br>BMI: 17.67<br>Risk Score: 5.6<br>Cholesterol: 254.43",
          "Patient Age: 65<br>MMSE: 6.72<br>BMI: 17.32<br>Risk Score: 6.8<br>Cholesterol: 256.3",
          "Patient Age: 69<br>MMSE: 10.65<br>BMI: 37.17<br>Risk Score: 5.6<br>Cholesterol: 273.17",
          "Patient Age: 69<br>MMSE: 11.13<br>BMI: 29.1<br>Risk Score: 5.0<br>Cholesterol: 273.43",
          "Patient Age: 71<br>MMSE: 3.39<br>BMI: 37.46<br>Risk Score: 6.8<br>Cholesterol: 162.41",
          "Patient Age: 89<br>MMSE: 25.58<br>BMI: 39.22<br>Risk Score: 6.3<br>Cholesterol: 235.03",
          "Patient Age: 70<br>MMSE: 23.0<br>BMI: 38.43<br>Risk Score: 5.7<br>Cholesterol: 183.24",
          "Patient Age: 87<br>MMSE: 18.86<br>BMI: 23.62<br>Risk Score: 6.3<br>Cholesterol: 207.14",
          "Patient Age: 76<br>MMSE: 25.52<br>BMI: 24.86<br>Risk Score: 5.0<br>Cholesterol: 160.7",
          "Patient Age: 63<br>MMSE: 7.74<br>BMI: 30.57<br>Risk Score: 6.0<br>Cholesterol: 174.02",
          "Patient Age: 76<br>MMSE: 23.77<br>BMI: 23.72<br>Risk Score: 5.3<br>Cholesterol: 222.14",
          "Patient Age: 87<br>MMSE: 23.95<br>BMI: 22.72<br>Risk Score: 6.8<br>Cholesterol: 287.81",
          "Patient Age: 81<br>MMSE: 21.31<br>BMI: 26.88<br>Risk Score: 6.6<br>Cholesterol: 254.71",
          "Patient Age: 87<br>MMSE: 26.5<br>BMI: 27.01<br>Risk Score: 6.0<br>Cholesterol: 228.92",
          "Patient Age: 74<br>MMSE: 16.98<br>BMI: 31.53<br>Risk Score: 6.2<br>Cholesterol: 224.86",
          "Patient Age: 70<br>MMSE: 1.3<br>BMI: 19.16<br>Risk Score: 6.8<br>Cholesterol: 299.33",
          "Patient Age: 72<br>MMSE: 2.16<br>BMI: 19.39<br>Risk Score: 6.7<br>Cholesterol: 235.36",
          "Patient Age: 65<br>MMSE: 2.61<br>BMI: 20.46<br>Risk Score: 5.1<br>Cholesterol: 272.27",
          "Patient Age: 75<br>MMSE: 22.92<br>BMI: 25.69<br>Risk Score: 5.6<br>Cholesterol: 246.52",
          "Patient Age: 67<br>MMSE: 5.03<br>BMI: 20.36<br>Risk Score: 5.1<br>Cholesterol: 242.74",
          "Patient Age: 67<br>MMSE: 3.9<br>BMI: 23.17<br>Risk Score: 5.5<br>Cholesterol: 224.39",
          "Patient Age: 62<br>MMSE: 1.53<br>BMI: 37.81<br>Risk Score: 6.1<br>Cholesterol: 255.71",
          "Patient Age: 79<br>MMSE: 29.84<br>BMI: 39.07<br>Risk Score: 6.3<br>Cholesterol: 246.61",
          "Patient Age: 81<br>MMSE: 28.9<br>BMI: 31.46<br>Risk Score: 5.8<br>Cholesterol: 212.62",
          "Patient Age: 68<br>MMSE: 13.03<br>BMI: 19.23<br>Risk Score: 5.3<br>Cholesterol: 154.36",
          "Patient Age: 62<br>MMSE: 9.26<br>BMI: 24.13<br>Risk Score: 5.5<br>Cholesterol: 205.27",
          "Patient Age: 70<br>MMSE: 27.25<br>BMI: 35.92<br>Risk Score: 5.0<br>Cholesterol: 191.1",
          "Patient Age: 78<br>MMSE: 18.57<br>BMI: 32.55<br>Risk Score: 6.5<br>Cholesterol: 180.81",
          "Patient Age: 78<br>MMSE: 21.52<br>BMI: 20.71<br>Risk Score: 6.3<br>Cholesterol: 253.65",
          "Patient Age: 73<br>MMSE: 10.97<br>BMI: 19.05<br>Risk Score: 6.3<br>Cholesterol: 283.03",
          "Patient Age: 70<br>MMSE: 15.21<br>BMI: 39.64<br>Risk Score: 6.8<br>Cholesterol: 281.03",
          "Patient Age: 71<br>MMSE: 13.84<br>BMI: 29.21<br>Risk Score: 5.3<br>Cholesterol: 212.58",
          "Patient Age: 65<br>MMSE: 2.24<br>BMI: 15.41<br>Risk Score: 5.8<br>Cholesterol: 231.59",
          "Patient Age: 81<br>MMSE: 20.57<br>BMI: 21.05<br>Risk Score: 6.3<br>Cholesterol: 174.33",
          "Patient Age: 64<br>MMSE: 14.2<br>BMI: 34.93<br>Risk Score: 5.8<br>Cholesterol: 277.84",
          "Patient Age: 74<br>MMSE: 21.54<br>BMI: 36.32<br>Risk Score: 6.3<br>Cholesterol: 244.19",
          "Patient Age: 72<br>MMSE: 2.17<br>BMI: 32.28<br>Risk Score: 6.3<br>Cholesterol: 167.17",
          "Patient Age: 81<br>MMSE: 29.15<br>BMI: 38.19<br>Risk Score: 6.8<br>Cholesterol: 157.32",
          "Patient Age: 67<br>MMSE: 13.44<br>BMI: 15.5<br>Risk Score: 5.3<br>Cholesterol: 228.34",
          "Patient Age: 78<br>MMSE: 21.21<br>BMI: 22.46<br>Risk Score: 5.6<br>Cholesterol: 254.59",
          "Patient Age: 60<br>MMSE: 3.66<br>BMI: 34.21<br>Risk Score: 6.5<br>Cholesterol: 285.0",
          "Patient Age: 69<br>MMSE: 3.6<br>BMI: 30.69<br>Risk Score: 6.3<br>Cholesterol: 271.27",
          "Patient Age: 64<br>MMSE: 13.14<br>BMI: 20.97<br>Risk Score: 5.2<br>Cholesterol: 284.11",
          "Patient Age: 89<br>MMSE: 24.17<br>BMI: 19.7<br>Risk Score: 5.8<br>Cholesterol: 188.17",
          "Patient Age: 85<br>MMSE: 26.76<br>BMI: 29.93<br>Risk Score: 6.5<br>Cholesterol: 150.46",
          "Patient Age: 70<br>MMSE: 20.1<br>BMI: 38.79<br>Risk Score: 5.6<br>Cholesterol: 242.81",
          "Patient Age: 64<br>MMSE: 4.41<br>BMI: 24.28<br>Risk Score: 5.1<br>Cholesterol: 260.61",
          "Patient Age: 77<br>MMSE: 2.78<br>BMI: 25.98<br>Risk Score: 6.8<br>Cholesterol: 214.6",
          "Patient Age: 62<br>MMSE: 4.43<br>BMI: 29.71<br>Risk Score: 5.5<br>Cholesterol: 204.69",
          "Patient Age: 62<br>MMSE: 10.21<br>BMI: 24.25<br>Risk Score: 5.0<br>Cholesterol: 197.16",
          "Patient Age: 73<br>MMSE: 9.96<br>BMI: 23.03<br>Risk Score: 6.3<br>Cholesterol: 156.25",
          "Patient Age: 83<br>MMSE: 27.62<br>BMI: 38.01<br>Risk Score: 6.6<br>Cholesterol: 256.49",
          "Patient Age: 77<br>MMSE: 3.15<br>BMI: 28.08<br>Risk Score: 6.8<br>Cholesterol: 197.72",
          "Patient Age: 89<br>MMSE: 20.61<br>BMI: 26.83<br>Risk Score: 6.3<br>Cholesterol: 231.16",
          "Patient Age: 69<br>MMSE: 3.87<br>BMI: 26.81<br>Risk Score: 5.1<br>Cholesterol: 253.24",
          "Patient Age: 72<br>MMSE: 15.43<br>BMI: 23.31<br>Risk Score: 6.0<br>Cholesterol: 269.88",
          "Patient Age: 67<br>MMSE: 0.69<br>BMI: 37.21<br>Risk Score: 6.1<br>Cholesterol: 270.17",
          "Patient Age: 76<br>MMSE: 1.14<br>BMI: 28.23<br>Risk Score: 6.8<br>Cholesterol: 239.27",
          "Patient Age: 76<br>MMSE: 19.47<br>BMI: 25.02<br>Risk Score: 6.3<br>Cholesterol: 255.04",
          "Patient Age: 79<br>MMSE: 9.86<br>BMI: 21.76<br>Risk Score: 6.8<br>Cholesterol: 215.48",
          "Patient Age: 67<br>MMSE: 11.06<br>BMI: 37.45<br>Risk Score: 6.3<br>Cholesterol: 253.53",
          "Patient Age: 85<br>MMSE: 18.69<br>BMI: 25.71<br>Risk Score: 6.3<br>Cholesterol: 183.57",
          "Patient Age: 90<br>MMSE: 26.09<br>BMI: 32.72<br>Risk Score: 6.5<br>Cholesterol: 178.11",
          "Patient Age: 72<br>MMSE: 5.1<br>BMI: 28.25<br>Risk Score: 5.8<br>Cholesterol: 236.63",
          "Patient Age: 77<br>MMSE: 7.94<br>BMI: 28.74<br>Risk Score: 6.8<br>Cholesterol: 188.07",
          "Patient Age: 68<br>MMSE: 3.79<br>BMI: 17.91<br>Risk Score: 6.1<br>Cholesterol: 249.8",
          "Patient Age: 71<br>MMSE: 9.17<br>BMI: 39.68<br>Risk Score: 6.8<br>Cholesterol: 225.2",
          "Patient Age: 67<br>MMSE: 16.47<br>BMI: 16.75<br>Risk Score: 5.6<br>Cholesterol: 272.73",
          "Patient Age: 85<br>MMSE: 27.87<br>BMI: 25.39<br>Risk Score: 5.3<br>Cholesterol: 188.59",
          "Patient Age: 73<br>MMSE: 0.02<br>BMI: 33.01<br>Risk Score: 6.3<br>Cholesterol: 200.98",
          "Patient Age: 79<br>MMSE: 25.99<br>BMI: 18.56<br>Risk Score: 5.7<br>Cholesterol: 154.33",
          "Patient Age: 83<br>MMSE: 27.23<br>BMI: 18.91<br>Risk Score: 6.7<br>Cholesterol: 151.71",
          "Patient Age: 86<br>MMSE: 19.93<br>BMI: 32.54<br>Risk Score: 6.8<br>Cholesterol: 200.75",
          "Patient Age: 61<br>MMSE: 0.78<br>BMI: 20.67<br>Risk Score: 5.2<br>Cholesterol: 221.1",
          "Patient Age: 72<br>MMSE: 8.66<br>BMI: 21.81<br>Risk Score: 5.8<br>Cholesterol: 231.55",
          "Patient Age: 68<br>MMSE: 6.59<br>BMI: 37.22<br>Risk Score: 6.2<br>Cholesterol: 221.74",
          "Patient Age: 75<br>MMSE: 24.03<br>BMI: 15.37<br>Risk Score: 5.3<br>Cholesterol: 208.48",
          "Patient Age: 70<br>MMSE: 15.02<br>BMI: 21.78<br>Risk Score: 6.0<br>Cholesterol: 164.36",
          "Patient Age: 60<br>MMSE: 11.7<br>BMI: 38.64<br>Risk Score: 5.3<br>Cholesterol: 175.17",
          "Patient Age: 63<br>MMSE: 5.83<br>BMI: 33.83<br>Risk Score: 6.0<br>Cholesterol: 268.23",
          "Patient Age: 68<br>MMSE: 5.67<br>BMI: 37.38<br>Risk Score: 5.8<br>Cholesterol: 221.85",
          "Patient Age: 64<br>MMSE: 12.99<br>BMI: 15.46<br>Risk Score: 6.0<br>Cholesterol: 239.26",
          "Patient Age: 60<br>MMSE: 2.7<br>BMI: 23.02<br>Risk Score: 5.8<br>Cholesterol: 264.92",
          "Patient Age: 74<br>MMSE: 21.29<br>BMI: 16.68<br>Risk Score: 5.8<br>Cholesterol: 155.35",
          "Patient Age: 64<br>MMSE: 2.5<br>BMI: 39.57<br>Risk Score: 6.8<br>Cholesterol: 246.94",
          "Patient Age: 76<br>MMSE: 19.88<br>BMI: 17.81<br>Risk Score: 6.3<br>Cholesterol: 202.86",
          "Patient Age: 76<br>MMSE: 19.1<br>BMI: 28.99<br>Risk Score: 5.3<br>Cholesterol: 192.05",
          "Patient Age: 66<br>MMSE: 1.5<br>BMI: 16.67<br>Risk Score: 6.2<br>Cholesterol: 188.52",
          "Patient Age: 78<br>MMSE: 19.56<br>BMI: 26.88<br>Risk Score: 6.0<br>Cholesterol: 209.22",
          "Patient Age: 71<br>MMSE: 22.3<br>BMI: 27.24<br>Risk Score: 5.0<br>Cholesterol: 243.49",
          "Patient Age: 85<br>MMSE: 26.23<br>BMI: 32.47<br>Risk Score: 6.1<br>Cholesterol: 274.5",
          "Patient Age: 80<br>MMSE: 28.02<br>BMI: 21.3<br>Risk Score: 6.0<br>Cholesterol: 211.95",
          "Patient Age: 69<br>MMSE: 11.38<br>BMI: 31.89<br>Risk Score: 5.2<br>Cholesterol: 235.65",
          "Patient Age: 70<br>MMSE: 15.15<br>BMI: 34.93<br>Risk Score: 6.5<br>Cholesterol: 195.86",
          "Patient Age: 70<br>MMSE: 9.99<br>BMI: 25.5<br>Risk Score: 6.3<br>Cholesterol: 292.76",
          "Patient Age: 70<br>MMSE: 2.26<br>BMI: 31.93<br>Risk Score: 6.3<br>Cholesterol: 199.51",
          "Patient Age: 61<br>MMSE: 19.74<br>BMI: 37.95<br>Risk Score: 5.2<br>Cholesterol: 287.14",
          "Patient Age: 72<br>MMSE: 11.52<br>BMI: 16.93<br>Risk Score: 6.3<br>Cholesterol: 220.9",
          "Patient Age: 81<br>MMSE: 18.56<br>BMI: 20.77<br>Risk Score: 6.8<br>Cholesterol: 159.67",
          "Patient Age: 86<br>MMSE: 23.63<br>BMI: 24.07<br>Risk Score: 6.8<br>Cholesterol: 280.79",
          "Patient Age: 74<br>MMSE: 21.67<br>BMI: 22.29<br>Risk Score: 5.2<br>Cholesterol: 156.54",
          "Patient Age: 70<br>MMSE: 21.64<br>BMI: 25.6<br>Risk Score: 5.2<br>Cholesterol: 296.96",
          "Patient Age: 63<br>MMSE: 23.53<br>BMI: 35.6<br>Risk Score: 5.0<br>Cholesterol: 214.71",
          "Patient Age: 79<br>MMSE: 6.92<br>BMI: 22.82<br>Risk Score: 6.8<br>Cholesterol: 170.33",
          "Patient Age: 78<br>MMSE: 21.84<br>BMI: 29.02<br>Risk Score: 6.5<br>Cholesterol: 151.16",
          "Patient Age: 81<br>MMSE: 27.95<br>BMI: 18.65<br>Risk Score: 5.8<br>Cholesterol: 203.09",
          "Patient Age: 77<br>MMSE: 20.55<br>BMI: 15.31<br>Risk Score: 6.6<br>Cholesterol: 240.87",
          "Patient Age: 76<br>MMSE: 25.41<br>BMI: 38.77<br>Risk Score: 5.8<br>Cholesterol: 155.85",
          "Patient Age: 66<br>MMSE: 7.99<br>BMI: 39.16<br>Risk Score: 6.1<br>Cholesterol: 248.79",
          "Patient Age: 77<br>MMSE: 3.85<br>BMI: 20.02<br>Risk Score: 6.8<br>Cholesterol: 168.13",
          "Patient Age: 85<br>MMSE: 29.5<br>BMI: 34.02<br>Risk Score: 6.2<br>Cholesterol: 180.19",
          "Patient Age: 69<br>MMSE: 14.2<br>BMI: 16.48<br>Risk Score: 5.6<br>Cholesterol: 240.15",
          "Patient Age: 68<br>MMSE: 20.84<br>BMI: 37.66<br>Risk Score: 5.3<br>Cholesterol: 255.76",
          "Patient Age: 78<br>MMSE: 28.36<br>BMI: 35.71<br>Risk Score: 5.3<br>Cholesterol: 164.72",
          "Patient Age: 67<br>MMSE: 3.09<br>BMI: 39.75<br>Risk Score: 6.1<br>Cholesterol: 263.17",
          "Patient Age: 70<br>MMSE: 15.68<br>BMI: 34.18<br>Risk Score: 6.3<br>Cholesterol: 159.05",
          "Patient Age: 74<br>MMSE: 15.24<br>BMI: 23.04<br>Risk Score: 6.0<br>Cholesterol: 269.87",
          "Patient Age: 85<br>MMSE: 26.44<br>BMI: 26.65<br>Risk Score: 6.0<br>Cholesterol: 256.04",
          "Patient Age: 78<br>MMSE: 23.2<br>BMI: 39.17<br>Risk Score: 6.3<br>Cholesterol: 168.4",
          "Patient Age: 87<br>MMSE: 25.83<br>BMI: 33.48<br>Risk Score: 6.8<br>Cholesterol: 264.43",
          "Patient Age: 75<br>MMSE: 24.08<br>BMI: 32.52<br>Risk Score: 5.1<br>Cholesterol: 270.31",
          "Patient Age: 68<br>MMSE: 5.2<br>BMI: 38.57<br>Risk Score: 6.5<br>Cholesterol: 196.67",
          "Patient Age: 66<br>MMSE: 5.85<br>BMI: 27.1<br>Risk Score: 5.3<br>Cholesterol: 155.49",
          "Patient Age: 83<br>MMSE: 25.43<br>BMI: 27.42<br>Risk Score: 5.8<br>Cholesterol: 159.99",
          "Patient Age: 67<br>MMSE: 0.36<br>BMI: 36.16<br>Risk Score: 6.5<br>Cholesterol: 206.2",
          "Patient Age: 74<br>MMSE: 18.72<br>BMI: 17.88<br>Risk Score: 5.8<br>Cholesterol: 282.6",
          "Patient Age: 67<br>MMSE: 10.01<br>BMI: 18.61<br>Risk Score: 5.8<br>Cholesterol: 243.24",
          "Patient Age: 65<br>MMSE: 10.51<br>BMI: 22.32<br>Risk Score: 5.0<br>Cholesterol: 247.79",
          "Patient Age: 62<br>MMSE: 0.59<br>BMI: 37.2<br>Risk Score: 5.8<br>Cholesterol: 218.9",
          "Patient Age: 89<br>MMSE: 19.34<br>BMI: 21.41<br>Risk Score: 6.8<br>Cholesterol: 289.46",
          "Patient Age: 83<br>MMSE: 24.03<br>BMI: 26.66<br>Risk Score: 6.2<br>Cholesterol: 289.01"
         ],
         "type": "scatter3d",
         "x": {
          "bdata": "UEBSR1lJSEFKRFFLSkZFREQ+P1lKPkRBQEVEQFlFTFRNTU1aSEw/ST9MQ0JaSj1AV0RNQVBBPTw9QEhWP0xIPUE9U0hNPEFaPEdTR0lTU1k+SUtNP1c8Qk9BRUVHWUZXTD9MV1FXSkZIQUtDQz5PUUQ+Rk5OSUZHQVFASkhRQ048RUBZVUZATT4+SVNNWUVIQ0xMT0NVWkhNREdDVUlPU1Y9SERLRjw/REA8SkBMTEJOR1VQRUZGRj1IUVZKRj9PTlFNTEJNVUVETkNGSlVOV0tEQlNDSkNBPllT",
          "dtype": "i1"
         },
         "y": {
          "bdata": "mpmZmZkZOEBmZmZmZmYiQPYoXI/CdThAcT0K16NwA0AK16NwPUo2QOF6FK5HYTRAcT0K16NwHEDD9Shcj0IpQBSuR+F6lCRAzczMzMxMMECPwvUoXE86QHE9Ctej8CdA16NwPQoXN0BmZmZmZmbmPx+F61G4njFACtejcD0KFkDD9Shcj8LxPzMzMzMzMyFAmpmZmZmZ/T/sUbgehas8QOF6FK5HoT1ApHA9Ctej6D8UrkfhepQoQIXrUbgehRpApHA9CtejCkB7FK5H4XoRQArXo3A9iiNAhetRuB4FJkCF61G4HoU8QOxRuB6F6xZApHA9CtejK0CPwvUoXA89QMP1KFyPgjZArkfhehTuOEAfhetRuF4zQFK4HoXr0TtA9ihcj8J1J0AUrkfhetQ3QArXo3A9Cuc/uB6F61H4MUDNzMzMzEwmQBSuR+F6FDxAUrgehetRKUDD9Shcj0IpQD0K16NwfTNAMzMzMzOzIUAUrkfhehT2P0jhehSuxyxACtejcD3KM0DhehSuR+H+P4XrUbgeBTtACtejcD2KMUCuR+F6FO47QK5H4XoUri9A16NwPQpXIEBxPQrXo/AlQEjhehSuBzJAMzMzMzMzKECamZmZmZkrQClcj8L1qDlAPQrXo3A9BkCF61G4HgU5QI/C9ShcjyBAUrgehevRLEAK16NwPQogQFK4HoXrUfA/uB6F61E4N0CPwvUoXA8tQHsUrkfh+jFA4XoUrkfhH0AK16NwPYohQBSuR+F6FDdACtejcD0KHUA9CtejcD3qPylcj8L1qDxAcT0K16PwJ0AzMzMzMzMpQOxRuB6F6zRApHA9CtdjOUC4HoXrUTg8QJqZmZmZmRdAAAAAAACAKkAK16NwPUozQAAAAAAAgDJAuB6F61G4CkBxPQrXozA6QIXrUbgehR9Aj8L1KFwPI0ApXI/C9ag5QOF6FK5H4RpAzczMzMxMJUDD9Shcj0ImQB+F61G4HgtAFK5H4XqUOUAAAAAAAAA3QFyPwvUo3DJAhetRuB6FOUD2KFyPwvUeQIXrUbgexTdAMzMzMzPzN0CPwvUoXE81QAAAAAAAgDpAexSuR+H6MEDNzMzMzMz0P0jhehSuRwFA4XoUrkfhBEDsUbgehes2QB+F61G4HhRAMzMzMzMzD0B7FK5H4Xr4P9ejcD0K1z1AZmZmZmbmPECPwvUoXA8qQIXrUbgehSJAAAAAAABAO0BSuB6F65EyQIXrUbgehTVAcT0K16PwJUDsUbgehWsuQK5H4XoUritA7FG4HoXrAUBSuB6F65E0QGZmZmZmZixACtejcD2KNUBcj8L1KFwBQGZmZmZmJj1A4XoUrkfhKkD2KFyPwjU1QEjhehSuRw1AzczMzMzMDEBI4XoUrkcqQOxRuB6FKzhAw/UoXI/COkCamZmZmRk0QKRwPQrXoxFAPQrXo3A9BkC4HoXrUbgRQOxRuB6FayRA7FG4HoXrI0AfhetRuJ47QDMzMzMzMwlAXI/C9SicNED2KFyPwvUOQFyPwvUo3C5AFK5H4XoU5j89CtejcD3yP7gehetReDNAuB6F61G4I0AfhetRuB4mQHE9CtejsDJA16NwPQoXOkBmZmZmZmYUQMP1KFyPwh9AUrgehetRDkDXo3A9ClciQLgehetReDBAH4XrUbjeO0B7FK5H4XqUPz0K16Nw/TlAexSuR+E6O0CuR+F6FO4zQPYoXI/C9eg/UrgehetRIUBcj8L1KFwaQEjhehSuBzhACtejcD0KLkBmZmZmZmYnQFK4HoXrURdArkfhehSuFkB7FK5H4fopQJqZmZmZmQVACtejcD1KNUAAAAAAAAAEQOF6FK5H4TNAmpmZmZkZM0AAAAAAAAD4P4/C9ShcjzNAzczMzMxMNkB7FK5H4To6QIXrUbgeBTxAw/UoXI/CJkDNzMzMzEwuQHsUrkfh+iNAFK5H4XoUAkA9CtejcL0zQArXo3A9CidAj8L1KFyPMkDhehSuR6E3QOxRuB6FqzVApHA9CtejNUBI4XoUroc3QK5H4XoUrhtA16NwPQrXNUAzMzMzM/M7QM3MzMzMjDRAKVyPwvVoOUD2KFyPwvUfQM3MzMzMzA5AAAAAAACAPUBmZmZmZmYsQNejcD0K1zRAXI/C9ShcPEC4HoXrUbgIQFyPwvUoXC9AexSuR+F6LkBxPQrXo3A6QDMzMzMzMzdAFK5H4XrUOUAUrkfhehQ4QM3MzMzMzBRAZmZmZmZmF0CuR+F6FG45QArXo3A9Ctc/uB6F61G4MkCF61G4HgUkQIXrUbgeBSVA4XoUrkfh4j/Xo3A9ClczQEjhehSuBzhA",
          "dtype": "f8"
         },
         "z": {
          "bdata": "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",
          "dtype": "f8"
         }
        }
       ],
       "layout": {
        "height": 600,
        "margin": {
         "b": 10,
         "l": 10,
         "r": 20,
         "t": 80
        },
        "paper_bgcolor": "rgba(255,255,255,0.9)",
        "plot_bgcolor": "rgba(240,240,240,0.9)",
        "scene": {
         "bgcolor": "rgba(240,240,240,0.9)",
         "xaxis": {
          "gridcolor": "white",
          "gridwidth": 2,
          "title": {
           "text": "Patient Age (Years)"
          }
         },
         "yaxis": {
          "gridcolor": "white",
          "gridwidth": 2,
          "title": {
           "text": "MMSE Score (Cognitive Function)"
          }
         },
         "zaxis": {
          "gridcolor": "white",
          "gridwidth": 2,
          "title": {
           "text": "BMI (Body Mass Index)"
          }
         }
        },
        "template": {
         "data": {
          "bar": [
           {
            "error_x": {
             "color": "#2a3f5f"
            },
            "error_y": {
             "color": "#2a3f5f"
            },
            "marker": {
             "line": {
              "color": "#E5ECF6",
              "width": 0.5
             },
             "pattern": {
              "fillmode": "overlay",
              "size": 10,
              "solidity": 0.2
             }
            },
            "type": "bar"
           }
          ],
          "barpolar": [
           {
            "marker": {
             "line": {
              "color": "#E5ECF6",
              "width": 0.5
             },
             "pattern": {
              "fillmode": "overlay",
              "size": 10,
              "solidity": 0.2
             }
            },
            "type": "barpolar"
           }
          ],
          "carpet": [
           {
            "aaxis": {
             "endlinecolor": "#2a3f5f",
             "gridcolor": "white",
             "linecolor": "white",
             "minorgridcolor": "white",
             "startlinecolor": "#2a3f5f"
            },
            "baxis": {
             "endlinecolor": "#2a3f5f",
             "gridcolor": "white",
             "linecolor": "white",
             "minorgridcolor": "white",
             "startlinecolor": "#2a3f5f"
            },
            "type": "carpet"
           }
          ],
          "choropleth": [
           {
            "colorbar": {
             "outlinewidth": 0,
             "ticks": ""
            },
            "type": "choropleth"
           }
          ],
          "contour": [
           {
            "colorbar": {
             "outlinewidth": 0,
             "ticks": ""
            },
            "colorscale": [
             [
              0,
              "#0d0887"
             ],
             [
              0.1111111111111111,
              "#46039f"
             ],
             [
              0.2222222222222222,
              "#7201a8"
             ],
             [
              0.3333333333333333,
              "#9c179e"
             ],
             [
              0.4444444444444444,
              "#bd3786"
             ],
             [
              0.5555555555555556,
              "#d8576b"
             ],
             [
              0.6666666666666666,
              "#ed7953"
             ],
             [
              0.7777777777777778,
              "#fb9f3a"
             ],
             [
              0.8888888888888888,
              "#fdca26"
             ],
             [
              1,
              "#f0f921"
             ]
            ],
            "type": "contour"
           }
          ],
          "contourcarpet": [
           {
            "colorbar": {
             "outlinewidth": 0,
             "ticks": ""
            },
            "type": "contourcarpet"
           }
          ],
          "heatmap": [
           {
            "colorbar": {
             "outlinewidth": 0,
             "ticks": ""
            },
            "colorscale": [
             [
              0,
              "#0d0887"
             ],
             [
              0.1111111111111111,
              "#46039f"
             ],
             [
              0.2222222222222222,
              "#7201a8"
             ],
             [
              0.3333333333333333,
              "#9c179e"
             ],
             [
              0.4444444444444444,
              "#bd3786"
             ],
             [
              0.5555555555555556,
              "#d8576b"
             ],
             [
              0.6666666666666666,
              "#ed7953"
             ],
             [
              0.7777777777777778,
              "#fb9f3a"
             ],
             [
              0.8888888888888888,
              "#fdca26"
             ],
             [
              1,
              "#f0f921"
             ]
            ],
            "type": "heatmap"
           }
          ],
          "histogram": [
           {
            "marker": {
             "pattern": {
              "fillmode": "overlay",
              "size": 10,
              "solidity": 0.2
             }
            },
            "type": "histogram"
           }
          ],
          "histogram2d": [
           {
            "colorbar": {
             "outlinewidth": 0,
             "ticks": ""
            },
            "colorscale": [
             [
              0,
              "#0d0887"
             ],
             [
              0.1111111111111111,
              "#46039f"
             ],
             [
              0.2222222222222222,
              "#7201a8"
             ],
             [
              0.3333333333333333,
              "#9c179e"
             ],
             [
              0.4444444444444444,
              "#bd3786"
             ],
             [
              0.5555555555555556,
              "#d8576b"
             ],
             [
              0.6666666666666666,
              "#ed7953"
             ],
             [
              0.7777777777777778,
              "#fb9f3a"
             ],
             [
              0.8888888888888888,
              "#fdca26"
             ],
             [
              1,
              "#f0f921"
             ]
            ],
            "type": "histogram2d"
           }
          ],
          "histogram2dcontour": [
           {
            "colorbar": {
             "outlinewidth": 0,
             "ticks": ""
            },
            "colorscale": [
             [
              0,
              "#0d0887"
             ],
             [
              0.1111111111111111,
              "#46039f"
             ],
             [
              0.2222222222222222,
              "#7201a8"
             ],
             [
              0.3333333333333333,
              "#9c179e"
             ],
             [
              0.4444444444444444,
              "#bd3786"
             ],
             [
              0.5555555555555556,
              "#d8576b"
             ],
             [
              0.6666666666666666,
              "#ed7953"
             ],
             [
              0.7777777777777778,
              "#fb9f3a"
             ],
             [
              0.8888888888888888,
              "#fdca26"
             ],
             [
              1,
              "#f0f921"
             ]
            ],
            "type": "histogram2dcontour"
           }
          ],
          "mesh3d": [
           {
            "colorbar": {
             "outlinewidth": 0,
             "ticks": ""
            },
            "type": "mesh3d"
           }
          ],
          "parcoords": [
           {
            "line": {
             "colorbar": {
              "outlinewidth": 0,
              "ticks": ""
             }
            },
            "type": "parcoords"
           }
          ],
          "pie": [
           {
            "automargin": true,
            "type": "pie"
           }
          ],
          "scatter": [
           {
            "fillpattern": {
             "fillmode": "overlay",
             "size": 10,
             "solidity": 0.2
            },
            "type": "scatter"
           }
          ],
          "scatter3d": [
           {
            "line": {
             "colorbar": {
              "outlinewidth": 0,
              "ticks": ""
             }
            },
            "marker": {
             "colorbar": {
              "outlinewidth": 0,
              "ticks": ""
             }
            },
            "type": "scatter3d"
           }
          ],
          "scattercarpet": [
           {
            "marker": {
             "colorbar": {
              "outlinewidth": 0,
              "ticks": ""
             }
            },
            "type": "scattercarpet"
           }
          ],
          "scattergeo": [
           {
            "marker": {
             "colorbar": {
              "outlinewidth": 0,
              "ticks": ""
             }
            },
            "type": "scattergeo"
           }
          ],
          "scattergl": [
           {
            "marker": {
             "colorbar": {
              "outlinewidth": 0,
              "ticks": ""
             }
            },
            "type": "scattergl"
           }
          ],
          "scattermap": [
           {
            "marker": {
             "colorbar": {
              "outlinewidth": 0,
              "ticks": ""
             }
            },
            "type": "scattermap"
           }
          ],
          "scattermapbox": [
           {
            "marker": {
             "colorbar": {
              "outlinewidth": 0,
              "ticks": ""
             }
            },
            "type": "scattermapbox"
           }
          ],
          "scatterpolar": [
           {
            "marker": {
             "colorbar": {
              "outlinewidth": 0,
              "ticks": ""
             }
            },
            "type": "scatterpolar"
           }
          ],
          "scatterpolargl": [
           {
            "marker": {
             "colorbar": {
              "outlinewidth": 0,
              "ticks": ""
             }
            },
            "type": "scatterpolargl"
           }
          ],
          "scatterternary": [
           {
            "marker": {
             "colorbar": {
              "outlinewidth": 0,
              "ticks": ""
             }
            },
            "type": "scatterternary"
           }
          ],
          "surface": [
           {
            "colorbar": {
             "outlinewidth": 0,
             "ticks": ""
            },
            "colorscale": [
             [
              0,
              "#0d0887"
             ],
             [
              0.1111111111111111,
              "#46039f"
             ],
             [
              0.2222222222222222,
              "#7201a8"
             ],
             [
              0.3333333333333333,
              "#9c179e"
             ],
             [
              0.4444444444444444,
              "#bd3786"
             ],
             [
              0.5555555555555556,
              "#d8576b"
             ],
             [
              0.6666666666666666,
              "#ed7953"
             ],
             [
              0.7777777777777778,
              "#fb9f3a"
             ],
             [
              0.8888888888888888,
              "#fdca26"
             ],
             [
              1,
              "#f0f921"
             ]
            ],
            "type": "surface"
           }
          ],
          "table": [
           {
            "cells": {
             "fill": {
              "color": "#EBF0F8"
             },
             "line": {
              "color": "white"
             }
            },
            "header": {
             "fill": {
              "color": "#C8D4E3"
             },
             "line": {
              "color": "white"
             }
            },
            "type": "table"
           }
          ]
         },
         "layout": {
          "annotationdefaults": {
           "arrowcolor": "#2a3f5f",
           "arrowhead": 0,
           "arrowwidth": 1
          },
          "autotypenumbers": "strict",
          "coloraxis": {
           "colorbar": {
            "outlinewidth": 0,
            "ticks": ""
           }
          },
          "colorscale": {
           "diverging": [
            [
             0,
             "#8e0152"
            ],
            [
             0.1,
             "#c51b7d"
            ],
            [
             0.2,
             "#de77ae"
            ],
            [
             0.3,
             "#f1b6da"
            ],
            [
             0.4,
             "#fde0ef"
            ],
            [
             0.5,
             "#f7f7f7"
            ],
            [
             0.6,
             "#e6f5d0"
            ],
            [
             0.7,
             "#b8e186"
            ],
            [
             0.8,
             "#7fbc41"
            ],
            [
             0.9,
             "#4d9221"
            ],
            [
             1,
             "#276419"
            ]
           ],
           "sequential": [
            [
             0,
             "#0d0887"
            ],
            [
             0.1111111111111111,
             "#46039f"
            ],
            [
             0.2222222222222222,
             "#7201a8"
            ],
            [
             0.3333333333333333,
             "#9c179e"
            ],
            [
             0.4444444444444444,
             "#bd3786"
            ],
            [
             0.5555555555555556,
             "#d8576b"
            ],
            [
             0.6666666666666666,
             "#ed7953"
            ],
            [
             0.7777777777777778,
             "#fb9f3a"
            ],
            [
             0.8888888888888888,
             "#fdca26"
            ],
            [
             1,
             "#f0f921"
            ]
           ],
           "sequentialminus": [
            [
             0,
             "#0d0887"
            ],
            [
             0.1111111111111111,
             "#46039f"
            ],
            [
             0.2222222222222222,
             "#7201a8"
            ],
            [
             0.3333333333333333,
             "#9c179e"
            ],
            [
             0.4444444444444444,
             "#bd3786"
            ],
            [
             0.5555555555555556,
             "#d8576b"
            ],
            [
             0.6666666666666666,
             "#ed7953"
            ],
            [
             0.7777777777777778,
             "#fb9f3a"
            ],
            [
             0.8888888888888888,
             "#fdca26"
            ],
            [
             1,
             "#f0f921"
            ]
           ]
          },
          "colorway": [
           "#636efa",
           "#EF553B",
           "#00cc96",
           "#ab63fa",
           "#FFA15A",
           "#19d3f3",
           "#FF6692",
           "#B6E880",
           "#FF97FF",
           "#FECB52"
          ],
          "font": {
           "color": "#2a3f5f"
          },
          "geo": {
           "bgcolor": "white",
           "lakecolor": "white",
           "landcolor": "#E5ECF6",
           "showlakes": true,
           "showland": true,
           "subunitcolor": "white"
          },
          "hoverlabel": {
           "align": "left"
          },
          "hovermode": "closest",
          "mapbox": {
           "style": "light"
          },
          "paper_bgcolor": "white",
          "plot_bgcolor": "#E5ECF6",
          "polar": {
           "angularaxis": {
            "gridcolor": "white",
            "linecolor": "white",
            "ticks": ""
           },
           "bgcolor": "#E5ECF6",
           "radialaxis": {
            "gridcolor": "white",
            "linecolor": "white",
            "ticks": ""
           }
          },
          "scene": {
           "xaxis": {
            "backgroundcolor": "#E5ECF6",
            "gridcolor": "white",
            "gridwidth": 2,
            "linecolor": "white",
            "showbackground": true,
            "ticks": "",
            "zerolinecolor": "white"
           },
           "yaxis": {
            "backgroundcolor": "#E5ECF6",
            "gridcolor": "white",
            "gridwidth": 2,
            "linecolor": "white",
            "showbackground": true,
            "ticks": "",
            "zerolinecolor": "white"
           },
           "zaxis": {
            "backgroundcolor": "#E5ECF6",
            "gridcolor": "white",
            "gridwidth": 2,
            "linecolor": "white",
            "showbackground": true,
            "ticks": "",
            "zerolinecolor": "white"
           }
          },
          "shapedefaults": {
           "line": {
            "color": "#2a3f5f"
           }
          },
          "ternary": {
           "aaxis": {
            "gridcolor": "white",
            "linecolor": "white",
            "ticks": ""
           },
           "baxis": {
            "gridcolor": "white",
            "linecolor": "white",
            "ticks": ""
           },
           "bgcolor": "#E5ECF6",
           "caxis": {
            "gridcolor": "white",
            "linecolor": "white",
            "ticks": ""
           }
          },
          "title": {
           "x": 0.05
          },
          "xaxis": {
           "automargin": true,
           "gridcolor": "white",
           "linecolor": "white",
           "ticks": "",
           "title": {
            "standoff": 15
           },
           "zerolinecolor": "white",
           "zerolinewidth": 2
          },
          "yaxis": {
           "automargin": true,
           "gridcolor": "white",
           "linecolor": "white",
           "ticks": "",
           "title": {
            "standoff": 15
           },
           "zerolinecolor": "white",
           "zerolinewidth": 2
          }
         }
        },
        "title": {
         "font": {
          "family": "Arial, sans-serif",
          "size": 16
         },
         "text": "Interactive 3D Risk Assessment Dashboard<br><sub>Early Detection & Risk Stratification</sub>",
         "x": 0.5
        },
        "width": 800
       }
      }
     },
     "metadata": {},
     "output_type": "display_data"
    },
    {
     "name": "stdout",
     "output_type": "stream",
     "text": [
      "Creating comprehensive risk monitoring dashboard...\n"
     ]
    },
    {
     "data": {
      "application/vnd.plotly.v1+json": {
       "config": {
        "plotlyServerURL": "https://plot.ly"
       },
       "data": [
        {
         "hovertemplate": "<b>MMSE: %{x}</b><br>Risk Score: %{y}<br>%{text}<extra></extra>",
         "marker": {
          "color": "green",
          "line": {
           "color": "black",
           "width": 1
          },
          "opacity": 0.7,
          "size": 10
         },
         "mode": "markers",
         "name": "Low Risk",
         "showlegend": true,
         "text": [
          "Age: 61<br>BMI: 29.27<br>Functional: 8",
          "Age: 62<br>BMI: 23.59<br>Functional: 5",
          "Age: 60<br>BMI: 22.71<br>Functional: 5",
          "Age: 66<br>BMI: 37.74<br>Functional: 9",
          "Age: 66<br>BMI: 25.83<br>Functional: 4",
          "Age: 63<br>BMI: 19.41<br>Functional: 9",
          "Age: 72<br>BMI: 26.3<br>Functional: 0",
          "Age: 64<br>BMI: 20.24<br>Functional: 7",
          "Age: 68<br>BMI: 22.3<br>Functional: 4",
          "Age: 66<br>BMI: 29.42<br>Functional: 0",
          "Age: 67<br>BMI: 29.15<br>Functional: 9",
          "Age: 75<br>BMI: 22.81<br>Functional: 7",
          "Age: 67<br>BMI: 27.36<br>Functional: 6",
          "Age: 69<br>BMI: 24.98<br>Functional: 4",
          "Age: 66<br>BMI: 28.73<br>Functional: 8",
          "Age: 63<br>BMI: 20.97<br>Functional: 3",
          "Age: 61<br>BMI: 35.6<br>Functional: 3",
          "Age: 65<br>BMI: 35.14<br>Functional: 6",
          "Age: 74<br>BMI: 26.43<br>Functional: 5",
          "Age: 60<br>BMI: 24.62<br>Functional: 4",
          "Age: 67<br>BMI: 28.17<br>Functional: 0",
          "Age: 67<br>BMI: 22.98<br>Functional: 9",
          "Age: 66<br>BMI: 39.74<br>Functional: 0",
          "Age: 62<br>BMI: 24.04<br>Functional: 9",
          "Age: 64<br>BMI: 22.53<br>Functional: 6",
          "Age: 69<br>BMI: 28.34<br>Functional: 5",
          "Age: 60<br>BMI: 38.18<br>Functional: 8",
          "Age: 71<br>BMI: 18.8<br>Functional: 6",
          "Age: 66<br>BMI: 35.65<br>Functional: 7",
          "Age: 62<br>BMI: 34.15<br>Functional: 3",
          "Age: 62<br>BMI: 17.46<br>Functional: 5",
          "Age: 64<br>BMI: 34.88<br>Functional: 5",
          "Age: 69<br>BMI: 25.06<br>Functional: 6",
          "Age: 62<br>BMI: 16.95<br>Functional: 6",
          "Age: 68<br>BMI: 26.63<br>Functional: 7",
          "Age: 70<br>BMI: 30.17<br>Functional: 5",
          "Age: 72<br>BMI: 16.33<br>Functional: 8",
          "Age: 72<br>BMI: 35.5<br>Functional: 6",
          "Age: 62<br>BMI: 22.44<br>Functional: 9",
          "Age: 67<br>BMI: 29.3<br>Functional: 4",
          "Age: 64<br>BMI: 24.95<br>Functional: 4",
          "Age: 65<br>BMI: 24.88<br>Functional: 4",
          "Age: 64<br>BMI: 39.35<br>Functional: 3",
          "Age: 64<br>BMI: 29.09<br>Functional: 7",
          "Age: 61<br>BMI: 22.12<br>Functional: 9",
          "Age: 67<br>BMI: 27.79<br>Functional: 0",
          "Age: 79<br>BMI: 22.83<br>Functional: 3",
          "Age: 60<br>BMI: 27.56<br>Functional: 9",
          "Age: 74<br>BMI: 33.78<br>Functional: 8",
          "Age: 71<br>BMI: 18.43<br>Functional: 6",
          "Age: 65<br>BMI: 28.76<br>Functional: 5",
          "Age: 70<br>BMI: 22.78<br>Functional: 7",
          "Age: 61<br>BMI: 19.39<br>Functional: 0",
          "Age: 65<br>BMI: 25.04<br>Functional: 3",
          "Age: 60<br>BMI: 31.57<br>Functional: 6",
          "Age: 71<br>BMI: 22.62<br>Functional: 4",
          "Age: 63<br>BMI: 24.11<br>Functional: 7",
          "Age: 62<br>BMI: 23.2<br>Functional: 9",
          "Age: 76<br>BMI: 20.28<br>Functional: 9",
          "Age: 66<br>BMI: 36.16<br>Functional: 8",
          "Age: 72<br>BMI: 26.12<br>Functional: 8",
          "Age: 62<br>BMI: 16.75<br>Functional: 4",
          "Age: 61<br>BMI: 39.67<br>Functional: 4",
          "Age: 62<br>BMI: 20.45<br>Functional: 6",
          "Age: 60<br>BMI: 21.8<br>Functional: 5",
          "Age: 69<br>BMI: 26.09<br>Functional: 8",
          "Age: 63<br>BMI: 17.76<br>Functional: 8",
          "Age: 60<br>BMI: 33.04<br>Functional: 5",
          "Age: 71<br>BMI: 36.8<br>Functional: 6",
          "Age: 68<br>BMI: 36.96<br>Functional: 8",
          "Age: 65<br>BMI: 29.05<br>Functional: 1",
          "Age: 70<br>BMI: 30.44<br>Functional: 8",
          "Age: 62<br>BMI: 34.8<br>Functional: 3",
          "Age: 62<br>BMI: 23.36<br>Functional: 5",
          "Age: 61<br>BMI: 27.33<br>Functional: 3",
          "Age: 69<br>BMI: 24.03<br>Functional: 2",
          "Age: 77<br>BMI: 19.41<br>Functional: 6",
          "Age: 72<br>BMI: 18.25<br>Functional: 7",
          "Age: 68<br>BMI: 34.24<br>Functional: 7",
          "Age: 68<br>BMI: 20.59<br>Functional: 8",
          "Age: 67<br>BMI: 21.61<br>Functional: 6",
          "Age: 67<br>BMI: 26.39<br>Functional: 0",
          "Age: 60<br>BMI: 24.33<br>Functional: 0",
          "Age: 61<br>BMI: 28.06<br>Functional: 5",
          "Age: 67<br>BMI: 29.73<br>Functional: 6",
          "Age: 61<br>BMI: 15.45<br>Functional: 7",
          "Age: 71<br>BMI: 31.02<br>Functional: 4",
          "Age: 62<br>BMI: 23.92<br>Functional: 9",
          "Age: 63<br>BMI: 32.33<br>Functional: 6",
          "Age: 65<br>BMI: 29.03<br>Functional: 9",
          "Age: 72<br>BMI: 26.88<br>Functional: 0",
          "Age: 66<br>BMI: 25.38<br>Functional: 3",
          "Age: 75<br>BMI: 21.35<br>Functional: 7",
          "Age: 62<br>BMI: 26.56<br>Functional: 8",
          "Age: 60<br>BMI: 23.95<br>Functional: 9",
          "Age: 62<br>BMI: 36.5<br>Functional: 5",
          "Age: 62<br>BMI: 22.76<br>Functional: 3",
          "Age: 61<br>BMI: 26.35<br>Functional: 9",
          "Age: 64<br>BMI: 35.69<br>Functional: 6",
          "Age: 69<br>BMI: 21.45<br>Functional: 9",
          "Age: 68<br>BMI: 27.51<br>Functional: 7",
          "Age: 65<br>BMI: 26.31<br>Functional: 7",
          "Age: 63<br>BMI: 30.6<br>Functional: 6",
          "Age: 70<br>BMI: 26.53<br>Functional: 5",
          "Age: 76<br>BMI: 31.37<br>Functional: 7",
          "Age: 60<br>BMI: 29.14<br>Functional: 1",
          "Age: 63<br>BMI: 23.33<br>Functional: 8",
          "Age: 67<br>BMI: 23.91<br>Functional: 9",
          "Age: 61<br>BMI: 18.65<br>Functional: 4",
          "Age: 63<br>BMI: 27.07<br>Functional: 1",
          "Age: 73<br>BMI: 30.01<br>Functional: 8",
          "Age: 66<br>BMI: 29.19<br>Functional: 7",
          "Age: 71<br>BMI: 18.49<br>Functional: 4",
          "Age: 63<br>BMI: 24.69<br>Functional: 1",
          "Age: 63<br>BMI: 39.96<br>Functional: 0",
          "Age: 66<br>BMI: 22.31<br>Functional: 3",
          "Age: 64<br>BMI: 17.94<br>Functional: 1",
          "Age: 74<br>BMI: 21.89<br>Functional: 3",
          "Age: 63<br>BMI: 37.66<br>Functional: 8",
          "Age: 71<br>BMI: 21.91<br>Functional: 8",
          "Age: 63<br>BMI: 32.3<br>Functional: 9",
          "Age: 70<br>BMI: 31.0<br>Functional: 6",
          "Age: 65<br>BMI: 23.97<br>Functional: 6"
         ],
         "type": "scatter",
         "x": {
          "bdata": "hetRuB6FE0CkcD0K12MyQKRwPQrXIzJA16NwPQqXNUAUrkfhetQzQClcj8L1aDpAMzMzMzMzOEBI4XoUrsczQFyPwvUoXDhA4XoUrkfhOUDNzMzMzMwxQNejcD0KFzhAXI/C9ShcLUD2KFyPwjU2QKRwPQrX4zlA4XoUrkdhNEBI4XoUrgc3QArXo3A9yjdAuB6F61H4MkCPwvUoXI84QEjhehSuxztAhetRuB6FJ0DD9Shcj0I5QM3MzMzMzDlACtejcD0KMECF61G4HgU2QEjhehSuBz1AMzMzMzMzO0BSuB6F6xEyQAAAAAAAADlAXI/C9ShcNkCuR+F6FG44QM3MzMzMDDBA9ihcj8L1PUCF61G4HoUUQClcj8L1KDlA9ihcj8J1PEDsUbgehSs4QBSuR+F61DRAXI/C9SjcNkAK16NwPYo1QPYoXI/CNTRAmpmZmZlZPED2KFyPwnUzQPYoXI/CdTZASOF6FK7HNkCF61G4HoU5QM3MzMzMzDdA16NwPQpXOkC4HoXrUbg8QAAAAAAAAAhAmpmZmZmZM0AfhetRuN43QFK4HoXrEThApHA9CtejMEDhehSuR2E5QJqZmZmZmRVAKVyPwvXoMUBcj8L1KNw6QEjhehSuRzdAPQrXo3D9PUDhehSuR+E5QD0K16NwfTJAj8L1KFyPKUDNzMzMzEwtQFyPwvUoXDdAuB6F61G4NUCuR+F6FO47QPYoXI/C9TtAj8L1KFzPPEAzMzMzM7M0QLgehetRODVAAAAAAACAMkBI4XoUroczQKRwPQrXIyhAPQrXo3B9MkB7FK5H4Xo6QB+F61G43jhA7FG4HoUrNEAAAAAAAAAmQMP1KFyPwiRA9ihcj8J1O0DNzMzMzAw0QLgehetReDhAAAAAAABAOkAAAAAAAEAyQK5H4XoUrjxApHA9Ctej9D+4HoXrUbg5QOxRuB6FazpA4XoUrkdhPEDsUbgehSs0QB+F61G43jlACtejcD0KAUBmZmZmZmYOQLgehetRODdAmpmZmZkZNUCPwvUoXI8tQBSuR+F6lDRAj8L1KFyPNUCPwvUoXA86QClcj8L1KA5AcT0K16PwNEAK16NwPUo1QClcj8L1KDpApHA9CtejO0DD9Shcj8I7QI/C9ShcDzhA4XoUrkdhMkDXo3A9Cpc8QOxRuB6FKzdA16NwPQrXI0CkcD0K1yM6QAAAAAAAgDpAmpmZmZnZPEBI4XoUrkclQK5H4XoULj1AKVyPwvVoO0DXo3A9Clc2QD0K16Nw/TZAXI/C9SjcOkDXo3A9Cpc3QClcj8L1KDZA",
          "dtype": "f8"
         },
         "xaxis": "x",
         "y": {
          "bdata": "MzMzMzMzE0BmZmZmZmYKQGZmZmZmZg5AMzMzMzMzEUCamZmZmZkNQGZmZmZmZgZAAAAAAAAAEEBmZmZmZmYKQJqZmZmZmQlAZmZmZmZmCkAzMzMzMzMRQDMzMzMzMxNAZmZmZmZmEkDNzMzMzMwQQGZmZmZmZgJAmpmZmZmZDUDNzMzMzMwSQDMzMzMzMxFAMzMzMzMzE0AAAAAAAAAIQAAAAAAAAAhAMzMzMzMzEUAzMzMzMzMRQGZmZmZmZgJAMzMzMzMzE0DNzMzMzMwMQM3MzMzMzAxAZmZmZmZmEEAzMzMzMzMRQAAAAAAAAAxAMzMzMzMzEUBmZmZmZmYGQDMzMzMzMxFAZmZmZmZmCkAzMzMzMzMTQGZmZmZmZg5AMzMzMzMzE0AzMzMzMzMRQGZmZmZmZgpAmpmZmZmZDUAAAAAAAAAQQM3MzMzMzBBAmpmZmZmZDUBmZmZmZmYOQM3MzMzMzAxAAAAAAAAAEEDNzMzMzMwSQGZmZmZmZg5AZmZmZmZmDkAzMzMzMzMRQDMzMzMzMxNAMzMzMzMzEUAzMzMzMzMTQAAAAAAAAAhAMzMzMzMzE0CamZmZmZkNQDMzMzMzMxNAZmZmZmZmEkAzMzMzMzMTQDMzMzMzMxNAZmZmZmZmDkAAAAAAAAAQQM3MzMzMzBJAZmZmZmZmEkBmZmZmZmYSQM3MzMzMzAxAMzMzMzMzEUBmZmZmZmYGQDMzMzMzMxFAZmZmZmZmCkAAAAAAAAASQDMzMzMzMxNAAAAAAAAAEkDNzMzMzMwMQM3MzMzMzBJAAAAAAAAAEEAzMzMzMzMTQGZmZmZmZhJAZmZmZmZmEEBmZmZmZmYSQDMzMzMzMxFAAAAAAAAACEAAAAAAAAAQQM3MzMzMzARAZmZmZmZmBkAzMzMzMzMRQM3MzMzMzBBAMzMzMzMzE0BmZmZmZmYGQGZmZmZmZgJAMzMzMzMzEUDNzMzMzMwQQDMzMzMzMxFAMzMzMzMzE0AzMzMzMzMTQDMzMzMzMxFAmpmZmZmZDUAzMzMzMzMRQGZmZmZmZhJAzczMzMzMDEBmZmZmZmYCQDMzMzMzMxNAMzMzMzMzEUBmZmZmZmYSQDMzMzMzMxNAAAAAAAAACEBmZmZmZmYCQGZmZmZmZgJAAAAAAAAAEkBmZmZmZmYKQDMzMzMzMxNAMzMzMzMzE0DNzMzMzMwSQGZmZmZmZgpAAAAAAAAAEkDNzMzMzMwSQAAAAAAAABBAzczMzMzMEEBmZmZmZmYSQDMzMzMzMxFAZmZmZmZmBkAzMzMzMzMTQGZmZmZmZgpA",
          "dtype": "f8"
         },
         "yaxis": "y"
        },
        {
         "hovertemplate": "<b>MMSE: %{x}</b><br>Risk Score: %{y}<br>%{text}<extra></extra>",
         "marker": {
          "color": "red",
          "line": {
           "color": "black",
           "width": 1
          },
          "opacity": 0.7,
          "size": 10
         },
         "mode": "markers",
         "name": "High Risk",
         "showlegend": true,
         "text": [
          "Age: 81<br>BMI: 34.64<br>Functional: 7",
          "Age: 81<br>BMI: 22.92<br>Functional: 4",
          "Age: 81<br>BMI: 36.87<br>Functional: 4",
          "Age: 70<br>BMI: 37.86<br>Functional: 6",
          "Age: 82<br>BMI: 38.27<br>Functional: 4",
          "Age: 62<br>BMI: 39.92<br>Functional: 2",
          "Age: 81<br>BMI: 24.39<br>Functional: 4",
          "Age: 90<br>BMI: 18.38<br>Functional: 9",
          "Age: 80<br>BMI: 26.87<br>Functional: 9",
          "Age: 90<br>BMI: 22.16<br>Functional: 7",
          "Age: 79<br>BMI: 35.24<br>Functional: 4",
          "Age: 75<br>BMI: 18.76<br>Functional: 0",
          "Age: 84<br>BMI: 35.66<br>Functional: 4",
          "Age: 89<br>BMI: 26.53<br>Functional: 0",
          "Age: 83<br>BMI: 27.59<br>Functional: 2",
          "Age: 79<br>BMI: 20.78<br>Functional: 1",
          "Age: 90<br>BMI: 16.45<br>Functional: 7",
          "Age: 81<br>BMI: 36.72<br>Functional: 8",
          "Age: 79<br>BMI: 34.49<br>Functional: 1",
          "Age: 85<br>BMI: 23.13<br>Functional: 6",
          "Age: 82<br>BMI: 23.23<br>Functional: 8",
          "Age: 85<br>BMI: 35.73<br>Functional: 3",
          "Age: 88<br>BMI: 33.49<br>Functional: 9",
          "Age: 76<br>BMI: 22.44<br>Functional: 1",
          "Age: 81<br>BMI: 39.89<br>Functional: 2",
          "Age: 87<br>BMI: 23.82<br>Functional: 0",
          "Age: 74<br>BMI: 34.81<br>Functional: 0",
          "Age: 80<br>BMI: 24.16<br>Functional: 1",
          "Age: 78<br>BMI: 33.86<br>Functional: 9",
          "Age: 79<br>BMI: 34.78<br>Functional: 4",
          "Age: 85<br>BMI: 31.87<br>Functional: 2",
          "Age: 85<br>BMI: 18.64<br>Functional: 6",
          "Age: 88<br>BMI: 31.78<br>Functional: 1",
          "Age: 74<br>BMI: 17.46<br>Functional: 3",
          "Age: 80<br>BMI: 34.82<br>Functional: 2",
          "Age: 87<br>BMI: 34.82<br>Functional: 8",
          "Age: 82<br>BMI: 37.17<br>Functional: 0",
          "Age: 76<br>BMI: 34.62<br>Functional: 1",
          "Age: 83<br>BMI: 29.66<br>Functional: 9",
          "Age: 80<br>BMI: 16.5<br>Functional: 8",
          "Age: 77<br>BMI: 35.58<br>Functional: 0",
          "Age: 87<br>BMI: 36.98<br>Functional: 9",
          "Age: 77<br>BMI: 30.03<br>Functional: 5",
          "Age: 71<br>BMI: 39.6<br>Functional: 4",
          "Age: 78<br>BMI: 38.98<br>Functional: 1",
          "Age: 81<br>BMI: 17.05<br>Functional: 8",
          "Age: 81<br>BMI: 32.08<br>Functional: 2",
          "Age: 85<br>BMI: 33.97<br>Functional: 1",
          "Age: 82<br>BMI: 36.22<br>Functional: 6",
          "Age: 88<br>BMI: 39.89<br>Functional: 4",
          "Age: 73<br>BMI: 19.81<br>Functional: 1",
          "Age: 68<br>BMI: 36.15<br>Functional: 2",
          "Age: 83<br>BMI: 34.11<br>Functional: 4",
          "Age: 85<br>BMI: 15.69<br>Functional: 3",
          "Age: 70<br>BMI: 37.08<br>Functional: 3",
          "Age: 85<br>BMI: 36.22<br>Functional: 0",
          "Age: 77<br>BMI: 32.76<br>Functional: 1",
          "Age: 87<br>BMI: 16.03<br>Functional: 4",
          "Age: 88<br>BMI: 17.52<br>Functional: 0",
          "Age: 89<br>BMI: 28.17<br>Functional: 7",
          "Age: 81<br>BMI: 21.09<br>Functional: 9",
          "Age: 70<br>BMI: 28.11<br>Functional: 0",
          "Age: 84<br>BMI: 39.59<br>Functional: 0",
          "Age: 84<br>BMI: 33.74<br>Functional: 0",
          "Age: 77<br>BMI: 16.79<br>Functional: 7",
          "Age: 86<br>BMI: 24.16<br>Functional: 4",
          "Age: 86<br>BMI: 24.23<br>Functional: 4",
          "Age: 76<br>BMI: 18.53<br>Functional: 5",
          "Age: 82<br>BMI: 23.46<br>Functional: 3",
          "Age: 89<br>BMI: 15.77<br>Functional: 0",
          "Age: 82<br>BMI: 32.91<br>Functional: 8",
          "Age: 80<br>BMI: 31.51<br>Functional: 2",
          "Age: 84<br>BMI: 15.75<br>Functional: 4",
          "Age: 87<br>BMI: 24.57<br>Functional: 8",
          "Age: 90<br>BMI: 21.64<br>Functional: 3",
          "Age: 81<br>BMI: 18.36<br>Functional: 5",
          "Age: 81<br>BMI: 18.53<br>Functional: 1",
          "Age: 75<br>BMI: 20.62<br>Functional: 1",
          "Age: 84<br>BMI: 32.7<br>Functional: 1",
          "Age: 82<br>BMI: 35.03<br>Functional: 4",
          "Age: 78<br>BMI: 30.54<br>Functional: 4",
          "Age: 78<br>BMI: 34.64<br>Functional: 1",
          "Age: 78<br>BMI: 36.28<br>Functional: 2",
          "Age: 88<br>BMI: 24.86<br>Functional: 6",
          "Age: 84<br>BMI: 38.53<br>Functional: 3",
          "Age: 89<br>BMI: 18.89<br>Functional: 5",
          "Age: 89<br>BMI: 39.46<br>Functional: 8",
          "Age: 76<br>BMI: 35.88<br>Functional: 3",
          "Age: 89<br>BMI: 18.15<br>Functional: 1",
          "Age: 90<br>BMI: 22.19<br>Functional: 9",
          "Age: 70<br>BMI: 35.4<br>Functional: 0",
          "Age: 77<br>BMI: 18.1<br>Functional: 3",
          "Age: 85<br>BMI: 29.79<br>Functional: 6",
          "Age: 90<br>BMI: 19.21<br>Functional: 2",
          "Age: 75<br>BMI: 38.67<br>Functional: 0",
          "Age: 83<br>BMI: 31.33<br>Functional: 4",
          "Age: 76<br>BMI: 26.53<br>Functional: 4",
          "Age: 90<br>BMI: 16.35<br>Functional: 3",
          "Age: 82<br>BMI: 33.63<br>Functional: 3",
          "Age: 81<br>BMI: 35.78<br>Functional: 1",
          "Age: 88<br>BMI: 39.36<br>Functional: 4",
          "Age: 76<br>BMI: 22.95<br>Functional: 2",
          "Age: 87<br>BMI: 15.41<br>Functional: 9",
          "Age: 90<br>BMI: 34.58<br>Functional: 2",
          "Age: 88<br>BMI: 35.35<br>Functional: 3",
          "Age: 77<br>BMI: 15.23<br>Functional: 0",
          "Age: 87<br>BMI: 16.72<br>Functional: 3",
          "Age: 88<br>BMI: 36.84<br>Functional: 9",
          "Age: 88<br>BMI: 38.9<br>Functional: 5",
          "Age: 82<br>BMI: 35.44<br>Functional: 2",
          "Age: 81<br>BMI: 25.85<br>Functional: 5",
          "Age: 76<br>BMI: 31.39<br>Functional: 5",
          "Age: 86<br>BMI: 33.93<br>Functional: 4",
          "Age: 90<br>BMI: 30.68<br>Functional: 0",
          "Age: 87<br>BMI: 27.82<br>Functional: 7",
          "Age: 72<br>BMI: 36.09<br>Functional: 2",
          "Age: 61<br>BMI: 39.12<br>Functional: 0",
          "Age: 89<br>BMI: 15.65<br>Functional: 1",
          "Age: 75<br>BMI: 35.83<br>Functional: 3",
          "Age: 80<br>BMI: 29.09<br>Functional: 0",
          "Age: 90<br>BMI: 15.39<br>Functional: 6",
          "Age: 90<br>BMI: 32.97<br>Functional: 7",
          "Age: 90<br>BMI: 39.66<br>Functional: 7",
          "Age: 72<br>BMI: 32.28<br>Functional: 4",
          "Age: 90<br>BMI: 23.23<br>Functional: 0",
          "Age: 82<br>BMI: 35.35<br>Functional: 2",
          "Age: 83<br>BMI: 29.89<br>Functional: 3",
          "Age: 84<br>BMI: 34.22<br>Functional: 9",
          "Age: 89<br>BMI: 24.89<br>Functional: 2",
          "Age: 82<br>BMI: 37.05<br>Functional: 2",
          "Age: 88<br>BMI: 27.92<br>Functional: 2",
          "Age: 76<br>BMI: 19.1<br>Functional: 1",
          "Age: 82<br>BMI: 38.79<br>Functional: 2",
          "Age: 90<br>BMI: 21.29<br>Functional: 9",
          "Age: 79<br>BMI: 37.98<br>Functional: 7",
          "Age: 72<br>BMI: 18.52<br>Functional: 0",
          "Age: 88<br>BMI: 23.94<br>Functional: 4",
          "Age: 80<br>BMI: 18.33<br>Functional: 7",
          "Age: 84<br>BMI: 23.47<br>Functional: 3",
          "Age: 82<br>BMI: 39.34<br>Functional: 7",
          "Age: 83<br>BMI: 27.72<br>Functional: 3",
          "Age: 87<br>BMI: 31.75<br>Functional: 0",
          "Age: 84<br>BMI: 19.15<br>Functional: 4",
          "Age: 83<br>BMI: 36.57<br>Functional: 1",
          "Age: 81<br>BMI: 39.47<br>Functional: 8",
          "Age: 84<br>BMI: 16.61<br>Functional: 7",
          "Age: 88<br>BMI: 17.62<br>Functional: 7",
          "Age: 79<br>BMI: 18.81<br>Functional: 2",
          "Age: 82<br>BMI: 23.61<br>Functional: 9",
          "Age: 75<br>BMI: 31.82<br>Functional: 9",
          "Age: 79<br>BMI: 16.45<br>Functional: 8",
          "Age: 90<br>BMI: 33.0<br>Functional: 8",
          "Age: 77<br>BMI: 15.48<br>Functional: 1",
          "Age: 86<br>BMI: 26.89<br>Functional: 3",
          "Age: 81<br>BMI: 29.26<br>Functional: 3",
          "Age: 85<br>BMI: 30.52<br>Functional: 5",
          "Age: 84<br>BMI: 15.79<br>Functional: 6",
          "Age: 75<br>BMI: 21.57<br>Functional: 2",
          "Age: 90<br>BMI: 17.36<br>Functional: 0",
          "Age: 83<br>BMI: 29.86<br>Functional: 2",
          "Age: 82<br>BMI: 37.13<br>Functional: 8",
          "Age: 89<br>BMI: 20.72<br>Functional: 6",
          "Age: 62<br>BMI: 38.42<br>Functional: 0",
          "Age: 80<br>BMI: 35.56<br>Functional: 6",
          "Age: 85<br>BMI: 36.7<br>Functional: 1",
          "Age: 83<br>BMI: 17.97<br>Functional: 7",
          "Age: 88<br>BMI: 27.91<br>Functional: 9",
          "Age: 90<br>BMI: 23.09<br>Functional: 7",
          "Age: 88<br>BMI: 28.03<br>Functional: 3",
          "Age: 87<br>BMI: 30.52<br>Functional: 9",
          "Age: 82<br>BMI: 21.34<br>Functional: 5",
          "Age: 89<br>BMI: 22.71<br>Functional: 3",
          "Age: 90<br>BMI: 15.33<br>Functional: 0",
          "Age: 80<br>BMI: 34.96<br>Functional: 0",
          "Age: 84<br>BMI: 37.04<br>Functional: 4",
          "Age: 88<br>BMI: 18.65<br>Functional: 4",
          "Age: 88<br>BMI: 15.62<br>Functional: 4",
          "Age: 81<br>BMI: 29.27<br>Functional: 4",
          "Age: 71<br>BMI: 39.34<br>Functional: 3",
          "Age: 71<br>BMI: 28.33<br>Functional: 2",
          "Age: 85<br>BMI: 28.99<br>Functional: 6",
          "Age: 75<br>BMI: 15.19<br>Functional: 3",
          "Age: 83<br>BMI: 33.72<br>Functional: 3",
          "Age: 89<br>BMI: 38.05<br>Functional: 1",
          "Age: 83<br>BMI: 24.29<br>Functional: 7",
          "Age: 83<br>BMI: 21.92<br>Functional: 7",
          "Age: 90<br>BMI: 24.77<br>Functional: 7",
          "Age: 89<br>BMI: 34.85<br>Functional: 3",
          "Age: 84<br>BMI: 27.95<br>Functional: 7",
          "Age: 78<br>BMI: 33.52<br>Functional: 3",
          "Age: 90<br>BMI: 35.13<br>Functional: 4",
          "Age: 88<br>BMI: 25.26<br>Functional: 0",
          "Age: 82<br>BMI: 39.99<br>Functional: 6",
          "Age: 83<br>BMI: 37.49<br>Functional: 8",
          "Age: 90<br>BMI: 31.02<br>Functional: 9"
         ],
         "type": "scatter",
         "x": {
          "bdata": "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",
          "dtype": "f8"
         },
         "xaxis": "x",
         "y": {
          "bdata": "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",
          "dtype": "f8"
         },
         "yaxis": "y"
        },
        {
         "hovertemplate": "<b>MMSE: %{x}</b><br>Risk Score: %{y}<br>%{text}<extra></extra>",
         "marker": {
          "color": "orange",
          "line": {
           "color": "black",
           "width": 1
          },
          "opacity": 0.7,
          "size": 10
         },
         "mode": "markers",
         "name": "Medium Risk",
         "showlegend": true,
         "text": [
          "Age: 80<br>BMI: 23.72<br>Functional: 7",
          "Age: 64<br>BMI: 27.16<br>Functional: 7",
          "Age: 82<br>BMI: 35.26<br>Functional: 6",
          "Age: 71<br>BMI: 31.44<br>Functional: 7",
          "Age: 89<br>BMI: 25.12<br>Functional: 7",
          "Age: 73<br>BMI: 18.25<br>Functional: 0",
          "Age: 72<br>BMI: 22.38<br>Functional: 2",
          "Age: 65<br>BMI: 15.01<br>Functional: 5",
          "Age: 74<br>BMI: 16.8<br>Functional: 5",
          "Age: 68<br>BMI: 22.75<br>Functional: 1",
          "Age: 81<br>BMI: 33.3<br>Functional: 2",
          "Age: 75<br>BMI: 25.39<br>Functional: 4",
          "Age: 74<br>BMI: 17.85<br>Functional: 4",
          "Age: 70<br>BMI: 21.05<br>Functional: 4",
          "Age: 69<br>BMI: 31.36<br>Functional: 2",
          "Age: 68<br>BMI: 25.36<br>Functional: 9",
          "Age: 68<br>BMI: 15.48<br>Functional: 9",
          "Age: 62<br>BMI: 22.08<br>Functional: 0",
          "Age: 63<br>BMI: 35.35<br>Functional: 0",
          "Age: 89<br>BMI: 21.89<br>Functional: 5",
          "Age: 74<br>BMI: 36.93<br>Functional: 2",
          "Age: 62<br>BMI: 18.41<br>Functional: 8",
          "Age: 68<br>BMI: 18.23<br>Functional: 6",
          "Age: 65<br>BMI: 29.19<br>Functional: 7",
          "Age: 64<br>BMI: 27.38<br>Functional: 5",
          "Age: 69<br>BMI: 32.17<br>Functional: 6",
          "Age: 68<br>BMI: 15.38<br>Functional: 0",
          "Age: 64<br>BMI: 23.4<br>Functional: 2",
          "Age: 89<br>BMI: 34.05<br>Functional: 1",
          "Age: 69<br>BMI: 29.68<br>Functional: 0",
          "Age: 76<br>BMI: 26.34<br>Functional: 4",
          "Age: 84<br>BMI: 23.56<br>Functional: 1",
          "Age: 77<br>BMI: 26.45<br>Functional: 6",
          "Age: 77<br>BMI: 37.51<br>Functional: 6",
          "Age: 77<br>BMI: 30.46<br>Functional: 0",
          "Age: 90<br>BMI: 21.99<br>Functional: 6",
          "Age: 72<br>BMI: 18.0<br>Functional: 8",
          "Age: 76<br>BMI: 29.37<br>Functional: 9",
          "Age: 63<br>BMI: 32.73<br>Functional: 7",
          "Age: 73<br>BMI: 20.26<br>Functional: 7",
          "Age: 63<br>BMI: 38.99<br>Functional: 7",
          "Age: 76<br>BMI: 19.96<br>Functional: 1",
          "Age: 67<br>BMI: 29.02<br>Functional: 1",
          "Age: 66<br>BMI: 35.24<br>Functional: 5",
          "Age: 90<br>BMI: 26.15<br>Functional: 5",
          "Age: 74<br>BMI: 34.05<br>Functional: 7",
          "Age: 61<br>BMI: 25.53<br>Functional: 8",
          "Age: 64<br>BMI: 18.08<br>Functional: 7",
          "Age: 87<br>BMI: 23.47<br>Functional: 3",
          "Age: 68<br>BMI: 34.14<br>Functional: 4",
          "Age: 77<br>BMI: 28.19<br>Functional: 0",
          "Age: 65<br>BMI: 17.91<br>Functional: 4",
          "Age: 80<br>BMI: 24.52<br>Functional: 5",
          "Age: 65<br>BMI: 38.74<br>Functional: 8",
          "Age: 61<br>BMI: 39.39<br>Functional: 2",
          "Age: 60<br>BMI: 30.98<br>Functional: 3",
          "Age: 61<br>BMI: 37.75<br>Functional: 0",
          "Age: 64<br>BMI: 38.56<br>Functional: 0",
          "Age: 72<br>BMI: 31.35<br>Functional: 6",
          "Age: 86<br>BMI: 21.9<br>Functional: 7",
          "Age: 63<br>BMI: 22.92<br>Functional: 4",
          "Age: 76<br>BMI: 37.24<br>Functional: 9",
          "Age: 72<br>BMI: 23.87<br>Functional: 2",
          "Age: 61<br>BMI: 35.16<br>Functional: 7",
          "Age: 65<br>BMI: 27.64<br>Functional: 0",
          "Age: 61<br>BMI: 30.99<br>Functional: 3",
          "Age: 83<br>BMI: 20.32<br>Functional: 8",
          "Age: 72<br>BMI: 37.63<br>Functional: 9",
          "Age: 77<br>BMI: 27.39<br>Functional: 8",
          "Age: 60<br>BMI: 32.34<br>Functional: 0",
          "Age: 65<br>BMI: 28.47<br>Functional: 9",
          "Age: 90<br>BMI: 22.13<br>Functional: 3",
          "Age: 60<br>BMI: 32.89<br>Functional: 7",
          "Age: 71<br>BMI: 27.94<br>Functional: 3",
          "Age: 83<br>BMI: 30.95<br>Functional: 8",
          "Age: 71<br>BMI: 33.53<br>Functional: 8",
          "Age: 73<br>BMI: 20.05<br>Functional: 4",
          "Age: 83<br>BMI: 23.67<br>Functional: 5",
          "Age: 83<br>BMI: 31.1<br>Functional: 7",
          "Age: 89<br>BMI: 29.64<br>Functional: 3",
          "Age: 62<br>BMI: 16.52<br>Functional: 0",
          "Age: 73<br>BMI: 29.02<br>Functional: 6",
          "Age: 75<br>BMI: 19.84<br>Functional: 9",
          "Age: 77<br>BMI: 19.05<br>Functional: 4",
          "Age: 63<br>BMI: 22.05<br>Functional: 2",
          "Age: 87<br>BMI: 39.69<br>Functional: 4",
          "Age: 60<br>BMI: 38.4<br>Functional: 8",
          "Age: 66<br>BMI: 31.21<br>Functional: 9",
          "Age: 79<br>BMI: 17.67<br>Functional: 8",
          "Age: 65<br>BMI: 17.32<br>Functional: 0",
          "Age: 69<br>BMI: 37.17<br>Functional: 9",
          "Age: 69<br>BMI: 29.1<br>Functional: 3",
          "Age: 71<br>BMI: 37.46<br>Functional: 8",
          "Age: 89<br>BMI: 39.22<br>Functional: 6",
          "Age: 70<br>BMI: 38.43<br>Functional: 4",
          "Age: 87<br>BMI: 23.62<br>Functional: 9",
          "Age: 76<br>BMI: 24.86<br>Functional: 1",
          "Age: 63<br>BMI: 30.57<br>Functional: 1",
          "Age: 76<br>BMI: 23.72<br>Functional: 8",
          "Age: 87<br>BMI: 22.72<br>Functional: 5",
          "Age: 81<br>BMI: 26.88<br>Functional: 5",
          "Age: 87<br>BMI: 27.01<br>Functional: 1",
          "Age: 74<br>BMI: 31.53<br>Functional: 3",
          "Age: 70<br>BMI: 19.16<br>Functional: 6",
          "Age: 72<br>BMI: 19.39<br>Functional: 3",
          "Age: 65<br>BMI: 20.46<br>Functional: 7",
          "Age: 75<br>BMI: 25.69<br>Functional: 7",
          "Age: 67<br>BMI: 20.36<br>Functional: 6",
          "Age: 67<br>BMI: 23.17<br>Functional: 1",
          "Age: 62<br>BMI: 37.81<br>Functional: 7",
          "Age: 79<br>BMI: 39.07<br>Functional: 2",
          "Age: 81<br>BMI: 31.46<br>Functional: 9",
          "Age: 68<br>BMI: 19.23<br>Functional: 6",
          "Age: 62<br>BMI: 24.13<br>Functional: 2",
          "Age: 70<br>BMI: 35.92<br>Functional: 2",
          "Age: 78<br>BMI: 32.55<br>Functional: 1",
          "Age: 78<br>BMI: 20.71<br>Functional: 1",
          "Age: 73<br>BMI: 19.05<br>Functional: 7",
          "Age: 70<br>BMI: 39.64<br>Functional: 5",
          "Age: 71<br>BMI: 29.21<br>Functional: 5",
          "Age: 65<br>BMI: 15.41<br>Functional: 8",
          "Age: 81<br>BMI: 21.05<br>Functional: 5",
          "Age: 64<br>BMI: 34.93<br>Functional: 1",
          "Age: 74<br>BMI: 36.32<br>Functional: 1",
          "Age: 72<br>BMI: 32.28<br>Functional: 5",
          "Age: 81<br>BMI: 38.19<br>Functional: 8",
          "Age: 67<br>BMI: 15.5<br>Functional: 5",
          "Age: 78<br>BMI: 22.46<br>Functional: 5",
          "Age: 60<br>BMI: 34.21<br>Functional: 1",
          "Age: 69<br>BMI: 30.69<br>Functional: 0",
          "Age: 64<br>BMI: 20.97<br>Functional: 4",
          "Age: 89<br>BMI: 19.7<br>Functional: 8",
          "Age: 85<br>BMI: 29.93<br>Functional: 1",
          "Age: 70<br>BMI: 38.79<br>Functional: 5",
          "Age: 64<br>BMI: 24.28<br>Functional: 7",
          "Age: 77<br>BMI: 25.98<br>Functional: 7",
          "Age: 62<br>BMI: 29.71<br>Functional: 2",
          "Age: 62<br>BMI: 24.25<br>Functional: 1",
          "Age: 73<br>BMI: 23.03<br>Functional: 8",
          "Age: 83<br>BMI: 38.01<br>Functional: 6",
          "Age: 77<br>BMI: 28.08<br>Functional: 6",
          "Age: 89<br>BMI: 26.83<br>Functional: 7",
          "Age: 69<br>BMI: 26.81<br>Functional: 8",
          "Age: 72<br>BMI: 23.31<br>Functional: 4",
          "Age: 67<br>BMI: 37.21<br>Functional: 9",
          "Age: 76<br>BMI: 28.23<br>Functional: 8",
          "Age: 76<br>BMI: 25.02<br>Functional: 1",
          "Age: 79<br>BMI: 21.76<br>Functional: 6",
          "Age: 67<br>BMI: 37.45<br>Functional: 1",
          "Age: 85<br>BMI: 25.71<br>Functional: 9",
          "Age: 90<br>BMI: 32.72<br>Functional: 1",
          "Age: 72<br>BMI: 28.25<br>Functional: 5",
          "Age: 77<br>BMI: 28.74<br>Functional: 6",
          "Age: 68<br>BMI: 17.91<br>Functional: 7",
          "Age: 71<br>BMI: 39.68<br>Functional: 5",
          "Age: 67<br>BMI: 16.75<br>Functional: 8",
          "Age: 85<br>BMI: 25.39<br>Functional: 7",
          "Age: 73<br>BMI: 33.01<br>Functional: 9",
          "Age: 79<br>BMI: 18.56<br>Functional: 3",
          "Age: 83<br>BMI: 18.91<br>Functional: 3",
          "Age: 86<br>BMI: 32.54<br>Functional: 5",
          "Age: 61<br>BMI: 20.67<br>Functional: 4",
          "Age: 72<br>BMI: 21.81<br>Functional: 6",
          "Age: 68<br>BMI: 37.22<br>Functional: 4",
          "Age: 75<br>BMI: 15.37<br>Functional: 9",
          "Age: 70<br>BMI: 21.78<br>Functional: 2",
          "Age: 60<br>BMI: 38.64<br>Functional: 6",
          "Age: 63<br>BMI: 33.83<br>Functional: 3",
          "Age: 68<br>BMI: 37.38<br>Functional: 6",
          "Age: 64<br>BMI: 15.46<br>Functional: 2",
          "Age: 60<br>BMI: 23.02<br>Functional: 0",
          "Age: 74<br>BMI: 16.68<br>Functional: 5",
          "Age: 64<br>BMI: 39.57<br>Functional: 1",
          "Age: 76<br>BMI: 17.81<br>Functional: 9",
          "Age: 76<br>BMI: 28.99<br>Functional: 7",
          "Age: 66<br>BMI: 16.67<br>Functional: 4",
          "Age: 78<br>BMI: 26.88<br>Functional: 0",
          "Age: 71<br>BMI: 27.24<br>Functional: 4",
          "Age: 85<br>BMI: 32.47<br>Functional: 9",
          "Age: 80<br>BMI: 21.3<br>Functional: 0",
          "Age: 69<br>BMI: 31.89<br>Functional: 3",
          "Age: 70<br>BMI: 34.93<br>Functional: 0",
          "Age: 70<br>BMI: 25.5<br>Functional: 9",
          "Age: 70<br>BMI: 31.93<br>Functional: 9",
          "Age: 61<br>BMI: 37.95<br>Functional: 3",
          "Age: 72<br>BMI: 16.93<br>Functional: 7",
          "Age: 81<br>BMI: 20.77<br>Functional: 5",
          "Age: 86<br>BMI: 24.07<br>Functional: 9",
          "Age: 74<br>BMI: 22.29<br>Functional: 3",
          "Age: 70<br>BMI: 25.6<br>Functional: 4",
          "Age: 63<br>BMI: 35.6<br>Functional: 0",
          "Age: 79<br>BMI: 22.82<br>Functional: 6",
          "Age: 78<br>BMI: 29.02<br>Functional: 0",
          "Age: 81<br>BMI: 18.65<br>Functional: 5",
          "Age: 77<br>BMI: 15.31<br>Functional: 7",
          "Age: 76<br>BMI: 38.77<br>Functional: 8",
          "Age: 66<br>BMI: 39.16<br>Functional: 9",
          "Age: 77<br>BMI: 20.02<br>Functional: 7",
          "Age: 85<br>BMI: 34.02<br>Functional: 4",
          "Age: 69<br>BMI: 16.48<br>Functional: 8",
          "Age: 68<br>BMI: 37.66<br>Functional: 2",
          "Age: 78<br>BMI: 35.71<br>Functional: 9",
          "Age: 67<br>BMI: 39.75<br>Functional: 6",
          "Age: 70<br>BMI: 34.18<br>Functional: 5",
          "Age: 74<br>BMI: 23.04<br>Functional: 3",
          "Age: 85<br>BMI: 26.65<br>Functional: 4",
          "Age: 78<br>BMI: 39.17<br>Functional: 8",
          "Age: 87<br>BMI: 33.48<br>Functional: 2",
          "Age: 75<br>BMI: 32.52<br>Functional: 7",
          "Age: 68<br>BMI: 38.57<br>Functional: 1",
          "Age: 66<br>BMI: 27.1<br>Functional: 6",
          "Age: 83<br>BMI: 27.42<br>Functional: 6",
          "Age: 67<br>BMI: 36.16<br>Functional: 1",
          "Age: 74<br>BMI: 17.88<br>Functional: 9",
          "Age: 67<br>BMI: 18.61<br>Functional: 2",
          "Age: 65<br>BMI: 22.32<br>Functional: 3",
          "Age: 62<br>BMI: 37.2<br>Functional: 7",
          "Age: 89<br>BMI: 21.41<br>Functional: 7",
          "Age: 83<br>BMI: 26.66<br>Functional: 4"
         ],
         "type": "scatter",
         "x": {
          "bdata": "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",
          "dtype": "f8"
         },
         "xaxis": "x",
         "y": {
          "bdata": "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",
          "dtype": "f8"
         },
         "yaxis": "y"
        },
        {
         "marker": {
          "color": [
           "orange",
           "red",
           "green"
          ]
         },
         "name": "Patient Count",
         "showlegend": false,
         "text": {
          "bdata": "AAAAAABga0AAAAAAAGBoQAAAAAAAwF5A",
          "dtype": "f8"
         },
         "textposition": "auto",
         "type": "bar",
         "x": [
          "Medium Risk",
          "High Risk",
          "Low Risk"
         ],
         "xaxis": "x2",
         "y": {
          "bdata": "2wDDAHsA",
          "dtype": "i2"
         },
         "yaxis": "y2"
        },
        {
         "hovertemplate": "<b>Age: %{x}</b><br>BMI: %{y}<br>%{text}<extra></extra>",
         "marker": {
          "color": {
           "bdata": "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",
           "dtype": "f8"
          },
          "colorbar": {
           "len": 0.4,
           "title": {
            "text": "Risk Score"
           },
           "x": 1.02,
           "y": 0.2
          },
          "colorscale": [
           [
            0,
            "rgb(0,104,55)"
           ],
           [
            0.1,
            "rgb(26,152,80)"
           ],
           [
            0.2,
            "rgb(102,189,99)"
           ],
           [
            0.3,
            "rgb(166,217,106)"
           ],
           [
            0.4,
            "rgb(217,239,139)"
           ],
           [
            0.5,
            "rgb(255,255,191)"
           ],
           [
            0.6,
            "rgb(254,224,139)"
           ],
           [
            0.7,
            "rgb(253,174,97)"
           ],
           [
            0.8,
            "rgb(244,109,67)"
           ],
           [
            0.9,
            "rgb(215,48,39)"
           ],
           [
            1,
            "rgb(165,0,38)"
           ]
          ],
          "line": {
           "color": "black",
           "width": 1
          },
          "opacity": 0.8,
          "size": 8
         },
         "mode": "markers",
         "name": "Health Matrix",
         "showlegend": false,
         "text": [
          "MMSE: 4.88<br>Cholesterol: 172.68<br>Functional: 8<br>Risk Category: Low Risk",
          "MMSE: 9.99<br>Cholesterol: 264.95<br>Functional: 7<br>Risk Category: High Risk",
          "MMSE: 1.11<br>Cholesterol: 283.13<br>Functional: 4<br>Risk Category: High Risk",
          "MMSE: 18.39<br>Cholesterol: 202.64<br>Functional: 5<br>Risk Category: Low Risk",
          "MMSE: 24.1<br>Cholesterol: 264.4<br>Functional: 7<br>Risk Category: Medium Risk",
          "MMSE: 20.61<br>Cholesterol: 274.94<br>Functional: 4<br>Risk Category: High Risk",
          "MMSE: 5.17<br>Cholesterol: 154.77<br>Functional: 6<br>Risk Category: High Risk",
          "MMSE: 18.14<br>Cholesterol: 151.72<br>Functional: 5<br>Risk Category: Low Risk",
          "MMSE: 9.2<br>Cholesterol: 251.03<br>Functional: 7<br>Risk Category: Medium Risk",
          "MMSE: 24.46<br>Cholesterol: 186.94<br>Functional: 6<br>Risk Category: Medium Risk",
          "MMSE: 2.43<br>Cholesterol: 269.38<br>Functional: 7<br>Risk Category: Medium Risk",
          "MMSE: 22.29<br>Cholesterol: 293.21<br>Functional: 7<br>Risk Category: Medium Risk",
          "MMSE: 19.94<br>Cholesterol: 151.37<br>Functional: 4<br>Risk Category: High Risk",
          "MMSE: 21.59<br>Cholesterol: 188.79<br>Functional: 9<br>Risk Category: Low Risk",
          "MMSE: 19.83<br>Cholesterol: 193.77<br>Functional: 4<br>Risk Category: Low Risk",
          "MMSE: 6.73<br>Cholesterol: 299.51<br>Functional: 2<br>Risk Category: High Risk",
          "MMSE: 16.03<br>Cholesterol: 220.84<br>Functional: 4<br>Risk Category: High Risk",
          "MMSE: 20.38<br>Cholesterol: 150.21<br>Functional: 0<br>Risk Category: Medium Risk",
          "MMSE: 22.07<br>Cholesterol: 187.63<br>Functional: 9<br>Risk Category: High Risk",
          "MMSE: 7.11<br>Cholesterol: 249.12<br>Functional: 2<br>Risk Category: Medium Risk",
          "MMSE: 12.63<br>Cholesterol: 250.45<br>Functional: 5<br>Risk Category: Medium Risk",
          "MMSE: 10.29<br>Cholesterol: 193.77<br>Functional: 5<br>Risk Category: Medium Risk",
          "MMSE: 26.41<br>Cholesterol: 207.02<br>Functional: 9<br>Risk Category: Low Risk",
          "MMSE: 8.84<br>Cholesterol: 275.14<br>Functional: 9<br>Risk Category: High Risk",
          "MMSE: 16.3<br>Cholesterol: 251.28<br>Functional: 1<br>Risk Category: Medium Risk",
          "MMSE: 6.05<br>Cholesterol: 156.97<br>Functional: 7<br>Risk Category: High Risk",
          "MMSE: 24.2<br>Cholesterol: 229.47<br>Functional: 0<br>Risk Category: Low Risk",
          "MMSE: 19.78<br>Cholesterol: 192.49<br>Functional: 7<br>Risk Category: Low Risk",
          "MMSE: 26.31<br>Cholesterol: 246.11<br>Functional: 2<br>Risk Category: Medium Risk",
          "MMSE: 24.36<br>Cholesterol: 285.62<br>Functional: 4<br>Risk Category: Low Risk",
          "MMSE: 11.97<br>Cholesterol: 226.35<br>Functional: 4<br>Risk Category: Medium Risk",
          "MMSE: 3.79<br>Cholesterol: 285.49<br>Functional: 4<br>Risk Category: High Risk",
          "MMSE: 23.09<br>Cholesterol: 184.84<br>Functional: 4<br>Risk Category: Medium Risk",
          "MMSE: 0.7<br>Cholesterol: 212.59<br>Functional: 4<br>Risk Category: Medium Risk",
          "MMSE: 17.62<br>Cholesterol: 228.6<br>Functional: 2<br>Risk Category: Medium Risk",
          "MMSE: 11.97<br>Cholesterol: 151.7<br>Functional: 0<br>Risk Category: High Risk",
          "MMSE: 13.36<br>Cholesterol: 155.9<br>Functional: 4<br>Risk Category: High Risk",
          "MMSE: 13.87<br>Cholesterol: 298.6<br>Functional: 0<br>Risk Category: High Risk",
          "MMSE: 25.88<br>Cholesterol: 270.21<br>Functional: 0<br>Risk Category: Low Risk",
          "MMSE: 17.8<br>Cholesterol: 187.06<br>Functional: 9<br>Risk Category: Low Risk",
          "MMSE: 5.51<br>Cholesterol: 241.49<br>Functional: 9<br>Risk Category: Medium Risk",
          "MMSE: 3.42<br>Cholesterol: 211.28<br>Functional: 2<br>Risk Category: High Risk",
          "MMSE: 7.26<br>Cholesterol: 220.94<br>Functional: 1<br>Risk Category: High Risk",
          "MMSE: 8.56<br>Cholesterol: 294.61<br>Functional: 7<br>Risk Category: High Risk",
          "MMSE: 12.35<br>Cholesterol: 185.63<br>Functional: 8<br>Risk Category: High Risk",
          "MMSE: 0.4<br>Cholesterol: 238.28<br>Functional: 1<br>Risk Category: High Risk",
          "MMSE: 1.11<br>Cholesterol: 177.33<br>Functional: 9<br>Risk Category: Medium Risk",
          "MMSE: 8.6<br>Cholesterol: 243.63<br>Functional: 0<br>Risk Category: Medium Risk",
          "MMSE: 24.09<br>Cholesterol: 286.7<br>Functional: 7<br>Risk Category: Low Risk",
          "MMSE: 14.68<br>Cholesterol: 247.51<br>Functional: 6<br>Risk Category: Low Risk",
          "MMSE: 22.21<br>Cholesterol: 299.89<br>Functional: 4<br>Risk Category: Low Risk",
          "MMSE: 25.89<br>Cholesterol: 186.98<br>Functional: 8<br>Risk Category: Low Risk",
          "MMSE: 1.85<br>Cholesterol: 188.12<br>Functional: 0<br>Risk Category: Medium Risk",
          "MMSE: 28.67<br>Cholesterol: 196.79<br>Functional: 5<br>Risk Category: Medium Risk",
          "MMSE: 3.69<br>Cholesterol: 190.32<br>Functional: 6<br>Risk Category: High Risk",
          "MMSE: 29.63<br>Cholesterol: 214.14<br>Functional: 2<br>Risk Category: Medium Risk",
          "MMSE: 6.49<br>Cholesterol: 186.36<br>Functional: 8<br>Risk Category: High Risk",
          "MMSE: 0.77<br>Cholesterol: 154.18<br>Functional: 8<br>Risk Category: Medium Risk",
          "MMSE: 12.29<br>Cholesterol: 217.6<br>Functional: 6<br>Risk Category: Medium Risk",
          "MMSE: 20.48<br>Cholesterol: 221.52<br>Functional: 3<br>Risk Category: High Risk",
          "MMSE: 7.04<br>Cholesterol: 152.43<br>Functional: 9<br>Risk Category: High Risk",
          "MMSE: 20.38<br>Cholesterol: 209.78<br>Functional: 3<br>Risk Category: Low Risk",
          "MMSE: 6.33<br>Cholesterol: 167.82<br>Functional: 1<br>Risk Category: High Risk",
          "MMSE: 6.63<br>Cholesterol: 292.34<br>Functional: 7<br>Risk Category: Medium Risk",
          "MMSE: 3.33<br>Cholesterol: 263.58<br>Functional: 5<br>Risk Category: Medium Risk",
          "MMSE: 4.37<br>Cholesterol: 282.18<br>Functional: 6<br>Risk Category: Medium Risk",
          "MMSE: 9.77<br>Cholesterol: 198.86<br>Functional: 0<br>Risk Category: Medium Risk",
          "MMSE: 11.01<br>Cholesterol: 183.04<br>Functional: 2<br>Risk Category: Medium Risk",
          "MMSE: 28.52<br>Cholesterol: 252.17<br>Functional: 1<br>Risk Category: Medium Risk",
          "MMSE: 23.03<br>Cholesterol: 232.59<br>Functional: 3<br>Risk Category: Low Risk",
          "MMSE: 5.73<br>Cholesterol: 296.16<br>Functional: 0<br>Risk Category: Medium Risk",
          "MMSE: 13.82<br>Cholesterol: 203.14<br>Functional: 4<br>Risk Category: Medium Risk",
          "MMSE: 29.06<br>Cholesterol: 195.05<br>Functional: 1<br>Risk Category: Medium Risk",
          "MMSE: 22.51<br>Cholesterol: 237.82<br>Functional: 6<br>Risk Category: Medium Risk",
          "MMSE: 23.79<br>Cholesterol: 227.27<br>Functional: 6<br>Risk Category: Low Risk",
          "MMSE: 18.97<br>Cholesterol: 158.87<br>Functional: 5<br>Risk Category: Low Risk",
          "MMSE: 24.56<br>Cholesterol: 257.99<br>Functional: 4<br>Risk Category: Low Risk",
          "MMSE: 10.55<br>Cholesterol: 151.25<br>Functional: 2<br>Risk Category: High Risk",
          "MMSE: 2.2<br>Cholesterol: 172.18<br>Functional: 0<br>Risk Category: High Risk",
          "MMSE: 2.79<br>Cholesterol: 285.12<br>Functional: 0<br>Risk Category: High Risk",
          "MMSE: 5.28<br>Cholesterol: 274.99<br>Functional: 1<br>Risk Category: High Risk",
          "MMSE: 24.93<br>Cholesterol: 215.89<br>Functional: 6<br>Risk Category: Medium Risk",
          "MMSE: 19.37<br>Cholesterol: 217.05<br>Functional: 0<br>Risk Category: Medium Risk",
          "MMSE: 9.99<br>Cholesterol: 285.6<br>Functional: 9<br>Risk Category: High Risk",
          "MMSE: 27.82<br>Cholesterol: 215.32<br>Functional: 6<br>Risk Category: Medium Risk",
          "MMSE: 27.78<br>Cholesterol: 174.42<br>Functional: 0<br>Risk Category: Low Risk",
          "MMSE: 11.73<br>Cholesterol: 268.19<br>Functional: 8<br>Risk Category: Medium Risk",
          "MMSE: 23.83<br>Cholesterol: 231.3<br>Functional: 9<br>Risk Category: Medium Risk",
          "MMSE: 0.72<br>Cholesterol: 191.63<br>Functional: 7<br>Risk Category: Medium Risk",
          "MMSE: 13.83<br>Cholesterol: 156.71<br>Functional: 4<br>Risk Category: High Risk",
          "MMSE: 17.97<br>Cholesterol: 177.96<br>Functional: 7<br>Risk Category: Medium Risk",
          "MMSE: 11.76<br>Cholesterol: 201.35<br>Functional: 9<br>Risk Category: Low Risk",
          "MMSE: 11.15<br>Cholesterol: 176.27<br>Functional: 7<br>Risk Category: Medium Risk",
          "MMSE: 25.26<br>Cholesterol: 272.93<br>Functional: 0<br>Risk Category: Low Risk",
          "MMSE: 8.71<br>Cholesterol: 211.64<br>Functional: 2<br>Risk Category: High Risk",
          "MMSE: 28.08<br>Cholesterol: 156.05<br>Functional: 1<br>Risk Category: Medium Risk",
          "MMSE: 12.66<br>Cholesterol: 277.88<br>Functional: 1<br>Risk Category: Medium Risk",
          "MMSE: 12.63<br>Cholesterol: 248.98<br>Functional: 5<br>Risk Category: Medium Risk",
          "MMSE: 11.31<br>Cholesterol: 182.29<br>Functional: 6<br>Risk Category: High Risk",
          "MMSE: 19.49<br>Cholesterol: 185.37<br>Functional: 5<br>Risk Category: Medium Risk",
          "MMSE: 11.23<br>Cholesterol: 234.5<br>Functional: 1<br>Risk Category: High Risk",
          "MMSE: 25.8<br>Cholesterol: 174.64<br>Functional: 9<br>Risk Category: Low Risk",
          "MMSE: 8.85<br>Cholesterol: 260.01<br>Functional: 7<br>Risk Category: Medium Risk",
          "MMSE: 16.04<br>Cholesterol: 293.22<br>Functional: 6<br>Risk Category: Low Risk",
          "MMSE: 1.38<br>Cholesterol: 157.72<br>Functional: 8<br>Risk Category: Medium Risk",
          "MMSE: 17.53<br>Cholesterol: 283.01<br>Functional: 3<br>Risk Category: High Risk",
          "MMSE: 14.39<br>Cholesterol: 238.06<br>Functional: 7<br>Risk Category: Medium Risk",
          "MMSE: 22.02<br>Cholesterol: 268.68<br>Functional: 5<br>Risk Category: Low Risk",
          "MMSE: 29.03<br>Cholesterol: 241.42<br>Functional: 8<br>Risk Category: Low Risk",
          "MMSE: 0.8<br>Cholesterol: 162.01<br>Functional: 2<br>Risk Category: High Risk",
          "MMSE: 27.2<br>Cholesterol: 267.77<br>Functional: 6<br>Risk Category: Low Risk",
          "MMSE: 19.79<br>Cholesterol: 177.5<br>Functional: 3<br>Risk Category: Medium Risk",
          "MMSE: 0.16<br>Cholesterol: 273.35<br>Functional: 8<br>Risk Category: High Risk",
          "MMSE: 21.82<br>Cholesterol: 257.73<br>Functional: 0<br>Risk Category: High Risk",
          "MMSE: 1.93<br>Cholesterol: 284.4<br>Functional: 4<br>Risk Category: Medium Risk",
          "MMSE: 27.02<br>Cholesterol: 277.65<br>Functional: 0<br>Risk Category: Medium Risk",
          "MMSE: 2.43<br>Cholesterol: 225.52<br>Functional: 1<br>Risk Category: High Risk",
          "MMSE: 17.54<br>Cholesterol: 223.55<br>Functional: 4<br>Risk Category: Medium Risk",
          "MMSE: 18.07<br>Cholesterol: 228.27<br>Functional: 7<br>Risk Category: Low Risk",
          "MMSE: 25.0<br>Cholesterol: 251.58<br>Functional: 3<br>Risk Category: Low Risk",
          "MMSE: 22.36<br>Cholesterol: 167.56<br>Functional: 5<br>Risk Category: Low Risk",
          "MMSE: 24.43<br>Cholesterol: 222.51<br>Functional: 5<br>Risk Category: Low Risk",
          "MMSE: 16.71<br>Cholesterol: 174.97<br>Functional: 9<br>Risk Category: High Risk",
          "MMSE: 27.93<br>Cholesterol: 279.83<br>Functional: 5<br>Risk Category: Medium Risk",
          "MMSE: 16.05<br>Cholesterol: 167.4<br>Functional: 6<br>Risk Category: Low Risk",
          "MMSE: 2.86<br>Cholesterol: 204.75<br>Functional: 8<br>Risk Category: High Risk",
          "MMSE: 29.96<br>Cholesterol: 215.41<br>Functional: 6<br>Risk Category: Low Risk",
          "MMSE: 15.84<br>Cholesterol: 189.84<br>Functional: 8<br>Risk Category: Medium Risk",
          "MMSE: 14.43<br>Cholesterol: 212.68<br>Functional: 0<br>Risk Category: High Risk",
          "MMSE: 8.17<br>Cholesterol: 180.19<br>Functional: 2<br>Risk Category: Medium Risk",
          "MMSE: 5.13<br>Cholesterol: 172.5<br>Functional: 7<br>Risk Category: Low Risk",
          "MMSE: 10.97<br>Cholesterol: 285.68<br>Functional: 3<br>Risk Category: Medium Risk",
          "MMSE: 12.23<br>Cholesterol: 291.84<br>Functional: 9<br>Risk Category: High Risk",
          "MMSE: 14.03<br>Cholesterol: 298.31<br>Functional: 5<br>Risk Category: High Risk",
          "MMSE: 18.03<br>Cholesterol: 216.64<br>Functional: 0<br>Risk Category: Medium Risk",
          "MMSE: 25.16<br>Cholesterol: 183.83<br>Functional: 5<br>Risk Category: Low Risk",
          "MMSE: 28.46<br>Cholesterol: 286.88<br>Functional: 8<br>Risk Category: Low Risk",
          "MMSE: 12.1<br>Cholesterol: 226.49<br>Functional: 0<br>Risk Category: Medium Risk",
          "MMSE: 3.63<br>Cholesterol: 175.28<br>Functional: 4<br>Risk Category: High Risk",
          "MMSE: 13.8<br>Cholesterol: 294.74<br>Functional: 6<br>Risk Category: Medium Risk",
          "MMSE: 25.66<br>Cholesterol: 198.58<br>Functional: 7<br>Risk Category: Medium Risk",
          "MMSE: 13.79<br>Cholesterol: 178.06<br>Functional: 1<br>Risk Category: High Risk",
          "MMSE: 3.0<br>Cholesterol: 172.47<br>Functional: 8<br>Risk Category: High Risk",
          "MMSE: 14.39<br>Cholesterol: 156.61<br>Functional: 2<br>Risk Category: High Risk",
          "MMSE: 2.78<br>Cholesterol: 180.46<br>Functional: 4<br>Risk Category: Medium Risk",
          "MMSE: 24.17<br>Cholesterol: 202.23<br>Functional: 6<br>Risk Category: Low Risk",
          "MMSE: 25.02<br>Cholesterol: 253.39<br>Functional: 9<br>Risk Category: Medium Risk",
          "MMSE: 20.83<br>Cholesterol: 214.44<br>Functional: 9<br>Risk Category: Low Risk",
          "MMSE: 8.28<br>Cholesterol: 183.91<br>Functional: 2<br>Risk Category: Medium Risk",
          "MMSE: 12.22<br>Cholesterol: 158.22<br>Functional: 1<br>Risk Category: High Risk",
          "MMSE: 22.86<br>Cholesterol: 214.99<br>Functional: 4<br>Risk Category: Low Risk",
          "MMSE: 14.41<br>Cholesterol: 256.1<br>Functional: 7<br>Risk Category: Medium Risk",
          "MMSE: 8.98<br>Cholesterol: 271.84<br>Functional: 6<br>Risk Category: High Risk",
          "MMSE: 8.02<br>Cholesterol: 294.86<br>Functional: 0<br>Risk Category: Medium Risk",
          "MMSE: 28.78<br>Cholesterol: 259.06<br>Functional: 4<br>Risk Category: High Risk",
          "MMSE: 2.32<br>Cholesterol: 283.27<br>Functional: 1<br>Risk Category: High Risk",
          "MMSE: 3.46<br>Cholesterol: 281.8<br>Functional: 2<br>Risk Category: High Risk",
          "MMSE: 1.02<br>Cholesterol: 245.65<br>Functional: 3<br>Risk Category: Medium Risk",
          "MMSE: 22.01<br>Cholesterol: 160.01<br>Functional: 4<br>Risk Category: High Risk",
          "MMSE: 21.54<br>Cholesterol: 275.93<br>Functional: 4<br>Risk Category: Low Risk",
          "MMSE: 10.82<br>Cholesterol: 183.97<br>Functional: 3<br>Risk Category: High Risk",
          "MMSE: 20.21<br>Cholesterol: 297.73<br>Functional: 4<br>Risk Category: Low Risk",
          "MMSE: 28.35<br>Cholesterol: 214.93<br>Functional: 3<br>Risk Category: Low Risk",
          "MMSE: 4.52<br>Cholesterol: 275.34<br>Functional: 3<br>Risk Category: High Risk",
          "MMSE: 19.46<br>Cholesterol: 150.19<br>Functional: 7<br>Risk Category: Low Risk",
          "MMSE: 23.22<br>Cholesterol: 232.25<br>Functional: 8<br>Risk Category: Medium Risk",
          "MMSE: 14.11<br>Cholesterol: 227.3<br>Functional: 0<br>Risk Category: High Risk",
          "MMSE: 22.46<br>Cholesterol: 260.63<br>Functional: 9<br>Risk Category: Low Risk",
          "MMSE: 14.53<br>Cholesterol: 276.31<br>Functional: 9<br>Risk Category: Medium Risk",
          "MMSE: 17.98<br>Cholesterol: 219.79<br>Functional: 8<br>Risk Category: Medium Risk",
          "MMSE: 2.81<br>Cholesterol: 298.37<br>Functional: 1<br>Risk Category: High Risk",
          "MMSE: 13.97<br>Cholesterol: 291.86<br>Functional: 4<br>Risk Category: High Risk",
          "MMSE: 7.97<br>Cholesterol: 162.07<br>Functional: 0<br>Risk Category: Medium Risk",
          "MMSE: 22.78<br>Cholesterol: 175.64<br>Functional: 0<br>Risk Category: Low Risk",
          "MMSE: 25.52<br>Cholesterol: 209.22<br>Functional: 3<br>Risk Category: Low Risk",
          "MMSE: 8.77<br>Cholesterol: 272.07<br>Functional: 9<br>Risk Category: Medium Risk",
          "MMSE: 23.8<br>Cholesterol: 284.83<br>Functional: 9<br>Risk Category: Low Risk",
          "MMSE: 26.34<br>Cholesterol: 235.27<br>Functional: 8<br>Risk Category: Low Risk",
          "MMSE: 3.29<br>Cholesterol: 255.5<br>Functional: 0<br>Risk Category: High Risk",
          "MMSE: 0.33<br>Cholesterol: 168.68<br>Functional: 7<br>Risk Category: High Risk",
          "MMSE: 0.85<br>Cholesterol: 268.57<br>Functional: 9<br>Risk Category: High Risk",
          "MMSE: 6.32<br>Cholesterol: 156.23<br>Functional: 0<br>Risk Category: High Risk",
          "MMSE: 13.75<br>Cholesterol: 291.35<br>Functional: 0<br>Risk Category: High Risk",
          "MMSE: 23.08<br>Cholesterol: 226.51<br>Functional: 3<br>Risk Category: Medium Risk",
          "MMSE: 7.26<br>Cholesterol: 294.38<br>Functional: 7<br>Risk Category: Medium Risk",
          "MMSE: 28.72<br>Cholesterol: 189.98<br>Functional: 6<br>Risk Category: Low Risk",
          "MMSE: 0.82<br>Cholesterol: 260.35<br>Functional: 3<br>Risk Category: Medium Risk",
          "MMSE: 3.0<br>Cholesterol: 200.67<br>Functional: 5<br>Risk Category: Low Risk",
          "MMSE: 19.6<br>Cholesterol: 166.68<br>Functional: 7<br>Risk Category: Low Risk",
          "MMSE: 28.66<br>Cholesterol: 186.56<br>Functional: 8<br>Risk Category: Medium Risk",
          "MMSE: 3.3<br>Cholesterol: 180.73<br>Functional: 0<br>Risk Category: High Risk",
          "MMSE: 11.97<br>Cholesterol: 163.04<br>Functional: 8<br>Risk Category: Medium Risk",
          "MMSE: 12.6<br>Cholesterol: 205.15<br>Functional: 4<br>Risk Category: Medium Risk",
          "MMSE: 1.56<br>Cholesterol: 216.41<br>Functional: 7<br>Risk Category: High Risk",
          "MMSE: 23.73<br>Cholesterol: 256.52<br>Functional: 4<br>Risk Category: High Risk",
          "MMSE: 23.87<br>Cholesterol: 275.14<br>Functional: 0<br>Risk Category: Low Risk",
          "MMSE: 24.07<br>Cholesterol: 277.64<br>Functional: 3<br>Risk Category: Low Risk",
          "MMSE: 16.64<br>Cholesterol: 195.47<br>Functional: 6<br>Risk Category: Low Risk",
          "MMSE: 0.75<br>Cholesterol: 239.02<br>Functional: 4<br>Risk Category: High Risk",
          "MMSE: 1.93<br>Cholesterol: 202.95<br>Functional: 5<br>Risk Category: High Risk",
          "MMSE: 25.38<br>Cholesterol: 203.41<br>Functional: 4<br>Risk Category: Low Risk",
          "MMSE: 7.18<br>Cholesterol: 224.78<br>Functional: 3<br>Risk Category: High Risk",
          "MMSE: 29.56<br>Cholesterol: 238.99<br>Functional: 0<br>Risk Category: High Risk",
          "MMSE: 23.02<br>Cholesterol: 287.31<br>Functional: 8<br>Risk Category: High Risk",
          "MMSE: 5.4<br>Cholesterol: 235.09<br>Functional: 7<br>Risk Category: Low Risk",
          "MMSE: 20.92<br>Cholesterol: 234.51<br>Functional: 5<br>Risk Category: Medium Risk",
          "MMSE: 25.39<br>Cholesterol: 178.78<br>Functional: 7<br>Risk Category: Medium Risk",
          "MMSE: 28.22<br>Cholesterol: 288.64<br>Functional: 3<br>Risk Category: Medium Risk",
          "MMSE: 22.38<br>Cholesterol: 279.03<br>Functional: 2<br>Risk Category: High Risk",
          "MMSE: 22.7<br>Cholesterol: 190.57<br>Functional: 4<br>Risk Category: High Risk",
          "MMSE: 5.63<br>Cholesterol: 273.79<br>Functional: 8<br>Risk Category: High Risk",
          "MMSE: 5.9<br>Cholesterol: 208.06<br>Functional: 0<br>Risk Category: Medium Risk",
          "MMSE: 20.8<br>Cholesterol: 272.43<br>Functional: 3<br>Risk Category: High Risk",
          "MMSE: 13.25<br>Cholesterol: 174.85<br>Functional: 6<br>Risk Category: Medium Risk",
          "MMSE: 17.91<br>Cholesterol: 267.36<br>Functional: 9<br>Risk Category: Low Risk",
          "MMSE: 21.12<br>Cholesterol: 171.05<br>Functional: 5<br>Risk Category: High Risk",
          "MMSE: 9.48<br>Cholesterol: 274.18<br>Functional: 1<br>Risk Category: High Risk",
          "MMSE: 26.86<br>Cholesterol: 154.31<br>Functional: 9<br>Risk Category: Low Risk",
          "MMSE: 19.29<br>Cholesterol: 216.4<br>Functional: 9<br>Risk Category: Medium Risk",
          "MMSE: 18.5<br>Cholesterol: 279.48<br>Functional: 4<br>Risk Category: Medium Risk",
          "MMSE: 3.34<br>Cholesterol: 209.38<br>Functional: 2<br>Risk Category: Medium Risk",
          "MMSE: 26.19<br>Cholesterol: 202.35<br>Functional: 4<br>Risk Category: Medium Risk",
          "MMSE: 7.88<br>Cholesterol: 223.26<br>Functional: 8<br>Risk Category: Medium Risk",
          "MMSE: 9.53<br>Cholesterol: 221.68<br>Functional: 1<br>Risk Category: High Risk",
          "MMSE: 9.53<br>Cholesterol: 269.32<br>Functional: 9<br>Risk Category: Medium Risk",
          "MMSE: 8.68<br>Cholesterol: 292.62<br>Functional: 1<br>Risk Category: High Risk",
          "MMSE: 25.66<br>Cholesterol: 254.43<br>Functional: 8<br>Risk Category: Medium Risk",
          "MMSE: 6.72<br>Cholesterol: 256.3<br>Functional: 0<br>Risk Category: Medium Risk",
          "MMSE: 23.28<br>Cholesterol: 152.72<br>Functional: 8<br>Risk Category: Low Risk",
          "MMSE: 10.65<br>Cholesterol: 273.17<br>Functional: 9<br>Risk Category: Medium Risk",
          "MMSE: 23.71<br>Cholesterol: 247.22<br>Functional: 4<br>Risk Category: High Risk",
          "MMSE: 29.99<br>Cholesterol: 152.54<br>Functional: 8<br>Risk Category: Low Risk",
          "MMSE: 11.13<br>Cholesterol: 273.43<br>Functional: 3<br>Risk Category: Medium Risk",
          "MMSE: 4.45<br>Cholesterol: 213.88<br>Functional: 4<br>Risk Category: High Risk",
          "MMSE: 3.39<br>Cholesterol: 162.41<br>Functional: 8<br>Risk Category: Medium Risk",
          "MMSE: 25.58<br>Cholesterol: 235.03<br>Functional: 6<br>Risk Category: Medium Risk",
          "MMSE: 1.98<br>Cholesterol: 150.75<br>Functional: 1<br>Risk Category: High Risk",
          "MMSE: 23.0<br>Cholesterol: 183.24<br>Functional: 4<br>Risk Category: Medium Risk",
          "MMSE: 25.88<br>Cholesterol: 263.38<br>Functional: 4<br>Risk Category: Low Risk",
          "MMSE: 18.86<br>Cholesterol: 207.14<br>Functional: 9<br>Risk Category: Medium Risk",
          "MMSE: 18.49<br>Cholesterol: 183.24<br>Functional: 4<br>Risk Category: Low Risk",
          "MMSE: 25.52<br>Cholesterol: 160.7<br>Functional: 1<br>Risk Category: Medium Risk",
          "MMSE: 12.78<br>Cholesterol: 266.68<br>Functional: 6<br>Risk Category: Low Risk",
          "MMSE: 9.15<br>Cholesterol: 210.21<br>Functional: 2<br>Risk Category: High Risk",
          "MMSE: 4.27<br>Cholesterol: 239.46<br>Functional: 6<br>Risk Category: High Risk",
          "MMSE: 21.65<br>Cholesterol: 241.92<br>Functional: 3<br>Risk Category: High Risk",
          "MMSE: 5.04<br>Cholesterol: 251.53<br>Functional: 5<br>Risk Category: High Risk",
          "MMSE: 19.7<br>Cholesterol: 224.53<br>Functional: 8<br>Risk Category: High Risk",
          "MMSE: 7.74<br>Cholesterol: 174.02<br>Functional: 1<br>Risk Category: Medium Risk",
          "MMSE: 11.77<br>Cholesterol: 235.01<br>Functional: 3<br>Risk Category: High Risk",
          "MMSE: 23.77<br>Cholesterol: 222.14<br>Functional: 8<br>Risk Category: Medium Risk",
          "MMSE: 21.22<br>Cholesterol: 217.9<br>Functional: 1<br>Risk Category: High Risk",
          "MMSE: 8.73<br>Cholesterol: 226.87<br>Functional: 9<br>Risk Category: High Risk",
          "MMSE: 23.95<br>Cholesterol: 287.81<br>Functional: 5<br>Risk Category: Medium Risk",
          "MMSE: 21.31<br>Cholesterol: 254.71<br>Functional: 5<br>Risk Category: Medium Risk",
          "MMSE: 26.5<br>Cholesterol: 228.92<br>Functional: 1<br>Risk Category: Medium Risk",
          "MMSE: 5.38<br>Cholesterol: 170.56<br>Functional: 0<br>Risk Category: High Risk",
          "MMSE: 22.49<br>Cholesterol: 254.76<br>Functional: 3<br>Risk Category: High Risk",
          "MMSE: 16.98<br>Cholesterol: 224.86<br>Functional: 3<br>Risk Category: Medium Risk",
          "MMSE: 14.65<br>Cholesterol: 279.68<br>Functional: 5<br>Risk Category: Low Risk",
          "MMSE: 1.3<br>Cholesterol: 299.33<br>Functional: 6<br>Risk Category: Medium Risk",
          "MMSE: 2.16<br>Cholesterol: 235.36<br>Functional: 3<br>Risk Category: Medium Risk",
          "MMSE: 2.61<br>Cholesterol: 272.27<br>Functional: 7<br>Risk Category: Medium Risk",
          "MMSE: 9.98<br>Cholesterol: 214.76<br>Functional: 6<br>Risk Category: High Risk",
          "MMSE: 23.36<br>Cholesterol: 267.56<br>Functional: 8<br>Risk Category: Low Risk",
          "MMSE: 20.07<br>Cholesterol: 172.11<br>Functional: 2<br>Risk Category: High Risk",
          "MMSE: 6.18<br>Cholesterol: 198.08<br>Functional: 0<br>Risk Category: High Risk",
          "MMSE: 2.42<br>Cholesterol: 209.45<br>Functional: 4<br>Risk Category: High Risk",
          "MMSE: 22.92<br>Cholesterol: 246.52<br>Functional: 7<br>Risk Category: Medium Risk",
          "MMSE: 5.03<br>Cholesterol: 242.74<br>Functional: 6<br>Risk Category: Medium Risk",
          "MMSE: 10.52<br>Cholesterol: 256.61<br>Functional: 4<br>Risk Category: High Risk",
          "MMSE: 3.9<br>Cholesterol: 224.39<br>Functional: 1<br>Risk Category: Medium Risk",
          "MMSE: 1.53<br>Cholesterol: 255.71<br>Functional: 7<br>Risk Category: Medium Risk",
          "MMSE: 14.68<br>Cholesterol: 215.34<br>Functional: 3<br>Risk Category: High Risk",
          "MMSE: 17.04<br>Cholesterol: 168.03<br>Functional: 3<br>Risk Category: High Risk",
          "MMSE: 21.72<br>Cholesterol: 231.55<br>Functional: 8<br>Risk Category: Low Risk",
          "MMSE: 27.93<br>Cholesterol: 214.57<br>Functional: 5<br>Risk Category: Low Risk",
          "MMSE: 27.96<br>Cholesterol: 186.43<br>Functional: 6<br>Risk Category: Low Risk",
          "MMSE: 28.81<br>Cholesterol: 238.03<br>Functional: 8<br>Risk Category: Low Risk",
          "MMSE: 17.48<br>Cholesterol: 183.24<br>Functional: 1<br>Risk Category: High Risk",
          "MMSE: 3.36<br>Cholesterol: 269.95<br>Functional: 4<br>Risk Category: High Risk",
          "MMSE: 20.7<br>Cholesterol: 150.44<br>Functional: 1<br>Risk Category: Low Risk",
          "MMSE: 14.94<br>Cholesterol: 250.68<br>Functional: 2<br>Risk Category: High Risk",
          "MMSE: 10.42<br>Cholesterol: 244.19<br>Functional: 9<br>Risk Category: High Risk",
          "MMSE: 21.22<br>Cholesterol: 200.07<br>Functional: 8<br>Risk Category: Low Risk",
          "MMSE: 29.84<br>Cholesterol: 246.61<br>Functional: 2<br>Risk Category: Medium Risk",
          "MMSE: 28.9<br>Cholesterol: 212.62<br>Functional: 9<br>Risk Category: Medium Risk",
          "MMSE: 13.03<br>Cholesterol: 154.36<br>Functional: 6<br>Risk Category: Medium Risk",
          "MMSE: 9.54<br>Cholesterol: 199.05<br>Functional: 2<br>Risk Category: High Risk",
          "MMSE: 9.26<br>Cholesterol: 205.27<br>Functional: 2<br>Risk Category: Medium Risk",
          "MMSE: 27.25<br>Cholesterol: 191.1<br>Functional: 2<br>Risk Category: Medium Risk",
          "MMSE: 6.89<br>Cholesterol: 274.52<br>Functional: 3<br>Risk Category: High Risk",
          "MMSE: 22.1<br>Cholesterol: 171.8<br>Functional: 0<br>Risk Category: High Risk",
          "MMSE: 18.57<br>Cholesterol: 180.81<br>Functional: 1<br>Risk Category: Medium Risk",
          "MMSE: 21.52<br>Cholesterol: 253.65<br>Functional: 1<br>Risk Category: Medium Risk",
          "MMSE: 13.87<br>Cholesterol: 175.95<br>Functional: 3<br>Risk Category: High Risk",
          "MMSE: 10.97<br>Cholesterol: 283.03<br>Functional: 7<br>Risk Category: Medium Risk",
          "MMSE: 18.5<br>Cholesterol: 271.43<br>Functional: 3<br>Risk Category: Low Risk",
          "MMSE: 15.21<br>Cholesterol: 281.03<br>Functional: 5<br>Risk Category: Medium Risk",
          "MMSE: 19.53<br>Cholesterol: 278.91<br>Functional: 5<br>Risk Category: Low Risk",
          "MMSE: 2.91<br>Cholesterol: 204.78<br>Functional: 9<br>Risk Category: High Risk",
          "MMSE: 13.84<br>Cholesterol: 212.58<br>Functional: 5<br>Risk Category: Medium Risk",
          "MMSE: 7.93<br>Cholesterol: 238.56<br>Functional: 5<br>Risk Category: High Risk",
          "MMSE: 2.24<br>Cholesterol: 231.59<br>Functional: 8<br>Risk Category: Medium Risk",
          "MMSE: 20.57<br>Cholesterol: 174.33<br>Functional: 5<br>Risk Category: Medium Risk",
          "MMSE: 12.07<br>Cholesterol: 226.95<br>Functional: 3<br>Risk Category: Low Risk",
          "MMSE: 14.2<br>Cholesterol: 277.84<br>Functional: 1<br>Risk Category: Medium Risk",
          "MMSE: 21.54<br>Cholesterol: 244.19<br>Functional: 1<br>Risk Category: Medium Risk",
          "MMSE: 2.17<br>Cholesterol: 167.17<br>Functional: 5<br>Risk Category: Medium Risk",
          "MMSE: 11.51<br>Cholesterol: 198.23<br>Functional: 2<br>Risk Category: High Risk",
          "MMSE: 18.49<br>Cholesterol: 237.87<br>Functional: 2<br>Risk Category: Low Risk",
          "MMSE: 26.48<br>Cholesterol: 223.03<br>Functional: 6<br>Risk Category: Low Risk",
          "MMSE: 24.87<br>Cholesterol: 244.63<br>Functional: 7<br>Risk Category: Low Risk",
          "MMSE: 29.15<br>Cholesterol: 157.32<br>Functional: 8<br>Risk Category: Medium Risk",
          "MMSE: 14.84<br>Cholesterol: 152.37<br>Functional: 5<br>Risk Category: High Risk",
          "MMSE: 7.27<br>Cholesterol: 254.01<br>Functional: 5<br>Risk Category: High Risk",
          "MMSE: 13.44<br>Cholesterol: 228.34<br>Functional: 5<br>Risk Category: Medium Risk",
          "MMSE: 9.64<br>Cholesterol: 286.69<br>Functional: 4<br>Risk Category: High Risk",
          "MMSE: 20.17<br>Cholesterol: 261.48<br>Functional: 7<br>Risk Category: Low Risk",
          "MMSE: 19.09<br>Cholesterol: 201.26<br>Functional: 0<br>Risk Category: High Risk",
          "MMSE: 11.0<br>Cholesterol: 265.88<br>Functional: 8<br>Risk Category: Low Risk",
          "MMSE: 12.06<br>Cholesterol: 191.35<br>Functional: 7<br>Risk Category: High Risk",
          "MMSE: 11.48<br>Cholesterol: 158.65<br>Functional: 2<br>Risk Category: High Risk",
          "MMSE: 21.21<br>Cholesterol: 254.59<br>Functional: 5<br>Risk Category: Medium Risk",
          "MMSE: 3.66<br>Cholesterol: 285.0<br>Functional: 1<br>Risk Category: Medium Risk",
          "MMSE: 3.6<br>Cholesterol: 271.27<br>Functional: 0<br>Risk Category: Medium Risk",
          "MMSE: 13.14<br>Cholesterol: 284.11<br>Functional: 4<br>Risk Category: Medium Risk",
          "MMSE: 10.38<br>Cholesterol: 165.66<br>Functional: 6<br>Risk Category: Low Risk",
          "MMSE: 1.2<br>Cholesterol: 280.48<br>Functional: 0<br>Risk Category: High Risk",
          "MMSE: 27.46<br>Cholesterol: 176.48<br>Functional: 0<br>Risk Category: Low Risk",
          "MMSE: 6.44<br>Cholesterol: 203.52<br>Functional: 1<br>Risk Category: High Risk",
          "MMSE: 24.17<br>Cholesterol: 188.17<br>Functional: 8<br>Risk Category: Medium Risk",
          "MMSE: 10.64<br>Cholesterol: 212.01<br>Functional: 3<br>Risk Category: High Risk",
          "MMSE: 26.76<br>Cholesterol: 150.46<br>Functional: 1<br>Risk Category: Medium Risk",
          "MMSE: 20.05<br>Cholesterol: 172.44<br>Functional: 0<br>Risk Category: Low Risk",
          "MMSE: 3.12<br>Cholesterol: 229.07<br>Functional: 0<br>Risk Category: High Risk",
          "MMSE: 1.03<br>Cholesterol: 195.05<br>Functional: 6<br>Risk Category: High Risk",
          "MMSE: 20.1<br>Cholesterol: 242.81<br>Functional: 5<br>Risk Category: Medium Risk",
          "MMSE: 4.41<br>Cholesterol: 260.61<br>Functional: 7<br>Risk Category: Medium Risk",
          "MMSE: 2.78<br>Cholesterol: 214.6<br>Functional: 7<br>Risk Category: Medium Risk",
          "MMSE: 4.43<br>Cholesterol: 204.69<br>Functional: 2<br>Risk Category: Medium Risk",
          "MMSE: 10.21<br>Cholesterol: 197.16<br>Functional: 1<br>Risk Category: Medium Risk",
          "MMSE: 24.47<br>Cholesterol: 270.94<br>Functional: 5<br>Risk Category: Low Risk",
          "MMSE: 26.25<br>Cholesterol: 152.97<br>Functional: 6<br>Risk Category: Low Risk",
          "MMSE: 9.96<br>Cholesterol: 156.25<br>Functional: 8<br>Risk Category: Medium Risk",
          "MMSE: 27.62<br>Cholesterol: 256.49<br>Functional: 6<br>Risk Category: Medium Risk",
          "MMSE: 4.76<br>Cholesterol: 235.45<br>Functional: 7<br>Risk Category: High Risk",
          "MMSE: 18.25<br>Cholesterol: 237.25<br>Functional: 7<br>Risk Category: Low Risk",
          "MMSE: 7.91<br>Cholesterol: 245.06<br>Functional: 7<br>Risk Category: High Risk",
          "MMSE: 8.71<br>Cholesterol: 274.24<br>Functional: 4<br>Risk Category: High Risk",
          "MMSE: 3.53<br>Cholesterol: 218.6<br>Functional: 0<br>Risk Category: High Risk",
          "MMSE: 3.15<br>Cholesterol: 197.72<br>Functional: 6<br>Risk Category: Medium Risk",
          "MMSE: 28.68<br>Cholesterol: 177.94<br>Functional: 4<br>Risk Category: Low Risk",
          "MMSE: 20.61<br>Cholesterol: 231.16<br>Functional: 7<br>Risk Category: Medium Risk",
          "MMSE: 14.59<br>Cholesterol: 257.47<br>Functional: 2<br>Risk Category: High Risk",
          "MMSE: 12.77<br>Cholesterol: 288.56<br>Functional: 3<br>Risk Category: High Risk",
          "MMSE: 3.87<br>Cholesterol: 253.24<br>Functional: 8<br>Risk Category: Medium Risk",
          "MMSE: 1.29<br>Cholesterol: 219.94<br>Functional: 9<br>Risk Category: Low Risk",
          "MMSE: 11.21<br>Cholesterol: 201.41<br>Functional: 9<br>Risk Category: High Risk",
          "MMSE: 13.76<br>Cholesterol: 160.35<br>Functional: 2<br>Risk Category: High Risk",
          "MMSE: 15.43<br>Cholesterol: 269.88<br>Functional: 4<br>Risk Category: Medium Risk",
          "MMSE: 2.04<br>Cholesterol: 299.06<br>Functional: 2<br>Risk Category: High Risk",
          "MMSE: 6.41<br>Cholesterol: 244.58<br>Functional: 2<br>Risk Category: High Risk",
          "MMSE: 0.69<br>Cholesterol: 270.17<br>Functional: 9<br>Risk Category: Medium Risk",
          "MMSE: 8.0<br>Cholesterol: 295.48<br>Functional: 1<br>Risk Category: High Risk",
          "MMSE: 1.14<br>Cholesterol: 239.27<br>Functional: 8<br>Risk Category: Medium Risk",
          "MMSE: 19.47<br>Cholesterol: 255.04<br>Functional: 1<br>Risk Category: Medium Risk",
          "MMSE: 23.91<br>Cholesterol: 265.89<br>Functional: 2<br>Risk Category: High Risk",
          "MMSE: 8.01<br>Cholesterol: 268.55<br>Functional: 9<br>Risk Category: High Risk",
          "MMSE: 12.09<br>Cholesterol: 251.2<br>Functional: 7<br>Risk Category: High Risk",
          "MMSE: 9.86<br>Cholesterol: 215.48<br>Functional: 6<br>Risk Category: Medium Risk",
          "MMSE: 25.72<br>Cholesterol: 199.7<br>Functional: 6<br>Risk Category: Low Risk",
          "MMSE: 11.06<br>Cholesterol: 253.53<br>Functional: 1<br>Risk Category: Medium Risk",
          "MMSE: 1.6<br>Cholesterol: 202.38<br>Functional: 0<br>Risk Category: High Risk",
          "MMSE: 26.42<br>Cholesterol: 162.7<br>Functional: 9<br>Risk Category: Low Risk",
          "MMSE: 18.69<br>Cholesterol: 183.57<br>Functional: 9<br>Risk Category: Medium Risk",
          "MMSE: 28.38<br>Cholesterol: 279.4<br>Functional: 0<br>Risk Category: Low Risk",
          "MMSE: 22.01<br>Cholesterol: 289.61<br>Functional: 4<br>Risk Category: High Risk",
          "MMSE: 9.4<br>Cholesterol: 220.44<br>Functional: 7<br>Risk Category: High Risk",
          "MMSE: 26.09<br>Cholesterol: 178.11<br>Functional: 1<br>Risk Category: Medium Risk",
          "MMSE: 9.12<br>Cholesterol: 232.09<br>Functional: 3<br>Risk Category: High Risk",
          "MMSE: 20.17<br>Cholesterol: 151.14<br>Functional: 3<br>Risk Category: Low Risk",
          "MMSE: 5.1<br>Cholesterol: 236.63<br>Functional: 5<br>Risk Category: Medium Risk",
          "MMSE: 25.87<br>Cholesterol: 173.81<br>Functional: 7<br>Risk Category: Low Risk",
          "MMSE: 7.94<br>Cholesterol: 188.07<br>Functional: 6<br>Risk Category: Medium Risk",
          "MMSE: 3.79<br>Cholesterol: 249.8<br>Functional: 7<br>Risk Category: Medium Risk",
          "MMSE: 9.17<br>Cholesterol: 225.2<br>Functional: 5<br>Risk Category: Medium Risk",
          "MMSE: 16.47<br>Cholesterol: 272.73<br>Functional: 8<br>Risk Category: Medium Risk",
          "MMSE: 27.87<br>Cholesterol: 188.59<br>Functional: 7<br>Risk Category: Medium Risk",
          "MMSE: 0.02<br>Cholesterol: 200.98<br>Functional: 9<br>Risk Category: Medium Risk",
          "MMSE: 2.13<br>Cholesterol: 226.84<br>Functional: 8<br>Risk Category: Low Risk",
          "MMSE: 25.99<br>Cholesterol: 154.33<br>Functional: 3<br>Risk Category: Medium Risk",
          "MMSE: 11.86<br>Cholesterol: 183.76<br>Functional: 7<br>Risk Category: High Risk",
          "MMSE: 13.32<br>Cholesterol: 224.39<br>Functional: 3<br>Risk Category: High Risk",
          "MMSE: 21.46<br>Cholesterol: 236.92<br>Functional: 0<br>Risk Category: High Risk",
          "MMSE: 27.23<br>Cholesterol: 151.71<br>Functional: 3<br>Risk Category: Medium Risk",
          "MMSE: 5.09<br>Cholesterol: 271.82<br>Functional: 4<br>Risk Category: High Risk",
          "MMSE: 21.67<br>Cholesterol: 276.23<br>Functional: 1<br>Risk Category: High Risk",
          "MMSE: 3.8<br>Cholesterol: 191.64<br>Functional: 9<br>Risk Category: Low Risk",
          "MMSE: 19.93<br>Cholesterol: 200.75<br>Functional: 5<br>Risk Category: Medium Risk",
          "MMSE: 23.22<br>Cholesterol: 235.71<br>Functional: 5<br>Risk Category: Low Risk",
          "MMSE: 6.98<br>Cholesterol: 280.82<br>Functional: 8<br>Risk Category: High Risk",
          "MMSE: 6.25<br>Cholesterol: 159.85<br>Functional: 7<br>Risk Category: High Risk",
          "MMSE: 21.1<br>Cholesterol: 211.95<br>Functional: 3<br>Risk Category: Low Risk",
          "MMSE: 6.11<br>Cholesterol: 184.54<br>Functional: 7<br>Risk Category: High Risk",
          "MMSE: 20.37<br>Cholesterol: 151.45<br>Functional: 2<br>Risk Category: High Risk",
          "MMSE: 0.78<br>Cholesterol: 221.1<br>Functional: 4<br>Risk Category: Medium Risk",
          "MMSE: 8.66<br>Cholesterol: 231.55<br>Functional: 6<br>Risk Category: Medium Risk",
          "MMSE: 10.77<br>Cholesterol: 268.26<br>Functional: 9<br>Risk Category: High Risk",
          "MMSE: 14.78<br>Cholesterol: 189.0<br>Functional: 9<br>Risk Category: Low Risk",
          "MMSE: 0.91<br>Cholesterol: 156.7<br>Functional: 9<br>Risk Category: High Risk",
          "MMSE: 6.59<br>Cholesterol: 221.74<br>Functional: 4<br>Risk Category: Medium Risk",
          "MMSE: 20.58<br>Cholesterol: 277.0<br>Functional: 6<br>Risk Category: Low Risk",
          "MMSE: 24.03<br>Cholesterol: 208.48<br>Functional: 9<br>Risk Category: Medium Risk",
          "MMSE: 15.02<br>Cholesterol: 164.36<br>Functional: 2<br>Risk Category: Medium Risk",
          "MMSE: 12.59<br>Cholesterol: 255.11<br>Functional: 8<br>Risk Category: High Risk",
          "MMSE: 11.7<br>Cholesterol: 175.17<br>Functional: 6<br>Risk Category: Medium Risk",
          "MMSE: 6.37<br>Cholesterol: 203.35<br>Functional: 8<br>Risk Category: High Risk",
          "MMSE: 17.01<br>Cholesterol: 237.02<br>Functional: 1<br>Risk Category: High Risk",
          "MMSE: 21.01<br>Cholesterol: 295.99<br>Functional: 3<br>Risk Category: High Risk",
          "MMSE: 5.42<br>Cholesterol: 187.38<br>Functional: 3<br>Risk Category: High Risk",
          "MMSE: 1.01<br>Cholesterol: 262.03<br>Functional: 5<br>Risk Category: High Risk",
          "MMSE: 21.56<br>Cholesterol: 257.83<br>Functional: 9<br>Risk Category: Low Risk",
          "MMSE: 11.18<br>Cholesterol: 220.42<br>Functional: 6<br>Risk Category: High Risk",
          "MMSE: 5.83<br>Cholesterol: 268.23<br>Functional: 3<br>Risk Category: Medium Risk",
          "MMSE: 5.67<br>Cholesterol: 221.85<br>Functional: 6<br>Risk Category: Medium Risk",
          "MMSE: 12.99<br>Cholesterol: 239.26<br>Functional: 2<br>Risk Category: Medium Risk",
          "MMSE: 2.7<br>Cholesterol: 264.92<br>Functional: 0<br>Risk Category: Medium Risk",
          "MMSE: 21.29<br>Cholesterol: 155.35<br>Functional: 5<br>Risk Category: Medium Risk",
          "MMSE: 26.06<br>Cholesterol: 173.75<br>Functional: 7<br>Risk Category: Low Risk",
          "MMSE: 2.5<br>Cholesterol: 246.94<br>Functional: 1<br>Risk Category: Medium Risk",
          "MMSE: 3.77<br>Cholesterol: 197.73<br>Functional: 7<br>Risk Category: Low Risk",
          "MMSE: 13.91<br>Cholesterol: 289.12<br>Functional: 2<br>Risk Category: High Risk",
          "MMSE: 19.88<br>Cholesterol: 202.86<br>Functional: 9<br>Risk Category: Medium Risk",
          "MMSE: 1.49<br>Cholesterol: 277.97<br>Functional: 0<br>Risk Category: High Risk",
          "MMSE: 6.09<br>Cholesterol: 251.1<br>Functional: 2<br>Risk Category: High Risk",
          "MMSE: 19.1<br>Cholesterol: 192.05<br>Functional: 7<br>Risk Category: Medium Risk",
          "MMSE: 1.5<br>Cholesterol: 188.52<br>Functional: 4<br>Risk Category: Medium Risk",
          "MMSE: 19.56<br>Cholesterol: 209.22<br>Functional: 0<br>Risk Category: Medium Risk",
          "MMSE: 16.05<br>Cholesterol: 179.37<br>Functional: 8<br>Risk Category: High Risk",
          "MMSE: 13.52<br>Cholesterol: 237.6<br>Functional: 6<br>Risk Category: High Risk",
          "MMSE: 20.94<br>Cholesterol: 281.84<br>Functional: 6<br>Risk Category: Low Risk",
          "MMSE: 22.3<br>Cholesterol: 243.49<br>Functional: 4<br>Risk Category: Medium Risk",
          "MMSE: 21.29<br>Cholesterol: 269.9<br>Functional: 5<br>Risk Category: Low Risk",
          "MMSE: 1.51<br>Cholesterol: 295.23<br>Functional: 0<br>Risk Category: High Risk",
          "MMSE: 26.23<br>Cholesterol: 274.5<br>Functional: 9<br>Risk Category: Medium Risk",
          "MMSE: 26.16<br>Cholesterol: 234.35<br>Functional: 7<br>Risk Category: Low Risk",
          "MMSE: 28.02<br>Cholesterol: 211.95<br>Functional: 0<br>Risk Category: Medium Risk",
          "MMSE: 27.64<br>Cholesterol: 168.5<br>Functional: 1<br>Risk Category: Low Risk",
          "MMSE: 4.7<br>Cholesterol: 246.97<br>Functional: 6<br>Risk Category: High Risk",
          "MMSE: 6.9<br>Cholesterol: 182.4<br>Functional: 1<br>Risk Category: High Risk",
          "MMSE: 27.76<br>Cholesterol: 227.35<br>Functional: 8<br>Risk Category: Low Risk",
          "MMSE: 11.38<br>Cholesterol: 235.65<br>Functional: 3<br>Risk Category: Medium Risk",
          "MMSE: 19.69<br>Cholesterol: 247.64<br>Functional: 7<br>Risk Category: High Risk",
          "MMSE: 6.86<br>Cholesterol: 262.77<br>Functional: 9<br>Risk Category: High Risk",
          "MMSE: 15.15<br>Cholesterol: 195.86<br>Functional: 0<br>Risk Category: Medium Risk",
          "MMSE: 2.04<br>Cholesterol: 222.35<br>Functional: 7<br>Risk Category: High Risk",
          "MMSE: 9.99<br>Cholesterol: 292.76<br>Functional: 9<br>Risk Category: Medium Risk",
          "MMSE: 2.26<br>Cholesterol: 199.51<br>Functional: 9<br>Risk Category: Medium Risk",
          "MMSE: 19.74<br>Cholesterol: 287.14<br>Functional: 3<br>Risk Category: Medium Risk",
          "MMSE: 7.62<br>Cholesterol: 178.01<br>Functional: 3<br>Risk Category: High Risk",
          "MMSE: 17.61<br>Cholesterol: 251.64<br>Functional: 9<br>Risk Category: High Risk",
          "MMSE: 11.51<br>Cholesterol: 183.88<br>Functional: 5<br>Risk Category: High Risk",
          "MMSE: 24.06<br>Cholesterol: 171.98<br>Functional: 9<br>Risk Category: Low Risk",
          "MMSE: 11.52<br>Cholesterol: 220.9<br>Functional: 7<br>Risk Category: Medium Risk",
          "MMSE: 18.56<br>Cholesterol: 159.67<br>Functional: 5<br>Risk Category: Medium Risk",
          "MMSE: 10.58<br>Cholesterol: 186.88<br>Functional: 3<br>Risk Category: High Risk",
          "MMSE: 26.46<br>Cholesterol: 243.92<br>Functional: 0<br>Risk Category: High Risk",
          "MMSE: 8.41<br>Cholesterol: 265.62<br>Functional: 0<br>Risk Category: High Risk",
          "MMSE: 23.63<br>Cholesterol: 280.79<br>Functional: 9<br>Risk Category: Medium Risk",
          "MMSE: 13.32<br>Cholesterol: 199.1<br>Functional: 4<br>Risk Category: High Risk",
          "MMSE: 21.67<br>Cholesterol: 156.54<br>Functional: 3<br>Risk Category: Medium Risk",
          "MMSE: 21.64<br>Cholesterol: 296.96<br>Functional: 4<br>Risk Category: Medium Risk",
          "MMSE: 23.53<br>Cholesterol: 214.71<br>Functional: 0<br>Risk Category: Medium Risk",
          "MMSE: 18.38<br>Cholesterol: 248.1<br>Functional: 4<br>Risk Category: Low Risk",
          "MMSE: 19.6<br>Cholesterol: 264.39<br>Functional: 4<br>Risk Category: High Risk",
          "MMSE: 22.7<br>Cholesterol: 280.78<br>Functional: 4<br>Risk Category: High Risk",
          "MMSE: 6.18<br>Cholesterol: 294.69<br>Functional: 4<br>Risk Category: High Risk",
          "MMSE: 28.59<br>Cholesterol: 254.87<br>Functional: 1<br>Risk Category: Low Risk",
          "MMSE: 8.84<br>Cholesterol: 289.63<br>Functional: 3<br>Risk Category: High Risk",
          "MMSE: 6.92<br>Cholesterol: 170.33<br>Functional: 6<br>Risk Category: Medium Risk",
          "MMSE: 23.17<br>Cholesterol: 203.18<br>Functional: 8<br>Risk Category: Low Risk",
          "MMSE: 21.84<br>Cholesterol: 151.16<br>Functional: 0<br>Risk Category: Medium Risk",
          "MMSE: 0.34<br>Cholesterol: 289.91<br>Functional: 2<br>Risk Category: High Risk",
          "MMSE: 6.5<br>Cholesterol: 198.42<br>Functional: 6<br>Risk Category: High Risk",
          "MMSE: 27.95<br>Cholesterol: 203.09<br>Functional: 5<br>Risk Category: Medium Risk",
          "MMSE: 20.55<br>Cholesterol: 240.87<br>Functional: 7<br>Risk Category: Medium Risk",
          "MMSE: 25.41<br>Cholesterol: 155.85<br>Functional: 8<br>Risk Category: Medium Risk",
          "MMSE: 7.99<br>Cholesterol: 248.79<br>Functional: 9<br>Risk Category: Medium Risk",
          "MMSE: 9.92<br>Cholesterol: 236.9<br>Functional: 7<br>Risk Category: Low Risk",
          "MMSE: 3.85<br>Cholesterol: 168.13<br>Functional: 7<br>Risk Category: Medium Risk",
          "MMSE: 29.5<br>Cholesterol: 180.19<br>Functional: 4<br>Risk Category: Medium Risk",
          "MMSE: 26.14<br>Cholesterol: 190.07<br>Functional: 4<br>Risk Category: Low Risk",
          "MMSE: 14.2<br>Cholesterol: 240.15<br>Functional: 8<br>Risk Category: Medium Risk",
          "MMSE: 20.84<br>Cholesterol: 255.76<br>Functional: 2<br>Risk Category: Medium Risk",
          "MMSE: 17.83<br>Cholesterol: 208.38<br>Functional: 3<br>Risk Category: High Risk",
          "MMSE: 28.36<br>Cholesterol: 164.72<br>Functional: 9<br>Risk Category: Medium Risk",
          "MMSE: 14.92<br>Cholesterol: 293.05<br>Functional: 3<br>Risk Category: High Risk",
          "MMSE: 26.5<br>Cholesterol: 262.64<br>Functional: 1<br>Risk Category: Low Risk",
          "MMSE: 3.09<br>Cholesterol: 263.17<br>Functional: 6<br>Risk Category: Medium Risk",
          "MMSE: 5.83<br>Cholesterol: 152.35<br>Functional: 1<br>Risk Category: High Risk",
          "MMSE: 28.85<br>Cholesterol: 157.7<br>Functional: 0<br>Risk Category: Low Risk",
          "MMSE: 15.68<br>Cholesterol: 159.05<br>Functional: 5<br>Risk Category: Medium Risk",
          "MMSE: 15.24<br>Cholesterol: 269.87<br>Functional: 3<br>Risk Category: Medium Risk",
          "MMSE: 1.05<br>Cholesterol: 160.89<br>Functional: 7<br>Risk Category: High Risk",
          "MMSE: 10.64<br>Cholesterol: 192.21<br>Functional: 3<br>Risk Category: Low Risk",
          "MMSE: 29.18<br>Cholesterol: 218.69<br>Functional: 1<br>Risk Category: Low Risk",
          "MMSE: 26.44<br>Cholesterol: 256.04<br>Functional: 4<br>Risk Category: Medium Risk",
          "MMSE: 23.2<br>Cholesterol: 168.4<br>Functional: 8<br>Risk Category: Medium Risk",
          "MMSE: 25.83<br>Cholesterol: 264.43<br>Functional: 2<br>Risk Category: Medium Risk",
          "MMSE: 24.08<br>Cholesterol: 270.31<br>Functional: 7<br>Risk Category: Medium Risk",
          "MMSE: 17.84<br>Cholesterol: 213.76<br>Functional: 7<br>Risk Category: High Risk",
          "MMSE: 5.2<br>Cholesterol: 196.67<br>Functional: 1<br>Risk Category: Medium Risk",
          "MMSE: 5.85<br>Cholesterol: 155.49<br>Functional: 6<br>Risk Category: Medium Risk",
          "MMSE: 10.5<br>Cholesterol: 199.06<br>Functional: 7<br>Risk Category: High Risk",
          "MMSE: 8.18<br>Cholesterol: 243.92<br>Functional: 3<br>Risk Category: High Risk",
          "MMSE: 27.41<br>Cholesterol: 291.99<br>Functional: 3<br>Risk Category: Low Risk",
          "MMSE: 22.34<br>Cholesterol: 251.35<br>Functional: 8<br>Risk Category: Low Risk",
          "MMSE: 3.16<br>Cholesterol: 285.88<br>Functional: 7<br>Risk Category: High Risk",
          "MMSE: 22.99<br>Cholesterol: 168.98<br>Functional: 8<br>Risk Category: Low Risk",
          "MMSE: 5.93<br>Cholesterol: 234.19<br>Functional: 3<br>Risk Category: High Risk",
          "MMSE: 26.86<br>Cholesterol: 196.85<br>Functional: 9<br>Risk Category: Low Risk",
          "MMSE: 25.43<br>Cholesterol: 159.99<br>Functional: 6<br>Risk Category: Medium Risk",
          "MMSE: 0.36<br>Cholesterol: 206.2<br>Functional: 1<br>Risk Category: Medium Risk",
          "MMSE: 18.72<br>Cholesterol: 282.6<br>Functional: 9<br>Risk Category: Medium Risk",
          "MMSE: 21.45<br>Cholesterol: 253.54<br>Functional: 4<br>Risk Category: High Risk",
          "MMSE: 10.01<br>Cholesterol: 243.24<br>Functional: 2<br>Risk Category: Medium Risk",
          "MMSE: 10.35<br>Cholesterol: 165.61<br>Functional: 0<br>Risk Category: High Risk",
          "MMSE: 10.51<br>Cholesterol: 247.79<br>Functional: 3<br>Risk Category: Medium Risk",
          "MMSE: 0.59<br>Cholesterol: 218.9<br>Functional: 7<br>Risk Category: Medium Risk",
          "MMSE: 19.34<br>Cholesterol: 289.46<br>Functional: 7<br>Risk Category: Medium Risk",
          "MMSE: 15.19<br>Cholesterol: 180.1<br>Functional: 6<br>Risk Category: High Risk",
          "MMSE: 24.03<br>Cholesterol: 289.01<br>Functional: 4<br>Risk Category: Medium Risk",
          "MMSE: 0.05<br>Cholesterol: 224.14<br>Functional: 8<br>Risk Category: High Risk",
          "MMSE: 21.84<br>Cholesterol: 242.95<br>Functional: 9<br>Risk Category: High Risk",
          "MMSE: 23.59<br>Cholesterol: 195.33<br>Functional: 6<br>Risk Category: Low Risk",
          "MMSE: 22.16<br>Cholesterol: 194.89<br>Functional: 6<br>Risk Category: Low Risk"
         ],
         "type": "scatter",
         "x": {
          "bdata": "PVFRPlBRRjxAUkdZUkJCPlFJWkhBSj9QRFpIQFFES09KRkVLVFlCQ0RTT1pRT0Q+S0NFQj9ZVUpSPkRVWD9MQUBFREBZPUVMVE1BSjxRV0pQTU1OWkNITD9PSUM/QlVMQ0JVWlg+SkA9SkBFPFBHV1dSRE1MQUI+PkBTUEVQPkFNPUQ8V009RkhAR0hWTlFRP0hMPkhVQz1SQVhJRD1TQFVBQEZAU1U9SE1NVzxDT0E8SlhZUUZUWjxHR0FGU1RHSU1WPUE8VkxHUllSP1NTWVBUVz5aST5RUUxLTT9XPEtCVE9BQkVSSEVOR1lORj5XPUw+TlhUWVk/TExZWldRV0ZNSjxGSEFVRVpLU0tDTEM+WlI/PEdEUVhBTFdGT1FEWj5GWE1OTldJPkY+WEdYQVE9QEpIUkVNSFFRTENWRFpEV0hOPEVAQz1DWVlLVTxQWkZATT4+PUNJU1o9WkhaTUdZUlNFPlRZSFJYQ0xMTFJaT08/Q0hBVUhYUFpUQkhLTURHQ1VJPk9SU1dTVFM8Vj5RVD5YTz1IUj1LREBLRk88Wk1WUVVFVD9EQDxKREBBS0xaU0xCTlJZP0dGPlVMUDxQVT9FU1hGWkZGPVhXUkNIUVlaUFZUSkY/PVhYUT9HT0lOR1VRTUxCQk1VR0VES05TP0NZP0ZKU0JAVU5XS1NEQlpZSj9UR04/U0NKWkNYQT5ZUlNTWkZB",
          "dtype": "i1"
         },
         "xaxis": "x3",
         "y": {
          "bdata": "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",
          "dtype": "f8"
         },
         "yaxis": "y3"
        }
       ],
       "layout": {
        "annotations": [
         {
          "font": {
           "size": 16
          },
          "showarrow": false,
          "text": "Risk Score vs MMSE",
          "x": 0.225,
          "xanchor": "center",
          "xref": "paper",
          "y": 1,
          "yanchor": "bottom",
          "yref": "paper"
         },
         {
          "font": {
           "size": 16
          },
          "showarrow": false,
          "text": "Risk Category Distribution",
          "x": 0.775,
          "xanchor": "center",
          "xref": "paper",
          "y": 1,
          "yanchor": "bottom",
          "yref": "paper"
         },
         {
          "font": {
           "size": 16
          },
          "showarrow": false,
          "text": "Comprehensive Health Risk Matrix",
          "x": 0.5,
          "xanchor": "center",
          "xref": "paper",
          "y": 0.44,
          "yanchor": "bottom",
          "yref": "paper"
         },
         {
          "showarrow": false,
          "text": "High Risk Threshold",
          "x": 1,
          "xanchor": "right",
          "xref": "x domain",
          "y": 6,
          "yanchor": "top",
          "yref": "y"
         },
         {
          "showarrow": false,
          "text": "Obesity Threshold",
          "x": 0,
          "xanchor": "left",
          "xref": "x3 domain",
          "y": 30,
          "yanchor": "bottom",
          "yref": "y3"
         },
         {
          "showarrow": false,
          "text": "High Age Risk",
          "x": 75,
          "xanchor": "left",
          "xref": "x3",
          "y": 1,
          "yanchor": "top",
          "yref": "y3 domain"
         }
        ],
        "height": 800,
        "margin": {
         "b": 10,
         "l": 10,
         "r": 100,
         "t": 100
        },
        "paper_bgcolor": "rgba(250,250,250,0.95)",
        "plot_bgcolor": "rgba(255,255,255,0.9)",
        "shapes": [
         {
          "line": {
           "color": "red",
           "dash": "dash"
          },
          "type": "line",
          "x0": 0,
          "x1": 1,
          "xref": "x domain",
          "y0": 6,
          "y1": 6,
          "yref": "y"
         },
         {
          "line": {
           "color": "orange",
           "dash": "dash"
          },
          "type": "line",
          "x0": 0,
          "x1": 1,
          "xref": "x3 domain",
          "y0": 30,
          "y1": 30,
          "yref": "y3"
         },
         {
          "line": {
           "color": "blue",
           "dash": "dash"
          },
          "type": "line",
          "x0": 75,
          "x1": 75,
          "xref": "x3",
          "y0": 0,
          "y1": 1,
          "yref": "y3 domain"
         }
        ],
        "template": {
         "data": {
          "bar": [
           {
            "error_x": {
             "color": "#2a3f5f"
            },
            "error_y": {
             "color": "#2a3f5f"
            },
            "marker": {
             "line": {
              "color": "#E5ECF6",
              "width": 0.5
             },
             "pattern": {
              "fillmode": "overlay",
              "size": 10,
              "solidity": 0.2
             }
            },
            "type": "bar"
           }
          ],
          "barpolar": [
           {
            "marker": {
             "line": {
              "color": "#E5ECF6",
              "width": 0.5
             },
             "pattern": {
              "fillmode": "overlay",
              "size": 10,
              "solidity": 0.2
             }
            },
            "type": "barpolar"
           }
          ],
          "carpet": [
           {
            "aaxis": {
             "endlinecolor": "#2a3f5f",
             "gridcolor": "white",
             "linecolor": "white",
             "minorgridcolor": "white",
             "startlinecolor": "#2a3f5f"
            },
            "baxis": {
             "endlinecolor": "#2a3f5f",
             "gridcolor": "white",
             "linecolor": "white",
             "minorgridcolor": "white",
             "startlinecolor": "#2a3f5f"
            },
            "type": "carpet"
           }
          ],
          "choropleth": [
           {
            "colorbar": {
             "outlinewidth": 0,
             "ticks": ""
            },
            "type": "choropleth"
           }
          ],
          "contour": [
           {
            "colorbar": {
             "outlinewidth": 0,
             "ticks": ""
            },
            "colorscale": [
             [
              0,
              "#0d0887"
             ],
             [
              0.1111111111111111,
              "#46039f"
             ],
             [
              0.2222222222222222,
              "#7201a8"
             ],
             [
              0.3333333333333333,
              "#9c179e"
             ],
             [
              0.4444444444444444,
              "#bd3786"
             ],
             [
              0.5555555555555556,
              "#d8576b"
             ],
             [
              0.6666666666666666,
              "#ed7953"
             ],
             [
              0.7777777777777778,
              "#fb9f3a"
             ],
             [
              0.8888888888888888,
              "#fdca26"
             ],
             [
              1,
              "#f0f921"
             ]
            ],
            "type": "contour"
           }
          ],
          "contourcarpet": [
           {
            "colorbar": {
             "outlinewidth": 0,
             "ticks": ""
            },
            "type": "contourcarpet"
           }
          ],
          "heatmap": [
           {
            "colorbar": {
             "outlinewidth": 0,
             "ticks": ""
            },
            "colorscale": [
             [
              0,
              "#0d0887"
             ],
             [
              0.1111111111111111,
              "#46039f"
             ],
             [
              0.2222222222222222,
              "#7201a8"
             ],
             [
              0.3333333333333333,
              "#9c179e"
             ],
             [
              0.4444444444444444,
              "#bd3786"
             ],
             [
              0.5555555555555556,
              "#d8576b"
             ],
             [
              0.6666666666666666,
              "#ed7953"
             ],
             [
              0.7777777777777778,
              "#fb9f3a"
             ],
             [
              0.8888888888888888,
              "#fdca26"
             ],
             [
              1,
              "#f0f921"
             ]
            ],
            "type": "heatmap"
           }
          ],
          "histogram": [
           {
            "marker": {
             "pattern": {
              "fillmode": "overlay",
              "size": 10,
              "solidity": 0.2
             }
            },
            "type": "histogram"
           }
          ],
          "histogram2d": [
           {
            "colorbar": {
             "outlinewidth": 0,
             "ticks": ""
            },
            "colorscale": [
             [
              0,
              "#0d0887"
             ],
             [
              0.1111111111111111,
              "#46039f"
             ],
             [
              0.2222222222222222,
              "#7201a8"
             ],
             [
              0.3333333333333333,
              "#9c179e"
             ],
             [
              0.4444444444444444,
              "#bd3786"
             ],
             [
              0.5555555555555556,
              "#d8576b"
             ],
             [
              0.6666666666666666,
              "#ed7953"
             ],
             [
              0.7777777777777778,
              "#fb9f3a"
             ],
             [
              0.8888888888888888,
              "#fdca26"
             ],
             [
              1,
              "#f0f921"
             ]
            ],
            "type": "histogram2d"
           }
          ],
          "histogram2dcontour": [
           {
            "colorbar": {
             "outlinewidth": 0,
             "ticks": ""
            },
            "colorscale": [
             [
              0,
              "#0d0887"
             ],
             [
              0.1111111111111111,
              "#46039f"
             ],
             [
              0.2222222222222222,
              "#7201a8"
             ],
             [
              0.3333333333333333,
              "#9c179e"
             ],
             [
              0.4444444444444444,
              "#bd3786"
             ],
             [
              0.5555555555555556,
              "#d8576b"
             ],
             [
              0.6666666666666666,
              "#ed7953"
             ],
             [
              0.7777777777777778,
              "#fb9f3a"
             ],
             [
              0.8888888888888888,
              "#fdca26"
             ],
             [
              1,
              "#f0f921"
             ]
            ],
            "type": "histogram2dcontour"
           }
          ],
          "mesh3d": [
           {
            "colorbar": {
             "outlinewidth": 0,
             "ticks": ""
            },
            "type": "mesh3d"
           }
          ],
          "parcoords": [
           {
            "line": {
             "colorbar": {
              "outlinewidth": 0,
              "ticks": ""
             }
            },
            "type": "parcoords"
           }
          ],
          "pie": [
           {
            "automargin": true,
            "type": "pie"
           }
          ],
          "scatter": [
           {
            "fillpattern": {
             "fillmode": "overlay",
             "size": 10,
             "solidity": 0.2
            },
            "type": "scatter"
           }
          ],
          "scatter3d": [
           {
            "line": {
             "colorbar": {
              "outlinewidth": 0,
              "ticks": ""
             }
            },
            "marker": {
             "colorbar": {
              "outlinewidth": 0,
              "ticks": ""
             }
            },
            "type": "scatter3d"
           }
          ],
          "scattercarpet": [
           {
            "marker": {
             "colorbar": {
              "outlinewidth": 0,
              "ticks": ""
             }
            },
            "type": "scattercarpet"
           }
          ],
          "scattergeo": [
           {
            "marker": {
             "colorbar": {
              "outlinewidth": 0,
              "ticks": ""
             }
            },
            "type": "scattergeo"
           }
          ],
          "scattergl": [
           {
            "marker": {
             "colorbar": {
              "outlinewidth": 0,
              "ticks": ""
             }
            },
            "type": "scattergl"
           }
          ],
          "scattermap": [
           {
            "marker": {
             "colorbar": {
              "outlinewidth": 0,
              "ticks": ""
             }
            },
            "type": "scattermap"
           }
          ],
          "scattermapbox": [
           {
            "marker": {
             "colorbar": {
              "outlinewidth": 0,
              "ticks": ""
             }
            },
            "type": "scattermapbox"
           }
          ],
          "scatterpolar": [
           {
            "marker": {
             "colorbar": {
              "outlinewidth": 0,
              "ticks": ""
             }
            },
            "type": "scatterpolar"
           }
          ],
          "scatterpolargl": [
           {
            "marker": {
             "colorbar": {
              "outlinewidth": 0,
              "ticks": ""
             }
            },
            "type": "scatterpolargl"
           }
          ],
          "scatterternary": [
           {
            "marker": {
             "colorbar": {
              "outlinewidth": 0,
              "ticks": ""
             }
            },
            "type": "scatterternary"
           }
          ],
          "surface": [
           {
            "colorbar": {
             "outlinewidth": 0,
             "ticks": ""
            },
            "colorscale": [
             [
              0,
              "#0d0887"
             ],
             [
              0.1111111111111111,
              "#46039f"
             ],
             [
              0.2222222222222222,
              "#7201a8"
             ],
             [
              0.3333333333333333,
              "#9c179e"
             ],
             [
              0.4444444444444444,
              "#bd3786"
             ],
             [
              0.5555555555555556,
              "#d8576b"
             ],
             [
              0.6666666666666666,
              "#ed7953"
             ],
             [
              0.7777777777777778,
              "#fb9f3a"
             ],
             [
              0.8888888888888888,
              "#fdca26"
             ],
             [
              1,
              "#f0f921"
             ]
            ],
            "type": "surface"
           }
          ],
          "table": [
           {
            "cells": {
             "fill": {
              "color": "#EBF0F8"
             },
             "line": {
              "color": "white"
             }
            },
            "header": {
             "fill": {
              "color": "#C8D4E3"
             },
             "line": {
              "color": "white"
             }
            },
            "type": "table"
           }
          ]
         },
         "layout": {
          "annotationdefaults": {
           "arrowcolor": "#2a3f5f",
           "arrowhead": 0,
           "arrowwidth": 1
          },
          "autotypenumbers": "strict",
          "coloraxis": {
           "colorbar": {
            "outlinewidth": 0,
            "ticks": ""
           }
          },
          "colorscale": {
           "diverging": [
            [
             0,
             "#8e0152"
            ],
            [
             0.1,
             "#c51b7d"
            ],
            [
             0.2,
             "#de77ae"
            ],
            [
             0.3,
             "#f1b6da"
            ],
            [
             0.4,
             "#fde0ef"
            ],
            [
             0.5,
             "#f7f7f7"
            ],
            [
             0.6,
             "#e6f5d0"
            ],
            [
             0.7,
             "#b8e186"
            ],
            [
             0.8,
             "#7fbc41"
            ],
            [
             0.9,
             "#4d9221"
            ],
            [
             1,
             "#276419"
            ]
           ],
           "sequential": [
            [
             0,
             "#0d0887"
            ],
            [
             0.1111111111111111,
             "#46039f"
            ],
            [
             0.2222222222222222,
             "#7201a8"
            ],
            [
             0.3333333333333333,
             "#9c179e"
            ],
            [
             0.4444444444444444,
             "#bd3786"
            ],
            [
             0.5555555555555556,
             "#d8576b"
            ],
            [
             0.6666666666666666,
             "#ed7953"
            ],
            [
             0.7777777777777778,
             "#fb9f3a"
            ],
            [
             0.8888888888888888,
             "#fdca26"
            ],
            [
             1,
             "#f0f921"
            ]
           ],
           "sequentialminus": [
            [
             0,
             "#0d0887"
            ],
            [
             0.1111111111111111,
             "#46039f"
            ],
            [
             0.2222222222222222,
             "#7201a8"
            ],
            [
             0.3333333333333333,
             "#9c179e"
            ],
            [
             0.4444444444444444,
             "#bd3786"
            ],
            [
             0.5555555555555556,
             "#d8576b"
            ],
            [
             0.6666666666666666,
             "#ed7953"
            ],
            [
             0.7777777777777778,
             "#fb9f3a"
            ],
            [
             0.8888888888888888,
             "#fdca26"
            ],
            [
             1,
             "#f0f921"
            ]
           ]
          },
          "colorway": [
           "#636efa",
           "#EF553B",
           "#00cc96",
           "#ab63fa",
           "#FFA15A",
           "#19d3f3",
           "#FF6692",
           "#B6E880",
           "#FF97FF",
           "#FECB52"
          ],
          "font": {
           "color": "#2a3f5f"
          },
          "geo": {
           "bgcolor": "white",
           "lakecolor": "white",
           "landcolor": "#E5ECF6",
           "showlakes": true,
           "showland": true,
           "subunitcolor": "white"
          },
          "hoverlabel": {
           "align": "left"
          },
          "hovermode": "closest",
          "mapbox": {
           "style": "light"
          },
          "paper_bgcolor": "white",
          "plot_bgcolor": "#E5ECF6",
          "polar": {
           "angularaxis": {
            "gridcolor": "white",
            "linecolor": "white",
            "ticks": ""
           },
           "bgcolor": "#E5ECF6",
           "radialaxis": {
            "gridcolor": "white",
            "linecolor": "white",
            "ticks": ""
           }
          },
          "scene": {
           "xaxis": {
            "backgroundcolor": "#E5ECF6",
            "gridcolor": "white",
            "gridwidth": 2,
            "linecolor": "white",
            "showbackground": true,
            "ticks": "",
            "zerolinecolor": "white"
           },
           "yaxis": {
            "backgroundcolor": "#E5ECF6",
            "gridcolor": "white",
            "gridwidth": 2,
            "linecolor": "white",
            "showbackground": true,
            "ticks": "",
            "zerolinecolor": "white"
           },
           "zaxis": {
            "backgroundcolor": "#E5ECF6",
            "gridcolor": "white",
            "gridwidth": 2,
            "linecolor": "white",
            "showbackground": true,
            "ticks": "",
            "zerolinecolor": "white"
           }
          },
          "shapedefaults": {
           "line": {
            "color": "#2a3f5f"
           }
          },
          "ternary": {
           "aaxis": {
            "gridcolor": "white",
            "linecolor": "white",
            "ticks": ""
           },
           "baxis": {
            "gridcolor": "white",
            "linecolor": "white",
            "ticks": ""
           },
           "bgcolor": "#E5ECF6",
           "caxis": {
            "gridcolor": "white",
            "linecolor": "white",
            "ticks": ""
           }
          },
          "title": {
           "x": 0.05
          },
          "xaxis": {
           "automargin": true,
           "gridcolor": "white",
           "linecolor": "white",
           "ticks": "",
           "title": {
            "standoff": 15
           },
           "zerolinecolor": "white",
           "zerolinewidth": 2
          },
          "yaxis": {
           "automargin": true,
           "gridcolor": "white",
           "linecolor": "white",
           "ticks": "",
           "title": {
            "standoff": 15
           },
           "zerolinecolor": "white",
           "zerolinewidth": 2
          }
         }
        },
        "title": {
         "font": {
          "family": "Arial, sans-serif",
          "size": 18
         },
         "text": "Comprehensive Risk Monitoring Dashboard<br><sub>Multi-dimensional Patient Risk Assessment</sub>",
         "x": 0.5
        },
        "width": 1000,
        "xaxis": {
         "anchor": "y",
         "domain": [
          0,
          0.45
         ],
         "title": {
          "text": "MMSE Score"
         }
        },
        "xaxis2": {
         "anchor": "y2",
         "domain": [
          0.55,
          1
         ],
         "title": {
          "text": "Risk Category"
         }
        },
        "xaxis3": {
         "anchor": "y3",
         "domain": [
          0,
          1
         ],
         "title": {
          "text": "Patient Age"
         }
        },
        "yaxis": {
         "anchor": "x",
         "domain": [
          0.56,
          1
         ],
         "title": {
          "text": "Risk Score"
         }
        },
        "yaxis2": {
         "anchor": "x2",
         "domain": [
          0.56,
          1
         ],
         "title": {
          "text": "Patient Count"
         }
        },
        "yaxis3": {
         "anchor": "x3",
         "domain": [
          0,
          0.44
         ],
         "title": {
          "text": "BMI"
         }
        }
       }
      }
     },
     "metadata": {},
     "output_type": "display_data"
    },
    {
     "name": "stdout",
     "output_type": "stream",
     "text": [
      "\n",
      "Interactive Dashboard Key Metrics:\n",
      "=============================================\n",
      "• Total Patients Monitored: 537\n",
      "• High Risk Alerts: 195\n",
      "• Early Detection Flags: 469\n",
      "• Average Risk Score: 6.30\n",
      "• Patients Requiring Immediate Intervention: 195\n",
      "• Cognitive Impairment Cases (MMSE < 18): 311\n",
      "==================================================\n"
     ]
    }
   ],
   "source": [
    "# PLOTLY VISUALIZATIONS - Interactive Risk Monitoring Dashboard\n",
    "print(\"PLOTLY INTERACTIVE RISK MONITORING DASHBOARD\")\n",
    "print(\"=\" * 50)\n",
    "\n",
    "import plotly.graph_objects as go\n",
    "import plotly.express as px\n",
    "from plotly.subplots import make_subplots\n",
    "import plotly.colors as colors\n",
    "\n",
    "# Visualization 1: Interactive 3D Risk Assessment Scatter Plot\n",
    "print(\"Creating interactive 3D risk assessment visualization...\")\n",
    "\n",
    "# Create 3D scatter plot with multiple risk dimensions\n",
    "fig1 = go.Figure()\n",
    "\n",
    "# Add traces for each risk category with different colors and sizes\n",
    "risk_categories = processed_df['Risk_Category'].unique()\n",
    "risk_colors_plotly = {'Low Risk': 'green', 'Medium Risk': 'orange', 'High Risk': 'red'}\n",
    "\n",
    "for risk_cat in risk_categories:\n",
    "    subset = processed_df[processed_df['Risk_Category'] == risk_cat]\n",
    "    \n",
    "    fig1.add_trace(go.Scatter3d(\n",
    "        x=subset['Patient_Age'],\n",
    "        y=subset['MMSE'],\n",
    "        z=subset['BMI'],\n",
    "        mode='markers',\n",
    "        marker=dict(\n",
    "            size=subset['Risk_Score'] * 2,  # Size based on risk score\n",
    "            color=risk_colors_plotly[risk_cat],\n",
    "            opacity=0.8,\n",
    "            line=dict(width=2, color='black')\n",
    "        ),\n",
    "        name=f'{risk_cat} (n={len(subset)})',\n",
    "        text=[f'Patient Age: {age}<br>MMSE: {mmse}<br>BMI: {bmi}<br>Risk Score: {score}<br>Cholesterol: {chol}' \n",
    "              for age, mmse, bmi, score, chol in zip(\n",
    "                  subset['Patient_Age'], subset['MMSE'], subset['BMI'], \n",
    "                  subset['Risk_Score'], subset['Cholesterol_Total'])],\n",
    "        hovertemplate='<b>%{text}</b><br>Risk Category: ' + risk_cat + '<extra></extra>'\n",
    "    ))\n",
    "\n",
    "# Update layout for professional dashboard appearance\n",
    "fig1.update_layout(\n",
    "    title={\n",
    "        'text': 'Interactive 3D Risk Assessment Dashboard<br><sub>Early Detection & Risk Stratification</sub>',\n",
    "        'x': 0.5,\n",
    "        'font': {'size': 16, 'family': 'Arial, sans-serif'}\n",
    "    },\n",
    "    scene=dict(\n",
    "        xaxis_title='Patient Age (Years)',\n",
    "        yaxis_title='MMSE Score (Cognitive Function)', \n",
    "        zaxis_title='BMI (Body Mass Index)',\n",
    "        bgcolor='rgba(240,240,240,0.9)',\n",
    "        xaxis=dict(gridcolor='white', gridwidth=2),\n",
    "        yaxis=dict(gridcolor='white', gridwidth=2),\n",
    "        zaxis=dict(gridcolor='white', gridwidth=2)\n",
    "    ),\n",
    "    width=800,\n",
    "    height=600,\n",
    "    margin=dict(r=20, b=10, l=10, t=80),\n",
    "    paper_bgcolor='rgba(255,255,255,0.9)',\n",
    "    plot_bgcolor='rgba(240,240,240,0.9)'\n",
    ")\n",
    "\n",
    "fig1.show()\n",
    "\n",
    "# Visualization 2: Interactive Risk Monitoring Dashboard with Time-based Analysis\n",
    "print(\"Creating comprehensive risk monitoring dashboard...\")\n",
    "\n",
    "# Create multi-panel dashboard\n",
    "fig2 = make_subplots(\n",
    "    rows=2, cols=2,\n",
    "    specs=[[{\"type\": \"scatter\"}, {\"type\": \"bar\"}],\n",
    "           [{\"colspan\": 2, \"type\": \"scatter\"}, None]],\n",
    "    subplot_titles=('Risk Score vs MMSE', 'Risk Category Distribution', \n",
    "                   'Comprehensive Health Risk Matrix'),\n",
    "    vertical_spacing=0.12,\n",
    "    horizontal_spacing=0.1\n",
    ")\n",
    "\n",
    "# Panel 1: Risk Score vs MMSE with trend analysis\n",
    "for risk_cat in risk_categories:\n",
    "    subset = processed_df[processed_df['Risk_Category'] == risk_cat]\n",
    "    fig2.add_trace(\n",
    "        go.Scatter(\n",
    "            x=subset['MMSE'],\n",
    "            y=subset['Risk_Score'],\n",
    "            mode='markers',\n",
    "            marker=dict(\n",
    "                size=10,\n",
    "                color=risk_colors_plotly[risk_cat],\n",
    "                opacity=0.7,\n",
    "                line=dict(width=1, color='black')\n",
    "            ),\n",
    "            name=risk_cat,\n",
    "            text=[f'Age: {age}<br>BMI: {bmi}<br>Functional: {func}' \n",
    "                  for age, bmi, func in zip(subset['Patient_Age'], subset['BMI'], \n",
    "                                          subset['Functional_Assessment'])],\n",
    "            hovertemplate='<b>MMSE: %{x}</b><br>Risk Score: %{y}<br>%{text}<extra></extra>',\n",
    "            showlegend=True\n",
    "        ),\n",
    "        row=1, col=1\n",
    "    )\n",
    "\n",
    "# Panel 2: Risk category distribution bar chart\n",
    "risk_counts = processed_df['Risk_Category'].value_counts()\n",
    "fig2.add_trace(\n",
    "    go.Bar(\n",
    "        x=risk_counts.index,\n",
    "        y=risk_counts.values,\n",
    "        marker_color=[risk_colors_plotly[cat] for cat in risk_counts.index],\n",
    "        text=risk_counts.values,\n",
    "        textposition='auto',\n",
    "        name='Patient Count',\n",
    "        showlegend=False\n",
    "    ),\n",
    "    row=1, col=2\n",
    ")\n",
    "\n",
    "# Panel 3: Comprehensive health matrix (Age vs BMI, colored by risk)\n",
    "fig2.add_trace(\n",
    "    go.Scatter(\n",
    "        x=processed_df['Patient_Age'],\n",
    "        y=processed_df['BMI'],\n",
    "        mode='markers',\n",
    "        marker=dict(\n",
    "            size=8,\n",
    "            color=processed_df['Risk_Score'],\n",
    "            colorscale='RdYlGn_r',\n",
    "            colorbar=dict(\n",
    "                title=\"Risk Score\",\n",
    "                x=1.02,\n",
    "                len=0.4,\n",
    "                y=0.2\n",
    "            ),\n",
    "            opacity=0.8,\n",
    "            line=dict(width=1, color='black')\n",
    "        ),\n",
    "        text=[f'MMSE: {mmse}<br>Cholesterol: {chol}<br>Functional: {func}<br>Risk Category: {cat}' \n",
    "              for mmse, chol, func, cat in zip(\n",
    "                  processed_df['MMSE'], processed_df['Cholesterol_Total'], \n",
    "                  processed_df['Functional_Assessment'], processed_df['Risk_Category'])],\n",
    "        hovertemplate='<b>Age: %{x}</b><br>BMI: %{y}<br>%{text}<extra></extra>',\n",
    "        name='Health Matrix',\n",
    "        showlegend=False\n",
    "    ),\n",
    "    row=2, col=1\n",
    ")\n",
    "\n",
    "# Add reference lines for clinical thresholds\n",
    "# MMSE threshold line\n",
    "fig2.add_hline(y=6, line_dash=\"dash\", line_color=\"red\", \n",
    "               annotation_text=\"High Risk Threshold\", \n",
    "               annotation_position=\"bottom right\", row=1, col=1)\n",
    "\n",
    "# BMI threshold lines\n",
    "fig2.add_hline(y=30, line_dash=\"dash\", line_color=\"orange\", \n",
    "               annotation_text=\"Obesity Threshold\", \n",
    "               annotation_position=\"top left\", row=2, col=1)\n",
    "fig2.add_vline(x=75, line_dash=\"dash\", line_color=\"blue\", \n",
    "               annotation_text=\"High Age Risk\", \n",
    "               annotation_position=\"top right\", row=2, col=1)\n",
    "\n",
    "# Update layout for dashboard appearance\n",
    "fig2.update_layout(\n",
    "    title={\n",
    "        'text': 'Comprehensive Risk Monitoring Dashboard<br><sub>Multi-dimensional Patient Risk Assessment</sub>',\n",
    "        'x': 0.5,\n",
    "        'font': {'size': 18, 'family': 'Arial, sans-serif'}\n",
    "    },\n",
    "    width=1000,\n",
    "    height=800,\n",
    "    margin=dict(r=100, b=10, l=10, t=100),\n",
    "    paper_bgcolor='rgba(250,250,250,0.95)',\n",
    "    plot_bgcolor='rgba(255,255,255,0.9)'\n",
    ")\n",
    "\n",
    "# Update axes labels\n",
    "fig2.update_xaxes(title_text=\"MMSE Score\", row=1, col=1)\n",
    "fig2.update_yaxes(title_text=\"Risk Score\", row=1, col=1)\n",
    "fig2.update_xaxes(title_text=\"Risk Category\", row=1, col=2)\n",
    "fig2.update_yaxes(title_text=\"Patient Count\", row=1, col=2)\n",
    "fig2.update_xaxes(title_text=\"Patient Age\", row=2, col=1)\n",
    "fig2.update_yaxes(title_text=\"BMI\", row=2, col=1)\n",
    "\n",
    "fig2.show()\n",
    "\n",
    "# Display key dashboard metrics\n",
    "print(f\"\\nInteractive Dashboard Key Metrics:\")\n",
    "print(\"=\" * 45)\n",
    "print(f\"• Total Patients Monitored: {len(processed_df)}\")\n",
    "print(f\"• High Risk Alerts: {len(processed_df[processed_df['Risk_Category'] == 'High Risk'])}\")\n",
    "print(f\"• Early Detection Flags: {processed_df['Early_Detection_Flag'].sum()}\")\n",
    "print(f\"• Average Risk Score: {processed_df['Risk_Score'].mean():.2f}\")\n",
    "print(f\"• Patients Requiring Immediate Intervention: {len(processed_df[processed_df['Risk_Score'] >= 7])}\")\n",
    "print(f\"• Cognitive Impairment Cases (MMSE < 18): {len(processed_df[processed_df['MMSE'] < 18])}\")\n",
    "print(\"=\" * 50)"
   ]
  },
  {
   "cell_type": "markdown",
   "metadata": {},
   "source": [
    "---"
   ]
  },
  {
   "cell_type": "markdown",
   "metadata": {
    "id": "ltNetd085qHf"
   },
   "source": [
    "## **Conclusion**"
   ]
  },
  {
   "cell_type": "markdown",
   "metadata": {},
   "source": [
    "---"
   ]
  },
  {
   "cell_type": "markdown",
   "metadata": {},
   "source": [
    "### **Notes** \n",
    "**Method Decisions**\n",
    "- Created the mapping and binary columns as the original data was populated with numerical values for all columns.\n",
    "- Dropped several columns as aim was to focus on particular parameters (health and lifestyle) and to afford a more simplistic, less technical, viewer/user friendly application.\n",
    "- Also extracted a fractioned/sampled DataFrame from the original at a random state for analysis purposes.\n",
    "\n",
    "**Challenges Faced**\n",
    "- Following package conflicts with packages like NumPy and Pandas the installation block was added as a precautionary measure.\n",
    "- Needed to install Jupyter dependencies within the notebook, as kernel kept dying; Python kernel was restarted, then the necessary packages were downloaded.\n",
    "- Pandas faced issues such as import errors and HTML errors; this was resolved via a Pandas update as well as using the print function. \n",
    "- Can look to consider more datasets in the future for greater insights.\n",
    "- May also consider different approaches such as a braoder range of visualisations.\n",
    "\n",
    "**Further Considerations**\n",
    "- Consider not to rule out further factors, such head injury, other potential comordid diseases such as diabetes, or family history (these were included in the orginal dataset).\n",
    "- Capitalize, drop missing values and remove duplicates were added for quality assurance purposes."
   ]
  },
  {
   "cell_type": "markdown",
   "metadata": {},
   "source": [
    "### **Reflection**\n",
    "I choose Matplotlib for its simplistic range of visualisations and ease in generating means and medians. I chose Seaborn for its wide selection of charts, allowing for data to be depicted in different ways. Further, I chose Plotly for its ability in generating interactive charts and graphs."
   ]
  }
 ],
 "metadata": {
  "accelerator": "GPU",
  "colab": {
   "name": "Data Practitioner Jupyter Notebook.ipynb",
   "provenance": [],
   "toc_visible": true
  },
  "kernelspec": {
   "display_name": ".venv",
   "language": "python",
   "name": "python3"
  },
  "language_info": {
   "codemirror_mode": {
    "name": "ipython",
    "version": 3
   },
   "file_extension": ".py",
   "mimetype": "text/x-python",
   "name": "python",
   "nbconvert_exporter": "python",
   "pygments_lexer": "ipython3",
   "version": "3.12.8"
  },
  "orig_nbformat": 2
 },
 "nbformat": 4,
 "nbformat_minor": 2
}
