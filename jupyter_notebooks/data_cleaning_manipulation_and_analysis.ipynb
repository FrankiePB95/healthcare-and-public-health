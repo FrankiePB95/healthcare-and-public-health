{
 "cells": [
  {
   "cell_type": "markdown",
   "metadata": {
    "id": "0aStgWSO0E0E"
   },
   "source": [
    "# **Data Cleaning, Manipulation and Analysis**"
   ]
  },
  {
   "cell_type": "markdown",
   "metadata": {},
   "source": [
    "---"
   ]
  },
  {
   "cell_type": "markdown",
   "metadata": {
    "id": "1eLEkw5O0ECa"
   },
   "source": [
    "## **Objectives**\n",
    "\n",
    "The intention of this notebook was tri-fold: data cleaning, data transformation and data loading. Light analysis has also been carried out to better understand, extract and load data.\n",
    "\n",
    "### **Inputs**\n",
    "\n",
    "* Dataset retrived from Kaggle (CSV file containing data reagaring patients with or potentially at risk of Alzheimer's disease saved to inputs folder)\n",
    "\n",
    "### **Outputs**\n",
    "\n",
    "* Data cleaning pipeline (within this notebook)\n",
    "* Machine learning pipeline (within this notebook)\n",
    "* Cleaned data (csv file extracted to outputs folder)\n",
    "* Data for machine learning (CSV file extracted to outputs folder)\n",
    "\n",
    "### **Additional Comments**\n",
    "\n",
    "* Data was extracted from Kaggle with the source citation included in the README file.\n",
    "* Data was saved in its raw orginal form and then cleaned (a machine learning dataset with scaling and encoding was also created)."
   ]
  },
  {
   "cell_type": "markdown",
   "metadata": {},
   "source": [
    "---\n",
    "---"
   ]
  },
  {
   "cell_type": "markdown",
   "metadata": {},
   "source": [
    "##### **REMINDER**: \n",
    "All notebook cells should be run top-down (you can't create a dynamic wherein a given point you need to go back to a previous cell to execute some task, like go back to a previous cell and refresh a variable content)."
   ]
  },
  {
   "cell_type": "markdown",
   "metadata": {
    "id": "9uWZXH9LwoQg"
   },
   "source": [
    "---\n",
    "---"
   ]
  },
  {
   "cell_type": "markdown",
   "metadata": {},
   "source": [
    "## **Setup Information**"
   ]
  },
  {
   "cell_type": "markdown",
   "metadata": {},
   "source": [
    "---"
   ]
  },
  {
   "cell_type": "markdown",
   "metadata": {
    "id": "cqP-UeN-z3i2"
   },
   "source": [
    "### **Change Working Directory**"
   ]
  },
  {
   "cell_type": "markdown",
   "metadata": {},
   "source": [
    "* When storing the notebooks in a subfolder to run in the editor, for projects such as these, it's best practice to change the working directory. \n",
    "* We need to change the working directory from its current folder to its parent folder."
   ]
  },
  {
   "cell_type": "code",
   "execution_count": 1,
   "metadata": {
    "id": "wZfF_j-Bz3i4",
    "outputId": "66943449-1436-4c3d-85c7-b85f9f78349b"
   },
   "outputs": [
    {
     "data": {
      "text/plain": [
       "'c:\\\\Users\\\\F_bee\\\\Documents\\\\vs-code\\\\vs-code-projects\\\\healthcare-and-public-health\\\\jupyter_notebooks'"
      ]
     },
     "execution_count": 1,
     "metadata": {},
     "output_type": "execute_result"
    }
   ],
   "source": [
    "# First we access the current directory with os.getcwd()\n",
    "import os\n",
    "current_dir = os.getcwd()\n",
    "current_dir"
   ]
  },
  {
   "cell_type": "code",
   "execution_count": 2,
   "metadata": {
    "id": "TwHsQRWjz3i9",
    "outputId": "86849db3-cd2f-4cc5-ebb8-2d0caafa1a2c"
   },
   "outputs": [
    {
     "name": "stdout",
     "output_type": "stream",
     "text": [
      "You set a new current directory\n"
     ]
    }
   ],
   "source": [
    "# Then we make the parent of the current directory the new current directory\n",
    "# We use *os.path.dirname()* to get the parent directory\n",
    "# Next we use *os.chdir()* to define the new current directory\n",
    "os.chdir(os.path.dirname(current_dir))\n",
    "print(\"You set a new current directory\")"
   ]
  },
  {
   "cell_type": "code",
   "execution_count": 3,
   "metadata": {
    "id": "vz3S-_kjz3jA",
    "outputId": "00b79ae4-75d0-4a96-d193-ac9ef9847ea2"
   },
   "outputs": [
    {
     "data": {
      "text/plain": [
       "'c:\\\\Users\\\\F_bee\\\\Documents\\\\vs-code\\\\vs-code-projects\\\\healthcare-and-public-health'"
      ]
     },
     "execution_count": 3,
     "metadata": {},
     "output_type": "execute_result"
    }
   ],
   "source": [
    "# Next we confirm the new current directory\n",
    "current_dir = os.getcwd()\n",
    "current_dir"
   ]
  },
  {
   "cell_type": "markdown",
   "metadata": {},
   "source": [
    "---\n",
    "---"
   ]
  },
  {
   "cell_type": "markdown",
   "metadata": {},
   "source": [
    "#### **IMPORTANT**: \n",
    "Before running the cells below, you **MUST** restart the kernel!\n",
    "\n",
    "**This is because:**\n",
    "- Windows locks files that are currently in use.\n",
    "- NumPy is loaded in the current kernel session.\n",
    "- Restarting clears memory and releases file locks.\n",
    "\n",
    "**How to restart the kernel:**\n",
    "1. Click on the restart button above with the circular arrow before it\n",
    "2. Confirm the restart\n",
    "3. **Then** run the cells below in order"
   ]
  },
  {
   "cell_type": "markdown",
   "metadata": {},
   "source": [
    "---\n",
    "---"
   ]
  },
  {
   "cell_type": "markdown",
   "metadata": {},
   "source": [
    "### **Install Packages**"
   ]
  },
  {
   "cell_type": "markdown",
   "metadata": {},
   "source": [
    "---"
   ]
  },
  {
   "cell_type": "code",
   "execution_count": 6,
   "metadata": {},
   "outputs": [
    {
     "name": "stdout",
     "output_type": "stream",
     "text": [
      "Requirement already satisfied: numpy in c:\\users\\f_bee\\documents\\vs-code\\vs-code-projects\\healthcare-and-public-health\\.venv\\lib\\site-packages (2.3.2)\n",
      "Note: you may need to restart the kernel to use updated packages.\n"
     ]
    }
   ],
   "source": [
    "# Upgrade numpy and pandas first (run after kernel restart)\n",
    "%pip install --upgrade numpy"
   ]
  },
  {
   "cell_type": "code",
   "execution_count": 7,
   "metadata": {},
   "outputs": [
    {
     "name": "stdout",
     "output_type": "stream",
     "text": [
      "Requirement already satisfied: pandas in c:\\users\\f_bee\\documents\\vs-code\\vs-code-projects\\healthcare-and-public-health\\.venv\\lib\\site-packages (2.3.1)\n",
      "Requirement already satisfied: matplotlib in c:\\users\\f_bee\\documents\\vs-code\\vs-code-projects\\healthcare-and-public-health\\.venv\\lib\\site-packages (3.10.5)\n",
      "Requirement already satisfied: seaborn in c:\\users\\f_bee\\documents\\vs-code\\vs-code-projects\\healthcare-and-public-health\\.venv\\lib\\site-packages (0.13.2)\n",
      "Requirement already satisfied: scikit-learn in c:\\users\\f_bee\\documents\\vs-code\\vs-code-projects\\healthcare-and-public-health\\.venv\\lib\\site-packages (1.7.1)\n",
      "Requirement already satisfied: plotly in c:\\users\\f_bee\\documents\\vs-code\\vs-code-projects\\healthcare-and-public-health\\.venv\\lib\\site-packages (6.2.0)\n",
      "Requirement already satisfied: feature-engine in c:\\users\\f_bee\\documents\\vs-code\\vs-code-projects\\healthcare-and-public-health\\.venv\\lib\\site-packages (1.8.3)\n",
      "Requirement already satisfied: numpy>=1.26.0 in c:\\users\\f_bee\\documents\\vs-code\\vs-code-projects\\healthcare-and-public-health\\.venv\\lib\\site-packages (from pandas) (2.3.2)\n",
      "Requirement already satisfied: python-dateutil>=2.8.2 in c:\\users\\f_bee\\documents\\vs-code\\vs-code-projects\\healthcare-and-public-health\\.venv\\lib\\site-packages (from pandas) (2.9.0.post0)\n",
      "Requirement already satisfied: pytz>=2020.1 in c:\\users\\f_bee\\documents\\vs-code\\vs-code-projects\\healthcare-and-public-health\\.venv\\lib\\site-packages (from pandas) (2025.2)\n",
      "Requirement already satisfied: tzdata>=2022.7 in c:\\users\\f_bee\\documents\\vs-code\\vs-code-projects\\healthcare-and-public-health\\.venv\\lib\\site-packages (from pandas) (2025.2)\n",
      "Requirement already satisfied: contourpy>=1.0.1 in c:\\users\\f_bee\\documents\\vs-code\\vs-code-projects\\healthcare-and-public-health\\.venv\\lib\\site-packages (from matplotlib) (1.3.3)\n",
      "Requirement already satisfied: cycler>=0.10 in c:\\users\\f_bee\\documents\\vs-code\\vs-code-projects\\healthcare-and-public-health\\.venv\\lib\\site-packages (from matplotlib) (0.12.1)\n",
      "Requirement already satisfied: fonttools>=4.22.0 in c:\\users\\f_bee\\documents\\vs-code\\vs-code-projects\\healthcare-and-public-health\\.venv\\lib\\site-packages (from matplotlib) (4.59.0)\n",
      "Requirement already satisfied: kiwisolver>=1.3.1 in c:\\users\\f_bee\\documents\\vs-code\\vs-code-projects\\healthcare-and-public-health\\.venv\\lib\\site-packages (from matplotlib) (1.4.8)\n",
      "Requirement already satisfied: packaging>=20.0 in c:\\users\\f_bee\\documents\\vs-code\\vs-code-projects\\healthcare-and-public-health\\.venv\\lib\\site-packages (from matplotlib) (25.0)\n",
      "Requirement already satisfied: pillow>=8 in c:\\users\\f_bee\\documents\\vs-code\\vs-code-projects\\healthcare-and-public-health\\.venv\\lib\\site-packages (from matplotlib) (11.3.0)\n",
      "Requirement already satisfied: pyparsing>=2.3.1 in c:\\users\\f_bee\\documents\\vs-code\\vs-code-projects\\healthcare-and-public-health\\.venv\\lib\\site-packages (from matplotlib) (3.2.3)\n",
      "Requirement already satisfied: scipy>=1.8.0 in c:\\users\\f_bee\\documents\\vs-code\\vs-code-projects\\healthcare-and-public-health\\.venv\\lib\\site-packages (from scikit-learn) (1.16.1)\n",
      "Requirement already satisfied: joblib>=1.2.0 in c:\\users\\f_bee\\documents\\vs-code\\vs-code-projects\\healthcare-and-public-health\\.venv\\lib\\site-packages (from scikit-learn) (1.5.1)\n",
      "Requirement already satisfied: threadpoolctl>=3.1.0 in c:\\users\\f_bee\\documents\\vs-code\\vs-code-projects\\healthcare-and-public-health\\.venv\\lib\\site-packages (from scikit-learn) (3.6.0)\n",
      "Requirement already satisfied: narwhals>=1.15.1 in c:\\users\\f_bee\\documents\\vs-code\\vs-code-projects\\healthcare-and-public-health\\.venv\\lib\\site-packages (from plotly) (2.0.1)\n",
      "Requirement already satisfied: statsmodels>=0.11.1 in c:\\users\\f_bee\\documents\\vs-code\\vs-code-projects\\healthcare-and-public-health\\.venv\\lib\\site-packages (from feature-engine) (0.14.5)\n",
      "Requirement already satisfied: six>=1.5 in c:\\users\\f_bee\\documents\\vs-code\\vs-code-projects\\healthcare-and-public-health\\.venv\\lib\\site-packages (from python-dateutil>=2.8.2->pandas) (1.17.0)\n",
      "Requirement already satisfied: patsy>=0.5.6 in c:\\users\\f_bee\\documents\\vs-code\\vs-code-projects\\healthcare-and-public-health\\.venv\\lib\\site-packages (from statsmodels>=0.11.1->feature-engine) (1.0.1)\n",
      "Note: you may need to restart the kernel to use updated packages.\n"
     ]
    }
   ],
   "source": [
    "# Install other packages (run after numpy upgrade completes)\n",
    "%pip install pandas matplotlib seaborn scikit-learn plotly feature-engine"
   ]
  },
  {
   "cell_type": "code",
   "execution_count": 8,
   "metadata": {},
   "outputs": [
    {
     "name": "stdout",
     "output_type": "stream",
     "text": [
      "All packages imported successfully!\n",
      "NumPy version: 2.3.2\n",
      "Pandas version: 2.3.1\n",
      "Matplotlib version: 3.10.5\n",
      "Seaborn version: 0.13.2\n",
      "Scikit-learn version: 1.7.1\n",
      "Plotly version: 6.2.0\n",
      "Feature-engine version: 1.8.3\n"
     ]
    }
   ],
   "source": [
    "# Test all imports (run after all packages are installed)\n",
    "import numpy as np\n",
    "import pandas as pd\n",
    "import matplotlib as mb\n",
    "import matplotlib.pyplot as plt\n",
    "import plotly as pl\n",
    "import seaborn as sns\n",
    "import sklearn as sk\n",
    "from sklearn.preprocessing import FunctionTransformer\n",
    "from sklearn.pipeline import Pipeline\n",
    "from sklearn.compose import ColumnTransformer\n",
    "from sklearn.preprocessing import StandardScaler, OneHotEncoder\n",
    "import feature_engine as fe\n",
    "\n",
    "print(\"All packages imported successfully!\")\n",
    "print(f\"NumPy version: {np.__version__}\")\n",
    "print(f\"Pandas version: {pd.__version__}\")\n",
    "print(f\"Matplotlib version: {mb.__version__}\")\n",
    "print(f\"Seaborn version: {sns.__version__}\")\n",
    "print(f\"Scikit-learn version: {sk.__version__}\")\n",
    "print(f\"Plotly version: {pl.__version__}\")\n",
    "print(f\"Feature-engine version: {fe.__version__}\")"
   ]
  },
  {
   "cell_type": "markdown",
   "metadata": {},
   "source": [
    "---"
   ]
  },
  {
   "cell_type": "markdown",
   "metadata": {},
   "source": [
    "## **Section 1**"
   ]
  },
  {
   "cell_type": "markdown",
   "metadata": {},
   "source": [
    "### **Data Extraction**\n",
    "This section contains code for the loading of data."
   ]
  },
  {
   "cell_type": "markdown",
   "metadata": {},
   "source": [
    "---"
   ]
  },
  {
   "cell_type": "markdown",
   "metadata": {},
   "source": [
    "Extract the dataset from the inputs folder and load it to notebooks as a DataFrame."
   ]
  },
  {
   "cell_type": "code",
   "execution_count": 36,
   "metadata": {},
   "outputs": [
    {
     "name": "stdout",
     "output_type": "stream",
     "text": [
      "Data loaded successfully!\n",
      "DataFrame shape: (2149, 35)\n"
     ]
    },
    {
     "data": {
      "text/html": [
       "<div>\n",
       "<style scoped>\n",
       "    .dataframe tbody tr th:only-of-type {\n",
       "        vertical-align: middle;\n",
       "    }\n",
       "\n",
       "    .dataframe tbody tr th {\n",
       "        vertical-align: top;\n",
       "    }\n",
       "\n",
       "    .dataframe thead th {\n",
       "        text-align: right;\n",
       "    }\n",
       "</style>\n",
       "<table border=\"1\" class=\"dataframe\">\n",
       "  <thead>\n",
       "    <tr style=\"text-align: right;\">\n",
       "      <th></th>\n",
       "      <th>PatientID</th>\n",
       "      <th>Age</th>\n",
       "      <th>Gender</th>\n",
       "      <th>Ethnicity</th>\n",
       "      <th>EducationLevel</th>\n",
       "      <th>BMI</th>\n",
       "      <th>Smoking</th>\n",
       "      <th>AlcoholConsumption</th>\n",
       "      <th>PhysicalActivity</th>\n",
       "      <th>DietQuality</th>\n",
       "      <th>...</th>\n",
       "      <th>MemoryComplaints</th>\n",
       "      <th>BehavioralProblems</th>\n",
       "      <th>ADL</th>\n",
       "      <th>Confusion</th>\n",
       "      <th>Disorientation</th>\n",
       "      <th>PersonalityChanges</th>\n",
       "      <th>DifficultyCompletingTasks</th>\n",
       "      <th>Forgetfulness</th>\n",
       "      <th>Diagnosis</th>\n",
       "      <th>DoctorInCharge</th>\n",
       "    </tr>\n",
       "  </thead>\n",
       "  <tbody>\n",
       "    <tr>\n",
       "      <th>0</th>\n",
       "      <td>4751</td>\n",
       "      <td>73</td>\n",
       "      <td>0</td>\n",
       "      <td>0</td>\n",
       "      <td>2</td>\n",
       "      <td>22.927749</td>\n",
       "      <td>0</td>\n",
       "      <td>13.297218</td>\n",
       "      <td>6.327112</td>\n",
       "      <td>1.347214</td>\n",
       "      <td>...</td>\n",
       "      <td>0</td>\n",
       "      <td>0</td>\n",
       "      <td>1.725883</td>\n",
       "      <td>0</td>\n",
       "      <td>0</td>\n",
       "      <td>0</td>\n",
       "      <td>1</td>\n",
       "      <td>0</td>\n",
       "      <td>0</td>\n",
       "      <td>XXXConfid</td>\n",
       "    </tr>\n",
       "    <tr>\n",
       "      <th>1</th>\n",
       "      <td>4752</td>\n",
       "      <td>89</td>\n",
       "      <td>0</td>\n",
       "      <td>0</td>\n",
       "      <td>0</td>\n",
       "      <td>26.827681</td>\n",
       "      <td>0</td>\n",
       "      <td>4.542524</td>\n",
       "      <td>7.619885</td>\n",
       "      <td>0.518767</td>\n",
       "      <td>...</td>\n",
       "      <td>0</td>\n",
       "      <td>0</td>\n",
       "      <td>2.592424</td>\n",
       "      <td>0</td>\n",
       "      <td>0</td>\n",
       "      <td>0</td>\n",
       "      <td>0</td>\n",
       "      <td>1</td>\n",
       "      <td>0</td>\n",
       "      <td>XXXConfid</td>\n",
       "    </tr>\n",
       "    <tr>\n",
       "      <th>2</th>\n",
       "      <td>4753</td>\n",
       "      <td>73</td>\n",
       "      <td>0</td>\n",
       "      <td>3</td>\n",
       "      <td>1</td>\n",
       "      <td>17.795882</td>\n",
       "      <td>0</td>\n",
       "      <td>19.555085</td>\n",
       "      <td>7.844988</td>\n",
       "      <td>1.826335</td>\n",
       "      <td>...</td>\n",
       "      <td>0</td>\n",
       "      <td>0</td>\n",
       "      <td>7.119548</td>\n",
       "      <td>0</td>\n",
       "      <td>1</td>\n",
       "      <td>0</td>\n",
       "      <td>1</td>\n",
       "      <td>0</td>\n",
       "      <td>0</td>\n",
       "      <td>XXXConfid</td>\n",
       "    </tr>\n",
       "    <tr>\n",
       "      <th>3</th>\n",
       "      <td>4754</td>\n",
       "      <td>74</td>\n",
       "      <td>1</td>\n",
       "      <td>0</td>\n",
       "      <td>1</td>\n",
       "      <td>33.800817</td>\n",
       "      <td>1</td>\n",
       "      <td>12.209266</td>\n",
       "      <td>8.428001</td>\n",
       "      <td>7.435604</td>\n",
       "      <td>...</td>\n",
       "      <td>0</td>\n",
       "      <td>1</td>\n",
       "      <td>6.481226</td>\n",
       "      <td>0</td>\n",
       "      <td>0</td>\n",
       "      <td>0</td>\n",
       "      <td>0</td>\n",
       "      <td>0</td>\n",
       "      <td>0</td>\n",
       "      <td>XXXConfid</td>\n",
       "    </tr>\n",
       "    <tr>\n",
       "      <th>4</th>\n",
       "      <td>4755</td>\n",
       "      <td>89</td>\n",
       "      <td>0</td>\n",
       "      <td>0</td>\n",
       "      <td>0</td>\n",
       "      <td>20.716974</td>\n",
       "      <td>0</td>\n",
       "      <td>18.454356</td>\n",
       "      <td>6.310461</td>\n",
       "      <td>0.795498</td>\n",
       "      <td>...</td>\n",
       "      <td>0</td>\n",
       "      <td>0</td>\n",
       "      <td>0.014691</td>\n",
       "      <td>0</td>\n",
       "      <td>0</td>\n",
       "      <td>1</td>\n",
       "      <td>1</td>\n",
       "      <td>0</td>\n",
       "      <td>0</td>\n",
       "      <td>XXXConfid</td>\n",
       "    </tr>\n",
       "    <tr>\n",
       "      <th>...</th>\n",
       "      <td>...</td>\n",
       "      <td>...</td>\n",
       "      <td>...</td>\n",
       "      <td>...</td>\n",
       "      <td>...</td>\n",
       "      <td>...</td>\n",
       "      <td>...</td>\n",
       "      <td>...</td>\n",
       "      <td>...</td>\n",
       "      <td>...</td>\n",
       "      <td>...</td>\n",
       "      <td>...</td>\n",
       "      <td>...</td>\n",
       "      <td>...</td>\n",
       "      <td>...</td>\n",
       "      <td>...</td>\n",
       "      <td>...</td>\n",
       "      <td>...</td>\n",
       "      <td>...</td>\n",
       "      <td>...</td>\n",
       "      <td>...</td>\n",
       "    </tr>\n",
       "    <tr>\n",
       "      <th>2144</th>\n",
       "      <td>6895</td>\n",
       "      <td>61</td>\n",
       "      <td>0</td>\n",
       "      <td>0</td>\n",
       "      <td>1</td>\n",
       "      <td>39.121757</td>\n",
       "      <td>0</td>\n",
       "      <td>1.561126</td>\n",
       "      <td>4.049964</td>\n",
       "      <td>6.555306</td>\n",
       "      <td>...</td>\n",
       "      <td>0</td>\n",
       "      <td>0</td>\n",
       "      <td>4.492838</td>\n",
       "      <td>1</td>\n",
       "      <td>0</td>\n",
       "      <td>0</td>\n",
       "      <td>0</td>\n",
       "      <td>0</td>\n",
       "      <td>1</td>\n",
       "      <td>XXXConfid</td>\n",
       "    </tr>\n",
       "    <tr>\n",
       "      <th>2145</th>\n",
       "      <td>6896</td>\n",
       "      <td>75</td>\n",
       "      <td>0</td>\n",
       "      <td>0</td>\n",
       "      <td>2</td>\n",
       "      <td>17.857903</td>\n",
       "      <td>0</td>\n",
       "      <td>18.767261</td>\n",
       "      <td>1.360667</td>\n",
       "      <td>2.904662</td>\n",
       "      <td>...</td>\n",
       "      <td>0</td>\n",
       "      <td>1</td>\n",
       "      <td>9.204952</td>\n",
       "      <td>0</td>\n",
       "      <td>0</td>\n",
       "      <td>0</td>\n",
       "      <td>0</td>\n",
       "      <td>0</td>\n",
       "      <td>1</td>\n",
       "      <td>XXXConfid</td>\n",
       "    </tr>\n",
       "    <tr>\n",
       "      <th>2146</th>\n",
       "      <td>6897</td>\n",
       "      <td>77</td>\n",
       "      <td>0</td>\n",
       "      <td>0</td>\n",
       "      <td>1</td>\n",
       "      <td>15.476479</td>\n",
       "      <td>0</td>\n",
       "      <td>4.594670</td>\n",
       "      <td>9.886002</td>\n",
       "      <td>8.120025</td>\n",
       "      <td>...</td>\n",
       "      <td>0</td>\n",
       "      <td>0</td>\n",
       "      <td>5.036334</td>\n",
       "      <td>0</td>\n",
       "      <td>0</td>\n",
       "      <td>0</td>\n",
       "      <td>0</td>\n",
       "      <td>0</td>\n",
       "      <td>1</td>\n",
       "      <td>XXXConfid</td>\n",
       "    </tr>\n",
       "    <tr>\n",
       "      <th>2147</th>\n",
       "      <td>6898</td>\n",
       "      <td>78</td>\n",
       "      <td>1</td>\n",
       "      <td>3</td>\n",
       "      <td>1</td>\n",
       "      <td>15.299911</td>\n",
       "      <td>0</td>\n",
       "      <td>8.674505</td>\n",
       "      <td>6.354282</td>\n",
       "      <td>1.263427</td>\n",
       "      <td>...</td>\n",
       "      <td>0</td>\n",
       "      <td>0</td>\n",
       "      <td>3.785399</td>\n",
       "      <td>0</td>\n",
       "      <td>0</td>\n",
       "      <td>0</td>\n",
       "      <td>0</td>\n",
       "      <td>1</td>\n",
       "      <td>1</td>\n",
       "      <td>XXXConfid</td>\n",
       "    </tr>\n",
       "    <tr>\n",
       "      <th>2148</th>\n",
       "      <td>6899</td>\n",
       "      <td>72</td>\n",
       "      <td>0</td>\n",
       "      <td>0</td>\n",
       "      <td>2</td>\n",
       "      <td>33.289738</td>\n",
       "      <td>0</td>\n",
       "      <td>7.890703</td>\n",
       "      <td>6.570993</td>\n",
       "      <td>7.941404</td>\n",
       "      <td>...</td>\n",
       "      <td>0</td>\n",
       "      <td>1</td>\n",
       "      <td>8.327563</td>\n",
       "      <td>0</td>\n",
       "      <td>1</td>\n",
       "      <td>0</td>\n",
       "      <td>0</td>\n",
       "      <td>1</td>\n",
       "      <td>0</td>\n",
       "      <td>XXXConfid</td>\n",
       "    </tr>\n",
       "  </tbody>\n",
       "</table>\n",
       "<p>2149 rows × 35 columns</p>\n",
       "</div>"
      ],
      "text/plain": [
       "      PatientID  Age  Gender  Ethnicity  EducationLevel        BMI  Smoking  \\\n",
       "0          4751   73       0          0               2  22.927749        0   \n",
       "1          4752   89       0          0               0  26.827681        0   \n",
       "2          4753   73       0          3               1  17.795882        0   \n",
       "3          4754   74       1          0               1  33.800817        1   \n",
       "4          4755   89       0          0               0  20.716974        0   \n",
       "...         ...  ...     ...        ...             ...        ...      ...   \n",
       "2144       6895   61       0          0               1  39.121757        0   \n",
       "2145       6896   75       0          0               2  17.857903        0   \n",
       "2146       6897   77       0          0               1  15.476479        0   \n",
       "2147       6898   78       1          3               1  15.299911        0   \n",
       "2148       6899   72       0          0               2  33.289738        0   \n",
       "\n",
       "      AlcoholConsumption  PhysicalActivity  DietQuality  ...  \\\n",
       "0              13.297218          6.327112     1.347214  ...   \n",
       "1               4.542524          7.619885     0.518767  ...   \n",
       "2              19.555085          7.844988     1.826335  ...   \n",
       "3              12.209266          8.428001     7.435604  ...   \n",
       "4              18.454356          6.310461     0.795498  ...   \n",
       "...                  ...               ...          ...  ...   \n",
       "2144            1.561126          4.049964     6.555306  ...   \n",
       "2145           18.767261          1.360667     2.904662  ...   \n",
       "2146            4.594670          9.886002     8.120025  ...   \n",
       "2147            8.674505          6.354282     1.263427  ...   \n",
       "2148            7.890703          6.570993     7.941404  ...   \n",
       "\n",
       "      MemoryComplaints  BehavioralProblems       ADL  Confusion  \\\n",
       "0                    0                   0  1.725883          0   \n",
       "1                    0                   0  2.592424          0   \n",
       "2                    0                   0  7.119548          0   \n",
       "3                    0                   1  6.481226          0   \n",
       "4                    0                   0  0.014691          0   \n",
       "...                ...                 ...       ...        ...   \n",
       "2144                 0                   0  4.492838          1   \n",
       "2145                 0                   1  9.204952          0   \n",
       "2146                 0                   0  5.036334          0   \n",
       "2147                 0                   0  3.785399          0   \n",
       "2148                 0                   1  8.327563          0   \n",
       "\n",
       "      Disorientation  PersonalityChanges  DifficultyCompletingTasks  \\\n",
       "0                  0                   0                          1   \n",
       "1                  0                   0                          0   \n",
       "2                  1                   0                          1   \n",
       "3                  0                   0                          0   \n",
       "4                  0                   1                          1   \n",
       "...              ...                 ...                        ...   \n",
       "2144               0                   0                          0   \n",
       "2145               0                   0                          0   \n",
       "2146               0                   0                          0   \n",
       "2147               0                   0                          0   \n",
       "2148               1                   0                          0   \n",
       "\n",
       "      Forgetfulness  Diagnosis  DoctorInCharge  \n",
       "0                 0          0       XXXConfid  \n",
       "1                 1          0       XXXConfid  \n",
       "2                 0          0       XXXConfid  \n",
       "3                 0          0       XXXConfid  \n",
       "4                 0          0       XXXConfid  \n",
       "...             ...        ...             ...  \n",
       "2144              0          1       XXXConfid  \n",
       "2145              0          1       XXXConfid  \n",
       "2146              0          1       XXXConfid  \n",
       "2147              1          1       XXXConfid  \n",
       "2148              1          0       XXXConfid  \n",
       "\n",
       "[2149 rows x 35 columns]"
      ]
     },
     "execution_count": 36,
     "metadata": {},
     "output_type": "execute_result"
    }
   ],
   "source": [
    "df = pd.read_csv(\"inputs/alzheimers_disease_data.csv\")\n",
    "print(\"Data loaded successfully!\")\n",
    "print(f\"DataFrame shape: {df.shape}\")\n",
    "df"
   ]
  },
  {
   "cell_type": "markdown",
   "metadata": {},
   "source": [
    "Create a random sample of the data for further testing purposes. Consider the first 5 rows (head) throughout for better notebook observability."
   ]
  },
  {
   "cell_type": "code",
   "execution_count": 32,
   "metadata": {},
   "outputs": [
    {
     "name": "stdout",
     "output_type": "stream",
     "text": [
      "Data loaded successfully!\n",
      "DataFrame shape: (537, 35)\n",
      "\n",
      "First 5 rows:\n"
     ]
    },
    {
     "data": {
      "text/html": [
       "<div>\n",
       "<style scoped>\n",
       "    .dataframe tbody tr th:only-of-type {\n",
       "        vertical-align: middle;\n",
       "    }\n",
       "\n",
       "    .dataframe tbody tr th {\n",
       "        vertical-align: top;\n",
       "    }\n",
       "\n",
       "    .dataframe thead th {\n",
       "        text-align: right;\n",
       "    }\n",
       "</style>\n",
       "<table border=\"1\" class=\"dataframe\">\n",
       "  <thead>\n",
       "    <tr style=\"text-align: right;\">\n",
       "      <th></th>\n",
       "      <th>PatientID</th>\n",
       "      <th>Age</th>\n",
       "      <th>Gender</th>\n",
       "      <th>Ethnicity</th>\n",
       "      <th>EducationLevel</th>\n",
       "      <th>BMI</th>\n",
       "      <th>Smoking</th>\n",
       "      <th>AlcoholConsumption</th>\n",
       "      <th>PhysicalActivity</th>\n",
       "      <th>DietQuality</th>\n",
       "      <th>...</th>\n",
       "      <th>MemoryComplaints</th>\n",
       "      <th>BehavioralProblems</th>\n",
       "      <th>ADL</th>\n",
       "      <th>Confusion</th>\n",
       "      <th>Disorientation</th>\n",
       "      <th>PersonalityChanges</th>\n",
       "      <th>DifficultyCompletingTasks</th>\n",
       "      <th>Forgetfulness</th>\n",
       "      <th>Diagnosis</th>\n",
       "      <th>DoctorInCharge</th>\n",
       "    </tr>\n",
       "  </thead>\n",
       "  <tbody>\n",
       "    <tr>\n",
       "      <th>613</th>\n",
       "      <td>5364</td>\n",
       "      <td>61</td>\n",
       "      <td>1</td>\n",
       "      <td>1</td>\n",
       "      <td>0</td>\n",
       "      <td>29.270540</td>\n",
       "      <td>0</td>\n",
       "      <td>14.782028</td>\n",
       "      <td>7.315484</td>\n",
       "      <td>2.976619</td>\n",
       "      <td>...</td>\n",
       "      <td>1</td>\n",
       "      <td>0</td>\n",
       "      <td>0.775005</td>\n",
       "      <td>0</td>\n",
       "      <td>1</td>\n",
       "      <td>0</td>\n",
       "      <td>0</td>\n",
       "      <td>0</td>\n",
       "      <td>1</td>\n",
       "      <td>XXXConfid</td>\n",
       "    </tr>\n",
       "    <tr>\n",
       "      <th>1018</th>\n",
       "      <td>5769</td>\n",
       "      <td>81</td>\n",
       "      <td>1</td>\n",
       "      <td>0</td>\n",
       "      <td>0</td>\n",
       "      <td>34.641073</td>\n",
       "      <td>0</td>\n",
       "      <td>7.383103</td>\n",
       "      <td>2.473479</td>\n",
       "      <td>5.280584</td>\n",
       "      <td>...</td>\n",
       "      <td>0</td>\n",
       "      <td>0</td>\n",
       "      <td>3.389056</td>\n",
       "      <td>0</td>\n",
       "      <td>0</td>\n",
       "      <td>0</td>\n",
       "      <td>0</td>\n",
       "      <td>0</td>\n",
       "      <td>0</td>\n",
       "      <td>XXXConfid</td>\n",
       "    </tr>\n",
       "    <tr>\n",
       "      <th>264</th>\n",
       "      <td>5015</td>\n",
       "      <td>81</td>\n",
       "      <td>0</td>\n",
       "      <td>1</td>\n",
       "      <td>0</td>\n",
       "      <td>22.923111</td>\n",
       "      <td>0</td>\n",
       "      <td>9.314832</td>\n",
       "      <td>8.917378</td>\n",
       "      <td>3.807813</td>\n",
       "      <td>...</td>\n",
       "      <td>0</td>\n",
       "      <td>1</td>\n",
       "      <td>8.681801</td>\n",
       "      <td>0</td>\n",
       "      <td>0</td>\n",
       "      <td>0</td>\n",
       "      <td>0</td>\n",
       "      <td>0</td>\n",
       "      <td>1</td>\n",
       "      <td>XXXConfid</td>\n",
       "    </tr>\n",
       "    <tr>\n",
       "      <th>1758</th>\n",
       "      <td>6509</td>\n",
       "      <td>62</td>\n",
       "      <td>0</td>\n",
       "      <td>0</td>\n",
       "      <td>2</td>\n",
       "      <td>23.587924</td>\n",
       "      <td>0</td>\n",
       "      <td>1.236318</td>\n",
       "      <td>0.666426</td>\n",
       "      <td>3.360432</td>\n",
       "      <td>...</td>\n",
       "      <td>0</td>\n",
       "      <td>0</td>\n",
       "      <td>3.983733</td>\n",
       "      <td>1</td>\n",
       "      <td>0</td>\n",
       "      <td>0</td>\n",
       "      <td>0</td>\n",
       "      <td>0</td>\n",
       "      <td>0</td>\n",
       "      <td>XXXConfid</td>\n",
       "    </tr>\n",
       "    <tr>\n",
       "      <th>1441</th>\n",
       "      <td>6192</td>\n",
       "      <td>80</td>\n",
       "      <td>1</td>\n",
       "      <td>3</td>\n",
       "      <td>2</td>\n",
       "      <td>23.715891</td>\n",
       "      <td>1</td>\n",
       "      <td>12.339372</td>\n",
       "      <td>5.970801</td>\n",
       "      <td>1.625098</td>\n",
       "      <td>...</td>\n",
       "      <td>0</td>\n",
       "      <td>0</td>\n",
       "      <td>2.744058</td>\n",
       "      <td>0</td>\n",
       "      <td>0</td>\n",
       "      <td>0</td>\n",
       "      <td>0</td>\n",
       "      <td>1</td>\n",
       "      <td>0</td>\n",
       "      <td>XXXConfid</td>\n",
       "    </tr>\n",
       "  </tbody>\n",
       "</table>\n",
       "<p>5 rows × 35 columns</p>\n",
       "</div>"
      ],
      "text/plain": [
       "      PatientID  Age  Gender  Ethnicity  EducationLevel        BMI  Smoking  \\\n",
       "613        5364   61       1          1               0  29.270540        0   \n",
       "1018       5769   81       1          0               0  34.641073        0   \n",
       "264        5015   81       0          1               0  22.923111        0   \n",
       "1758       6509   62       0          0               2  23.587924        0   \n",
       "1441       6192   80       1          3               2  23.715891        1   \n",
       "\n",
       "      AlcoholConsumption  PhysicalActivity  DietQuality  ...  \\\n",
       "613            14.782028          7.315484     2.976619  ...   \n",
       "1018            7.383103          2.473479     5.280584  ...   \n",
       "264             9.314832          8.917378     3.807813  ...   \n",
       "1758            1.236318          0.666426     3.360432  ...   \n",
       "1441           12.339372          5.970801     1.625098  ...   \n",
       "\n",
       "      MemoryComplaints  BehavioralProblems       ADL  Confusion  \\\n",
       "613                  1                   0  0.775005          0   \n",
       "1018                 0                   0  3.389056          0   \n",
       "264                  0                   1  8.681801          0   \n",
       "1758                 0                   0  3.983733          1   \n",
       "1441                 0                   0  2.744058          0   \n",
       "\n",
       "      Disorientation  PersonalityChanges  DifficultyCompletingTasks  \\\n",
       "613                1                   0                          0   \n",
       "1018               0                   0                          0   \n",
       "264                0                   0                          0   \n",
       "1758               0                   0                          0   \n",
       "1441               0                   0                          0   \n",
       "\n",
       "      Forgetfulness  Diagnosis  DoctorInCharge  \n",
       "613               0          1       XXXConfid  \n",
       "1018              0          0       XXXConfid  \n",
       "264               0          1       XXXConfid  \n",
       "1758              0          0       XXXConfid  \n",
       "1441              1          0       XXXConfid  \n",
       "\n",
       "[5 rows x 35 columns]"
      ]
     },
     "execution_count": 32,
     "metadata": {},
     "output_type": "execute_result"
    }
   ],
   "source": [
    "df = df.sample(frac=0.25, random_state=10)\n",
    "print(\"Data loaded successfully!\")\n",
    "print(f\"DataFrame shape: {df.shape}\")\n",
    "print(\"\\nFirst 5 rows:\")\n",
    "df.head()"
   ]
  },
  {
   "cell_type": "markdown",
   "metadata": {
    "id": "ZY3l0-AxO93d"
   },
   "source": [
    "---"
   ]
  },
  {
   "cell_type": "markdown",
   "metadata": {
    "id": "uFQo3ycuO-v6"
   },
   "source": [
    "## **Section 2**"
   ]
  },
  {
   "cell_type": "markdown",
   "metadata": {},
   "source": [
    "### **Data Transformation**\n",
    "This section contains functions for transformer creation, pipeline code and light analysis."
   ]
  },
  {
   "cell_type": "markdown",
   "metadata": {},
   "source": [
    "---"
   ]
  },
  {
   "cell_type": "markdown",
   "metadata": {},
   "source": [
    "Check the current columns."
   ]
  },
  {
   "cell_type": "code",
   "execution_count": 39,
   "metadata": {},
   "outputs": [
    {
     "name": "stdout",
     "output_type": "stream",
     "text": [
      "Data loaded successfully!\n",
      "Available columns:\n",
      "['PatientID', 'Age', 'Gender', 'Ethnicity', 'EducationLevel', 'BMI', 'Smoking', 'AlcoholConsumption', 'PhysicalActivity', 'DietQuality', 'SleepQuality', 'FamilyHistoryAlzheimers', 'CardiovascularDisease', 'Diabetes', 'Depression', 'HeadInjury', 'Hypertension', 'SystolicBP', 'DiastolicBP', 'CholesterolTotal', 'CholesterolLDL', 'CholesterolHDL', 'CholesterolTriglycerides', 'MMSE', 'FunctionalAssessment', 'MemoryComplaints', 'BehavioralProblems', 'ADL', 'Confusion', 'Disorientation', 'PersonalityChanges', 'DifficultyCompletingTasks', 'Forgetfulness', 'Diagnosis', 'DoctorInCharge']\n"
     ]
    }
   ],
   "source": [
    "print(\"Data loaded successfully!\")\n",
    "print(\"Available columns:\")\n",
    "print(df.columns.tolist())"
   ]
  },
  {
   "cell_type": "markdown",
   "metadata": {},
   "source": [
    "Check the minimum values for numerical columns."
   ]
  },
  {
   "cell_type": "code",
   "execution_count": 48,
   "metadata": {},
   "outputs": [
    {
     "name": "stdout",
     "output_type": "stream",
     "text": [
      "Data loaded successfully!\n",
      "Minimum values for numerical columns:\n"
     ]
    },
    {
     "data": {
      "text/plain": [
       "Age                          60.000000\n",
       "Gender                        0.000000\n",
       "Ethnicity                     0.000000\n",
       "EducationLevel                0.000000\n",
       "BMI                          15.008851\n",
       "AlcoholConsumption            0.002003\n",
       "PhysicalActivity              0.003616\n",
       "DietQuality                   0.009385\n",
       "SleepQuality                  4.002629\n",
       "SystolicBP                   90.000000\n",
       "DiastolicBP                  60.000000\n",
       "CholesterolTotal            150.093316\n",
       "CholesterolLDL               50.230707\n",
       "CholesterolHDL               20.003434\n",
       "CholesterolTriglycerides     50.407194\n",
       "MMSE                          0.005312\n",
       "FunctionalAssessment          0.000460\n",
       "dtype: float64"
      ]
     },
     "execution_count": 48,
     "metadata": {},
     "output_type": "execute_result"
    }
   ],
   "source": [
    "print(\"Data loaded successfully!\")\n",
    "numerical_columns = [\"Age\", \"Gender\", \"Ethnicity\", \"EducationLevel\", \"BMI\", \"AlcoholConsumption\", \"PhysicalActivity\", \"DietQuality\", \"SleepQuality\", \"SystolicBP\", \"DiastolicBP\", \"CholesterolTotal\", \"CholesterolLDL\", \"CholesterolHDL\", \"CholesterolTriglycerides\", \"MMSE\", \"FunctionalAssessment\"]\n",
    "print(\"Minimum values for numerical columns:\")\n",
    "df[numerical_columns].min()"
   ]
  },
  {
   "cell_type": "markdown",
   "metadata": {},
   "source": [
    "Check the maximum values for numerical columns."
   ]
  },
  {
   "cell_type": "code",
   "execution_count": 49,
   "metadata": {},
   "outputs": [
    {
     "name": "stdout",
     "output_type": "stream",
     "text": [
      "Data loaded successfully!\n",
      "Maximum values for numerical columns:\n"
     ]
    },
    {
     "data": {
      "text/plain": [
       "Age                          90.000000\n",
       "Gender                        1.000000\n",
       "Ethnicity                     3.000000\n",
       "EducationLevel                3.000000\n",
       "BMI                          39.992767\n",
       "AlcoholConsumption           19.989293\n",
       "PhysicalActivity              9.987429\n",
       "DietQuality                   9.998346\n",
       "SleepQuality                  9.999840\n",
       "SystolicBP                  179.000000\n",
       "DiastolicBP                 119.000000\n",
       "CholesterolTotal            299.993352\n",
       "CholesterolLDL              199.965665\n",
       "CholesterolHDL               99.980324\n",
       "CholesterolTriglycerides    399.941862\n",
       "MMSE                         29.991381\n",
       "FunctionalAssessment          9.996467\n",
       "dtype: float64"
      ]
     },
     "execution_count": 49,
     "metadata": {},
     "output_type": "execute_result"
    }
   ],
   "source": [
    "print(\"Data loaded successfully!\")\n",
    "numerical_columns = [\"Age\", \"Gender\", \"Ethnicity\", \"EducationLevel\", \"BMI\", \"AlcoholConsumption\", \"PhysicalActivity\", \"DietQuality\", \"SleepQuality\", \"SystolicBP\", \"DiastolicBP\", \"CholesterolTotal\", \"CholesterolLDL\", \"CholesterolHDL\", \"CholesterolTriglycerides\", \"MMSE\", \"FunctionalAssessment\"]\n",
    "print(\"Maximum values for numerical columns:\")\n",
    "df[numerical_columns].max()"
   ]
  },
  {
   "cell_type": "markdown",
   "metadata": {},
   "source": [
    "Check for duplicates and add their sum."
   ]
  },
  {
   "cell_type": "code",
   "execution_count": 57,
   "metadata": {},
   "outputs": [
    {
     "name": "stdout",
     "output_type": "stream",
     "text": [
      "Data loaded successfully!\n"
     ]
    },
    {
     "data": {
      "text/plain": [
       "np.int64(0)"
      ]
     },
     "execution_count": 57,
     "metadata": {},
     "output_type": "execute_result"
    }
   ],
   "source": [
    "print(\"Data loaded successfully!\")\n",
    "df.duplicated().sum()"
   ]
  },
  {
   "cell_type": "markdown",
   "metadata": {},
   "source": [
    "Check for null values and add their sum."
   ]
  },
  {
   "cell_type": "code",
   "execution_count": 53,
   "metadata": {},
   "outputs": [
    {
     "name": "stdout",
     "output_type": "stream",
     "text": [
      "Data loaded successfully!\n"
     ]
    },
    {
     "data": {
      "text/plain": [
       "PatientID                    0\n",
       "Age                          0\n",
       "Gender                       0\n",
       "Ethnicity                    0\n",
       "EducationLevel               0\n",
       "BMI                          0\n",
       "Smoking                      0\n",
       "AlcoholConsumption           0\n",
       "PhysicalActivity             0\n",
       "DietQuality                  0\n",
       "SleepQuality                 0\n",
       "FamilyHistoryAlzheimers      0\n",
       "CardiovascularDisease        0\n",
       "Diabetes                     0\n",
       "Depression                   0\n",
       "HeadInjury                   0\n",
       "Hypertension                 0\n",
       "SystolicBP                   0\n",
       "DiastolicBP                  0\n",
       "CholesterolTotal             0\n",
       "CholesterolLDL               0\n",
       "CholesterolHDL               0\n",
       "CholesterolTriglycerides     0\n",
       "MMSE                         0\n",
       "FunctionalAssessment         0\n",
       "MemoryComplaints             0\n",
       "BehavioralProblems           0\n",
       "ADL                          0\n",
       "Confusion                    0\n",
       "Disorientation               0\n",
       "PersonalityChanges           0\n",
       "DifficultyCompletingTasks    0\n",
       "Forgetfulness                0\n",
       "Diagnosis                    0\n",
       "DoctorInCharge               0\n",
       "dtype: int64"
      ]
     },
     "execution_count": 53,
     "metadata": {},
     "output_type": "execute_result"
    }
   ],
   "source": [
    "print(\"Data loaded successfully!\")\n",
    "df.isnull().sum()"
   ]
  },
  {
   "cell_type": "markdown",
   "metadata": {},
   "source": [
    "Create code to populate categorical columns with integer values with their string counterparts."
   ]
  },
  {
   "cell_type": "code",
   "execution_count": 61,
   "metadata": {},
   "outputs": [
    {
     "name": "stdout",
     "output_type": "stream",
     "text": [
      "Data loaded successfully!\n",
      "DataFrame shape: (2149, 35)\n"
     ]
    },
    {
     "data": {
      "text/html": [
       "<div>\n",
       "<style scoped>\n",
       "    .dataframe tbody tr th:only-of-type {\n",
       "        vertical-align: middle;\n",
       "    }\n",
       "\n",
       "    .dataframe tbody tr th {\n",
       "        vertical-align: top;\n",
       "    }\n",
       "\n",
       "    .dataframe thead th {\n",
       "        text-align: right;\n",
       "    }\n",
       "</style>\n",
       "<table border=\"1\" class=\"dataframe\">\n",
       "  <thead>\n",
       "    <tr style=\"text-align: right;\">\n",
       "      <th></th>\n",
       "      <th>PatientID</th>\n",
       "      <th>Age</th>\n",
       "      <th>Gender</th>\n",
       "      <th>Ethnicity</th>\n",
       "      <th>EducationLevel</th>\n",
       "      <th>BMI</th>\n",
       "      <th>Smoking</th>\n",
       "      <th>AlcoholConsumption</th>\n",
       "      <th>PhysicalActivity</th>\n",
       "      <th>DietQuality</th>\n",
       "      <th>...</th>\n",
       "      <th>MemoryComplaints</th>\n",
       "      <th>BehavioralProblems</th>\n",
       "      <th>ADL</th>\n",
       "      <th>Confusion</th>\n",
       "      <th>Disorientation</th>\n",
       "      <th>PersonalityChanges</th>\n",
       "      <th>DifficultyCompletingTasks</th>\n",
       "      <th>Forgetfulness</th>\n",
       "      <th>Diagnosis</th>\n",
       "      <th>DoctorInCharge</th>\n",
       "    </tr>\n",
       "  </thead>\n",
       "  <tbody>\n",
       "    <tr>\n",
       "      <th>0</th>\n",
       "      <td>4751</td>\n",
       "      <td>73</td>\n",
       "      <td>Male</td>\n",
       "      <td>Caucasian</td>\n",
       "      <td>2</td>\n",
       "      <td>22.927749</td>\n",
       "      <td>No</td>\n",
       "      <td>13.297218</td>\n",
       "      <td>6.327112</td>\n",
       "      <td>1.347214</td>\n",
       "      <td>...</td>\n",
       "      <td>No</td>\n",
       "      <td>No</td>\n",
       "      <td>1.725883</td>\n",
       "      <td>0</td>\n",
       "      <td>0</td>\n",
       "      <td>No</td>\n",
       "      <td>Yes</td>\n",
       "      <td>0</td>\n",
       "      <td>No Dementia</td>\n",
       "      <td>XXXConfid</td>\n",
       "    </tr>\n",
       "    <tr>\n",
       "      <th>1</th>\n",
       "      <td>4752</td>\n",
       "      <td>89</td>\n",
       "      <td>Male</td>\n",
       "      <td>Caucasian</td>\n",
       "      <td>0</td>\n",
       "      <td>26.827681</td>\n",
       "      <td>No</td>\n",
       "      <td>4.542524</td>\n",
       "      <td>7.619885</td>\n",
       "      <td>0.518767</td>\n",
       "      <td>...</td>\n",
       "      <td>No</td>\n",
       "      <td>No</td>\n",
       "      <td>2.592424</td>\n",
       "      <td>0</td>\n",
       "      <td>0</td>\n",
       "      <td>No</td>\n",
       "      <td>No</td>\n",
       "      <td>1</td>\n",
       "      <td>No Dementia</td>\n",
       "      <td>XXXConfid</td>\n",
       "    </tr>\n",
       "    <tr>\n",
       "      <th>2</th>\n",
       "      <td>4753</td>\n",
       "      <td>73</td>\n",
       "      <td>Male</td>\n",
       "      <td>Other</td>\n",
       "      <td>1</td>\n",
       "      <td>17.795882</td>\n",
       "      <td>No</td>\n",
       "      <td>19.555085</td>\n",
       "      <td>7.844988</td>\n",
       "      <td>1.826335</td>\n",
       "      <td>...</td>\n",
       "      <td>No</td>\n",
       "      <td>No</td>\n",
       "      <td>7.119548</td>\n",
       "      <td>0</td>\n",
       "      <td>1</td>\n",
       "      <td>No</td>\n",
       "      <td>Yes</td>\n",
       "      <td>0</td>\n",
       "      <td>No Dementia</td>\n",
       "      <td>XXXConfid</td>\n",
       "    </tr>\n",
       "    <tr>\n",
       "      <th>3</th>\n",
       "      <td>4754</td>\n",
       "      <td>74</td>\n",
       "      <td>Female</td>\n",
       "      <td>Caucasian</td>\n",
       "      <td>1</td>\n",
       "      <td>33.800817</td>\n",
       "      <td>Yes</td>\n",
       "      <td>12.209266</td>\n",
       "      <td>8.428001</td>\n",
       "      <td>7.435604</td>\n",
       "      <td>...</td>\n",
       "      <td>No</td>\n",
       "      <td>Yes</td>\n",
       "      <td>6.481226</td>\n",
       "      <td>0</td>\n",
       "      <td>0</td>\n",
       "      <td>No</td>\n",
       "      <td>No</td>\n",
       "      <td>0</td>\n",
       "      <td>No Dementia</td>\n",
       "      <td>XXXConfid</td>\n",
       "    </tr>\n",
       "    <tr>\n",
       "      <th>4</th>\n",
       "      <td>4755</td>\n",
       "      <td>89</td>\n",
       "      <td>Male</td>\n",
       "      <td>Caucasian</td>\n",
       "      <td>0</td>\n",
       "      <td>20.716974</td>\n",
       "      <td>No</td>\n",
       "      <td>18.454356</td>\n",
       "      <td>6.310461</td>\n",
       "      <td>0.795498</td>\n",
       "      <td>...</td>\n",
       "      <td>No</td>\n",
       "      <td>No</td>\n",
       "      <td>0.014691</td>\n",
       "      <td>0</td>\n",
       "      <td>0</td>\n",
       "      <td>Yes</td>\n",
       "      <td>Yes</td>\n",
       "      <td>0</td>\n",
       "      <td>No Dementia</td>\n",
       "      <td>XXXConfid</td>\n",
       "    </tr>\n",
       "  </tbody>\n",
       "</table>\n",
       "<p>5 rows × 35 columns</p>\n",
       "</div>"
      ],
      "text/plain": [
       "   PatientID  Age  Gender  Ethnicity  EducationLevel        BMI Smoking  \\\n",
       "0       4751   73    Male  Caucasian               2  22.927749      No   \n",
       "1       4752   89    Male  Caucasian               0  26.827681      No   \n",
       "2       4753   73    Male      Other               1  17.795882      No   \n",
       "3       4754   74  Female  Caucasian               1  33.800817     Yes   \n",
       "4       4755   89    Male  Caucasian               0  20.716974      No   \n",
       "\n",
       "   AlcoholConsumption  PhysicalActivity  DietQuality  ...  MemoryComplaints  \\\n",
       "0           13.297218          6.327112     1.347214  ...                No   \n",
       "1            4.542524          7.619885     0.518767  ...                No   \n",
       "2           19.555085          7.844988     1.826335  ...                No   \n",
       "3           12.209266          8.428001     7.435604  ...                No   \n",
       "4           18.454356          6.310461     0.795498  ...                No   \n",
       "\n",
       "   BehavioralProblems       ADL  Confusion Disorientation  PersonalityChanges  \\\n",
       "0                  No  1.725883          0              0                  No   \n",
       "1                  No  2.592424          0              0                  No   \n",
       "2                  No  7.119548          0              1                  No   \n",
       "3                 Yes  6.481226          0              0                  No   \n",
       "4                  No  0.014691          0              0                 Yes   \n",
       "\n",
       "   DifficultyCompletingTasks  Forgetfulness    Diagnosis  DoctorInCharge  \n",
       "0                        Yes              0  No Dementia       XXXConfid  \n",
       "1                         No              1  No Dementia       XXXConfid  \n",
       "2                        Yes              0  No Dementia       XXXConfid  \n",
       "3                         No              0  No Dementia       XXXConfid  \n",
       "4                        Yes              0  No Dementia       XXXConfid  \n",
       "\n",
       "[5 rows x 35 columns]"
      ]
     },
     "execution_count": 61,
     "metadata": {},
     "output_type": "execute_result"
    }
   ],
   "source": [
    "print(\"Data loaded successfully!\")\n",
    "# Replace values in categorical columns for better readability\n",
    "# Gender mapping\n",
    "if \"Gender\" in df.columns:\n",
    "    df[\"Gender\"] = df[\"Gender\"].replace({0: \"Male\", 1: \"Female\"})\n",
    "\n",
    "# Ethnicity mapping\n",
    "if \"Ethnicity\" in df.columns:\n",
    "    df[\"Ethnicity\"] = df[\"Ethnicity\"].replace({\n",
    "        0: \"Caucasian\", 1: \"African American\", 2: \"Asian\", 3: \"Other\"\n",
    "    })\n",
    "\n",
    "# Binary columns (0/1 to No/Yes)\n",
    "binary_cols = [\"Smoking\", \"CardiovascularDisease\", \"Depression\", \n",
    "               \"MemoryComplaints\", \"BehavioralProblems\", \"PersonalityChanges\", \n",
    "               \"DifficultyCompletingTasks\"]\n",
    "\n",
    "for col in binary_cols:\n",
    "    if col in df.columns:\n",
    "        df[col] = df[col].replace({0: \"No\", 1: \"Yes\"})\n",
    "\n",
    "# Diagnosis mapping\n",
    "if \"Diagnosis\" in df.columns:\n",
    "    df[\"Diagnosis\"] = df[\"Diagnosis\"].replace({0: \"No Dementia\", 1: \"Dementia\"})\n",
    "print(f\"DataFrame shape: {df.shape}\")\n",
    "df.head()"
   ]
  },
  {
   "cell_type": "markdown",
   "metadata": {},
   "source": [
    "Create functions to load into transformers."
   ]
  },
  {
   "cell_type": "code",
   "execution_count": null,
   "metadata": {},
   "outputs": [],
   "source": [
    "# Drop specific columns\n",
    "def drop_columns(df):\n",
    "    return df.drop(columns=[\"EducationLevel\", \"SleepQuality\", \"FamilyHistoryAlzheimers\", \"Diabetes\", \"HeadInjury\", \"Hypertension\", \"SystolicBP\", \"DiastolicBP\", \"CholesterolLDL\", \"CholesterolHDL\", \"CholesterolTriglycerides\", \"Confusion\", \"Disorientation\", \"Forgetfulness\", \"DoctorInCharge\"], errors=\"ignore\")\n",
    "\n",
    "# Change column locations\n",
    "def change_column_location(df):\n",
    "    new_column_order = [\"PatientID\", \"Age\", \"Gender\", \"Ethnicity\", \"BMI\", \"DietQuality\", \"PhysicalActivity\", \"Smoking\", \"AlcoholConsumption\", \"CardiovascularDisease\", \"CholesterolTotal\", \"FunctionalAssessment\", \"ADL\", \"MMSE\", \"MemoryComplaints\", \"BehavioralProblems\", \"PersonalityChanges\", \"DifficultyCompletingTasks\", \"Depression\", \"Diagnosis\", \"DoctorInCharge\"]\n",
    "    # Only include columns that actually exist in the dataframe\n",
    "    existing_columns = [col for col in new_column_order if col in df.columns]\n",
    "    return df[existing_columns]\n",
    "\n",
    "# Convert data types\n",
    "def convert_data_types(df):\n",
    "    if \"PatientID\" in df.columns:\n",
    "        df[\"PatientID\"] = df[\"PatientID\"].astype(int)\n",
    "    if \"Age\" in df.columns:\n",
    "        df[\"Age\"] = df[\"Age\"].astype(int)\n",
    "    if \"Gender\" in df.columns:\n",
    "        df[\"Gender\"] = df[\"Gender\"].astype(str)\n",
    "    if \"Ethnicity\" in df.columns:\n",
    "        df[\"Ethnicity\"] = df[\"Ethnicity\"].astype(str)\n",
    "    if \"BMI\" in df.columns:\n",
    "        df[\"BMI\"] = df[\"BMI\"].astype(float)\n",
    "    if \"Smoking\" in df.columns:\n",
    "        df[\"Smoking\"] = df[\"Smoking\"].astype(str)\n",
    "    if \"AlcoholConsumption\" in df.columns:\n",
    "        df[\"AlcoholConsumption\"] = df[\"AlcoholConsumption\"].astype(float)\n",
    "    if \"PhysicalActivity\" in df.columns:\n",
    "        df[\"PhysicalActivity\"] = df[\"PhysicalActivity\"].astype(int)\n",
    "    if \"DietQuality\" in df.columns:\n",
    "        df[\"DietQuality\"] = df[\"DietQuality\"].astype(str)\n",
    "    if \"CardiovascularDisease\" in df.columns:\n",
    "        df[\"CardiovascularDisease\"] = df[\"CardiovascularDisease\"].astype(str)\n",
    "    if \"Depression\" in df.columns:\n",
    "        df[\"Depression\"] = df[\"Depression\"].astype(str)\n",
    "    if \"CholesterolTotal\" in df.columns:\n",
    "        df[\"CholesterolTotal\"] = df[\"CholesterolTotal\"].astype(float)\n",
    "    if \"MMSE\" in df.columns:\n",
    "        df[\"MMSE\"] = df[\"MMSE\"].astype(float)\n",
    "    if \"FunctionalAssessment\" in df.columns:\n",
    "        df[\"FunctionalAssessment\"] = df[\"FunctionalAssessment\"].astype(int)\n",
    "    if \"MemoryComplaints\" in df.columns:\n",
    "        df[\"MemoryComplaints\"] = df[\"MemoryComplaints\"].astype(str)\n",
    "    if \"BehavioralProblems\" in df.columns:\n",
    "        df[\"BehavioralProblems\"] = df[\"BehavioralProblems\"].astype(str)\n",
    "    if \"ADL\" in df.columns:\n",
    "        df[\"ADL\"] = df[\"ADL\"].astype(float)\n",
    "    if \"PersonalityChanges\" in df.columns:\n",
    "        df[\"PersonalityChanges\"] = df[\"PersonalityChanges\"].astype(str)\n",
    "    if \"DifficultyCompletingTasks\" in df.columns:\n",
    "        df[\"DifficultyCompletingTasks\"] = df[\"DifficultyCompletingTasks\"].astype(str)\n",
    "    if \"Diagnosis\" in df.columns:\n",
    "        df[\"Diagnosis\"] = df[\"Diagnosis\"].astype(str)\n",
    "    return df\n",
    "\n",
    "# Remove outliers using IQR method\n",
    "def remove_outliers(df):\n",
    "    columns = [\"BMI\", \"CholesterolTotal\"]\n",
    "    df_cleaned = df.copy()\n",
    "    for col in columns:\n",
    "        if col in df_cleaned.columns: \n",
    "            Q1 = df_cleaned[col].quantile(0.25)\n",
    "            Q3 = df_cleaned[col].quantile(0.75)\n",
    "            IQR = Q3 - Q1\n",
    "            mask = (df_cleaned[col] >= Q1 - 1.5 * IQR) & (df_cleaned[col] <= Q3 + 1.5 * IQR)\n",
    "            df_cleaned = df_cleaned[mask]  \n",
    "    return df_cleaned\n",
    "\n",
    "# Rename columns\n",
    "def rename_columns(df):\n",
    "    return df.rename(columns={\n",
    "        \"PatientID\": \"Patient_ID\",\n",
    "        \"Age\": \"Patient_Age\",\n",
    "        \"AlcoholConsumption\": \"Alcohol_Consumption\",\n",
    "        \"PhysicalActivity\": \"Physical_Activity\",\n",
    "        \"DietQuality\": \"Diet_Quality\",\n",
    "        \"CardiovascularDisease\": \"Cardiovascular_Disease\",\n",
    "        \"CholesterolTotal\": \"Cholesterol_Total\",\n",
    "        \"FunctionalAssessment\": \"Functional_Assessment\",\n",
    "        \"MemoryComplaints\": \"Memory_Complaints\",\n",
    "        \"BehavioralProblems\": \"Behavioral_Problems\",\n",
    "        \"ADL\": \"Activities_Of_Daily_Living\",\n",
    "        \"PersonalityChanges\": \"Personality_Changes\",\n",
    "        \"DifficultyCompletingTasks\": \"Difficulty_Completing_Tasks\",  \n",
    "    })\n",
    "\n",
    "# Drop missing values\n",
    "def drop_missing_values(df):\n",
    "    return df.dropna()\n",
    "\n",
    "# Remove duplicates\n",
    "def remove_duplicates(df):\n",
    "    return df.drop_duplicates()\n",
    "\n",
    "# Round numerical values to 2 decimal places\n",
    "def round_values(df):\n",
    "    return df.round(2)\n",
    "\n",
    "# Capitalize column names with proper acronym handling\n",
    "def capitalize_columns(df):\n",
    "    def smart_title(text):\n",
    "        # Common acronyms that should stay uppercase\n",
    "        acronyms = {\n",
    "            \"bmi\": \"BMI\",\n",
    "            \"mmse\": \"MMSE\", \n",
    "            \"adl\": \"ADL\",\n",
    "            \"id\": \"ID\"\n",
    "        }\n",
    "        \n",
    "        # Split by underscore and process each part\n",
    "        parts = text.split(\"_\")\n",
    "        result_parts = []\n",
    "        \n",
    "        for part in parts:\n",
    "            lower_part = part.lower()\n",
    "            if lower_part in acronyms:\n",
    "                result_parts.append(acronyms[lower_part])\n",
    "            else:\n",
    "                result_parts.append(part.title())\n",
    "        \n",
    "        return \"_\".join(result_parts)\n",
    "    \n",
    "    df.columns = [smart_title(col) for col in df.columns]\n",
    "    return df\n",
    "\n",
    "# Scale numerical values and encode categorical values\n",
    "scaling_transformer = ColumnTransformer([\n",
    "    (\"num\", StandardScaler(), [\"Patient_Age\", \"BMI\", \"Alcohol_Consumption\", \"Physical_Activity\", \"Cholesterol_Total\", \"MMSE\", \"Functional_Assessment\", \"Activities_Of_Daily_Living\"]), \n",
    "    (\"cat\", OneHotEncoder(drop=\"first\", handle_unknown=\"ignore\"), [\"Gender\", \"Ethnicity\", \"Smoking\", \"Cardiovascular_Disease\", \"Depression\", \"Memory_Complaints\", \"Behavioral_Problems\", \"Personality_Changes\", \"Difficulty_Completing_Tasks\", \"Doctor_In_Charge\"])  \n",
    "])"
   ]
  },
  {
   "cell_type": "markdown",
   "metadata": {},
   "source": [
    "Create the transformers."
   ]
  },
  {
   "cell_type": "code",
   "execution_count": null,
   "metadata": {},
   "outputs": [],
   "source": [
    "# Define transformers\n",
    "change_column_location_transformer = FunctionTransformer(change_column_location)\n",
    "drop_columns_transformer = FunctionTransformer(drop_columns)\n",
    "convert_data_types_transformer = FunctionTransformer(convert_data_types)\n",
    "remove_outliers_transformer = FunctionTransformer(remove_outliers)\n",
    "rename_columns_transformer = FunctionTransformer(rename_columns)\n",
    "capitalize_columns_transformer = FunctionTransformer(capitalize_columns)\n",
    "drop_missing_values_transformer = FunctionTransformer(drop_missing_values)\n",
    "remove_duplicates_transformer = FunctionTransformer(remove_duplicates)\n",
    "round_values_transformer = FunctionTransformer(round_values)"
   ]
  },
  {
   "cell_type": "markdown",
   "metadata": {},
   "source": [
    "Create the pipeline."
   ]
  },
  {
   "cell_type": "code",
   "execution_count": null,
   "metadata": {},
   "outputs": [],
   "source": [
    "# Create data cleaning pipeline\n",
    "data_cleaning_pipeline = Pipeline([\n",
    "    (\"drop_columns\", drop_columns_transformer),\n",
    "    (\"change_column_order\", change_column_location_transformer),\n",
    "    (\"convert_data_types\", convert_data_types_transformer),\n",
    "    (\"rename_columns\", rename_columns_transformer),\n",
    "    (\"capitalize_columns\", capitalize_columns_transformer),\n",
    "    (\"remove_outliers\", remove_outliers_transformer),\n",
    "    (\"drop_missing_values\", drop_missing_values_transformer),\n",
    "    (\"remove_duplicates\", remove_duplicates_transformer),\n",
    "    (\"round_values\", round_values_transformer)\n",
    "])"
   ]
  },
  {
   "cell_type": "markdown",
   "metadata": {},
   "source": [
    "Create advanced machine learning pipeline."
   ]
  },
  {
   "cell_type": "code",
   "execution_count": null,
   "metadata": {},
   "outputs": [],
   "source": [
    "# Create advanced pipeline with scaling and encoding for machine learning\n",
    "# This pipeline should clean and preprocess data, rename columns, scale numerical features, encode categorical features and handle unknown categories\n",
    "data_cleaning_with_ml_pipeline = Pipeline([\n",
    "    (\"drop_columns\", drop_columns_transformer),\n",
    "    (\"change_column_order\", change_column_location_transformer),\n",
    "    (\"convert_data_types\", convert_data_types_transformer),\n",
    "    (\"rename_columns\", rename_columns_transformer),\n",
    "    (\"capitalize_columns\", capitalize_columns_transformer),\n",
    "    (\"remove_outliers\", remove_outliers_transformer),\n",
    "    (\"drop_missing_values\", drop_missing_values_transformer),\n",
    "    (\"remove_duplicates\", remove_duplicates_transformer),\n",
    "    (\"round_values\", round_values_transformer),\n",
    "    (\"scale_and_encode\", scaling_transformer)\n",
    "])"
   ]
  },
  {
   "cell_type": "markdown",
   "metadata": {},
   "source": [
    "---"
   ]
  },
  {
   "cell_type": "markdown",
   "metadata": {},
   "source": [
    "## **Section 3**"
   ]
  },
  {
   "cell_type": "markdown",
   "metadata": {},
   "source": [
    "### **Data Loading** \n",
    "In this section, we fit both pipelines to two separate instances of the same dataframe, allowing for the transformation process to take place, and the creation of new dataframes due for loading as new, cleaned CSV documents."
   ]
  },
  {
   "cell_type": "markdown",
   "metadata": {},
   "source": [
    "---"
   ]
  },
  {
   "cell_type": "markdown",
   "metadata": {},
   "source": [
    "Fit the pipeline to the DataFrame."
   ]
  },
  {
   "cell_type": "code",
   "execution_count": null,
   "metadata": {},
   "outputs": [],
   "source": [
    "# Apply the pipeline to dataframe\n",
    "processed_df = data_cleaning_pipeline.fit_transform(df)\n",
    "print(\"Data loaded successfully!\")\n",
    "print(f\"Processed data shape: {processed_df.shape}\")\n",
    "print(processed_df.head())"
   ]
  },
  {
   "cell_type": "markdown",
   "metadata": {},
   "source": [
    "Check the current column list after fitting pipeline."
   ]
  },
  {
   "cell_type": "code",
   "execution_count": null,
   "metadata": {},
   "outputs": [],
   "source": [
    "print(\"Data loaded successfully!\")\n",
    "print(\"Processed DataFrame columns:\", processed_df.columns.tolist())"
   ]
  },
  {
   "cell_type": "markdown",
   "metadata": {},
   "source": [
    "fit the machine learning pipeline."
   ]
  },
  {
   "cell_type": "code",
   "execution_count": null,
   "metadata": {},
   "outputs": [],
   "source": [
    "# Apply the ML pipeline to the original dataframe\n",
    "scaled_data = data_cleaning_with_ml_pipeline.fit_transform(df)\n",
    "print(\"Data loaded successfully!\")\n",
    "print(f\"Scaled data shape: {scaled_data.shape}\")\n",
    "print(scaled_data)"
   ]
  },
  {
   "cell_type": "markdown",
   "metadata": {},
   "source": [
    "Load both previously created dataframes to separate CSV files."
   ]
  },
  {
   "cell_type": "code",
   "execution_count": null,
   "metadata": {},
   "outputs": [],
   "source": [
    "# Save the processed dataframes\n",
    "processed_df.to_csv(\"outputs/processed_alzheimers_disease_data_unscaled_and_unencoded.csv\", index=False)\n",
    "scaled_data.to_csv(\"outputs/processed_alzheimers_disease_data_scaled_and_encoded.csv\", index=False)\n",
    "print(\"Files saved to outputs folder!\")"
   ]
  },
  {
   "cell_type": "markdown",
   "metadata": {},
   "source": [
    "---"
   ]
  },
  {
   "cell_type": "markdown",
   "metadata": {
    "id": "ltNetd085qHf"
   },
   "source": [
    "## **Conclusion**\n",
    "The process approached with some difficulty, but in the end, we managed to generate the instances of the datasets we were after. These will then be used within our application."
   ]
  },
  {
   "cell_type": "markdown",
   "metadata": {},
   "source": [
    "---"
   ]
  },
  {
   "cell_type": "markdown",
   "metadata": {},
   "source": [
    "### **Notes** \n",
    "**Method**\n",
    "- Created the mapping and binary columns as the original data was populated with numerical values for all columns.\n",
    "- Dropped several columns as aim was to focus on partiuclar parameters (health and lifestyle) and to afford a more simplistic, less technical, viewer friendly application.\n",
    "- Also extracted a fractioned/sampled DataFrame from the original at a random state for analysis purposes.\n",
    "\n",
    "**Issues**\n",
    "- Following package conflicts with packages like NumPy and Pandas the installation block was added as a precautionary measure.\n",
    "- Needed to install Jupyter dependencies within the notebook, as kernel kept dying, Python kernel started, then the necessary packages were downloaded.\n",
    "- Pandas faced issues such as import errors and HTML errors; his was resolved via a Pandas update as well as using the print function. \n",
    "\n",
    "**Further Considerations**\n",
    "- Consider not to rule out further factors, such  head injury, other comordid disease such as diabetes, or family history (there here were included in orginal dataset).\n",
    "- Capitalize, drop missing values and remove duplicates added for quality assurance purposes."
   ]
  }
 ],
 "metadata": {
  "accelerator": "GPU",
  "colab": {
   "name": "Data Practitioner Jupyter Notebook.ipynb",
   "provenance": [],
   "toc_visible": true
  },
  "kernelspec": {
   "display_name": ".venv",
   "language": "python",
   "name": "python3"
  },
  "language_info": {
   "codemirror_mode": {
    "name": "ipython",
    "version": 3
   },
   "file_extension": ".py",
   "mimetype": "text/x-python",
   "name": "python",
   "nbconvert_exporter": "python",
   "pygments_lexer": "ipython3",
   "version": "3.12.8"
  },
  "orig_nbformat": 2
 },
 "nbformat": 4,
 "nbformat_minor": 2
}
